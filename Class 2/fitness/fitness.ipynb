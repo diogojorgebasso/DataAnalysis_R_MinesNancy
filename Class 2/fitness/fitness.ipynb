{
 "cells": [
  {
   "cell_type": "markdown",
   "metadata": {},
   "source": [
    "1. Gráfico de nuage"
   ]
  },
  {
   "cell_type": "code",
   "execution_count": 19,
   "metadata": {
    "vscode": {
     "languageId": "r"
    }
   },
   "outputs": [
    {
     "data": {
      "text/html": [
       "<table class=\"dataframe\">\n",
       "<caption>A data.frame: 31 × 9</caption>\n",
       "<thead>\n",
       "\t<tr><th></th><th scope=col>Gender</th><th scope=col>Runtime</th><th scope=col>Age</th><th scope=col>Weight</th><th scope=col>Oxygen_Consumption</th><th scope=col>Run_Pulse</th><th scope=col>Rest_Pulse</th><th scope=col>Maximum_Pulse</th><th scope=col>Performance</th></tr>\n",
       "\t<tr><th></th><th scope=col>&lt;chr&gt;</th><th scope=col>&lt;dbl&gt;</th><th scope=col>&lt;int&gt;</th><th scope=col>&lt;dbl&gt;</th><th scope=col>&lt;dbl&gt;</th><th scope=col>&lt;int&gt;</th><th scope=col>&lt;int&gt;</th><th scope=col>&lt;int&gt;</th><th scope=col>&lt;int&gt;</th></tr>\n",
       "</thead>\n",
       "<tbody>\n",
       "\t<tr><th scope=row>Donna</th><td>F</td><td> 8.17</td><td>42</td><td>68.15</td><td>59.57</td><td>166</td><td>40</td><td>172</td><td>14</td></tr>\n",
       "\t<tr><th scope=row>Gracie</th><td>F</td><td> 8.63</td><td>38</td><td>81.87</td><td>60.06</td><td>170</td><td>48</td><td>186</td><td>13</td></tr>\n",
       "\t<tr><th scope=row>Luanne</th><td>F</td><td> 8.65</td><td>43</td><td>85.84</td><td>54.30</td><td>156</td><td>45</td><td>168</td><td>13</td></tr>\n",
       "\t<tr><th scope=row>Mimi</th><td>F</td><td> 8.92</td><td>50</td><td>70.87</td><td>54.63</td><td>146</td><td>48</td><td>155</td><td>11</td></tr>\n",
       "\t<tr><th scope=row>Chris</th><td>M</td><td> 8.95</td><td>49</td><td>81.42</td><td>49.16</td><td>180</td><td>44</td><td>185</td><td>11</td></tr>\n",
       "\t<tr><th scope=row>Allen</th><td>M</td><td> 9.22</td><td>38</td><td>89.02</td><td>49.87</td><td>178</td><td>55</td><td>180</td><td>12</td></tr>\n",
       "\t<tr><th scope=row>Nancy</th><td>F</td><td> 9.40</td><td>49</td><td>76.32</td><td>48.67</td><td>186</td><td>56</td><td>188</td><td>10</td></tr>\n",
       "\t<tr><th scope=row>Patty</th><td>F</td><td> 9.63</td><td>52</td><td>76.32</td><td>45.44</td><td>164</td><td>48</td><td>166</td><td>10</td></tr>\n",
       "\t<tr><th scope=row>Suzanne</th><td>F</td><td> 9.93</td><td>57</td><td>59.08</td><td>50.55</td><td>148</td><td>49</td><td>155</td><td> 9</td></tr>\n",
       "\t<tr><th scope=row>Teresa</th><td>F</td><td>10.00</td><td>51</td><td>77.91</td><td>46.67</td><td>162</td><td>48</td><td>168</td><td> 9</td></tr>\n",
       "\t<tr><th scope=row>Bob</th><td>M</td><td>10.07</td><td>40</td><td>75.07</td><td>45.31</td><td>185</td><td>62</td><td>185</td><td> 9</td></tr>\n",
       "\t<tr><th scope=row>Harriett</th><td>F</td><td>10.08</td><td>49</td><td>73.37</td><td>50.39</td><td>168</td><td>67</td><td>168</td><td> 9</td></tr>\n",
       "\t<tr><th scope=row>Jane</th><td>F</td><td>10.13</td><td>44</td><td>73.03</td><td>50.54</td><td>168</td><td>45</td><td>168</td><td> 9</td></tr>\n",
       "\t<tr><th scope=row>Harold</th><td>M</td><td>10.25</td><td>48</td><td>91.63</td><td>46.77</td><td>162</td><td>48</td><td>164</td><td> 9</td></tr>\n",
       "\t<tr><th scope=row>Sammy</th><td>M</td><td>10.33</td><td>54</td><td>83.12</td><td>51.85</td><td>166</td><td>50</td><td>170</td><td> 8</td></tr>\n",
       "\t<tr><th scope=row>Buffy</th><td>F</td><td>10.47</td><td>52</td><td>73.71</td><td>45.79</td><td>186</td><td>59</td><td>188</td><td> 8</td></tr>\n",
       "\t<tr><th scope=row>Trent</th><td>M</td><td>10.50</td><td>52</td><td>82.78</td><td>47.47</td><td>170</td><td>53</td><td>172</td><td> 8</td></tr>\n",
       "\t<tr><th scope=row>Jackie</th><td>F</td><td>10.60</td><td>47</td><td>79.15</td><td>47.27</td><td>162</td><td>47</td><td>164</td><td> 8</td></tr>\n",
       "\t<tr><th scope=row>Ralph</th><td>M</td><td>10.85</td><td>43</td><td>81.19</td><td>49.09</td><td>162</td><td>64</td><td>170</td><td> 7</td></tr>\n",
       "\t<tr><th scope=row>Jack</th><td>M</td><td>10.95</td><td>51</td><td>69.63</td><td>40.84</td><td>168</td><td>57</td><td>172</td><td> 7</td></tr>\n",
       "\t<tr><th scope=row>Annie</th><td>F</td><td>11.08</td><td>51</td><td>67.25</td><td>45.12</td><td>172</td><td>48</td><td>172</td><td> 7</td></tr>\n",
       "\t<tr><th scope=row>Kate</th><td>F</td><td>11.12</td><td>45</td><td>66.45</td><td>44.75</td><td>176</td><td>51</td><td>176</td><td> 7</td></tr>\n",
       "\t<tr><th scope=row>Carl</th><td>M</td><td>11.17</td><td>54</td><td>79.38</td><td>46.08</td><td>156</td><td>62</td><td>165</td><td> 7</td></tr>\n",
       "\t<tr><th scope=row>Don</th><td>M</td><td>11.37</td><td>44</td><td>89.47</td><td>44.61</td><td>178</td><td>62</td><td>182</td><td> 6</td></tr>\n",
       "\t<tr><th scope=row>Effie</th><td>F</td><td>11.50</td><td>48</td><td>61.24</td><td>47.92</td><td>170</td><td>52</td><td>176</td><td> 6</td></tr>\n",
       "\t<tr><th scope=row>George</th><td>M</td><td>11.63</td><td>47</td><td>77.45</td><td>44.81</td><td>176</td><td>58</td><td>176</td><td> 6</td></tr>\n",
       "\t<tr><th scope=row>Iris</th><td>F</td><td>11.95</td><td>40</td><td>75.98</td><td>45.68</td><td>176</td><td>70</td><td>180</td><td> 5</td></tr>\n",
       "\t<tr><th scope=row>Mark</th><td>M</td><td>12.63</td><td>57</td><td>73.37</td><td>39.41</td><td>174</td><td>58</td><td>176</td><td> 4</td></tr>\n",
       "\t<tr><th scope=row>Steve</th><td>M</td><td>12.88</td><td>54</td><td>91.63</td><td>39.20</td><td>168</td><td>44</td><td>172</td><td> 4</td></tr>\n",
       "\t<tr><th scope=row>Vaughn</th><td>M</td><td>13.08</td><td>44</td><td>81.42</td><td>39.44</td><td>174</td><td>63</td><td>176</td><td> 2</td></tr>\n",
       "\t<tr><th scope=row>William</th><td>M</td><td>14.03</td><td>45</td><td>87.66</td><td>37.39</td><td>186</td><td>56</td><td>192</td><td> 0</td></tr>\n",
       "</tbody>\n",
       "</table>\n"
      ],
      "text/latex": [
       "A data.frame: 31 × 9\n",
       "\\begin{tabular}{r|lllllllll}\n",
       "  & Gender & Runtime & Age & Weight & Oxygen\\_Consumption & Run\\_Pulse & Rest\\_Pulse & Maximum\\_Pulse & Performance\\\\\n",
       "  & <chr> & <dbl> & <int> & <dbl> & <dbl> & <int> & <int> & <int> & <int>\\\\\n",
       "\\hline\n",
       "\tDonna & F &  8.17 & 42 & 68.15 & 59.57 & 166 & 40 & 172 & 14\\\\\n",
       "\tGracie & F &  8.63 & 38 & 81.87 & 60.06 & 170 & 48 & 186 & 13\\\\\n",
       "\tLuanne & F &  8.65 & 43 & 85.84 & 54.30 & 156 & 45 & 168 & 13\\\\\n",
       "\tMimi & F &  8.92 & 50 & 70.87 & 54.63 & 146 & 48 & 155 & 11\\\\\n",
       "\tChris & M &  8.95 & 49 & 81.42 & 49.16 & 180 & 44 & 185 & 11\\\\\n",
       "\tAllen & M &  9.22 & 38 & 89.02 & 49.87 & 178 & 55 & 180 & 12\\\\\n",
       "\tNancy & F &  9.40 & 49 & 76.32 & 48.67 & 186 & 56 & 188 & 10\\\\\n",
       "\tPatty & F &  9.63 & 52 & 76.32 & 45.44 & 164 & 48 & 166 & 10\\\\\n",
       "\tSuzanne & F &  9.93 & 57 & 59.08 & 50.55 & 148 & 49 & 155 &  9\\\\\n",
       "\tTeresa & F & 10.00 & 51 & 77.91 & 46.67 & 162 & 48 & 168 &  9\\\\\n",
       "\tBob & M & 10.07 & 40 & 75.07 & 45.31 & 185 & 62 & 185 &  9\\\\\n",
       "\tHarriett & F & 10.08 & 49 & 73.37 & 50.39 & 168 & 67 & 168 &  9\\\\\n",
       "\tJane & F & 10.13 & 44 & 73.03 & 50.54 & 168 & 45 & 168 &  9\\\\\n",
       "\tHarold & M & 10.25 & 48 & 91.63 & 46.77 & 162 & 48 & 164 &  9\\\\\n",
       "\tSammy & M & 10.33 & 54 & 83.12 & 51.85 & 166 & 50 & 170 &  8\\\\\n",
       "\tBuffy & F & 10.47 & 52 & 73.71 & 45.79 & 186 & 59 & 188 &  8\\\\\n",
       "\tTrent & M & 10.50 & 52 & 82.78 & 47.47 & 170 & 53 & 172 &  8\\\\\n",
       "\tJackie & F & 10.60 & 47 & 79.15 & 47.27 & 162 & 47 & 164 &  8\\\\\n",
       "\tRalph & M & 10.85 & 43 & 81.19 & 49.09 & 162 & 64 & 170 &  7\\\\\n",
       "\tJack & M & 10.95 & 51 & 69.63 & 40.84 & 168 & 57 & 172 &  7\\\\\n",
       "\tAnnie & F & 11.08 & 51 & 67.25 & 45.12 & 172 & 48 & 172 &  7\\\\\n",
       "\tKate & F & 11.12 & 45 & 66.45 & 44.75 & 176 & 51 & 176 &  7\\\\\n",
       "\tCarl & M & 11.17 & 54 & 79.38 & 46.08 & 156 & 62 & 165 &  7\\\\\n",
       "\tDon & M & 11.37 & 44 & 89.47 & 44.61 & 178 & 62 & 182 &  6\\\\\n",
       "\tEffie & F & 11.50 & 48 & 61.24 & 47.92 & 170 & 52 & 176 &  6\\\\\n",
       "\tGeorge & M & 11.63 & 47 & 77.45 & 44.81 & 176 & 58 & 176 &  6\\\\\n",
       "\tIris & F & 11.95 & 40 & 75.98 & 45.68 & 176 & 70 & 180 &  5\\\\\n",
       "\tMark & M & 12.63 & 57 & 73.37 & 39.41 & 174 & 58 & 176 &  4\\\\\n",
       "\tSteve & M & 12.88 & 54 & 91.63 & 39.20 & 168 & 44 & 172 &  4\\\\\n",
       "\tVaughn & M & 13.08 & 44 & 81.42 & 39.44 & 174 & 63 & 176 &  2\\\\\n",
       "\tWilliam & M & 14.03 & 45 & 87.66 & 37.39 & 186 & 56 & 192 &  0\\\\\n",
       "\\end{tabular}\n"
      ],
      "text/markdown": [
       "\n",
       "A data.frame: 31 × 9\n",
       "\n",
       "| <!--/--> | Gender &lt;chr&gt; | Runtime &lt;dbl&gt; | Age &lt;int&gt; | Weight &lt;dbl&gt; | Oxygen_Consumption &lt;dbl&gt; | Run_Pulse &lt;int&gt; | Rest_Pulse &lt;int&gt; | Maximum_Pulse &lt;int&gt; | Performance &lt;int&gt; |\n",
       "|---|---|---|---|---|---|---|---|---|---|\n",
       "| Donna | F |  8.17 | 42 | 68.15 | 59.57 | 166 | 40 | 172 | 14 |\n",
       "| Gracie | F |  8.63 | 38 | 81.87 | 60.06 | 170 | 48 | 186 | 13 |\n",
       "| Luanne | F |  8.65 | 43 | 85.84 | 54.30 | 156 | 45 | 168 | 13 |\n",
       "| Mimi | F |  8.92 | 50 | 70.87 | 54.63 | 146 | 48 | 155 | 11 |\n",
       "| Chris | M |  8.95 | 49 | 81.42 | 49.16 | 180 | 44 | 185 | 11 |\n",
       "| Allen | M |  9.22 | 38 | 89.02 | 49.87 | 178 | 55 | 180 | 12 |\n",
       "| Nancy | F |  9.40 | 49 | 76.32 | 48.67 | 186 | 56 | 188 | 10 |\n",
       "| Patty | F |  9.63 | 52 | 76.32 | 45.44 | 164 | 48 | 166 | 10 |\n",
       "| Suzanne | F |  9.93 | 57 | 59.08 | 50.55 | 148 | 49 | 155 |  9 |\n",
       "| Teresa | F | 10.00 | 51 | 77.91 | 46.67 | 162 | 48 | 168 |  9 |\n",
       "| Bob | M | 10.07 | 40 | 75.07 | 45.31 | 185 | 62 | 185 |  9 |\n",
       "| Harriett | F | 10.08 | 49 | 73.37 | 50.39 | 168 | 67 | 168 |  9 |\n",
       "| Jane | F | 10.13 | 44 | 73.03 | 50.54 | 168 | 45 | 168 |  9 |\n",
       "| Harold | M | 10.25 | 48 | 91.63 | 46.77 | 162 | 48 | 164 |  9 |\n",
       "| Sammy | M | 10.33 | 54 | 83.12 | 51.85 | 166 | 50 | 170 |  8 |\n",
       "| Buffy | F | 10.47 | 52 | 73.71 | 45.79 | 186 | 59 | 188 |  8 |\n",
       "| Trent | M | 10.50 | 52 | 82.78 | 47.47 | 170 | 53 | 172 |  8 |\n",
       "| Jackie | F | 10.60 | 47 | 79.15 | 47.27 | 162 | 47 | 164 |  8 |\n",
       "| Ralph | M | 10.85 | 43 | 81.19 | 49.09 | 162 | 64 | 170 |  7 |\n",
       "| Jack | M | 10.95 | 51 | 69.63 | 40.84 | 168 | 57 | 172 |  7 |\n",
       "| Annie | F | 11.08 | 51 | 67.25 | 45.12 | 172 | 48 | 172 |  7 |\n",
       "| Kate | F | 11.12 | 45 | 66.45 | 44.75 | 176 | 51 | 176 |  7 |\n",
       "| Carl | M | 11.17 | 54 | 79.38 | 46.08 | 156 | 62 | 165 |  7 |\n",
       "| Don | M | 11.37 | 44 | 89.47 | 44.61 | 178 | 62 | 182 |  6 |\n",
       "| Effie | F | 11.50 | 48 | 61.24 | 47.92 | 170 | 52 | 176 |  6 |\n",
       "| George | M | 11.63 | 47 | 77.45 | 44.81 | 176 | 58 | 176 |  6 |\n",
       "| Iris | F | 11.95 | 40 | 75.98 | 45.68 | 176 | 70 | 180 |  5 |\n",
       "| Mark | M | 12.63 | 57 | 73.37 | 39.41 | 174 | 58 | 176 |  4 |\n",
       "| Steve | M | 12.88 | 54 | 91.63 | 39.20 | 168 | 44 | 172 |  4 |\n",
       "| Vaughn | M | 13.08 | 44 | 81.42 | 39.44 | 174 | 63 | 176 |  2 |\n",
       "| William | M | 14.03 | 45 | 87.66 | 37.39 | 186 | 56 | 192 |  0 |\n",
       "\n"
      ],
      "text/plain": [
       "         Gender Runtime Age Weight Oxygen_Consumption Run_Pulse Rest_Pulse\n",
       "Donna    F       8.17   42  68.15  59.57              166       40        \n",
       "Gracie   F       8.63   38  81.87  60.06              170       48        \n",
       "Luanne   F       8.65   43  85.84  54.30              156       45        \n",
       "Mimi     F       8.92   50  70.87  54.63              146       48        \n",
       "Chris    M       8.95   49  81.42  49.16              180       44        \n",
       "Allen    M       9.22   38  89.02  49.87              178       55        \n",
       "Nancy    F       9.40   49  76.32  48.67              186       56        \n",
       "Patty    F       9.63   52  76.32  45.44              164       48        \n",
       "Suzanne  F       9.93   57  59.08  50.55              148       49        \n",
       "Teresa   F      10.00   51  77.91  46.67              162       48        \n",
       "Bob      M      10.07   40  75.07  45.31              185       62        \n",
       "Harriett F      10.08   49  73.37  50.39              168       67        \n",
       "Jane     F      10.13   44  73.03  50.54              168       45        \n",
       "Harold   M      10.25   48  91.63  46.77              162       48        \n",
       "Sammy    M      10.33   54  83.12  51.85              166       50        \n",
       "Buffy    F      10.47   52  73.71  45.79              186       59        \n",
       "Trent    M      10.50   52  82.78  47.47              170       53        \n",
       "Jackie   F      10.60   47  79.15  47.27              162       47        \n",
       "Ralph    M      10.85   43  81.19  49.09              162       64        \n",
       "Jack     M      10.95   51  69.63  40.84              168       57        \n",
       "Annie    F      11.08   51  67.25  45.12              172       48        \n",
       "Kate     F      11.12   45  66.45  44.75              176       51        \n",
       "Carl     M      11.17   54  79.38  46.08              156       62        \n",
       "Don      M      11.37   44  89.47  44.61              178       62        \n",
       "Effie    F      11.50   48  61.24  47.92              170       52        \n",
       "George   M      11.63   47  77.45  44.81              176       58        \n",
       "Iris     F      11.95   40  75.98  45.68              176       70        \n",
       "Mark     M      12.63   57  73.37  39.41              174       58        \n",
       "Steve    M      12.88   54  91.63  39.20              168       44        \n",
       "Vaughn   M      13.08   44  81.42  39.44              174       63        \n",
       "William  M      14.03   45  87.66  37.39              186       56        \n",
       "         Maximum_Pulse Performance\n",
       "Donna    172           14         \n",
       "Gracie   186           13         \n",
       "Luanne   168           13         \n",
       "Mimi     155           11         \n",
       "Chris    185           11         \n",
       "Allen    180           12         \n",
       "Nancy    188           10         \n",
       "Patty    166           10         \n",
       "Suzanne  155            9         \n",
       "Teresa   168            9         \n",
       "Bob      185            9         \n",
       "Harriett 168            9         \n",
       "Jane     168            9         \n",
       "Harold   164            9         \n",
       "Sammy    170            8         \n",
       "Buffy    188            8         \n",
       "Trent    172            8         \n",
       "Jackie   164            8         \n",
       "Ralph    170            7         \n",
       "Jack     172            7         \n",
       "Annie    172            7         \n",
       "Kate     176            7         \n",
       "Carl     165            7         \n",
       "Don      182            6         \n",
       "Effie    176            6         \n",
       "George   176            6         \n",
       "Iris     180            5         \n",
       "Mark     176            4         \n",
       "Steve    172            4         \n",
       "Vaughn   176            2         \n",
       "William  192            0         "
      ]
     },
     "metadata": {},
     "output_type": "display_data"
    },
    {
     "data": {
      "image/png": "[encoded data removed]",
      "text/plain": [
       "plot without title"
      ]
     },
     "metadata": {
      "image/png": {
       "height": 420,
       "width": 420
      }
     },
     "output_type": "display_data"
    },
    {
     "data": {
      "image/png": "[encoded data removed]",
      "text/plain": [
       "plot without title"
      ]
     },
     "metadata": {
      "image/png": {
       "height": 420,
       "width": 420
      }
     },
     "output_type": "display_data"
    },
    {
     "data": {
      "image/png": "[encoded data removed]",
      "text/plain": [
       "plot without title"
      ]
     },
     "metadata": {
      "image/png": {
       "height": 420,
       "width": 420
      }
     },
     "output_type": "display_data"
    },
    {
     "data": {
      "image/png": "[encoded data removed]",
      "text/plain": [
       "plot without title"
      ]
     },
     "metadata": {
      "image/png": {
       "height": 420,
       "width": 420
      }
     },
     "output_type": "display_data"
    },
    {
     "data": {
      "image/png": "[encoded data removed]",
      "text/plain": [
       "plot without title"
      ]
     },
     "metadata": {
      "image/png": {
       "height": 420,
       "width": 420
      }
     },
     "output_type": "display_data"
    },
    {
     "data": {
      "image/png": "[encoded data removed]",
      "text/plain": [
       "plot without title"
      ]
     },
     "metadata": {
      "image/png": {
       "height": 420,
       "width": 420
      }
     },
     "output_type": "display_data"
    },
    {
     "data": {
      "image/png": "[encoded data removed]",
      "text/plain": [
       "plot without title"
      ]
     },
     "metadata": {
      "image/png": {
       "height": 420,
       "width": 420
      }
     },
     "output_type": "display_data"
    }
   ],
   "source": [
    "# Carregar os pacotes necessários\n",
    "library(ggplot2)\n",
    "\n",
    "dados <- read.table(\"fitness.txt\", header = TRUE, sep = \"\\t\", row.names = 1)\n",
    "\n",
    "dados\n",
    "\n",
    "# Criar gráficos de dispersão\n",
    "variaveis <- c(\"Runtime\", \"Age\", \"Weight\", \"Run_Pulse\", \"Rest_Pulse\", \"Maximum_Pulse\", \"Performance\")\n",
    "\n",
    "# Criar gráficos de dispersão iterativamente\n",
    "for (var in variaveis) {\n",
    "  p <- ggplot(dados, aes_string(x = var, y = \"Oxygen_Consumption\")) +\n",
    "    geom_point() +\n",
    "    labs(title = paste(\"Scatter Plot de Oxygen.Consumption vs\", var),\n",
    "         x = var, y = \"Oxygen_Consumption\") +\n",
    "    theme_minimal()\n",
    "  print(p)\n",
    "}\n"
   ]
  },
  {
   "cell_type": "code",
   "execution_count": 27,
   "metadata": {
    "vscode": {
     "languageId": "r"
    }
   },
   "outputs": [
    {
     "data": {
      "text/plain": [
       "   Min. 1st Qu.  Median    Mean 3rd Qu.    Max. \n",
       "  37.39   44.97   46.77   47.38   50.13   60.06 "
      ]
     },
     "metadata": {},
     "output_type": "display_data"
    }
   ],
   "source": [
    "summary(dados$Oxygen_Consumption)"
   ]
  },
  {
   "cell_type": "code",
   "execution_count": 22,
   "metadata": {
    "vscode": {
     "languageId": "r"
    }
   },
   "outputs": [],
   "source": [
    "library(FactoMineR)"
   ]
  },
  {
   "cell_type": "code",
   "execution_count": 25,
   "metadata": {
    "vscode": {
     "languageId": "r"
    }
   },
   "outputs": [
    {
     "data": {
      "text/html": [
       "<table class=\"dataframe\">\n",
       "<caption>A matrix: 7 × 7 of type dbl</caption>\n",
       "<thead>\n",
       "\t<tr><th></th><th scope=col>Runtime</th><th scope=col>Age</th><th scope=col>Weight</th><th scope=col>Run_Pulse</th><th scope=col>Rest_Pulse</th><th scope=col>Maximum_Pulse</th><th scope=col>Performance</th></tr>\n",
       "</thead>\n",
       "<tbody>\n",
       "\t<tr><th scope=row>Runtime</th><td> 1.0000000</td><td> 0.1952282</td><td> 0.14350758</td><td> 0.3136478</td><td> 0.45038260</td><td> 0.2261030</td><td>-0.9884113</td></tr>\n",
       "\t<tr><th scope=row>Age</th><td> 0.1952282</td><td> 1.0000000</td><td>-0.24050468</td><td>-0.3160651</td><td>-0.15087340</td><td>-0.4149027</td><td>-0.2294275</td></tr>\n",
       "\t<tr><th scope=row>Weight</th><td> 0.1435076</td><td>-0.2405047</td><td> 1.00000000</td><td> 0.1815163</td><td> 0.04397417</td><td> 0.2493812</td><td>-0.1054379</td></tr>\n",
       "\t<tr><th scope=row>Run_Pulse</th><td> 0.3136478</td><td>-0.3160651</td><td> 0.18151633</td><td> 1.0000000</td><td> 0.35246060</td><td> 0.9297538</td><td>-0.3136942</td></tr>\n",
       "\t<tr><th scope=row>Rest_Pulse</th><td> 0.4503826</td><td>-0.1508734</td><td> 0.04397417</td><td> 0.3524606</td><td> 1.00000000</td><td> 0.3051240</td><td>-0.4795687</td></tr>\n",
       "\t<tr><th scope=row>Maximum_Pulse</th><td> 0.2261030</td><td>-0.4149027</td><td> 0.24938123</td><td> 0.9297538</td><td> 0.30512400</td><td> 1.0000000</td><td>-0.2203536</td></tr>\n",
       "\t<tr><th scope=row>Performance</th><td>-0.9884113</td><td>-0.2294275</td><td>-0.10543787</td><td>-0.3136942</td><td>-0.47956869</td><td>-0.2203536</td><td> 1.0000000</td></tr>\n",
       "</tbody>\n",
       "</table>\n"
      ],
      "text/latex": [
       "A matrix: 7 × 7 of type dbl\n",
       "\\begin{tabular}{r|lllllll}\n",
       "  & Runtime & Age & Weight & Run\\_Pulse & Rest\\_Pulse & Maximum\\_Pulse & Performance\\\\\n",
       "\\hline\n",
       "\tRuntime &  1.0000000 &  0.1952282 &  0.14350758 &  0.3136478 &  0.45038260 &  0.2261030 & -0.9884113\\\\\n",
       "\tAge &  0.1952282 &  1.0000000 & -0.24050468 & -0.3160651 & -0.15087340 & -0.4149027 & -0.2294275\\\\\n",
       "\tWeight &  0.1435076 & -0.2405047 &  1.00000000 &  0.1815163 &  0.04397417 &  0.2493812 & -0.1054379\\\\\n",
       "\tRun\\_Pulse &  0.3136478 & -0.3160651 &  0.18151633 &  1.0000000 &  0.35246060 &  0.9297538 & -0.3136942\\\\\n",
       "\tRest\\_Pulse &  0.4503826 & -0.1508734 &  0.04397417 &  0.3524606 &  1.00000000 &  0.3051240 & -0.4795687\\\\\n",
       "\tMaximum\\_Pulse &  0.2261030 & -0.4149027 &  0.24938123 &  0.9297538 &  0.30512400 &  1.0000000 & -0.2203536\\\\\n",
       "\tPerformance & -0.9884113 & -0.2294275 & -0.10543787 & -0.3136942 & -0.47956869 & -0.2203536 &  1.0000000\\\\\n",
       "\\end{tabular}\n"
      ],
      "text/markdown": [
       "\n",
       "A matrix: 7 × 7 of type dbl\n",
       "\n",
       "| <!--/--> | Runtime | Age | Weight | Run_Pulse | Rest_Pulse | Maximum_Pulse | Performance |\n",
       "|---|---|---|---|---|---|---|---|\n",
       "| Runtime |  1.0000000 |  0.1952282 |  0.14350758 |  0.3136478 |  0.45038260 |  0.2261030 | -0.9884113 |\n",
       "| Age |  0.1952282 |  1.0000000 | -0.24050468 | -0.3160651 | -0.15087340 | -0.4149027 | -0.2294275 |\n",
       "| Weight |  0.1435076 | -0.2405047 |  1.00000000 |  0.1815163 |  0.04397417 |  0.2493812 | -0.1054379 |\n",
       "| Run_Pulse |  0.3136478 | -0.3160651 |  0.18151633 |  1.0000000 |  0.35246060 |  0.9297538 | -0.3136942 |\n",
       "| Rest_Pulse |  0.4503826 | -0.1508734 |  0.04397417 |  0.3524606 |  1.00000000 |  0.3051240 | -0.4795687 |\n",
       "| Maximum_Pulse |  0.2261030 | -0.4149027 |  0.24938123 |  0.9297538 |  0.30512400 |  1.0000000 | -0.2203536 |\n",
       "| Performance | -0.9884113 | -0.2294275 | -0.10543787 | -0.3136942 | -0.47956869 | -0.2203536 |  1.0000000 |\n",
       "\n"
      ],
      "text/plain": [
       "              Runtime    Age        Weight      Run_Pulse  Rest_Pulse \n",
       "Runtime        1.0000000  0.1952282  0.14350758  0.3136478  0.45038260\n",
       "Age            0.1952282  1.0000000 -0.24050468 -0.3160651 -0.15087340\n",
       "Weight         0.1435076 -0.2405047  1.00000000  0.1815163  0.04397417\n",
       "Run_Pulse      0.3136478 -0.3160651  0.18151633  1.0000000  0.35246060\n",
       "Rest_Pulse     0.4503826 -0.1508734  0.04397417  0.3524606  1.00000000\n",
       "Maximum_Pulse  0.2261030 -0.4149027  0.24938123  0.9297538  0.30512400\n",
       "Performance   -0.9884113 -0.2294275 -0.10543787 -0.3136942 -0.47956869\n",
       "              Maximum_Pulse Performance\n",
       "Runtime        0.2261030    -0.9884113 \n",
       "Age           -0.4149027    -0.2294275 \n",
       "Weight         0.2493812    -0.1054379 \n",
       "Run_Pulse      0.9297538    -0.3136942 \n",
       "Rest_Pulse     0.3051240    -0.4795687 \n",
       "Maximum_Pulse  1.0000000    -0.2203536 \n",
       "Performance   -0.2203536     1.0000000 "
      ]
     },
     "metadata": {},
     "output_type": "display_data"
    }
   ],
   "source": [
    "correlacoes <- cor(dados[, variaveis])\n",
    "\n",
    "correlacoes"
   ]
  },
  {
   "cell_type": "code",
   "execution_count": 29,
   "metadata": {
    "vscode": {
     "languageId": "r"
    }
   },
   "outputs": [
    {
     "name": "stderr",
     "output_type": "stream",
     "text": [
      "Carregando pacotes exigidos: MASS\n",
      "\n"
     ]
    }
   ],
   "source": [
    "library(klaR)"
   ]
  },
  {
   "cell_type": "code",
   "execution_count": 35,
   "metadata": {
    "vscode": {
     "languageId": "r"
    }
   },
   "outputs": [
    {
     "data": {
      "text/html": [
       "<table class=\"dataframe\">\n",
       "<caption>A data.frame: 31 × 7</caption>\n",
       "<thead>\n",
       "\t<tr><th></th><th scope=col>Runtime</th><th scope=col>Age</th><th scope=col>Weight</th><th scope=col>Run_Pulse</th><th scope=col>Rest_Pulse</th><th scope=col>Maximum_Pulse</th><th scope=col>Performance</th></tr>\n",
       "\t<tr><th></th><th scope=col>&lt;dbl&gt;</th><th scope=col>&lt;int&gt;</th><th scope=col>&lt;dbl&gt;</th><th scope=col>&lt;int&gt;</th><th scope=col>&lt;int&gt;</th><th scope=col>&lt;int&gt;</th><th scope=col>&lt;int&gt;</th></tr>\n",
       "</thead>\n",
       "<tbody>\n",
       "\t<tr><th scope=row>Donna</th><td> 8.17</td><td>42</td><td>68.15</td><td>166</td><td>40</td><td>172</td><td>14</td></tr>\n",
       "\t<tr><th scope=row>Gracie</th><td> 8.63</td><td>38</td><td>81.87</td><td>170</td><td>48</td><td>186</td><td>13</td></tr>\n",
       "\t<tr><th scope=row>Luanne</th><td> 8.65</td><td>43</td><td>85.84</td><td>156</td><td>45</td><td>168</td><td>13</td></tr>\n",
       "\t<tr><th scope=row>Mimi</th><td> 8.92</td><td>50</td><td>70.87</td><td>146</td><td>48</td><td>155</td><td>11</td></tr>\n",
       "\t<tr><th scope=row>Chris</th><td> 8.95</td><td>49</td><td>81.42</td><td>180</td><td>44</td><td>185</td><td>11</td></tr>\n",
       "\t<tr><th scope=row>Allen</th><td> 9.22</td><td>38</td><td>89.02</td><td>178</td><td>55</td><td>180</td><td>12</td></tr>\n",
       "\t<tr><th scope=row>Nancy</th><td> 9.40</td><td>49</td><td>76.32</td><td>186</td><td>56</td><td>188</td><td>10</td></tr>\n",
       "\t<tr><th scope=row>Patty</th><td> 9.63</td><td>52</td><td>76.32</td><td>164</td><td>48</td><td>166</td><td>10</td></tr>\n",
       "\t<tr><th scope=row>Suzanne</th><td> 9.93</td><td>57</td><td>59.08</td><td>148</td><td>49</td><td>155</td><td> 9</td></tr>\n",
       "\t<tr><th scope=row>Teresa</th><td>10.00</td><td>51</td><td>77.91</td><td>162</td><td>48</td><td>168</td><td> 9</td></tr>\n",
       "\t<tr><th scope=row>Bob</th><td>10.07</td><td>40</td><td>75.07</td><td>185</td><td>62</td><td>185</td><td> 9</td></tr>\n",
       "\t<tr><th scope=row>Harriett</th><td>10.08</td><td>49</td><td>73.37</td><td>168</td><td>67</td><td>168</td><td> 9</td></tr>\n",
       "\t<tr><th scope=row>Jane</th><td>10.13</td><td>44</td><td>73.03</td><td>168</td><td>45</td><td>168</td><td> 9</td></tr>\n",
       "\t<tr><th scope=row>Harold</th><td>10.25</td><td>48</td><td>91.63</td><td>162</td><td>48</td><td>164</td><td> 9</td></tr>\n",
       "\t<tr><th scope=row>Sammy</th><td>10.33</td><td>54</td><td>83.12</td><td>166</td><td>50</td><td>170</td><td> 8</td></tr>\n",
       "\t<tr><th scope=row>Buffy</th><td>10.47</td><td>52</td><td>73.71</td><td>186</td><td>59</td><td>188</td><td> 8</td></tr>\n",
       "\t<tr><th scope=row>Trent</th><td>10.50</td><td>52</td><td>82.78</td><td>170</td><td>53</td><td>172</td><td> 8</td></tr>\n",
       "\t<tr><th scope=row>Jackie</th><td>10.60</td><td>47</td><td>79.15</td><td>162</td><td>47</td><td>164</td><td> 8</td></tr>\n",
       "\t<tr><th scope=row>Ralph</th><td>10.85</td><td>43</td><td>81.19</td><td>162</td><td>64</td><td>170</td><td> 7</td></tr>\n",
       "\t<tr><th scope=row>Jack</th><td>10.95</td><td>51</td><td>69.63</td><td>168</td><td>57</td><td>172</td><td> 7</td></tr>\n",
       "\t<tr><th scope=row>Annie</th><td>11.08</td><td>51</td><td>67.25</td><td>172</td><td>48</td><td>172</td><td> 7</td></tr>\n",
       "\t<tr><th scope=row>Kate</th><td>11.12</td><td>45</td><td>66.45</td><td>176</td><td>51</td><td>176</td><td> 7</td></tr>\n",
       "\t<tr><th scope=row>Carl</th><td>11.17</td><td>54</td><td>79.38</td><td>156</td><td>62</td><td>165</td><td> 7</td></tr>\n",
       "\t<tr><th scope=row>Don</th><td>11.37</td><td>44</td><td>89.47</td><td>178</td><td>62</td><td>182</td><td> 6</td></tr>\n",
       "\t<tr><th scope=row>Effie</th><td>11.50</td><td>48</td><td>61.24</td><td>170</td><td>52</td><td>176</td><td> 6</td></tr>\n",
       "\t<tr><th scope=row>George</th><td>11.63</td><td>47</td><td>77.45</td><td>176</td><td>58</td><td>176</td><td> 6</td></tr>\n",
       "\t<tr><th scope=row>Iris</th><td>11.95</td><td>40</td><td>75.98</td><td>176</td><td>70</td><td>180</td><td> 5</td></tr>\n",
       "\t<tr><th scope=row>Mark</th><td>12.63</td><td>57</td><td>73.37</td><td>174</td><td>58</td><td>176</td><td> 4</td></tr>\n",
       "\t<tr><th scope=row>Steve</th><td>12.88</td><td>54</td><td>91.63</td><td>168</td><td>44</td><td>172</td><td> 4</td></tr>\n",
       "\t<tr><th scope=row>Vaughn</th><td>13.08</td><td>44</td><td>81.42</td><td>174</td><td>63</td><td>176</td><td> 2</td></tr>\n",
       "\t<tr><th scope=row>William</th><td>14.03</td><td>45</td><td>87.66</td><td>186</td><td>56</td><td>192</td><td> 0</td></tr>\n",
       "</tbody>\n",
       "</table>\n"
      ],
      "text/latex": [
       "A data.frame: 31 × 7\n",
       "\\begin{tabular}{r|lllllll}\n",
       "  & Runtime & Age & Weight & Run\\_Pulse & Rest\\_Pulse & Maximum\\_Pulse & Performance\\\\\n",
       "  & <dbl> & <int> & <dbl> & <int> & <int> & <int> & <int>\\\\\n",
       "\\hline\n",
       "\tDonna &  8.17 & 42 & 68.15 & 166 & 40 & 172 & 14\\\\\n",
       "\tGracie &  8.63 & 38 & 81.87 & 170 & 48 & 186 & 13\\\\\n",
       "\tLuanne &  8.65 & 43 & 85.84 & 156 & 45 & 168 & 13\\\\\n",
       "\tMimi &  8.92 & 50 & 70.87 & 146 & 48 & 155 & 11\\\\\n",
       "\tChris &  8.95 & 49 & 81.42 & 180 & 44 & 185 & 11\\\\\n",
       "\tAllen &  9.22 & 38 & 89.02 & 178 & 55 & 180 & 12\\\\\n",
       "\tNancy &  9.40 & 49 & 76.32 & 186 & 56 & 188 & 10\\\\\n",
       "\tPatty &  9.63 & 52 & 76.32 & 164 & 48 & 166 & 10\\\\\n",
       "\tSuzanne &  9.93 & 57 & 59.08 & 148 & 49 & 155 &  9\\\\\n",
       "\tTeresa & 10.00 & 51 & 77.91 & 162 & 48 & 168 &  9\\\\\n",
       "\tBob & 10.07 & 40 & 75.07 & 185 & 62 & 185 &  9\\\\\n",
       "\tHarriett & 10.08 & 49 & 73.37 & 168 & 67 & 168 &  9\\\\\n",
       "\tJane & 10.13 & 44 & 73.03 & 168 & 45 & 168 &  9\\\\\n",
       "\tHarold & 10.25 & 48 & 91.63 & 162 & 48 & 164 &  9\\\\\n",
       "\tSammy & 10.33 & 54 & 83.12 & 166 & 50 & 170 &  8\\\\\n",
       "\tBuffy & 10.47 & 52 & 73.71 & 186 & 59 & 188 &  8\\\\\n",
       "\tTrent & 10.50 & 52 & 82.78 & 170 & 53 & 172 &  8\\\\\n",
       "\tJackie & 10.60 & 47 & 79.15 & 162 & 47 & 164 &  8\\\\\n",
       "\tRalph & 10.85 & 43 & 81.19 & 162 & 64 & 170 &  7\\\\\n",
       "\tJack & 10.95 & 51 & 69.63 & 168 & 57 & 172 &  7\\\\\n",
       "\tAnnie & 11.08 & 51 & 67.25 & 172 & 48 & 172 &  7\\\\\n",
       "\tKate & 11.12 & 45 & 66.45 & 176 & 51 & 176 &  7\\\\\n",
       "\tCarl & 11.17 & 54 & 79.38 & 156 & 62 & 165 &  7\\\\\n",
       "\tDon & 11.37 & 44 & 89.47 & 178 & 62 & 182 &  6\\\\\n",
       "\tEffie & 11.50 & 48 & 61.24 & 170 & 52 & 176 &  6\\\\\n",
       "\tGeorge & 11.63 & 47 & 77.45 & 176 & 58 & 176 &  6\\\\\n",
       "\tIris & 11.95 & 40 & 75.98 & 176 & 70 & 180 &  5\\\\\n",
       "\tMark & 12.63 & 57 & 73.37 & 174 & 58 & 176 &  4\\\\\n",
       "\tSteve & 12.88 & 54 & 91.63 & 168 & 44 & 172 &  4\\\\\n",
       "\tVaughn & 13.08 & 44 & 81.42 & 174 & 63 & 176 &  2\\\\\n",
       "\tWilliam & 14.03 & 45 & 87.66 & 186 & 56 & 192 &  0\\\\\n",
       "\\end{tabular}\n"
      ],
      "text/markdown": [
       "\n",
       "A data.frame: 31 × 7\n",
       "\n",
       "| <!--/--> | Runtime &lt;dbl&gt; | Age &lt;int&gt; | Weight &lt;dbl&gt; | Run_Pulse &lt;int&gt; | Rest_Pulse &lt;int&gt; | Maximum_Pulse &lt;int&gt; | Performance &lt;int&gt; |\n",
       "|---|---|---|---|---|---|---|---|\n",
       "| Donna |  8.17 | 42 | 68.15 | 166 | 40 | 172 | 14 |\n",
       "| Gracie |  8.63 | 38 | 81.87 | 170 | 48 | 186 | 13 |\n",
       "| Luanne |  8.65 | 43 | 85.84 | 156 | 45 | 168 | 13 |\n",
       "| Mimi |  8.92 | 50 | 70.87 | 146 | 48 | 155 | 11 |\n",
       "| Chris |  8.95 | 49 | 81.42 | 180 | 44 | 185 | 11 |\n",
       "| Allen |  9.22 | 38 | 89.02 | 178 | 55 | 180 | 12 |\n",
       "| Nancy |  9.40 | 49 | 76.32 | 186 | 56 | 188 | 10 |\n",
       "| Patty |  9.63 | 52 | 76.32 | 164 | 48 | 166 | 10 |\n",
       "| Suzanne |  9.93 | 57 | 59.08 | 148 | 49 | 155 |  9 |\n",
       "| Teresa | 10.00 | 51 | 77.91 | 162 | 48 | 168 |  9 |\n",
       "| Bob | 10.07 | 40 | 75.07 | 185 | 62 | 185 |  9 |\n",
       "| Harriett | 10.08 | 49 | 73.37 | 168 | 67 | 168 |  9 |\n",
       "| Jane | 10.13 | 44 | 73.03 | 168 | 45 | 168 |  9 |\n",
       "| Harold | 10.25 | 48 | 91.63 | 162 | 48 | 164 |  9 |\n",
       "| Sammy | 10.33 | 54 | 83.12 | 166 | 50 | 170 |  8 |\n",
       "| Buffy | 10.47 | 52 | 73.71 | 186 | 59 | 188 |  8 |\n",
       "| Trent | 10.50 | 52 | 82.78 | 170 | 53 | 172 |  8 |\n",
       "| Jackie | 10.60 | 47 | 79.15 | 162 | 47 | 164 |  8 |\n",
       "| Ralph | 10.85 | 43 | 81.19 | 162 | 64 | 170 |  7 |\n",
       "| Jack | 10.95 | 51 | 69.63 | 168 | 57 | 172 |  7 |\n",
       "| Annie | 11.08 | 51 | 67.25 | 172 | 48 | 172 |  7 |\n",
       "| Kate | 11.12 | 45 | 66.45 | 176 | 51 | 176 |  7 |\n",
       "| Carl | 11.17 | 54 | 79.38 | 156 | 62 | 165 |  7 |\n",
       "| Don | 11.37 | 44 | 89.47 | 178 | 62 | 182 |  6 |\n",
       "| Effie | 11.50 | 48 | 61.24 | 170 | 52 | 176 |  6 |\n",
       "| George | 11.63 | 47 | 77.45 | 176 | 58 | 176 |  6 |\n",
       "| Iris | 11.95 | 40 | 75.98 | 176 | 70 | 180 |  5 |\n",
       "| Mark | 12.63 | 57 | 73.37 | 174 | 58 | 176 |  4 |\n",
       "| Steve | 12.88 | 54 | 91.63 | 168 | 44 | 172 |  4 |\n",
       "| Vaughn | 13.08 | 44 | 81.42 | 174 | 63 | 176 |  2 |\n",
       "| William | 14.03 | 45 | 87.66 | 186 | 56 | 192 |  0 |\n",
       "\n"
      ],
      "text/plain": [
       "         Runtime Age Weight Run_Pulse Rest_Pulse Maximum_Pulse Performance\n",
       "Donna     8.17   42  68.15  166       40         172           14         \n",
       "Gracie    8.63   38  81.87  170       48         186           13         \n",
       "Luanne    8.65   43  85.84  156       45         168           13         \n",
       "Mimi      8.92   50  70.87  146       48         155           11         \n",
       "Chris     8.95   49  81.42  180       44         185           11         \n",
       "Allen     9.22   38  89.02  178       55         180           12         \n",
       "Nancy     9.40   49  76.32  186       56         188           10         \n",
       "Patty     9.63   52  76.32  164       48         166           10         \n",
       "Suzanne   9.93   57  59.08  148       49         155            9         \n",
       "Teresa   10.00   51  77.91  162       48         168            9         \n",
       "Bob      10.07   40  75.07  185       62         185            9         \n",
       "Harriett 10.08   49  73.37  168       67         168            9         \n",
       "Jane     10.13   44  73.03  168       45         168            9         \n",
       "Harold   10.25   48  91.63  162       48         164            9         \n",
       "Sammy    10.33   54  83.12  166       50         170            8         \n",
       "Buffy    10.47   52  73.71  186       59         188            8         \n",
       "Trent    10.50   52  82.78  170       53         172            8         \n",
       "Jackie   10.60   47  79.15  162       47         164            8         \n",
       "Ralph    10.85   43  81.19  162       64         170            7         \n",
       "Jack     10.95   51  69.63  168       57         172            7         \n",
       "Annie    11.08   51  67.25  172       48         172            7         \n",
       "Kate     11.12   45  66.45  176       51         176            7         \n",
       "Carl     11.17   54  79.38  156       62         165            7         \n",
       "Don      11.37   44  89.47  178       62         182            6         \n",
       "Effie    11.50   48  61.24  170       52         176            6         \n",
       "George   11.63   47  77.45  176       58         176            6         \n",
       "Iris     11.95   40  75.98  176       70         180            5         \n",
       "Mark     12.63   57  73.37  174       58         176            4         \n",
       "Steve    12.88   54  91.63  168       44         172            4         \n",
       "Vaughn   13.08   44  81.42  174       63         176            2         \n",
       "William  14.03   45  87.66  186       56         192            0         "
      ]
     },
     "metadata": {},
     "output_type": "display_data"
    }
   ],
   "source": [
    "dados[, variaveis]"
   ]
  },
  {
   "cell_type": "markdown",
   "metadata": {},
   "source": [
    "Há duas maneiras de prosseguir:"
   ]
  },
  {
   "cell_type": "code",
   "execution_count": 39,
   "metadata": {
    "vscode": {
     "languageId": "r"
    }
   },
   "outputs": [
    {
     "data": {
      "text/plain": [
       "\n",
       "Call:\n",
       "lm(formula = Oxygen_Consumption ~ Runtime + Age + Weight + Run_Pulse + \n",
       "    Rest_Pulse + Maximum_Pulse + Performance, data = dados)\n",
       "\n",
       "Residuals:\n",
       "    Min      1Q  Median      3Q     Max \n",
       "-5.4357 -0.8278 -0.0270  1.0324  5.4787 \n",
       "\n",
       "Coefficients:\n",
       "              Estimate Std. Error t value Pr(>|t|)   \n",
       "(Intercept)   93.33753   36.49782   2.557  0.01761 * \n",
       "Runtime       -2.08804    2.22856  -0.937  0.35852   \n",
       "Age           -0.21066    0.10519  -2.003  0.05713 . \n",
       "Weight        -0.07741    0.05681  -1.363  0.18623   \n",
       "Run_Pulse     -0.36618    0.12299  -2.977  0.00674 **\n",
       "Rest_Pulse    -0.01389    0.07114  -0.195  0.84694   \n",
       "Maximum_Pulse  0.30490    0.13990   2.179  0.03979 * \n",
       "Performance    0.25756    1.02373   0.252  0.80359   \n",
       "---\n",
       "Signif. codes:  0 '***' 0.001 '**' 0.01 '*' 0.05 '.' 0.1 ' ' 1\n",
       "\n",
       "Residual standard error: 2.373 on 23 degrees of freedom\n",
       "Multiple R-squared:  0.8479,\tAdjusted R-squared:  0.8016 \n",
       "F-statistic: 18.32 on 7 and 23 DF,  p-value: 5.171e-08\n"
      ]
     },
     "metadata": {},
     "output_type": "display_data"
    },
    {
     "data": {
      "text/plain": [
       "\n",
       "Call:\n",
       "lm(formula = Oxygen_Consumption ~ Maximum_Pulse + Performance, \n",
       "    data = dados)\n",
       "\n",
       "Residuals:\n",
       "   Min     1Q Median     3Q    Max \n",
       "-5.129 -2.172 -0.088  1.864  5.748 \n",
       "\n",
       "Coefficients:\n",
       "              Estimate Std. Error t value Pr(>|t|)    \n",
       "(Intercept)   40.65259   10.20609   3.983  0.00044 ***\n",
       "Maximum_Pulse -0.02837    0.05650  -0.502  0.61950    \n",
       "Performance    1.45670    0.16597   8.777 1.58e-09 ***\n",
       "---\n",
       "Signif. codes:  0 '***' 0.001 '**' 0.01 '*' 0.05 '.' 0.1 ' ' 1\n",
       "\n",
       "Residual standard error: 2.766 on 28 degrees of freedom\n",
       "Multiple R-squared:  0.7484,\tAdjusted R-squared:  0.7304 \n",
       "F-statistic: 41.64 on 2 and 28 DF,  p-value: 4.082e-09\n"
      ]
     },
     "metadata": {},
     "output_type": "display_data"
    }
   ],
   "source": [
    "#1 Escolhendo as melhores variáveis\n",
    "modele <- lm(Oxygen_Consumption ~ Runtime + Age + Weight + Run_Pulse + Rest_Pulse + Maximum_Pulse + Performance, data = dados)\n",
    "summary(modele)\n",
    "\n",
    "modele <- lm(Oxygen_Consumption ~ Maximum_Pulse + Performance, data = dados)\n",
    "summary(modele)\n"
   ]
  },
  {
   "cell_type": "code",
   "execution_count": null,
   "metadata": {
    "vscode": {
     "languageId": "r"
    }
   },
   "outputs": [],
   "source": [
    "\n",
    "iris_acp$var$cos2"
   ]
  },
  {
   "cell_type": "code",
   "execution_count": null,
   "metadata": {
    "vscode": {
     "languageId": "r"
    }
   },
   "outputs": [
    {
     "name": "stderr",
     "output_type": "stream",
     "text": [
      "Warning message in cv.groups[index] <- sample(numbers[(groupsizes[lev] + 1):groupsizes[lev + :\n",
      "\"número de itens a substituir não é um múltiplo do comprimento do substituto\"\n",
      "Warning message in cv.groups[index] <- sample(numbers[(groupsizes[lev] + 1):groupsizes[lev + :\n",
      "\"número de itens a substituir não é um múltiplo do comprimento do substituto\"\n",
      "Warning message in cv.groups[index] <- sample(numbers[(groupsizes[lev] + 1):groupsizes[lev + :\n",
      "\"número de itens a substituir não é um múltiplo do comprimento do substituto\"\n",
      "Warning message in cv.groups[index] <- sample(numbers[(groupsizes[lev] + 1):groupsizes[lev + :\n",
      "\"número de itens a substituir não é um múltiplo do comprimento do substituto\"\n"
     ]
    },
    {
     "name": "stderr",
     "output_type": "stream",
     "text": [
      "Warning message in cv.groups[index] <- sample(numbers[(groupsizes[lev] + 1):groupsizes[lev + :\n",
      "\"número de itens a substituir não é um múltiplo do comprimento do substituto\"\n",
      "Warning message in cv.groups[index] <- sample(numbers[(groupsizes[lev] + 1):groupsizes[lev + :\n",
      "\"número de itens a substituir não é um múltiplo do comprimento do substituto\"\n",
      "Warning message in cv.groups[index] <- sample(numbers[(groupsizes[lev] + 1):groupsizes[lev + :\n",
      "\"número de itens a substituir não é um múltiplo do comprimento do substituto\"\n",
      "Warning message in cv.groups[index] <- sample(numbers[(groupsizes[lev] + 1):groupsizes[lev + :\n",
      "\"número de itens a substituir não é um múltiplo do comprimento do substituto\"\n",
      "Warning message in cv.groups[index] <- sample(numbers[(groupsizes[lev] + 1):groupsizes[lev + :\n",
      "\"número de itens a substituir não é um múltiplo do comprimento do substituto\"\n",
      "Warning message in cv.groups[index] <- sample(numbers[(groupsizes[lev] + 1):groupsizes[lev + :\n",
      "\"número de itens a substituir não é um múltiplo do comprimento do substituto\"\n",
      "Warning message in cv.groups[index] <- sample(numbers[(groupsizes[lev] + 1):groupsizes[lev + :\n",
      "\"número de itens a substituir não é um múltiplo do comprimento do substituto\"\n",
      "Warning message in cv.groups[index] <- sample(numbers[(groupsizes[lev] + 1):groupsizes[lev + :\n",
      "\"número de itens a substituir não é um múltiplo do comprimento do substituto\"\n",
      "Warning message in cv.groups[index] <- sample(numbers[(groupsizes[lev] + 1):groupsizes[lev + :\n",
      "\"número de itens a substituir não é um múltiplo do comprimento do substituto\"\n",
      "Warning message in cv.groups[index] <- sample(numbers[(groupsizes[lev] + 1):groupsizes[lev + :\n",
      "\"número de itens a substituir não é um múltiplo do comprimento do substituto\"\n",
      "Warning message in cv.groups[index] <- sample(numbers[(groupsizes[lev] + 1):groupsizes[lev + :\n",
      "\"número de itens a substituir não é um múltiplo do comprimento do substituto\"\n",
      "Warning message in cv.groups[index] <- sample(numbers[(groupsizes[lev] + 1):groupsizes[lev + :\n",
      "\"número de itens a substituir não é um múltiplo do comprimento do substituto\"\n",
      "Warning message in cv.groups[index] <- sample(numbers[(groupsizes[lev] + 1):groupsizes[lev + :\n",
      "\"número de itens a substituir não é um múltiplo do comprimento do substituto\"\n",
      "Warning message in cv.groups[index] <- sample(numbers[(groupsizes[lev] + 1):groupsizes[lev + :\n",
      "\"número de itens a substituir não é um múltiplo do comprimento do substituto\"\n",
      "Warning message in cv.groups[index] <- sample(numbers[(groupsizes[lev] + 1):groupsizes[lev + :\n",
      "\"número de itens a substituir não é um múltiplo do comprimento do substituto\"\n",
      "Warning message in cv.groups[index] <- sample(numbers[(groupsizes[lev] + 1):groupsizes[lev + :\n",
      "\"número de itens a substituir não é um múltiplo do comprimento do substituto\"\n",
      "Warning message in cv.groups[index] <- sample(numbers[(groupsizes[lev] + 1):groupsizes[lev + :\n",
      "\"número de itens a substituir não é um múltiplo do comprimento do substituto\"\n",
      "Warning message in cv.groups[index] <- sample(numbers[(groupsizes[lev] + 1):groupsizes[lev + :\n",
      "\"número de itens a substituir não é um múltiplo do comprimento do substituto\"\n",
      "Warning message in cv.groups[index] <- sample(numbers[(groupsizes[lev] + 1):groupsizes[lev + :\n",
      "\"número de itens a substituir não é um múltiplo do comprimento do substituto\"\n",
      "Warning message in cv.groups[index] <- sample(numbers[(groupsizes[lev] + 1):groupsizes[lev + :\n",
      "\"número de itens a substituir não é um múltiplo do comprimento do substituto\"\n",
      "Warning message in cv.groups[index] <- sample(numbers[(groupsizes[lev] + 1):groupsizes[lev + :\n",
      "\"número de itens a substituir não é um múltiplo do comprimento do substituto\"\n",
      "Warning message in cv.groups[index] <- sample(numbers[(groupsizes[lev] + 1):groupsizes[lev + :\n",
      "\"número de itens a substituir não é um múltiplo do comprimento do substituto\"\n",
      "Warning message in cv.groups[index] <- sample(numbers[(groupsizes[lev] + 1):groupsizes[lev + :\n",
      "\"número de itens a substituir não é um múltiplo do comprimento do substituto\"\n",
      "Warning message in cv.groups[index] <- sample(numbers[(groupsizes[lev] + 1):groupsizes[lev + :\n",
      "\"número de itens a substituir não é um múltiplo do comprimento do substituto\"\n",
      " `stepwise classification', using 10-fold cross-validated correctness rate of method lda'.\n",
      "\n",
      "31 observations of 7 variables in 31 classes; direction: both\n",
      "\n",
      "stop criterion: improvement less than 5%.\n",
      "\n",
      "Warning message in lda.default(x, grouping, ...):\n",
      "\"groups 37.39 39.44 40.84 44.75 45.12 45.44 46.67 49.09 are empty\"\n",
      "Warning message in lda.default(x, grouping, ...):\n",
      "\"groups 39.2 45.68 49.16 50.54 54.3 are empty\"\n",
      "Warning message in lda.default(x, grouping, ...):\n",
      "\"groups 39.41 45.79 46.08 46.77 47.92 49.87 50.39 54.63 are empty\"\n",
      "Warning message in lda.default(x, grouping, ...):\n",
      "\"groups 44.81 47.47 60.06 are empty\"\n",
      "Warning message in lda.default(x, grouping, ...):\n",
      "\"groups 44.61 45.31 59.57 are empty\"\n",
      "Warning message in lda.default(x, grouping, ...):\n",
      "\"groups 47.27 50.55 51.85 are empty\"\n",
      "Warning message in lda.default(x, grouping, ...):\n",
      "\"group 48.67 is empty\"\n",
      "Warning message in cv.rate(vars = c(model, tryvar), data = data, grouping = grouping, :\n",
      "\"error(s) in modeling/prediction step\"\n",
      "Warning message in lda.default(x, grouping, ...):\n",
      "\"groups 37.39 39.44 40.84 44.75 45.12 45.44 46.67 49.09 are empty\"\n",
      "Warning message in lda.default(x, grouping, ...):\n",
      "\"groups 39.2 45.68 49.16 50.54 54.3 are empty\"\n",
      "Warning message in lda.default(x, grouping, ...):\n",
      "\"groups 39.41 45.79 46.08 46.77 47.92 49.87 50.39 54.63 are empty\"\n",
      "Warning message in lda.default(x, grouping, ...):\n",
      "\"groups 44.81 47.47 60.06 are empty\"\n",
      "Warning message in lda.default(x, grouping, ...):\n",
      "\"groups 44.61 45.31 59.57 are empty\"\n",
      "Warning message in lda.default(x, grouping, ...):\n",
      "\"groups 47.27 50.55 51.85 are empty\"\n",
      "Warning message in lda.default(x, grouping, ...):\n",
      "\"group 48.67 is empty\"\n",
      "Warning message in cv.rate(vars = c(model, tryvar), data = data, grouping = grouping, :\n",
      "\"error(s) in modeling/prediction step\"\n",
      "Warning message in lda.default(x, grouping, ...):\n",
      "\"groups 37.39 39.44 40.84 44.75 45.12 45.44 46.67 49.09 are empty\"\n",
      "Warning message in lda.default(x, grouping, ...):\n",
      "\"groups 39.2 45.68 49.16 50.54 54.3 are empty\"\n",
      "Warning message in lda.default(x, grouping, ...):\n",
      "\"groups 39.41 45.79 46.08 46.77 47.92 49.87 50.39 54.63 are empty\"\n",
      "Warning message in lda.default(x, grouping, ...):\n",
      "\"groups 44.81 47.47 60.06 are empty\"\n",
      "Warning message in lda.default(x, grouping, ...):\n",
      "\"groups 44.61 45.31 59.57 are empty\"\n",
      "Warning message in lda.default(x, grouping, ...):\n",
      "\"groups 47.27 50.55 51.85 are empty\"\n",
      "Warning message in lda.default(x, grouping, ...):\n",
      "\"group 48.67 is empty\"\n",
      "Warning message in cv.rate(vars = c(model, tryvar), data = data, grouping = grouping, :\n",
      "\"error(s) in modeling/prediction step\"\n",
      "Warning message in lda.default(x, grouping, ...):\n",
      "\"groups 37.39 39.44 40.84 44.75 45.12 45.44 46.67 49.09 are empty\"\n",
      "Warning message in lda.default(x, grouping, ...):\n",
      "\"groups 39.2 45.68 49.16 50.54 54.3 are empty\"\n",
      "Warning message in lda.default(x, grouping, ...):\n",
      "\"groups 39.41 45.79 46.08 46.77 47.92 49.87 50.39 54.63 are empty\"\n",
      "Warning message in lda.default(x, grouping, ...):\n",
      "\"groups 44.81 47.47 60.06 are empty\"\n",
      "Warning message in lda.default(x, grouping, ...):\n",
      "\"groups 44.61 45.31 59.57 are empty\"\n",
      "Warning message in lda.default(x, grouping, ...):\n",
      "\"groups 47.27 50.55 51.85 are empty\"\n",
      "Warning message in lda.default(x, grouping, ...):\n",
      "\"group 48.67 is empty\"\n",
      "Warning message in cv.rate(vars = c(model, tryvar), data = data, grouping = grouping, :\n",
      "\"error(s) in modeling/prediction step\"\n",
      "Warning message in lda.default(x, grouping, ...):\n",
      "\"groups 37.39 39.44 40.84 44.75 45.12 45.44 46.67 49.09 are empty\"\n",
      "Warning message in lda.default(x, grouping, ...):\n",
      "\"groups 39.2 45.68 49.16 50.54 54.3 are empty\"\n",
      "Warning message in lda.default(x, grouping, ...):\n",
      "\"groups 39.41 45.79 46.08 46.77 47.92 49.87 50.39 54.63 are empty\"\n",
      "Warning message in lda.default(x, grouping, ...):\n",
      "\"groups 44.81 47.47 60.06 are empty\"\n",
      "Warning message in lda.default(x, grouping, ...):\n",
      "\"groups 44.61 45.31 59.57 are empty\"\n",
      "Warning message in lda.default(x, grouping, ...):\n",
      "\"groups 47.27 50.55 51.85 are empty\"\n",
      "Warning message in lda.default(x, grouping, ...):\n",
      "\"group 48.67 is empty\"\n",
      "Warning message in cv.rate(vars = c(model, tryvar), data = data, grouping = grouping, :\n",
      "\"error(s) in modeling/prediction step\"\n",
      "Warning message in lda.default(x, grouping, ...):\n",
      "\"groups 37.39 39.44 40.84 44.75 45.12 45.44 46.67 49.09 are empty\"\n",
      "Warning message in lda.default(x, grouping, ...):\n",
      "\"groups 39.2 45.68 49.16 50.54 54.3 are empty\"\n",
      "Warning message in lda.default(x, grouping, ...):\n",
      "\"groups 39.41 45.79 46.08 46.77 47.92 49.87 50.39 54.63 are empty\"\n",
      "Warning message in lda.default(x, grouping, ...):\n",
      "\"groups 44.81 47.47 60.06 are empty\"\n",
      "Warning message in lda.default(x, grouping, ...):\n",
      "\"groups 44.61 45.31 59.57 are empty\"\n",
      "Warning message in lda.default(x, grouping, ...):\n",
      "\"groups 47.27 50.55 51.85 are empty\"\n",
      "Warning message in lda.default(x, grouping, ...):\n",
      "\"group 48.67 is empty\"\n",
      "Warning message in cv.rate(vars = c(model, tryvar), data = data, grouping = grouping, :\n",
      "\"error(s) in modeling/prediction step\"\n",
      "Warning message in lda.default(x, grouping, ...):\n",
      "\"groups 37.39 39.44 40.84 44.75 45.12 45.44 46.67 49.09 are empty\"\n",
      "Warning message in lda.default(x, grouping, ...):\n",
      "\"groups 39.2 45.68 49.16 50.54 54.3 are empty\"\n",
      "Warning message in lda.default(x, grouping, ...):\n",
      "\"groups 39.41 45.79 46.08 46.77 47.92 49.87 50.39 54.63 are empty\"\n",
      "Warning message in lda.default(x, grouping, ...):\n",
      "\"groups 44.81 47.47 60.06 are empty\"\n",
      "Warning message in lda.default(x, grouping, ...):\n",
      "\"groups 44.61 45.31 59.57 are empty\"\n",
      "Warning message in lda.default(x, grouping, ...):\n",
      "\"groups 47.27 50.55 51.85 are empty\"\n",
      "Warning message in lda.default(x, grouping, ...):\n",
      "\"group 48.67 is empty\"\n",
      "Warning message in cv.rate(vars = c(model, tryvar), data = data, grouping = grouping, :\n",
      "\"error(s) in modeling/prediction step\"\n"
     ]
    },
    {
     "name": "stdout",
     "output_type": "stream",
     "text": [
      "\n",
      " hr.elapsed min.elapsed sec.elapsed \n",
      "       0.00        0.00        0.23 \n",
      "\n"
     ]
    },
    {
     "ename": "ERROR",
     "evalue": "Error in str2lang(x): <text>:2:0: unexpected end of input\n1: resposta ~ \n   ^\n",
     "output_type": "error",
     "traceback": [
      "Error in str2lang(x): <text>:2:0: unexpected end of input\n1: resposta ~ \n   ^\nTraceback:\n",
      "1. stepclass.default(preditoras, resposta, method = \"lda\", direction = \"both\")",
      "2. as.formula(paste(gpVar, \"~\", paste(varnames[model], collapse = \"+\")))",
      "3. formula(object, env = baseenv())",
      "4. formula.character(object, env = baseenv())",
      "5. str2lang(x)",
      "6. .handleSimpleError(function (cnd) \n . {\n .     watcher$capture_plot_and_output()\n .     cnd <- sanitize_call(cnd)\n .     watcher$push(cnd)\n .     switch(on_error, continue = invokeRestart(\"eval_continue\"), \n .         stop = invokeRestart(\"eval_stop\"), error = invokeRestart(\"eval_error\", \n .             cnd))\n . }, \"<text>:2:0: unexpected end of input\\n1: resposta ~ \\n   ^\", \n .     base::quote(str2lang(x)))"
     ]
    }
   ],
   "source": [
    "preditoras <- dados[, variaveis] # Todas as colunas exceto\n",
    "resposta <- dados$Oxygen_Consumption\n",
    "\n",
    "modelo_step <- stepclass(\n",
    "  preditoras,\n",
    "  resposta,\n",
    "  method = \"lda\",\n",
    "  direction = \"both\"\n",
    ")\n",
    "\n",
    "formula_lda <- modelo_step$formula\n",
    "formula_lda\n",
    "modelo_lda <- lda(formula_lda, data = dados)\n",
    "plot(modelo_lda)"
   ]
  }
 ],
 "metadata": {
  "kernelspec": {
   "display_name": "R",
   "language": "R",
   "name": "ir"
  },
  "language_info": {
   "codemirror_mode": "r",
   "file_extension": ".r",
   "mimetype": "text/x-r-source",
   "name": "R",
   "pygments_lexer": "r",
   "version": "4.4.1"
  }
 },
 "nbformat": 4,
 "nbformat_minor": 2
}
