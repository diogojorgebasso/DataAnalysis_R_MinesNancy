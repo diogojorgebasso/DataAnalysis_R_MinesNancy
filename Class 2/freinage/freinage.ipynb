{
 "cells": [
  {
   "cell_type": "markdown",
   "metadata": {},
   "source": [
    "# Analyse de Donne - Class 2 - Freinage\n"
   ]
  },
  {
   "cell_type": "code",
   "execution_count": 1,
   "metadata": {
    "vscode": {
     "languageId": "r"
    }
   },
   "outputs": [
    {
     "data": {
      "text/html": [
       "<table class=\"dataframe\">\n",
       "<caption>A data.frame: 24 × 2</caption>\n",
       "<thead>\n",
       "\t<tr><th scope=col>Vitesse</th><th scope=col>distance</th></tr>\n",
       "\t<tr><th scope=col>&lt;int&gt;</th><th scope=col>&lt;dbl&gt;</th></tr>\n",
       "</thead>\n",
       "<tbody>\n",
       "\t<tr><td>33</td><td> 5.30</td></tr>\n",
       "\t<tr><td>49</td><td>14.45</td></tr>\n",
       "\t<tr><td>65</td><td>20.26</td></tr>\n",
       "\t<tr><td>33</td><td> 6.50</td></tr>\n",
       "\t<tr><td>79</td><td>38.45</td></tr>\n",
       "\t<tr><td>49</td><td>11.23</td></tr>\n",
       "\t<tr><td>93</td><td>50.42</td></tr>\n",
       "\t<tr><td>43</td><td> 9.00</td></tr>\n",
       "\t<tr><td>57</td><td>18.00</td></tr>\n",
       "\t<tr><td>73</td><td>28.00</td></tr>\n",
       "\t<tr><td>85</td><td>40.00</td></tr>\n",
       "\t<tr><td>87</td><td>41.50</td></tr>\n",
       "\t<tr><td>51</td><td>12.80</td></tr>\n",
       "\t<tr><td>66</td><td>23.80</td></tr>\n",
       "\t<tr><td>68</td><td>24.60</td></tr>\n",
       "\t<tr><td>80</td><td>36.40</td></tr>\n",
       "\t<tr><td>82</td><td>39.60</td></tr>\n",
       "\t<tr><td>92</td><td>48.80</td></tr>\n",
       "\t<tr><td>90</td><td>45.70</td></tr>\n",
       "\t<tr><td>55</td><td>14.80</td></tr>\n",
       "\t<tr><td>74</td><td>28.90</td></tr>\n",
       "\t<tr><td>86</td><td>43.20</td></tr>\n",
       "\t<tr><td>91</td><td>47.60</td></tr>\n",
       "\t<tr><td>70</td><td>29.00</td></tr>\n",
       "</tbody>\n",
       "</table>\n"
      ],
      "text/latex": [
       "A data.frame: 24 × 2\n",
       "\\begin{tabular}{ll}\n",
       " Vitesse & distance\\\\\n",
       " <int> & <dbl>\\\\\n",
       "\\hline\n",
       "\t 33 &  5.30\\\\\n",
       "\t 49 & 14.45\\\\\n",
       "\t 65 & 20.26\\\\\n",
       "\t 33 &  6.50\\\\\n",
       "\t 79 & 38.45\\\\\n",
       "\t 49 & 11.23\\\\\n",
       "\t 93 & 50.42\\\\\n",
       "\t 43 &  9.00\\\\\n",
       "\t 57 & 18.00\\\\\n",
       "\t 73 & 28.00\\\\\n",
       "\t 85 & 40.00\\\\\n",
       "\t 87 & 41.50\\\\\n",
       "\t 51 & 12.80\\\\\n",
       "\t 66 & 23.80\\\\\n",
       "\t 68 & 24.60\\\\\n",
       "\t 80 & 36.40\\\\\n",
       "\t 82 & 39.60\\\\\n",
       "\t 92 & 48.80\\\\\n",
       "\t 90 & 45.70\\\\\n",
       "\t 55 & 14.80\\\\\n",
       "\t 74 & 28.90\\\\\n",
       "\t 86 & 43.20\\\\\n",
       "\t 91 & 47.60\\\\\n",
       "\t 70 & 29.00\\\\\n",
       "\\end{tabular}\n"
      ],
      "text/markdown": [
       "\n",
       "A data.frame: 24 × 2\n",
       "\n",
       "| Vitesse &lt;int&gt; | distance &lt;dbl&gt; |\n",
       "|---|---|\n",
       "| 33 |  5.30 |\n",
       "| 49 | 14.45 |\n",
       "| 65 | 20.26 |\n",
       "| 33 |  6.50 |\n",
       "| 79 | 38.45 |\n",
       "| 49 | 11.23 |\n",
       "| 93 | 50.42 |\n",
       "| 43 |  9.00 |\n",
       "| 57 | 18.00 |\n",
       "| 73 | 28.00 |\n",
       "| 85 | 40.00 |\n",
       "| 87 | 41.50 |\n",
       "| 51 | 12.80 |\n",
       "| 66 | 23.80 |\n",
       "| 68 | 24.60 |\n",
       "| 80 | 36.40 |\n",
       "| 82 | 39.60 |\n",
       "| 92 | 48.80 |\n",
       "| 90 | 45.70 |\n",
       "| 55 | 14.80 |\n",
       "| 74 | 28.90 |\n",
       "| 86 | 43.20 |\n",
       "| 91 | 47.60 |\n",
       "| 70 | 29.00 |\n",
       "\n"
      ],
      "text/plain": [
       "   Vitesse distance\n",
       "1  33       5.30   \n",
       "2  49      14.45   \n",
       "3  65      20.26   \n",
       "4  33       6.50   \n",
       "5  79      38.45   \n",
       "6  49      11.23   \n",
       "7  93      50.42   \n",
       "8  43       9.00   \n",
       "9  57      18.00   \n",
       "10 73      28.00   \n",
       "11 85      40.00   \n",
       "12 87      41.50   \n",
       "13 51      12.80   \n",
       "14 66      23.80   \n",
       "15 68      24.60   \n",
       "16 80      36.40   \n",
       "17 82      39.60   \n",
       "18 92      48.80   \n",
       "19 90      45.70   \n",
       "20 55      14.80   \n",
       "21 74      28.90   \n",
       "22 86      43.20   \n",
       "23 91      47.60   \n",
       "24 70      29.00   "
      ]
     },
     "metadata": {},
     "output_type": "display_data"
    }
   ],
   "source": [
    "# EX 1\n",
    "setwd(\"c:/Users/diogo/code/Analyse de Donne/Class 2/freinage\")\n",
    "\n",
    "freinage <- read.table(\"freinage.txt\", header = TRUE, encoding = \"UTF-8\")\n",
    "freinage\n"
   ]
  },
  {
   "cell_type": "code",
   "execution_count": 2,
   "metadata": {
    "vscode": {
     "languageId": "r"
    }
   },
   "outputs": [
    {
     "data": {
      "image/png": "[encoded data removed]",
      "text/plain": [
       "Plot with title \"Distance de freinage en fonction de la vitesse\""
      ]
     },
     "metadata": {
      "image/png": {
       "height": 420,
       "width": 420
      }
     },
     "output_type": "display_data"
    }
   ],
   "source": [
    "# EX 2\n",
    "plot(freinage$Vitesse, freinage$distance,\n",
    "     xlab = \"Vitesse (km/h)\",\n",
    "     ylab = \"Distance de freinage (m)\",\n",
    "     main = \"Distance de freinage en fonction de la vitesse\"\n",
    ")\n"
   ]
  },
  {
   "cell_type": "code",
   "execution_count": 3,
   "metadata": {
    "vscode": {
     "languageId": "r"
    }
   },
   "outputs": [
    {
     "ename": "ERROR",
     "evalue": "Error in cor.test.default(freinage$vitesse, freinage$distance): 'X' deve ser um vetor numérico\n",
     "output_type": "error",
     "traceback": [
      "Error in cor.test.default(freinage$vitesse, freinage$distance): 'X' deve ser um vetor numérico\nTraceback:\n",
      "1. cor.test.default(freinage$vitesse, freinage$distance)",
      "2. stop(\"'x' must be a numeric vector\")",
      "3. .handleSimpleError(function (cnd) \n . {\n .     watcher$capture_plot_and_output()\n .     cnd <- sanitize_call(cnd)\n .     watcher$push(cnd)\n .     switch(on_error, continue = invokeRestart(\"eval_continue\"), \n .         stop = invokeRestart(\"eval_stop\"), error = invokeRestart(\"eval_error\", \n .             cnd))\n . }, \"'X' deve ser um vetor numérico\", base::quote(cor.test.default(freinage$vitesse, \n .     freinage$distance)))"
     ]
    }
   ],
   "source": [
    "# EX 3\n",
    "correlation <- cor(freinage$Vitesse, freinage$distance)\n",
    "test_correlation <- cor.test(freinage$vitesse, freinage$distance)\n"
   ]
  },
  {
   "cell_type": "code",
   "execution_count": null,
   "metadata": {
    "vscode": {
     "languageId": "r"
    }
   },
   "outputs": [],
   "source": [
    "# EX 4\n",
    "modele <- lm(distance ~ vitesse, data = freinage)\n"
   ]
  },
  {
   "cell_type": "code",
   "execution_count": null,
   "metadata": {
    "vscode": {
     "languageId": "r"
    }
   },
   "outputs": [],
   "source": [
    "# EX 5\n",
    "coefficients(modele)\n",
    "\n",
    "plot(freinage$vitesse, freinage$distance,\n",
    "     xlab = \"Vitesse (km/h)\",\n",
    "     ylab = \"Distance de freinage (m)\",\n",
    "     main = \"Distance de freinage en fonction de la vitesse\"\n",
    ")\n",
    "abline(modele, col = \"red\")\n"
   ]
  },
  {
   "cell_type": "code",
   "execution_count": null,
   "metadata": {
    "vscode": {
     "languageId": "r"
    }
   },
   "outputs": [],
   "source": [
    "# EX 6\n",
    "ecart_type_residuel <- summary(modele)$sigma\n"
   ]
  },
  {
   "cell_type": "code",
   "execution_count": null,
   "metadata": {
    "vscode": {
     "languageId": "r"
    }
   },
   "outputs": [],
   "source": [
    "# EX 7\n",
    "r_carre <- summary(modele)$r.squared\n"
   ]
  },
  {
   "cell_type": "code",
   "execution_count": null,
   "metadata": {
    "vscode": {
     "languageId": "r"
    }
   },
   "outputs": [],
   "source": [
    "# EX 8\n",
    "summary(modele)\n"
   ]
  },
  {
   "cell_type": "code",
   "execution_count": null,
   "metadata": {
    "vscode": {
     "languageId": "r"
    }
   },
   "outputs": [],
   "source": [
    "# EX 9\n",
    "confint(modele, level = 0.95)\n"
   ]
  },
  {
   "cell_type": "code",
   "execution_count": null,
   "metadata": {
    "vscode": {
     "languageId": "r"
    }
   },
   "outputs": [],
   "source": [
    "# EX 10\n",
    "par(mfrow = c(2, 2))\n",
    "plot(modele)\n"
   ]
  },
  {
   "cell_type": "code",
   "execution_count": null,
   "metadata": {
    "vscode": {
     "languageId": "r"
    }
   },
   "outputs": [],
   "source": [
    "# EX 11\n",
    "freinage$vitesse2 <- freinage$vitesse^2\n"
   ]
  },
  {
   "cell_type": "code",
   "execution_count": null,
   "metadata": {
    "vscode": {
     "languageId": "r"
    }
   },
   "outputs": [],
   "source": [
    "# EX 12\n",
    "modele_nouveau <- lm(distance ~ vitesse + I(vitesse^2), data = freinage)\n"
   ]
  },
  {
   "cell_type": "code",
   "execution_count": null,
   "metadata": {
    "vscode": {
     "languageId": "r"
    }
   },
   "outputs": [],
   "source": [
    "# EX 13\n",
    "nouvelle_vitesse <- data.frame(vitesse = 60)\n",
    "distance_predite <- predict(modele, newdata = nouvelle_vitesse)\n"
   ]
  },
  {
   "cell_type": "code",
   "execution_count": null,
   "metadata": {
    "vscode": {
     "languageId": "r"
    }
   },
   "outputs": [],
   "source": [
    "# EX 14\n",
    "xnew <- 3600\n",
    "xnew <- as.data.frame(xnew)\n"
   ]
  }
 ],
 "metadata": {
  "kernelspec": {
   "display_name": "R",
   "language": "R",
   "name": "ir"
  },
  "language_info": {
   "codemirror_mode": "r",
   "file_extension": ".r",
   "mimetype": "text/x-r-source",
   "name": "R",
   "pygments_lexer": "r",
   "version": "4.4.1"
  }
 },
 "nbformat": 4,
 "nbformat_minor": 2
}
