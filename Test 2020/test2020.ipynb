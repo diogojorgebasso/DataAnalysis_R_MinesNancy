{
 "cells": [
  {
   "cell_type": "code",
   "execution_count": 44,
   "metadata": {
    "vscode": {
     "languageId": "r"
    }
   },
   "outputs": [
    {
     "data": {
      "text/html": [
       "<table class=\"dataframe\">\n",
       "<caption>A data.frame: 6 × 5</caption>\n",
       "<thead>\n",
       "\t<tr><th></th><th scope=col>Sepal.Length</th><th scope=col>Sepal.Width</th><th scope=col>Petal.Length</th><th scope=col>Petal.Width</th><th scope=col>Species</th></tr>\n",
       "\t<tr><th></th><th scope=col>&lt;dbl&gt;</th><th scope=col>&lt;dbl&gt;</th><th scope=col>&lt;dbl&gt;</th><th scope=col>&lt;dbl&gt;</th><th scope=col>&lt;fct&gt;</th></tr>\n",
       "</thead>\n",
       "<tbody>\n",
       "\t<tr><th scope=row>1</th><td>5.1</td><td>3.5</td><td>1.4</td><td>0.2</td><td>setosa</td></tr>\n",
       "\t<tr><th scope=row>2</th><td>4.9</td><td>3.0</td><td>1.4</td><td>0.2</td><td>setosa</td></tr>\n",
       "\t<tr><th scope=row>3</th><td>4.7</td><td>3.2</td><td>1.3</td><td>0.2</td><td>setosa</td></tr>\n",
       "\t<tr><th scope=row>4</th><td>4.6</td><td>3.1</td><td>1.5</td><td>0.2</td><td>setosa</td></tr>\n",
       "\t<tr><th scope=row>5</th><td>5.0</td><td>3.6</td><td>1.4</td><td>0.2</td><td>setosa</td></tr>\n",
       "\t<tr><th scope=row>6</th><td>5.4</td><td>3.9</td><td>1.7</td><td>0.4</td><td>setosa</td></tr>\n",
       "</tbody>\n",
       "</table>\n"
      ],
      "text/latex": [
       "A data.frame: 6 × 5\n",
       "\\begin{tabular}{r|lllll}\n",
       "  & Sepal.Length & Sepal.Width & Petal.Length & Petal.Width & Species\\\\\n",
       "  & <dbl> & <dbl> & <dbl> & <dbl> & <fct>\\\\\n",
       "\\hline\n",
       "\t1 & 5.1 & 3.5 & 1.4 & 0.2 & setosa\\\\\n",
       "\t2 & 4.9 & 3.0 & 1.4 & 0.2 & setosa\\\\\n",
       "\t3 & 4.7 & 3.2 & 1.3 & 0.2 & setosa\\\\\n",
       "\t4 & 4.6 & 3.1 & 1.5 & 0.2 & setosa\\\\\n",
       "\t5 & 5.0 & 3.6 & 1.4 & 0.2 & setosa\\\\\n",
       "\t6 & 5.4 & 3.9 & 1.7 & 0.4 & setosa\\\\\n",
       "\\end{tabular}\n"
      ],
      "text/markdown": [
       "\n",
       "A data.frame: 6 × 5\n",
       "\n",
       "| <!--/--> | Sepal.Length &lt;dbl&gt; | Sepal.Width &lt;dbl&gt; | Petal.Length &lt;dbl&gt; | Petal.Width &lt;dbl&gt; | Species &lt;fct&gt; |\n",
       "|---|---|---|---|---|---|\n",
       "| 1 | 5.1 | 3.5 | 1.4 | 0.2 | setosa |\n",
       "| 2 | 4.9 | 3.0 | 1.4 | 0.2 | setosa |\n",
       "| 3 | 4.7 | 3.2 | 1.3 | 0.2 | setosa |\n",
       "| 4 | 4.6 | 3.1 | 1.5 | 0.2 | setosa |\n",
       "| 5 | 5.0 | 3.6 | 1.4 | 0.2 | setosa |\n",
       "| 6 | 5.4 | 3.9 | 1.7 | 0.4 | setosa |\n",
       "\n"
      ],
      "text/plain": [
       "  Sepal.Length Sepal.Width Petal.Length Petal.Width Species\n",
       "1 5.1          3.5         1.4          0.2         setosa \n",
       "2 4.9          3.0         1.4          0.2         setosa \n",
       "3 4.7          3.2         1.3          0.2         setosa \n",
       "4 4.6          3.1         1.5          0.2         setosa \n",
       "5 5.0          3.6         1.4          0.2         setosa \n",
       "6 5.4          3.9         1.7          0.4         setosa "
      ]
     },
     "metadata": {},
     "output_type": "display_data"
    }
   ],
   "source": [
    "data(iris)\n",
    "head(iris)"
   ]
  },
  {
   "cell_type": "code",
   "execution_count": 45,
   "metadata": {
    "vscode": {
     "languageId": "r"
    }
   },
   "outputs": [
    {
     "data": {
      "text/plain": [
       "  Sepal.Length    Sepal.Width     Petal.Length    Petal.Width   \n",
       " Min.   :4.300   Min.   :2.000   Min.   :1.000   Min.   :0.100  \n",
       " 1st Qu.:5.100   1st Qu.:2.800   1st Qu.:1.600   1st Qu.:0.300  \n",
       " Median :5.800   Median :3.000   Median :4.350   Median :1.300  \n",
       " Mean   :5.843   Mean   :3.057   Mean   :3.758   Mean   :1.199  \n",
       " 3rd Qu.:6.400   3rd Qu.:3.300   3rd Qu.:5.100   3rd Qu.:1.800  \n",
       " Max.   :7.900   Max.   :4.400   Max.   :6.900   Max.   :2.500  \n",
       "       Species  \n",
       " setosa    :50  \n",
       " versicolor:50  \n",
       " virginica :50  \n",
       "                \n",
       "                \n",
       "                "
      ]
     },
     "metadata": {},
     "output_type": "display_data"
    }
   ],
   "source": [
    "summary(iris)"
   ]
  },
  {
   "cell_type": "markdown",
   "metadata": {},
   "source": [
    "Corelação de Person"
   ]
  },
  {
   "cell_type": "code",
   "execution_count": 46,
   "metadata": {
    "vscode": {
     "languageId": "r"
    }
   },
   "outputs": [
    {
     "data": {
      "text/plain": [
       "\n",
       "\tPearson's product-moment correlation\n",
       "\n",
       "data:  iris$Sepal.Length and iris$Sepal.Width\n",
       "t = -1.4403, df = 148, p-value = 0.1519\n",
       "alternative hypothesis: true correlation is not equal to 0\n",
       "95 percent confidence interval:\n",
       " -0.27269325  0.04351158\n",
       "sample estimates:\n",
       "       cor \n",
       "-0.1175698 \n"
      ]
     },
     "metadata": {},
     "output_type": "display_data"
    }
   ],
   "source": [
    "cor_test_sepal <- cor.test(iris$Sepal.Length, iris$Sepal.Width)\n",
    "cor_test_sepal"
   ]
  },
  {
   "cell_type": "markdown",
   "metadata": {},
   "source": [
    "O valor de p-value (0.1519) é maior que 0.05, o que significa que não há evidência suficiente para rejeitar a hipótese nula (H0). A hipótese nula nesse caso afirma que não há correlação entre Sepal.Length e Sepal.Width."
   ]
  },
  {
   "cell_type": "code",
   "execution_count": 47,
   "metadata": {
    "vscode": {
     "languageId": "r"
    }
   },
   "outputs": [
    {
     "data": {
      "text/plain": [
       "\n",
       "\tPearson's product-moment correlation\n",
       "\n",
       "data:  iris$Petal.Length and iris$Petal.Width\n",
       "t = 43.387, df = 148, p-value < 2.2e-16\n",
       "alternative hypothesis: true correlation is not equal to 0\n",
       "95 percent confidence interval:\n",
       " 0.9490525 0.9729853\n",
       "sample estimates:\n",
       "      cor \n",
       "0.9628654 \n"
      ]
     },
     "metadata": {},
     "output_type": "display_data"
    }
   ],
   "source": [
    "cor_test_sepal <- cor.test(iris$Petal.Length, iris$Petal.Width)\n",
    "cor_test_sepal"
   ]
  },
  {
   "cell_type": "markdown",
   "metadata": {},
   "source": [
    "Há uma correlação positiva muito forte entre o comprimento e a largura das pétalas, o que faz sentido do ponto de vista biológico, já que essas dimensões provavelmente crescem juntas em muitas espécies de flores, incluindo as do dataset iris."
   ]
  },
  {
   "cell_type": "markdown",
   "metadata": {},
   "source": [
    "# 3. Análise em Componentes Principais (ACP)"
   ]
  },
  {
   "cell_type": "markdown",
   "metadata": {},
   "source": [
    "Agora, realizamos uma ACP (Análise em Componentes Principais) com as variáveis adequadas (normalmente as quantitativas). Vamos eliminar a variável Species para focar nas variáveis numéricas."
   ]
  },
  {
   "cell_type": "code",
   "execution_count": 48,
   "metadata": {
    "vscode": {
     "languageId": "r"
    }
   },
   "outputs": [],
   "source": [
    "library(FactoMineR)"
   ]
  },
  {
   "cell_type": "code",
   "execution_count": 49,
   "metadata": {
    "vscode": {
     "languageId": "r"
    }
   },
   "outputs": [
    {
     "name": "stdout",
     "output_type": "stream",
     "text": [
      "\n",
      "Call:\n",
      "PCA(X = iris_data, scale.unit = TRUE, graph = FALSE) \n",
      "\n",
      "\n",
      "Eigenvalues\n",
      "                       Dim.1   Dim.2   Dim.3   Dim.4\n",
      "Variance               2.918   0.914   0.147   0.021\n",
      "% of var.             72.962  22.851   3.669   0.518\n",
      "Cumulative % of var.  72.962  95.813  99.482 100.000\n",
      "\n",
      "Individuals (the 10 first)\n",
      "                 Dist    Dim.1    ctr   cos2    Dim.2    ctr   cos2    Dim.3\n",
      "1            |  2.319 | -2.265  1.172  0.954 |  0.480  0.168  0.043 | -0.128\n",
      "2            |  2.202 | -2.081  0.989  0.893 | -0.674  0.331  0.094 | -0.235\n",
      "3            |  2.389 | -2.364  1.277  0.979 | -0.342  0.085  0.020 |  0.044\n",
      "4            |  2.378 | -2.299  1.208  0.935 | -0.597  0.260  0.063 |  0.091\n",
      "5            |  2.476 | -2.390  1.305  0.932 |  0.647  0.305  0.068 |  0.016\n",
      "6            |  2.555 | -2.076  0.984  0.660 |  1.489  1.617  0.340 |  0.027\n",
      "7            |  2.468 | -2.444  1.364  0.981 |  0.048  0.002  0.000 |  0.335\n",
      "8            |  2.246 | -2.233  1.139  0.988 |  0.223  0.036  0.010 | -0.089\n",
      "9            |  2.592 | -2.335  1.245  0.812 | -1.115  0.907  0.185 |  0.145\n",
      "10           |  2.249 | -2.184  1.090  0.943 | -0.469  0.160  0.043 | -0.254\n",
      "                ctr   cos2  \n",
      "1             0.074  0.003 |\n",
      "2             0.250  0.011 |\n",
      "3             0.009  0.000 |\n",
      "4             0.038  0.001 |\n",
      "5             0.001  0.000 |\n",
      "6             0.003  0.000 |\n",
      "7             0.511  0.018 |\n",
      "8             0.036  0.002 |\n",
      "9             0.096  0.003 |\n",
      "10            0.293  0.013 |\n",
      "\n",
      "Variables\n",
      "                Dim.1    ctr   cos2    Dim.2    ctr   cos2    Dim.3    ctr\n",
      "Sepal.Length |  0.890 27.151  0.792 |  0.361 14.244  0.130 | -0.276 51.778\n",
      "Sepal.Width  | -0.460  7.255  0.212 |  0.883 85.247  0.779 |  0.094  5.972\n",
      "Petal.Length |  0.992 33.688  0.983 |  0.023  0.060  0.001 |  0.054  2.020\n",
      "Petal.Width  |  0.965 31.906  0.931 |  0.064  0.448  0.004 |  0.243 40.230\n",
      "               cos2  \n",
      "Sepal.Length  0.076 |\n",
      "Sepal.Width   0.009 |\n",
      "Petal.Length  0.003 |\n",
      "Petal.Width   0.059 |\n"
     ]
    }
   ],
   "source": [
    "iris_data <- iris[, 1:4] # Selecionar as variáveis quantitativas\n",
    "pca_result <- PCA(iris_data, scale.unit = TRUE, graph = FALSE)\n",
    "\n",
    "summary(pca_result)"
   ]
  },
  {
   "cell_type": "code",
   "execution_count": 50,
   "metadata": {
    "vscode": {
     "languageId": "r"
    }
   },
   "outputs": [
    {
     "data": {
      "text/html": [
       "<table class=\"dataframe\">\n",
       "<caption>A matrix: 4 × 3 of type dbl</caption>\n",
       "<thead>\n",
       "\t<tr><th></th><th scope=col>eigenvalue</th><th scope=col>percentage of variance</th><th scope=col>cumulative percentage of variance</th></tr>\n",
       "</thead>\n",
       "<tbody>\n",
       "\t<tr><th scope=row>comp 1</th><td>2.91849782</td><td>72.9624454</td><td> 72.96245</td></tr>\n",
       "\t<tr><th scope=row>comp 2</th><td>0.91403047</td><td>22.8507618</td><td> 95.81321</td></tr>\n",
       "\t<tr><th scope=row>comp 3</th><td>0.14675688</td><td> 3.6689219</td><td> 99.48213</td></tr>\n",
       "\t<tr><th scope=row>comp 4</th><td>0.02071484</td><td> 0.5178709</td><td>100.00000</td></tr>\n",
       "</tbody>\n",
       "</table>\n"
      ],
      "text/latex": [
       "A matrix: 4 × 3 of type dbl\n",
       "\\begin{tabular}{r|lll}\n",
       "  & eigenvalue & percentage of variance & cumulative percentage of variance\\\\\n",
       "\\hline\n",
       "\tcomp 1 & 2.91849782 & 72.9624454 &  72.96245\\\\\n",
       "\tcomp 2 & 0.91403047 & 22.8507618 &  95.81321\\\\\n",
       "\tcomp 3 & 0.14675688 &  3.6689219 &  99.48213\\\\\n",
       "\tcomp 4 & 0.02071484 &  0.5178709 & 100.00000\\\\\n",
       "\\end{tabular}\n"
      ],
      "text/markdown": [
       "\n",
       "A matrix: 4 × 3 of type dbl\n",
       "\n",
       "| <!--/--> | eigenvalue | percentage of variance | cumulative percentage of variance |\n",
       "|---|---|---|---|\n",
       "| comp 1 | 2.91849782 | 72.9624454 |  72.96245 |\n",
       "| comp 2 | 0.91403047 | 22.8507618 |  95.81321 |\n",
       "| comp 3 | 0.14675688 |  3.6689219 |  99.48213 |\n",
       "| comp 4 | 0.02071484 |  0.5178709 | 100.00000 |\n",
       "\n"
      ],
      "text/plain": [
       "       eigenvalue percentage of variance cumulative percentage of variance\n",
       "comp 1 2.91849782 72.9624454              72.96245                        \n",
       "comp 2 0.91403047 22.8507618              95.81321                        \n",
       "comp 3 0.14675688  3.6689219              99.48213                        \n",
       "comp 4 0.02071484  0.5178709             100.00000                        "
      ]
     },
     "metadata": {},
     "output_type": "display_data"
    }
   ],
   "source": [
    "pca_result$eig"
   ]
  },
  {
   "cell_type": "markdown",
   "metadata": {},
   "source": [
    "Examine o resumo das variáveis numéricas: Use a função summary em R para ver o alcance (mínimo e máximo) de cada variável. Se os valores das variáveis têm ordens de grandeza muito diferentes, a ACP normada é recomendada."
   ]
  },
  {
   "cell_type": "code",
   "execution_count": 51,
   "metadata": {
    "vscode": {
     "languageId": "r"
    }
   },
   "outputs": [
    {
     "data": {
      "text/plain": [
       "  Sepal.Length    Sepal.Width     Petal.Length    Petal.Width   \n",
       " Min.   :4.300   Min.   :2.000   Min.   :1.000   Min.   :0.100  \n",
       " 1st Qu.:5.100   1st Qu.:2.800   1st Qu.:1.600   1st Qu.:0.300  \n",
       " Median :5.800   Median :3.000   Median :4.350   Median :1.300  \n",
       " Mean   :5.843   Mean   :3.057   Mean   :3.758   Mean   :1.199  \n",
       " 3rd Qu.:6.400   3rd Qu.:3.300   3rd Qu.:5.100   3rd Qu.:1.800  \n",
       " Max.   :7.900   Max.   :4.400   Max.   :6.900   Max.   :2.500  "
      ]
     },
     "metadata": {},
     "output_type": "display_data"
    }
   ],
   "source": [
    "summary(iris[, 1:4])"
   ]
  },
  {
   "cell_type": "markdown",
   "metadata": {},
   "source": [
    "Por fim, para uma ACP normada em R, caso os valores sejam bastante diferentes, você pode definir scale.unit = TRUE:"
   ]
  },
  {
   "cell_type": "code",
   "execution_count": 52,
   "metadata": {
    "vscode": {
     "languageId": "r"
    }
   },
   "outputs": [],
   "source": [
    "iris_acp <- PCA(iris[, 1:4], scale.unit = TRUE)"
   ]
  },
  {
   "cell_type": "markdown",
   "metadata": {},
   "source": [
    "Para decidir quantos eixos manter com base no Critério de Kaiser, usamos os autovalores. De acordo com esse critério, você deve manter apenas os componentes **com autovalores maiores que 1**, pois eles capturam uma quantidade significativa de variância."
   ]
  },
  {
   "cell_type": "code",
   "execution_count": 53,
   "metadata": {
    "vscode": {
     "languageId": "r"
    }
   },
   "outputs": [
    {
     "data": {
      "text/html": [
       "<table class=\"dataframe\">\n",
       "<caption>A matrix: 4 × 3 of type dbl</caption>\n",
       "<thead>\n",
       "\t<tr><th></th><th scope=col>eigenvalue</th><th scope=col>percentage of variance</th><th scope=col>cumulative percentage of variance</th></tr>\n",
       "</thead>\n",
       "<tbody>\n",
       "\t<tr><th scope=row>comp 1</th><td>2.91849782</td><td>72.9624454</td><td> 72.96245</td></tr>\n",
       "\t<tr><th scope=row>comp 2</th><td>0.91403047</td><td>22.8507618</td><td> 95.81321</td></tr>\n",
       "\t<tr><th scope=row>comp 3</th><td>0.14675688</td><td> 3.6689219</td><td> 99.48213</td></tr>\n",
       "\t<tr><th scope=row>comp 4</th><td>0.02071484</td><td> 0.5178709</td><td>100.00000</td></tr>\n",
       "</tbody>\n",
       "</table>\n"
      ],
      "text/latex": [
       "A matrix: 4 × 3 of type dbl\n",
       "\\begin{tabular}{r|lll}\n",
       "  & eigenvalue & percentage of variance & cumulative percentage of variance\\\\\n",
       "\\hline\n",
       "\tcomp 1 & 2.91849782 & 72.9624454 &  72.96245\\\\\n",
       "\tcomp 2 & 0.91403047 & 22.8507618 &  95.81321\\\\\n",
       "\tcomp 3 & 0.14675688 &  3.6689219 &  99.48213\\\\\n",
       "\tcomp 4 & 0.02071484 &  0.5178709 & 100.00000\\\\\n",
       "\\end{tabular}\n"
      ],
      "text/markdown": [
       "\n",
       "A matrix: 4 × 3 of type dbl\n",
       "\n",
       "| <!--/--> | eigenvalue | percentage of variance | cumulative percentage of variance |\n",
       "|---|---|---|---|\n",
       "| comp 1 | 2.91849782 | 72.9624454 |  72.96245 |\n",
       "| comp 2 | 0.91403047 | 22.8507618 |  95.81321 |\n",
       "| comp 3 | 0.14675688 |  3.6689219 |  99.48213 |\n",
       "| comp 4 | 0.02071484 |  0.5178709 | 100.00000 |\n",
       "\n"
      ],
      "text/plain": [
       "       eigenvalue percentage of variance cumulative percentage of variance\n",
       "comp 1 2.91849782 72.9624454              72.96245                        \n",
       "comp 2 0.91403047 22.8507618              95.81321                        \n",
       "comp 3 0.14675688  3.6689219              99.48213                        \n",
       "comp 4 0.02071484  0.5178709             100.00000                        "
      ]
     },
     "metadata": {},
     "output_type": "display_data"
    }
   ],
   "source": [
    "iris_acp$eig"
   ]
  },
  {
   "cell_type": "markdown",
   "metadata": {},
   "source": [
    "Apenas o Componente 1 tem autovalor maior que 1. Portanto, o Critério de Kaiser sugere manter apenas o primeiro componente."
   ]
  },
  {
   "cell_type": "markdown",
   "metadata": {},
   "source": [
    "Variáveis que mais contribuem para os eixos 1 e 2:"
   ]
  },
  {
   "cell_type": "code",
   "execution_count": 54,
   "metadata": {
    "vscode": {
     "languageId": "r"
    }
   },
   "outputs": [
    {
     "data": {
      "image/png": "[encoded data removed]",
      "text/plain": [
       "plot without title"
      ]
     },
     "metadata": {
      "image/png": {
       "height": 420,
       "width": 420
      }
     },
     "output_type": "display_data"
    }
   ],
   "source": [
    "library(factoextra)\n",
    "fviz_pca_var(iris_acp, col.var = \"contrib\")"
   ]
  },
  {
   "cell_type": "code",
   "execution_count": 55,
   "metadata": {
    "vscode": {
     "languageId": "r"
    }
   },
   "outputs": [
    {
     "data": {
      "text/html": [
       "<table class=\"dataframe\">\n",
       "<caption>A matrix: 4 × 4 of type dbl</caption>\n",
       "<thead>\n",
       "\t<tr><th></th><th scope=col>Dim.1</th><th scope=col>Dim.2</th><th scope=col>Dim.3</th><th scope=col>Dim.4</th></tr>\n",
       "</thead>\n",
       "<tbody>\n",
       "\t<tr><th scope=row>Sepal.Length</th><td>27.150969</td><td>14.24440565</td><td>51.777574</td><td> 6.827052</td></tr>\n",
       "\t<tr><th scope=row>Sepal.Width</th><td> 7.254804</td><td>85.24748749</td><td> 5.972245</td><td> 1.525463</td></tr>\n",
       "\t<tr><th scope=row>Petal.Length</th><td>33.687936</td><td> 0.05998389</td><td> 2.019990</td><td>64.232089</td></tr>\n",
       "\t<tr><th scope=row>Petal.Width</th><td>31.906291</td><td> 0.44812296</td><td>40.230191</td><td>27.415396</td></tr>\n",
       "</tbody>\n",
       "</table>\n"
      ],
      "text/latex": [
       "A matrix: 4 × 4 of type dbl\n",
       "\\begin{tabular}{r|llll}\n",
       "  & Dim.1 & Dim.2 & Dim.3 & Dim.4\\\\\n",
       "\\hline\n",
       "\tSepal.Length & 27.150969 & 14.24440565 & 51.777574 &  6.827052\\\\\n",
       "\tSepal.Width &  7.254804 & 85.24748749 &  5.972245 &  1.525463\\\\\n",
       "\tPetal.Length & 33.687936 &  0.05998389 &  2.019990 & 64.232089\\\\\n",
       "\tPetal.Width & 31.906291 &  0.44812296 & 40.230191 & 27.415396\\\\\n",
       "\\end{tabular}\n"
      ],
      "text/markdown": [
       "\n",
       "A matrix: 4 × 4 of type dbl\n",
       "\n",
       "| <!--/--> | Dim.1 | Dim.2 | Dim.3 | Dim.4 |\n",
       "|---|---|---|---|---|\n",
       "| Sepal.Length | 27.150969 | 14.24440565 | 51.777574 |  6.827052 |\n",
       "| Sepal.Width |  7.254804 | 85.24748749 |  5.972245 |  1.525463 |\n",
       "| Petal.Length | 33.687936 |  0.05998389 |  2.019990 | 64.232089 |\n",
       "| Petal.Width | 31.906291 |  0.44812296 | 40.230191 | 27.415396 |\n",
       "\n"
      ],
      "text/plain": [
       "             Dim.1     Dim.2       Dim.3     Dim.4    \n",
       "Sepal.Length 27.150969 14.24440565 51.777574  6.827052\n",
       "Sepal.Width   7.254804 85.24748749  5.972245  1.525463\n",
       "Petal.Length 33.687936  0.05998389  2.019990 64.232089\n",
       "Petal.Width  31.906291  0.44812296 40.230191 27.415396"
      ]
     },
     "metadata": {},
     "output_type": "display_data"
    }
   ],
   "source": [
    "iris_acp$var$contrib"
   ]
  },
  {
   "cell_type": "markdown",
   "metadata": {},
   "source": [
    "Variáveis bem representadas no plano (1, 2):"
   ]
  },
  {
   "cell_type": "code",
   "execution_count": 56,
   "metadata": {
    "vscode": {
     "languageId": "r"
    }
   },
   "outputs": [
    {
     "data": {
      "text/html": [
       "<table class=\"dataframe\">\n",
       "<caption>A matrix: 4 × 4 of type dbl</caption>\n",
       "<thead>\n",
       "\t<tr><th></th><th scope=col>Dim.1</th><th scope=col>Dim.2</th><th scope=col>Dim.3</th><th scope=col>Dim.4</th></tr>\n",
       "</thead>\n",
       "<tbody>\n",
       "\t<tr><th scope=row>Sepal.Length</th><td>0.7924004</td><td>0.130198208</td><td>0.075987149</td><td>0.0014142127</td></tr>\n",
       "\t<tr><th scope=row>Sepal.Width</th><td>0.2117313</td><td>0.779188012</td><td>0.008764681</td><td>0.0003159971</td></tr>\n",
       "\t<tr><th scope=row>Petal.Length</th><td>0.9831817</td><td>0.000548271</td><td>0.002964475</td><td>0.0133055723</td></tr>\n",
       "\t<tr><th scope=row>Petal.Width</th><td>0.9311844</td><td>0.004095980</td><td>0.059040571</td><td>0.0056790544</td></tr>\n",
       "</tbody>\n",
       "</table>\n"
      ],
      "text/latex": [
       "A matrix: 4 × 4 of type dbl\n",
       "\\begin{tabular}{r|llll}\n",
       "  & Dim.1 & Dim.2 & Dim.3 & Dim.4\\\\\n",
       "\\hline\n",
       "\tSepal.Length & 0.7924004 & 0.130198208 & 0.075987149 & 0.0014142127\\\\\n",
       "\tSepal.Width & 0.2117313 & 0.779188012 & 0.008764681 & 0.0003159971\\\\\n",
       "\tPetal.Length & 0.9831817 & 0.000548271 & 0.002964475 & 0.0133055723\\\\\n",
       "\tPetal.Width & 0.9311844 & 0.004095980 & 0.059040571 & 0.0056790544\\\\\n",
       "\\end{tabular}\n"
      ],
      "text/markdown": [
       "\n",
       "A matrix: 4 × 4 of type dbl\n",
       "\n",
       "| <!--/--> | Dim.1 | Dim.2 | Dim.3 | Dim.4 |\n",
       "|---|---|---|---|---|\n",
       "| Sepal.Length | 0.7924004 | 0.130198208 | 0.075987149 | 0.0014142127 |\n",
       "| Sepal.Width | 0.2117313 | 0.779188012 | 0.008764681 | 0.0003159971 |\n",
       "| Petal.Length | 0.9831817 | 0.000548271 | 0.002964475 | 0.0133055723 |\n",
       "| Petal.Width | 0.9311844 | 0.004095980 | 0.059040571 | 0.0056790544 |\n",
       "\n"
      ],
      "text/plain": [
       "             Dim.1     Dim.2       Dim.3       Dim.4       \n",
       "Sepal.Length 0.7924004 0.130198208 0.075987149 0.0014142127\n",
       "Sepal.Width  0.2117313 0.779188012 0.008764681 0.0003159971\n",
       "Petal.Length 0.9831817 0.000548271 0.002964475 0.0133055723\n",
       "Petal.Width  0.9311844 0.004095980 0.059040571 0.0056790544"
      ]
     },
     "metadata": {},
     "output_type": "display_data"
    }
   ],
   "source": [
    "# Cos2 das variáveis no plano (1, 2)\n",
    "iris_acp$var$cos2"
   ]
  },
  {
   "cell_type": "markdown",
   "metadata": {},
   "source": [
    "Exemplo de uma iris melhor representada no plano (1,3)"
   ]
  },
  {
   "cell_type": "code",
   "execution_count": 57,
   "metadata": {
    "vscode": {
     "languageId": "r"
    }
   },
   "outputs": [
    {
     "data": {
      "text/html": [
       "<dl>\n",
       "\t<dt>$Iris_Index</dt>\n",
       "\t\t<dd><strong>7:</strong> 7</dd>\n",
       "\t<dt>$Cos2_Plane_12</dt>\n",
       "\t\t<dd><strong>7:</strong> 0.981296664987298</dd>\n",
       "\t<dt>$Cos2_Plane_13</dt>\n",
       "\t\t<dd><strong>7:</strong> 0.999405132274158</dd>\n",
       "</dl>\n"
      ],
      "text/latex": [
       "\\begin{description}\n",
       "\\item[\\$Iris\\_Index] \\textbf{7:} 7\n",
       "\\item[\\$Cos2\\_Plane\\_12] \\textbf{7:} 0.981296664987298\n",
       "\\item[\\$Cos2\\_Plane\\_13] \\textbf{7:} 0.999405132274158\n",
       "\\end{description}\n"
      ],
      "text/markdown": [
       "$Iris_Index\n",
       ":   **7:** 7\n",
       "$Cos2_Plane_12\n",
       ":   **7:** 0.981296664987298\n",
       "$Cos2_Plane_13\n",
       ":   **7:** 0.999405132274158\n",
       "\n",
       "\n"
      ],
      "text/plain": [
       "$Iris_Index\n",
       "7 \n",
       "7 \n",
       "\n",
       "$Cos2_Plane_12\n",
       "        7 \n",
       "0.9812967 \n",
       "\n",
       "$Cos2_Plane_13\n",
       "        7 \n",
       "0.9994051 \n"
      ]
     },
     "metadata": {},
     "output_type": "display_data"
    }
   ],
   "source": [
    "cos2_plane_12 <- iris_acp$ind$cos2[, 1] + iris_acp$ind$cos2[, 2]\n",
    "cos2_plane_13 <- iris_acp$ind$cos2[, 1] + iris_acp$ind$cos2[, 3]\n",
    "\n",
    "better_in_13 <- which(cos2_plane_13 > cos2_plane_12)\n",
    "\n",
    "example <- better_in_13[1]\n",
    "list(\n",
    "  Iris_Index = example,\n",
    "  Cos2_Plane_12 = cos2_plane_12[example],\n",
    "  Cos2_Plane_13 = cos2_plane_13[example]\n",
    ")"
   ]
  },
  {
   "cell_type": "markdown",
   "metadata": {},
   "source": [
    "# Part 2\n",
    "Distância entre Iris 6 e 3:"
   ]
  },
  {
   "cell_type": "code",
   "execution_count": 58,
   "metadata": {
    "vscode": {
     "languageId": "r"
    }
   },
   "outputs": [
    {
     "data": {
      "text/html": [
       "1.08627804912002"
      ],
      "text/latex": [
       "1.08627804912002"
      ],
      "text/markdown": [
       "1.08627804912002"
      ],
      "text/plain": [
       "[1] 1.086278"
      ]
     },
     "metadata": {},
     "output_type": "display_data"
    }
   ],
   "source": [
    "dist_iris <- dist(iris[, 1:4])\n",
    "as.matrix(dist_iris)[6, 3]"
   ]
  },
  {
   "cell_type": "markdown",
   "metadata": {},
   "source": [
    "Código para achar a classificação a partir da matriz de distâncias:"
   ]
  },
  {
   "cell_type": "code",
   "execution_count": 59,
   "metadata": {
    "vscode": {
     "languageId": "r"
    }
   },
   "outputs": [
    {
     "data": {
      "image/png": "[encoded data removed]",
      "text/plain": [
       "Plot with title \"Cluster Dendrogram\""
      ]
     },
     "metadata": {
      "image/png": {
       "height": 420,
       "width": 420
      }
     },
     "output_type": "display_data"
    }
   ],
   "source": [
    "hc_iris <- hclust(dist_iris, method = \"ward.D2\")\n",
    "plot(hc_iris)"
   ]
  },
  {
   "cell_type": "code",
   "execution_count": 60,
   "metadata": {
    "vscode": {
     "languageId": "r"
    }
   },
   "outputs": [
    {
     "data": {
      "image/png": "[encoded data removed]",
      "text/plain": [
       "plot without title"
      ]
     },
     "metadata": {
      "image/png": {
       "height": 420,
       "width": 420
      }
     },
     "output_type": "display_data"
    }
   ],
   "source": [
    "fviz_nbclust(iris[, -5], hcut, method = \"wss\") + \n",
    "  labs(title = \"Número ótimo de classes (Método do Cotovelo)\")"
   ]
  },
  {
   "cell_type": "code",
   "execution_count": 61,
   "metadata": {
    "vscode": {
     "languageId": "r"
    }
   },
   "outputs": [
    {
     "data": {
      "text/html": [
       "<dl>\n",
       "\t<dt>$Variancia_Explicada</dt>\n",
       "\t\t<dd><style>\n",
       ".dl-inline {width: auto; margin:0; padding: 0}\n",
       ".dl-inline>dt, .dl-inline>dd {float: none; width: auto; display: inline-block}\n",
       ".dl-inline>dt::after {content: \":\\0020\"; padding-right: .5ex}\n",
       ".dl-inline>dt:not(:first-of-type) {padding-left: .5ex}\n",
       "</style><dl class=dl-inline><dt>comp 1</dt><dd>72.9624454132999</dd><dt>comp 2</dt><dd>22.8507617867018</dd><dt>comp 3</dt><dd>3.66892188928288</dd><dt>comp 4</dt><dd>0.51787091071548</dd></dl>\n",
       "</dd>\n",
       "\t<dt>$Variancia_Acumulada</dt>\n",
       "\t\t<dd><style>\n",
       ".dl-inline {width: auto; margin:0; padding: 0}\n",
       ".dl-inline>dt, .dl-inline>dd {float: none; width: auto; display: inline-block}\n",
       ".dl-inline>dt::after {content: \":\\0020\"; padding-right: .5ex}\n",
       ".dl-inline>dt:not(:first-of-type) {padding-left: .5ex}\n",
       "</style><dl class=dl-inline><dt>comp 1</dt><dd>72.9624454132999</dd><dt>comp 2</dt><dd>95.8132072000017</dd><dt>comp 3</dt><dd>99.4821290892845</dd><dt>comp 4</dt><dd>100</dd></dl>\n",
       "</dd>\n",
       "\t<dt>$Eixos_Selecionados</dt>\n",
       "\t\t<dd><strong>comp 1:</strong> 1</dd>\n",
       "</dl>\n"
      ],
      "text/latex": [
       "\\begin{description}\n",
       "\\item[\\$Variancia\\_Explicada] \\begin{description*}\n",
       "\\item[comp 1] 72.9624454132999\n",
       "\\item[comp 2] 22.8507617867018\n",
       "\\item[comp 3] 3.66892188928288\n",
       "\\item[comp 4] 0.51787091071548\n",
       "\\end{description*}\n",
       "\n",
       "\\item[\\$Variancia\\_Acumulada] \\begin{description*}\n",
       "\\item[comp 1] 72.9624454132999\n",
       "\\item[comp 2] 95.8132072000017\n",
       "\\item[comp 3] 99.4821290892845\n",
       "\\item[comp 4] 100\n",
       "\\end{description*}\n",
       "\n",
       "\\item[\\$Eixos\\_Selecionados] \\textbf{comp 1:} 1\n",
       "\\end{description}\n"
      ],
      "text/markdown": [
       "$Variancia_Explicada\n",
       ":   comp 1\n",
       ":   72.9624454132999comp 2\n",
       ":   22.8507617867018comp 3\n",
       ":   3.66892188928288comp 4\n",
       ":   0.51787091071548\n",
       "\n",
       "\n",
       "$Variancia_Acumulada\n",
       ":   comp 1\n",
       ":   72.9624454132999comp 2\n",
       ":   95.8132072000017comp 3\n",
       ":   99.4821290892845comp 4\n",
       ":   100\n",
       "\n",
       "\n",
       "$Eixos_Selecionados\n",
       ":   **comp 1:** 1\n",
       "\n",
       "\n"
      ],
      "text/plain": [
       "$Variancia_Explicada\n",
       "    comp 1     comp 2     comp 3     comp 4 \n",
       "72.9624454 22.8507618  3.6689219  0.5178709 \n",
       "\n",
       "$Variancia_Acumulada\n",
       "   comp 1    comp 2    comp 3    comp 4 \n",
       " 72.96245  95.81321  99.48213 100.00000 \n",
       "\n",
       "$Eixos_Selecionados\n",
       "comp 1 \n",
       "     1 \n"
      ]
     },
     "metadata": {},
     "output_type": "display_data"
    }
   ],
   "source": [
    "# bom senso\n",
    "\n",
    "eig <- iris_acp$eig\n",
    "\n",
    "# Variância acumulada\n",
    "eig_cumsum <- cumsum(eig[, 2])  # Soma acumulada da variância explicada\n",
    "\n",
    "# Identificar o número mínimo de eixos que capturam pelo menos 70% da variância\n",
    "num_axes <- which(eig_cumsum >= 70)[1]\n",
    "\n",
    "# Exibir o resultado\n",
    "list(\n",
    "  Variancia_Explicada = eig[, 2],\n",
    "  Variancia_Acumulada = eig_cumsum,\n",
    "  Eixos_Selecionados = num_axes\n",
    ")\n"
   ]
  },
  {
   "cell_type": "markdown",
   "metadata": {},
   "source": [
    "A regra do bom-senso não faz sentido aqui, dado que mais de 70% da variância acumulada está em somente um eixo. "
   ]
  },
  {
   "cell_type": "markdown",
   "metadata": {},
   "source": [
    "## Procure Grandes Saltos nos Ramos: \n",
    "Observe onde há grandes distâncias verticais (grandes saltos) entre as junções dos grupos. Estes saltos indicam um nível importante de separação entre grupos.\n",
    "\n",
    "> Cada linha horizontal representa uma união de grupos, e a altura mostra o \"custo\" ou \"distância\" para unir esses grupos.\n",
    "Um grande salto significa que unir mais grupos além daquele ponto traria uma grande perda de similaridade, então geralmente cortamos o dendrograma antes desse grande salto.\n"
   ]
  },
  {
   "cell_type": "markdown",
   "metadata": {},
   "source": [
    "---\n",
    "Como disse o enunciado, trabalharemos com 3 classes."
   ]
  },
  {
   "cell_type": "code",
   "execution_count": 1,
   "metadata": {
    "vscode": {
     "languageId": "r"
    }
   },
   "outputs": [
    {
     "ename": "ERROR",
     "evalue": "Error: objeto 'hc_iris' não encontrado\n",
     "output_type": "error",
     "traceback": [
      "Error: objeto 'hc_iris' não encontrado\nTraceback:\n",
      "1. nrow(tree$merge)",
      "2. .handleSimpleError(function (cnd) \n . {\n .     watcher$capture_plot_and_output()\n .     cnd <- sanitize_call(cnd)\n .     watcher$push(cnd)\n .     switch(on_error, continue = invokeRestart(\"eval_continue\"), \n .         stop = invokeRestart(\"eval_stop\"), error = invokeRestart(\"eval_error\", \n .             cnd))\n . }, \"objeto 'hc_iris' não encontrado\", base::quote(eval(expr, \n .     envir)))"
     ]
    }
   ],
   "source": [
    "classes <- cutree(hc_iris, k = 3) # Dividir os dados em k = 3 classes\n",
    "table(classes)  # Ver quantas observações estão em cada classe"
   ]
  },
  {
   "cell_type": "markdown",
   "metadata": {},
   "source": [
    "Identificar todos os indivíduos com base na classe!"
   ]
  },
  {
   "cell_type": "code",
   "execution_count": 63,
   "metadata": {
    "vscode": {
     "languageId": "r"
    }
   },
   "outputs": [
    {
     "name": "stdout",
     "output_type": "stream",
     "text": [
      "    Individuo Classe\n",
      "1           1      1\n",
      "2           2      1\n",
      "3           3      1\n",
      "4           4      1\n",
      "5           5      1\n",
      "6           6      1\n",
      "7           7      1\n",
      "8           8      1\n",
      "9           9      1\n",
      "10         10      1\n",
      "11         11      1\n",
      "12         12      1\n",
      "13         13      1\n",
      "14         14      1\n",
      "15         15      1\n",
      "16         16      1\n",
      "17         17      1\n",
      "18         18      1\n",
      "19         19      1\n",
      "20         20      1\n",
      "21         21      1\n",
      "22         22      1\n",
      "23         23      1\n",
      "24         24      1\n",
      "25         25      1\n",
      "26         26      1\n",
      "27         27      1\n",
      "28         28      1\n",
      "29         29      1\n",
      "30         30      1\n",
      "31         31      1\n",
      "32         32      1\n",
      "33         33      1\n",
      "34         34      1\n",
      "35         35      1\n",
      "36         36      1\n",
      "37         37      1\n",
      "38         38      1\n",
      "39         39      1\n",
      "40         40      1\n",
      "41         41      1\n",
      "42         42      1\n",
      "43         43      1\n",
      "44         44      1\n",
      "45         45      1\n",
      "46         46      1\n",
      "47         47      1\n",
      "48         48      1\n",
      "49         49      1\n",
      "50         50      1\n",
      "51         51      2\n",
      "52         52      2\n",
      "53         53      2\n",
      "54         54      2\n",
      "55         55      2\n",
      "56         56      2\n",
      "57         57      2\n",
      "58         58      2\n",
      "59         59      2\n",
      "60         60      2\n",
      "61         61      2\n",
      "62         62      2\n",
      "63         63      2\n",
      "64         64      2\n",
      "65         65      2\n",
      "66         66      2\n",
      "67         67      2\n",
      "68         68      2\n",
      "69         69      2\n",
      "70         70      2\n",
      "71         71      2\n",
      "72         72      2\n",
      "73         73      2\n",
      "74         74      2\n",
      "75         75      2\n",
      "76         76      2\n",
      "77         77      2\n",
      "78         78      3\n",
      "79         79      2\n",
      "80         80      2\n",
      "81         81      2\n",
      "82         82      2\n",
      "83         83      2\n",
      "84         84      2\n",
      "85         85      2\n",
      "86         86      2\n",
      "87         87      2\n",
      "88         88      2\n",
      "89         89      2\n",
      "90         90      2\n",
      "91         91      2\n",
      "92         92      2\n",
      "93         93      2\n",
      "94         94      2\n",
      "95         95      2\n",
      "96         96      2\n",
      "97         97      2\n",
      "98         98      2\n",
      "99         99      2\n",
      "100       100      2\n",
      "101       101      3\n",
      "102       102      2\n",
      "103       103      3\n",
      "104       104      3\n",
      "105       105      3\n",
      "106       106      3\n",
      "107       107      2\n",
      "108       108      3\n",
      "109       109      3\n",
      "110       110      3\n",
      "111       111      3\n",
      "112       112      3\n",
      "113       113      3\n",
      "114       114      2\n",
      "115       115      2\n",
      "116       116      3\n",
      "117       117      3\n",
      "118       118      3\n",
      "119       119      3\n",
      "120       120      2\n",
      "121       121      3\n",
      "122       122      2\n",
      "123       123      3\n",
      "124       124      2\n",
      "125       125      3\n",
      "126       126      3\n",
      "127       127      2\n",
      "128       128      2\n",
      "129       129      3\n",
      "130       130      3\n",
      "131       131      3\n",
      "132       132      3\n",
      "133       133      3\n",
      "134       134      2\n",
      "135       135      2\n",
      "136       136      3\n",
      "137       137      3\n",
      "138       138      3\n",
      "139       139      2\n",
      "140       140      3\n",
      "141       141      3\n",
      "142       142      3\n",
      "143       143      2\n",
      "144       144      3\n",
      "145       145      3\n",
      "146       146      3\n",
      "147       147      2\n",
      "148       148      3\n",
      "149       149      3\n",
      "150       150      2\n"
     ]
    }
   ],
   "source": [
    "print(data.frame(Individuo = rownames(iris), Classe = classes))"
   ]
  },
  {
   "cell_type": "markdown",
   "metadata": {},
   "source": [
    "Classe do Iris 70:"
   ]
  },
  {
   "cell_type": "code",
   "execution_count": 64,
   "metadata": {
    "vscode": {
     "languageId": "r"
    }
   },
   "outputs": [
    {
     "data": {
      "text/html": [
       "2"
      ],
      "text/latex": [
       "2"
      ],
      "text/markdown": [
       "2"
      ],
      "text/plain": [
       "[1] 2"
      ]
     },
     "metadata": {},
     "output_type": "display_data"
    }
   ],
   "source": [
    "classes[70]"
   ]
  },
  {
   "cell_type": "markdown",
   "metadata": {},
   "source": [
    "Média de Sepal.Length por Classe"
   ]
  },
  {
   "cell_type": "code",
   "execution_count": 65,
   "metadata": {
    "vscode": {
     "languageId": "r"
    }
   },
   "outputs": [
    {
     "data": {
      "text/html": [
       "<table class=\"dataframe\">\n",
       "<caption>A data.frame: 3 × 2</caption>\n",
       "<thead>\n",
       "\t<tr><th scope=col>classes</th><th scope=col>Sepal.Length</th></tr>\n",
       "\t<tr><th scope=col>&lt;int&gt;</th><th scope=col>&lt;dbl&gt;</th></tr>\n",
       "</thead>\n",
       "<tbody>\n",
       "\t<tr><td>1</td><td>5.006000</td></tr>\n",
       "\t<tr><td>2</td><td>5.920312</td></tr>\n",
       "\t<tr><td>3</td><td>6.869444</td></tr>\n",
       "</tbody>\n",
       "</table>\n"
      ],
      "text/latex": [
       "A data.frame: 3 × 2\n",
       "\\begin{tabular}{ll}\n",
       " classes & Sepal.Length\\\\\n",
       " <int> & <dbl>\\\\\n",
       "\\hline\n",
       "\t 1 & 5.006000\\\\\n",
       "\t 2 & 5.920312\\\\\n",
       "\t 3 & 6.869444\\\\\n",
       "\\end{tabular}\n"
      ],
      "text/markdown": [
       "\n",
       "A data.frame: 3 × 2\n",
       "\n",
       "| classes &lt;int&gt; | Sepal.Length &lt;dbl&gt; |\n",
       "|---|---|\n",
       "| 1 | 5.006000 |\n",
       "| 2 | 5.920312 |\n",
       "| 3 | 6.869444 |\n",
       "\n"
      ],
      "text/plain": [
       "  classes Sepal.Length\n",
       "1 1       5.006000    \n",
       "2 2       5.920312    \n",
       "3 3       6.869444    "
      ]
     },
     "metadata": {},
     "output_type": "display_data"
    }
   ],
   "source": [
    "aggregate(Sepal.Length ~ classes, data = iris, mean)"
   ]
  },
  {
   "cell_type": "markdown",
   "metadata": {},
   "source": [
    "Análise Discriminante"
   ]
  },
  {
   "cell_type": "markdown",
   "metadata": {},
   "source": [
    "CAH significa Classificação Ascendente Hierárquica (em inglês, Hierarchical Ascendant Classification - HAC), que é um método de agrupamento hierárquico. Ele organiza os dados em uma hierarquia de grupos ou clusters sem a necessidade de definir um número fixo de grupos antes de iniciar o processo."
   ]
  },
  {
   "cell_type": "code",
   "execution_count": 66,
   "metadata": {
    "vscode": {
     "languageId": "r"
    }
   },
   "outputs": [
    {
     "data": {
      "image/png": "[encoded data removed]",
      "text/plain": [
       "Plot with title \"Cluster Dendrogram\""
      ]
     },
     "metadata": {
      "image/png": {
       "height": 420,
       "width": 420
      }
     },
     "output_type": "display_data"
    }
   ],
   "source": [
    "dist_acp <- dist(iris_acp$ind$coord[, 1:4])\n",
    "hc_acp <- hclust(dist_acp, method = \"ward.D2\")\n",
    "plot(hc_acp)"
   ]
  },
  {
   "cell_type": "markdown",
   "metadata": {},
   "source": [
    "Classificação das Variáveis por Discriminância: Utilize uma análise discriminante linear para verificar a importância das variáveis."
   ]
  },
  {
   "cell_type": "code",
   "execution_count": 67,
   "metadata": {
    "vscode": {
     "languageId": "r"
    }
   },
   "outputs": [
    {
     "data": {
      "text/plain": [
       "Call:\n",
       "lda(Species ~ ., data = iris)\n",
       "\n",
       "Prior probabilities of groups:\n",
       "    setosa versicolor  virginica \n",
       " 0.3333333  0.3333333  0.3333333 \n",
       "\n",
       "Group means:\n",
       "           Sepal.Length Sepal.Width Petal.Length Petal.Width\n",
       "setosa            5.006       3.428        1.462       0.246\n",
       "versicolor        5.936       2.770        4.260       1.326\n",
       "virginica         6.588       2.974        5.552       2.026\n",
       "\n",
       "Coefficients of linear discriminants:\n",
       "                    LD1         LD2\n",
       "Sepal.Length  0.8293776 -0.02410215\n",
       "Sepal.Width   1.5344731 -2.16452123\n",
       "Petal.Length -2.2012117  0.93192121\n",
       "Petal.Width  -2.8104603 -2.83918785\n",
       "\n",
       "Proportion of trace:\n",
       "   LD1    LD2 \n",
       "0.9912 0.0088 "
      ]
     },
     "metadata": {},
     "output_type": "display_data"
    }
   ],
   "source": [
    "library(MASS)\n",
    "lda_model <- lda(Species ~ ., data = iris)\n",
    "lda_model\n"
   ]
  },
  {
   "cell_type": "markdown",
   "metadata": {},
   "source": [
    "#### Conclusão\n",
    "\n",
    "O LD1 captura 99.12% da variância discriminante (o que significa que a maior parte da separação entre as classes está nesse eixo), enquanto o LD2 captura apenas 0.88%.\n",
    "\n",
    "As variáveis mais importantes para a separação entre as classes são aquelas com os maiores valores absolutos nos coeficientes de LD1 (já que ele captura quase toda a discriminação):\n",
    "\n",
    "Petal.Width: -2.8104603 (mais discriminante)\n",
    "Petal.Length: -2.2012117\n",
    "Sepal.Width: 1.5344731\n",
    "Sepal.Length: 0.8293776 (menos discriminante)\n",
    "\n",
    "A ordem de importância (da mais discriminante para a menos discriminante) é:\n",
    "\n",
    "1. Petal.Width\n",
    "2. Petal.Length\n",
    "3. Sepal.Width\n",
    "4. Sepal.Length"
   ]
  },
  {
   "cell_type": "markdown",
   "metadata": {},
   "source": [
    "Teste de Wilks:"
   ]
  },
  {
   "cell_type": "code",
   "execution_count": 68,
   "metadata": {
    "vscode": {
     "languageId": "r"
    }
   },
   "outputs": [
    {
     "data": {
      "text/plain": [
       "           Df    Wilks approx F num Df den Df    Pr(>F)    \n",
       "Species     2 0.023439   199.15      8    288 < 2.2e-16 ***\n",
       "Residuals 147                                              \n",
       "---\n",
       "Signif. codes:  0 '***' 0.001 '**' 0.01 '*' 0.05 '.' 0.1 ' ' 1"
      ]
     },
     "metadata": {},
     "output_type": "display_data"
    }
   ],
   "source": [
    "iris_manova <- manova(cbind(Sepal.Length, Sepal.Width, Petal.Length, Petal.Width) ~ Species, data = iris)\n",
    "summary(iris_manova, test = \"Wilks\")"
   ]
  },
  {
   "cell_type": "code",
   "execution_count": 69,
   "metadata": {
    "vscode": {
     "languageId": "r"
    }
   },
   "outputs": [
    {
     "data": {
      "text/html": [
       "<style>\n",
       ".list-inline {list-style: none; margin:0; padding: 0}\n",
       ".list-inline>li {display: inline-block}\n",
       ".list-inline>li:not(:last-child)::after {content: \"\\00b7\"; padding: 0 .5ex}\n",
       "</style>\n",
       "<ol class=list-inline><li>0.991212604965367</li><li>0.00878739503463279</li></ol>\n"
      ],
      "text/latex": [
       "\\begin{enumerate*}\n",
       "\\item 0.991212604965367\n",
       "\\item 0.00878739503463279\n",
       "\\end{enumerate*}\n"
      ],
      "text/markdown": [
       "1. 0.991212604965367\n",
       "2. 0.00878739503463279\n",
       "\n",
       "\n"
      ],
      "text/plain": [
       "[1] 0.991212605 0.008787395"
      ]
     },
     "metadata": {},
     "output_type": "display_data"
    }
   ],
   "source": [
    "lda_model$svd^2 / sum(lda_model$svd^2)"
   ]
  },
  {
   "cell_type": "markdown",
   "metadata": {},
   "source": [
    "Taxa de Erro do Modelo Discriminante:"
   ]
  },
  {
   "cell_type": "code",
   "execution_count": 70,
   "metadata": {
    "vscode": {
     "languageId": "r"
    }
   },
   "outputs": [
    {
     "data": {
      "text/plain": [
       "            \n",
       "             setosa versicolor virginica\n",
       "  setosa         50          0         0\n",
       "  versicolor      0         48         1\n",
       "  virginica       0          2        49"
      ]
     },
     "metadata": {},
     "output_type": "display_data"
    },
    {
     "data": {
      "text/html": [
       "0.02"
      ],
      "text/latex": [
       "0.02"
      ],
      "text/markdown": [
       "0.02"
      ],
      "text/plain": [
       "[1] 0.02"
      ]
     },
     "metadata": {},
     "output_type": "display_data"
    }
   ],
   "source": [
    "predictions <- predict(lda_model)\n",
    "table(predictions$class, iris$Species)\n",
    "mean(predictions$class != iris$Species)"
   ]
  },
  {
   "cell_type": "markdown",
   "metadata": {},
   "source": [
    "Para realizar uma análise discriminante no conjunto de dados iris, usamos o modelo de análise discriminante linear (LDA). O número de eixos discriminantes é definido por \n",
    "min(𝑛_classes − 1, 𝑛_variáveis), que, no caso do iris, será min(3−1, 4) = 2"
   ]
  },
  {
   "cell_type": "code",
   "execution_count": 78,
   "metadata": {
    "vscode": {
     "languageId": "r"
    }
   },
   "outputs": [
    {
     "name": "stdout",
     "output_type": "stream",
     "text": [
      "2 % de erro."
     ]
    }
   ],
   "source": [
    "# Fazer predições nos dados originais\n",
    "pred <- predict(lda_model, iris)\n",
    "\n",
    "confusion_matrix <- table(Predito = pred$class, Real = iris$Species)\n",
    "\n",
    "# Calcular a taxa de erro\n",
    "total <- sum(confusion_matrix)  # Total de observações\n",
    "erros <- total - sum(diag(confusion_matrix))  # Total de erros (fora da diagonal principal)\n",
    "taxa_erro <- erros / total  # Taxa de erro em porcentagem\n",
    "\n",
    "cat(taxa_erro* 100, \"% de erro.\")"
   ]
  },
  {
   "cell_type": "code",
   "execution_count": 71,
   "metadata": {
    "vscode": {
     "languageId": "r"
    }
   },
   "outputs": [
    {
     "data": {
      "text/html": [
       "<dl>\n",
       "\t<dt>$class</dt>\n",
       "\t\t<dd>virginica\n",
       "<details>\n",
       "\t<summary style=display:list-item;cursor:pointer>\n",
       "\t\t<strong>Levels</strong>:\n",
       "\t</summary>\n",
       "\t<style>\n",
       "\t.list-inline {list-style: none; margin:0; padding: 0}\n",
       "\t.list-inline>li {display: inline-block}\n",
       "\t.list-inline>li:not(:last-child)::after {content: \"\\00b7\"; padding: 0 .5ex}\n",
       "\t</style>\n",
       "\t<ol class=list-inline><li>'setosa'</li><li>'versicolor'</li><li>'virginica'</li></ol>\n",
       "</details></dd>\n",
       "\t<dt>$posterior</dt>\n",
       "\t\t<dd><table class=\"dataframe\">\n",
       "<caption>A matrix: 1 × 3 of type dbl</caption>\n",
       "<thead>\n",
       "\t<tr><th></th><th scope=col>setosa</th><th scope=col>versicolor</th><th scope=col>virginica</th></tr>\n",
       "</thead>\n",
       "<tbody>\n",
       "\t<tr><th scope=row>1</th><td>1.289824e-32</td><td>0.02988645</td><td>0.9701136</td></tr>\n",
       "</tbody>\n",
       "</table>\n",
       "</dd>\n",
       "\t<dt>$x</dt>\n",
       "\t\t<dd><table class=\"dataframe\">\n",
       "<caption>A matrix: 1 × 2 of type dbl</caption>\n",
       "<thead>\n",
       "\t<tr><th></th><th scope=col>LD1</th><th scope=col>LD2</th></tr>\n",
       "</thead>\n",
       "<tbody>\n",
       "\t<tr><th scope=row>1</th><td>-4.571524</td><td>-0.2484825</td></tr>\n",
       "</tbody>\n",
       "</table>\n",
       "</dd>\n",
       "</dl>\n"
      ],
      "text/latex": [
       "\\begin{description}\n",
       "\\item[\\$class] virginica\n",
       "\\emph{Levels}: \\begin{enumerate*}\n",
       "\\item 'setosa'\n",
       "\\item 'versicolor'\n",
       "\\item 'virginica'\n",
       "\\end{enumerate*}\n",
       "\n",
       "\\item[\\$posterior] A matrix: 1 × 3 of type dbl\n",
       "\\begin{tabular}{r|lll}\n",
       "  & setosa & versicolor & virginica\\\\\n",
       "\\hline\n",
       "\t1 & 1.289824e-32 & 0.02988645 & 0.9701136\\\\\n",
       "\\end{tabular}\n",
       "\n",
       "\\item[\\$x] A matrix: 1 × 2 of type dbl\n",
       "\\begin{tabular}{r|ll}\n",
       "  & LD1 & LD2\\\\\n",
       "\\hline\n",
       "\t1 & -4.571524 & -0.2484825\\\\\n",
       "\\end{tabular}\n",
       "\n",
       "\\end{description}\n"
      ],
      "text/markdown": [
       "$class\n",
       ":   virginica\n",
       "**Levels**: 1. 'setosa'\n",
       "2. 'versicolor'\n",
       "3. 'virginica'\n",
       "\n",
       "\n",
       "\n",
       "$posterior\n",
       ":   \n",
       "A matrix: 1 × 3 of type dbl\n",
       "\n",
       "| <!--/--> | setosa | versicolor | virginica |\n",
       "|---|---|---|---|\n",
       "| 1 | 1.289824e-32 | 0.02988645 | 0.9701136 |\n",
       "\n",
       "\n",
       "$x\n",
       ":   \n",
       "A matrix: 1 × 2 of type dbl\n",
       "\n",
       "| <!--/--> | LD1 | LD2 |\n",
       "|---|---|---|\n",
       "| 1 | -4.571524 | -0.2484825 |\n",
       "\n",
       "\n",
       "\n",
       "\n"
      ],
      "text/plain": [
       "$class\n",
       "[1] virginica\n",
       "Levels: setosa versicolor virginica\n",
       "\n",
       "$posterior\n",
       "        setosa versicolor virginica\n",
       "1 1.289824e-32 0.02988645 0.9701136\n",
       "\n",
       "$x\n",
       "        LD1        LD2\n",
       "1 -4.571524 -0.2484825\n"
      ]
     },
     "metadata": {},
     "output_type": "display_data"
    }
   ],
   "source": [
    "new_iris <- data.frame(Sepal.Length = 6.3, Sepal.Width = 3, Petal.Length = 5.2, Petal.Width = 1.8)\n",
    "predict(lda_model, newdata = new_iris)"
   ]
  }
 ],
 "metadata": {
  "kernelspec": {
   "display_name": "R",
   "language": "R",
   "name": "ir"
  },
  "language_info": {
   "codemirror_mode": "r",
   "file_extension": ".r",
   "mimetype": "text/x-r-source",
   "name": "R",
   "pygments_lexer": "r",
   "version": "4.4.1"
  }
 },
 "nbformat": 4,
 "nbformat_minor": 2
}
