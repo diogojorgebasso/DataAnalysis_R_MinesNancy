{
 "cells": [
  {
   "cell_type": "code",
   "execution_count": 38,
   "metadata": {
    "vscode": {
     "languageId": "r"
    }
   },
   "outputs": [],
   "source": [
    "library(arules)"
   ]
  },
  {
   "cell_type": "code",
   "execution_count": 39,
   "metadata": {
    "vscode": {
     "languageId": "r"
    }
   },
   "outputs": [],
   "source": [
    "test_data <- read.csv(\"TestData.csv\", header = TRUE, sep = \",\")"
   ]
  },
  {
   "cell_type": "code",
   "execution_count": 40,
   "metadata": {
    "vscode": {
     "languageId": "r"
    }
   },
   "outputs": [
    {
     "data": {
      "text/plain": [
       "    Milk           Bread           Butter           Beer        \n",
       " Mode :logical   Mode :logical   Mode :logical   Mode :logical  \n",
       " FALSE:2         FALSE:2         FALSE:3         FALSE:4        \n",
       " TRUE :3         TRUE :3         TRUE :2         TRUE :1        \n",
       "   Diaper       \n",
       " Mode :logical  \n",
       " FALSE:4        \n",
       " TRUE :1        "
      ]
     },
     "metadata": {},
     "output_type": "display_data"
    }
   ],
   "source": [
    "summary(test_data)"
   ]
  },
  {
   "cell_type": "code",
   "execution_count": 41,
   "metadata": {
    "vscode": {
     "languageId": "r"
    }
   },
   "outputs": [
    {
     "name": "stdout",
     "output_type": "stream",
     "text": [
      "    items                 transactionID\n",
      "[1] {Milk, Bread}         1            \n",
      "[2] {Butter}              2            \n",
      "[3] {Beer, Diaper}        3            \n",
      "[4] {Milk, Bread, Butter} 4            \n",
      "[5] {Milk, Bread}         5            \n"
     ]
    }
   ],
   "source": [
    "testing <- as(test_data, \"transactions\")\n",
    "\n",
    "inspect(testing)"
   ]
  },
  {
   "cell_type": "code",
   "execution_count": 42,
   "metadata": {
    "vscode": {
     "languageId": "r"
    }
   },
   "outputs": [
    {
     "name": "stdout",
     "output_type": "stream",
     "text": [
      "Apriori\n",
      "\n",
      "Parameter specification:\n",
      " confidence minval smax arem  aval originalSupport maxtime support minlen\n",
      "         NA    0.1    1 none FALSE            TRUE       5     0.1      1\n",
      " maxlen            target  ext\n",
      "     10 frequent itemsets TRUE\n",
      "\n",
      "Algorithmic control:\n",
      " filter tree heap memopt load sort verbose\n",
      "    0.1 TRUE TRUE  FALSE TRUE    2    TRUE\n",
      "\n",
      "Absolute minimum support count: 0 \n",
      "\n",
      "set item appearances ...[0 item(s)] done [0.00s].\n",
      "set transactions ...[5 item(s), 5 transaction(s)] done [0.00s].\n",
      "sorting and recoding items ... [5 item(s)] done [0.00s].\n",
      "creating transaction tree ... done [0.00s].\n",
      "checking subsets of size 1 2 3 done [0.00s].\n",
      "sorting transactions ... done [0.00s].\n",
      "writing ... [10 set(s)] done [0.00s].\n",
      "creating S4 object  ... done [0.00s].\n",
      "Apriori\n",
      "\n",
      "Parameter specification:\n",
      " confidence minval smax arem  aval originalSupport maxtime support minlen\n",
      "         NA    0.1    1 none FALSE            TRUE       5     0.1      1\n",
      " maxlen                   target  ext\n",
      "     10 closed frequent itemsets TRUE\n",
      "\n",
      "Algorithmic control:\n",
      " filter tree heap memopt load sort verbose\n",
      "    0.1 TRUE TRUE  FALSE TRUE    2    TRUE\n",
      "\n",
      "Absolute minimum support count: 0 \n",
      "\n",
      "set item appearances ...[0 item(s)] done [0.00s].\n",
      "set transactions ...[5 item(s), 5 transaction(s)] done [0.00s].\n",
      "sorting and recoding items ... [5 item(s)] done [0.00s].\n",
      "creating transaction tree ... done [0.00s].\n",
      "checking subsets of size 1 2 3 done [0.00s].\n",
      "filtering closed item sets ... done [0.00s].\n",
      "sorting transactions ... done [0.00s].\n",
      "writing ... [4 set(s)] done [0.00s].\n",
      "creating S4 object  ... done [0.00s].\n"
     ]
    }
   ],
   "source": [
    "I <- apriori(testing, parameter = list(target = \"frequent itemsets\", support = 0.1))\n",
    "\n",
    "IC <- apriori(testing, parameter = list(target = \"closed frequent itemsets\", support = 0.1))"
   ]
  },
  {
   "cell_type": "code",
   "execution_count": 43,
   "metadata": {
    "vscode": {
     "languageId": "r"
    }
   },
   "outputs": [
    {
     "name": "stdout",
     "output_type": "stream",
     "text": [
      "    lhs                rhs      support confidence lift      itemset\n",
      "[1] {Diaper}        => {Beer}   0.2     1.0000000  5.0000000 2      \n",
      "[2] {Beer}          => {Diaper} 0.2     1.0000000  5.0000000 2      \n",
      "[3] {Bread}         => {Milk}   0.6     1.0000000  1.6666667 3      \n",
      "[4] {Milk}          => {Bread}  0.6     1.0000000  1.6666667 3      \n",
      "[5] {Bread, Butter} => {Milk}   0.2     1.0000000  1.6666667 4      \n",
      "[6] {Milk, Butter}  => {Bread}  0.2     1.0000000  1.6666667 4      \n",
      "[7] {Milk, Bread}   => {Butter} 0.2     0.3333333  0.8333333 4      \n"
     ]
    }
   ],
   "source": [
    "CR <- ruleInduction(IC, testing, confidence = 0.2,control = list(verbose = TRUE))\n",
    "\n",
    "inspect(CR)"
   ]
  },
  {
   "cell_type": "code",
   "execution_count": 44,
   "metadata": {
    "vscode": {
     "languageId": "r"
    }
   },
   "outputs": [
    {
     "data": {
      "text/html": [
       "<table class=\"dataframe\">\n",
       "<caption>A data.frame: 7 × 6</caption>\n",
       "<thead>\n",
       "\t<tr><th></th><th scope=col>rules</th><th scope=col>support</th><th scope=col>confidence</th><th scope=col>lift</th><th scope=col>itemset</th><th scope=col>conviction</th></tr>\n",
       "\t<tr><th></th><th scope=col>&lt;chr&gt;</th><th scope=col>&lt;dbl&gt;</th><th scope=col>&lt;dbl&gt;</th><th scope=col>&lt;dbl&gt;</th><th scope=col>&lt;int&gt;</th><th scope=col>&lt;dbl&gt;</th></tr>\n",
       "</thead>\n",
       "<tbody>\n",
       "\t<tr><th scope=row>1</th><td><span style=white-space:pre-wrap>{Diaper} =&gt; {Beer}      </span></td><td>0.2</td><td>1.0000000</td><td>5.0000000</td><td>2</td><td>Inf</td></tr>\n",
       "\t<tr><th scope=row>2</th><td><span style=white-space:pre-wrap>{Beer} =&gt; {Diaper}      </span></td><td>0.2</td><td>1.0000000</td><td>5.0000000</td><td>2</td><td>Inf</td></tr>\n",
       "\t<tr><th scope=row>3</th><td><span style=white-space:pre-wrap>{Bread} =&gt; {Milk}       </span></td><td>0.6</td><td>1.0000000</td><td>1.6666667</td><td>3</td><td>Inf</td></tr>\n",
       "\t<tr><th scope=row>4</th><td><span style=white-space:pre-wrap>{Milk} =&gt; {Bread}       </span></td><td>0.6</td><td>1.0000000</td><td>1.6666667</td><td>3</td><td>Inf</td></tr>\n",
       "\t<tr><th scope=row>5</th><td>{Bread,Butter} =&gt; {Milk}</td><td>0.2</td><td>1.0000000</td><td>1.6666667</td><td>4</td><td>Inf</td></tr>\n",
       "\t<tr><th scope=row>6</th><td>{Milk,Butter} =&gt; {Bread}</td><td>0.2</td><td>1.0000000</td><td>1.6666667</td><td>4</td><td>Inf</td></tr>\n",
       "\t<tr><th scope=row>7</th><td>{Milk,Bread} =&gt; {Butter}</td><td>0.2</td><td>0.3333333</td><td>0.8333333</td><td>4</td><td>0.9</td></tr>\n",
       "</tbody>\n",
       "</table>\n"
      ],
      "text/latex": [
       "A data.frame: 7 × 6\n",
       "\\begin{tabular}{r|llllll}\n",
       "  & rules & support & confidence & lift & itemset & conviction\\\\\n",
       "  & <chr> & <dbl> & <dbl> & <dbl> & <int> & <dbl>\\\\\n",
       "\\hline\n",
       "\t1 & \\{Diaper\\} => \\{Beer\\}       & 0.2 & 1.0000000 & 5.0000000 & 2 & Inf\\\\\n",
       "\t2 & \\{Beer\\} => \\{Diaper\\}       & 0.2 & 1.0000000 & 5.0000000 & 2 & Inf\\\\\n",
       "\t3 & \\{Bread\\} => \\{Milk\\}        & 0.6 & 1.0000000 & 1.6666667 & 3 & Inf\\\\\n",
       "\t4 & \\{Milk\\} => \\{Bread\\}        & 0.6 & 1.0000000 & 1.6666667 & 3 & Inf\\\\\n",
       "\t5 & \\{Bread,Butter\\} => \\{Milk\\} & 0.2 & 1.0000000 & 1.6666667 & 4 & Inf\\\\\n",
       "\t6 & \\{Milk,Butter\\} => \\{Bread\\} & 0.2 & 1.0000000 & 1.6666667 & 4 & Inf\\\\\n",
       "\t7 & \\{Milk,Bread\\} => \\{Butter\\} & 0.2 & 0.3333333 & 0.8333333 & 4 & 0.9\\\\\n",
       "\\end{tabular}\n"
      ],
      "text/markdown": [
       "\n",
       "A data.frame: 7 × 6\n",
       "\n",
       "| <!--/--> | rules &lt;chr&gt; | support &lt;dbl&gt; | confidence &lt;dbl&gt; | lift &lt;dbl&gt; | itemset &lt;int&gt; | conviction &lt;dbl&gt; |\n",
       "|---|---|---|---|---|---|---|\n",
       "| 1 | {Diaper} =&gt; {Beer}       | 0.2 | 1.0000000 | 5.0000000 | 2 | Inf |\n",
       "| 2 | {Beer} =&gt; {Diaper}       | 0.2 | 1.0000000 | 5.0000000 | 2 | Inf |\n",
       "| 3 | {Bread} =&gt; {Milk}        | 0.6 | 1.0000000 | 1.6666667 | 3 | Inf |\n",
       "| 4 | {Milk} =&gt; {Bread}        | 0.6 | 1.0000000 | 1.6666667 | 3 | Inf |\n",
       "| 5 | {Bread,Butter} =&gt; {Milk} | 0.2 | 1.0000000 | 1.6666667 | 4 | Inf |\n",
       "| 6 | {Milk,Butter} =&gt; {Bread} | 0.2 | 1.0000000 | 1.6666667 | 4 | Inf |\n",
       "| 7 | {Milk,Bread} =&gt; {Butter} | 0.2 | 0.3333333 | 0.8333333 | 4 | 0.9 |\n",
       "\n"
      ],
      "text/plain": [
       "  rules                    support confidence lift      itemset conviction\n",
       "1 {Diaper} => {Beer}       0.2     1.0000000  5.0000000 2       Inf       \n",
       "2 {Beer} => {Diaper}       0.2     1.0000000  5.0000000 2       Inf       \n",
       "3 {Bread} => {Milk}        0.6     1.0000000  1.6666667 3       Inf       \n",
       "4 {Milk} => {Bread}        0.6     1.0000000  1.6666667 3       Inf       \n",
       "5 {Bread,Butter} => {Milk} 0.2     1.0000000  1.6666667 4       Inf       \n",
       "6 {Milk,Butter} => {Bread} 0.2     1.0000000  1.6666667 4       Inf       \n",
       "7 {Milk,Bread} => {Butter} 0.2     0.3333333  0.8333333 4       0.9       "
      ]
     },
     "metadata": {},
     "output_type": "display_data"
    }
   ],
   "source": [
    "cbind(as(CR, \"data.frame\"), conviction=interestMeasure(CR, \"conviction\", trans))"
   ]
  },
  {
   "cell_type": "code",
   "execution_count": 45,
   "metadata": {
    "vscode": {
     "languageId": "r"
    }
   },
   "outputs": [
    {
     "name": "stdout",
     "output_type": "stream",
     "text": [
      "    lhs                rhs      support confidence lift      itemset\n",
      "[1] {Diaper}        => {Beer}   0.2     1.0000000  5.0000000 2      \n",
      "[2] {Beer}          => {Diaper} 0.2     1.0000000  5.0000000 2      \n",
      "[3] {Bread}         => {Milk}   0.6     1.0000000  1.6666667 3      \n",
      "[4] {Milk}          => {Bread}  0.6     1.0000000  1.6666667 3      \n",
      "[5] {Bread, Butter} => {Milk}   0.2     1.0000000  1.6666667 4      \n",
      "[6] {Milk, Butter}  => {Bread}  0.2     1.0000000  1.6666667 4      \n",
      "[7] {Milk, Bread}   => {Butter} 0.2     0.3333333  0.8333333 4      \n"
     ]
    }
   ],
   "source": [
    "orderedR <- sort(CR, by = c(\"lift\", \"confidence\", \"support\"),\n",
    "                 decreasing = c(TRUE, FALSE, TRUE))\n",
    "\n",
    "inspect(orderedR)"
   ]
  },
  {
   "cell_type": "code",
   "execution_count": 46,
   "metadata": {
    "vscode": {
     "languageId": "r"
    }
   },
   "outputs": [
    {
     "name": "stdout",
     "output_type": "stream",
     "text": [
      "    lhs               rhs      support confidence lift      itemset\n",
      "[1] {Milk}         => {Bread}  0.6     1.0000000  1.6666667 3      \n",
      "[2] {Milk, Butter} => {Bread}  0.2     1.0000000  1.6666667 4      \n",
      "[3] {Milk, Bread}  => {Butter} 0.2     0.3333333  0.8333333 4      \n"
     ]
    }
   ],
   "source": [
    "RS = subset(CR, subset = lhs %in% \"Milk\")\n",
    "\n",
    "inspect(RS)"
   ]
  }
 ],
 "metadata": {
  "kernelspec": {
   "display_name": "R",
   "language": "R",
   "name": "ir"
  },
  "language_info": {
   "codemirror_mode": "r",
   "file_extension": ".r",
   "mimetype": "text/x-r-source",
   "name": "R",
   "pygments_lexer": "r",
   "version": "4.4.1"
  }
 },
 "nbformat": 4,
 "nbformat_minor": 2
}
