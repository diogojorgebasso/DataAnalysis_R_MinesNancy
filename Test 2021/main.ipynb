{
 "cells": [
  {
   "cell_type": "code",
   "execution_count": 2,
   "metadata": {
    "vscode": {
     "languageId": "r"
    }
   },
   "outputs": [
    {
     "data": {
      "text/html": [
       "<table class=\"dataframe\">\n",
       "<caption>A data.frame: 6 × 9</caption>\n",
       "<thead>\n",
       "\t<tr><th></th><th scope=col>Gender</th><th scope=col>Runtime</th><th scope=col>Age</th><th scope=col>Weight</th><th scope=col>Oxygen_Consumption</th><th scope=col>Run_Pulse</th><th scope=col>Rest_Pulse</th><th scope=col>Maximum_Pulse</th><th scope=col>Performance</th></tr>\n",
       "\t<tr><th></th><th scope=col>&lt;chr&gt;</th><th scope=col>&lt;dbl&gt;</th><th scope=col>&lt;int&gt;</th><th scope=col>&lt;dbl&gt;</th><th scope=col>&lt;dbl&gt;</th><th scope=col>&lt;int&gt;</th><th scope=col>&lt;int&gt;</th><th scope=col>&lt;int&gt;</th><th scope=col>&lt;int&gt;</th></tr>\n",
       "</thead>\n",
       "<tbody>\n",
       "\t<tr><th scope=row>Donna</th><td>F</td><td>8.17</td><td>42</td><td>68.15</td><td>59.57</td><td>166</td><td>40</td><td>172</td><td>14</td></tr>\n",
       "\t<tr><th scope=row>Gracie</th><td>F</td><td>8.63</td><td>38</td><td>81.87</td><td>60.06</td><td>170</td><td>48</td><td>186</td><td>13</td></tr>\n",
       "\t<tr><th scope=row>Luanne</th><td>F</td><td>8.65</td><td>43</td><td>85.84</td><td>54.30</td><td>156</td><td>45</td><td>168</td><td>13</td></tr>\n",
       "\t<tr><th scope=row>Mimi</th><td>F</td><td>8.92</td><td>50</td><td>70.87</td><td>54.63</td><td>146</td><td>48</td><td>155</td><td>11</td></tr>\n",
       "\t<tr><th scope=row>Chris</th><td>M</td><td>8.95</td><td>49</td><td>81.42</td><td>49.16</td><td>180</td><td>44</td><td>185</td><td>11</td></tr>\n",
       "\t<tr><th scope=row>Allen</th><td>M</td><td>9.22</td><td>38</td><td>89.02</td><td>49.87</td><td>178</td><td>55</td><td>180</td><td>12</td></tr>\n",
       "</tbody>\n",
       "</table>\n"
      ],
      "text/latex": [
       "A data.frame: 6 × 9\n",
       "\\begin{tabular}{r|lllllllll}\n",
       "  & Gender & Runtime & Age & Weight & Oxygen\\_Consumption & Run\\_Pulse & Rest\\_Pulse & Maximum\\_Pulse & Performance\\\\\n",
       "  & <chr> & <dbl> & <int> & <dbl> & <dbl> & <int> & <int> & <int> & <int>\\\\\n",
       "\\hline\n",
       "\tDonna & F & 8.17 & 42 & 68.15 & 59.57 & 166 & 40 & 172 & 14\\\\\n",
       "\tGracie & F & 8.63 & 38 & 81.87 & 60.06 & 170 & 48 & 186 & 13\\\\\n",
       "\tLuanne & F & 8.65 & 43 & 85.84 & 54.30 & 156 & 45 & 168 & 13\\\\\n",
       "\tMimi & F & 8.92 & 50 & 70.87 & 54.63 & 146 & 48 & 155 & 11\\\\\n",
       "\tChris & M & 8.95 & 49 & 81.42 & 49.16 & 180 & 44 & 185 & 11\\\\\n",
       "\tAllen & M & 9.22 & 38 & 89.02 & 49.87 & 178 & 55 & 180 & 12\\\\\n",
       "\\end{tabular}\n"
      ],
      "text/markdown": [
       "\n",
       "A data.frame: 6 × 9\n",
       "\n",
       "| <!--/--> | Gender &lt;chr&gt; | Runtime &lt;dbl&gt; | Age &lt;int&gt; | Weight &lt;dbl&gt; | Oxygen_Consumption &lt;dbl&gt; | Run_Pulse &lt;int&gt; | Rest_Pulse &lt;int&gt; | Maximum_Pulse &lt;int&gt; | Performance &lt;int&gt; |\n",
       "|---|---|---|---|---|---|---|---|---|---|\n",
       "| Donna | F | 8.17 | 42 | 68.15 | 59.57 | 166 | 40 | 172 | 14 |\n",
       "| Gracie | F | 8.63 | 38 | 81.87 | 60.06 | 170 | 48 | 186 | 13 |\n",
       "| Luanne | F | 8.65 | 43 | 85.84 | 54.30 | 156 | 45 | 168 | 13 |\n",
       "| Mimi | F | 8.92 | 50 | 70.87 | 54.63 | 146 | 48 | 155 | 11 |\n",
       "| Chris | M | 8.95 | 49 | 81.42 | 49.16 | 180 | 44 | 185 | 11 |\n",
       "| Allen | M | 9.22 | 38 | 89.02 | 49.87 | 178 | 55 | 180 | 12 |\n",
       "\n"
      ],
      "text/plain": [
       "       Gender Runtime Age Weight Oxygen_Consumption Run_Pulse Rest_Pulse\n",
       "Donna  F      8.17    42  68.15  59.57              166       40        \n",
       "Gracie F      8.63    38  81.87  60.06              170       48        \n",
       "Luanne F      8.65    43  85.84  54.30              156       45        \n",
       "Mimi   F      8.92    50  70.87  54.63              146       48        \n",
       "Chris  M      8.95    49  81.42  49.16              180       44        \n",
       "Allen  M      9.22    38  89.02  49.87              178       55        \n",
       "       Maximum_Pulse Performance\n",
       "Donna  172           14         \n",
       "Gracie 186           13         \n",
       "Luanne 168           13         \n",
       "Mimi   155           11         \n",
       "Chris  185           11         \n",
       "Allen  180           12         "
      ]
     },
     "metadata": {},
     "output_type": "display_data"
    }
   ],
   "source": [
    "fitness <- read.table(\"fitness.txt\", header = TRUE, row.names = 1)\n",
    "\n",
    "head(fitness)"
   ]
  },
  {
   "cell_type": "markdown",
   "metadata": {},
   "source": [
    "### Questão 1"
   ]
  },
  {
   "cell_type": "code",
   "execution_count": null,
   "metadata": {
    "vscode": {
     "languageId": "r"
    }
   },
   "outputs": [
    {
     "data": {
      "text/plain": [
       "    Gender             Runtime           Age            Weight     \n",
       " Length:31          Min.   : 8.17   Min.   :38.00   Min.   :59.08  \n",
       " Class :character   1st Qu.: 9.78   1st Qu.:44.00   1st Qu.:73.20  \n",
       " Mode  :character   Median :10.47   Median :48.00   Median :77.45  \n",
       "                    Mean   :10.59   Mean   :47.68   Mean   :77.44  \n",
       "                    3rd Qu.:11.27   3rd Qu.:51.50   3rd Qu.:82.33  \n",
       "                    Max.   :14.03   Max.   :57.00   Max.   :91.63  \n",
       " Oxygen_Consumption   Run_Pulse       Rest_Pulse    Maximum_Pulse  \n",
       " Min.   :37.39      Min.   :146.0   Min.   :40.00   Min.   :155.0  \n",
       " 1st Qu.:44.97      1st Qu.:163.0   1st Qu.:48.00   1st Qu.:168.0  \n",
       " Median :46.77      Median :170.0   Median :52.00   Median :172.0  \n",
       " Mean   :47.38      Mean   :169.6   Mean   :53.45   Mean   :173.8  \n",
       " 3rd Qu.:50.13      3rd Qu.:176.0   3rd Qu.:58.50   3rd Qu.:180.0  \n",
       " Max.   :60.06      Max.   :186.0   Max.   :70.00   Max.   :192.0  \n",
       "  Performance  \n",
       " Min.   : 0.0  \n",
       " 1st Qu.: 6.5  \n",
       " Median : 8.0  \n",
       " Mean   : 8.0  \n",
       " 3rd Qu.: 9.5  \n",
       " Max.   :14.0  "
      ]
     },
     "metadata": {},
     "output_type": "display_data"
    }
   ],
   "source": [
    "summary(fitness$Oxygen_Consumption)"
   ]
  },
  {
   "cell_type": "markdown",
   "metadata": {},
   "source": [
    "### Questão 2"
   ]
  },
  {
   "cell_type": "code",
   "execution_count": 6,
   "metadata": {
    "vscode": {
     "languageId": "r"
    }
   },
   "outputs": [
    {
     "name": "stdout",
     "output_type": "stream",
     "text": [
      "\n",
      "\tPearson's product-moment correlation\n",
      "\n",
      "data:  fitness$Runtime and fitness$Age\n",
      "t = 1.072, df = 29, p-value = 0.2926\n",
      "alternative hypothesis: true correlation is not equal to 0\n",
      "95 percent confidence interval:\n",
      " -0.1709368  0.5140105\n",
      "sample estimates:\n",
      "      cor \n",
      "0.1952282 \n",
      "\n"
     ]
    }
   ],
   "source": [
    "teste_correlacao <- cor.test(fitness$Runtime, fitness$Age, method = \"pearson\")\n",
    "\n",
    "# Exibir os resultados\n",
    "print(teste_correlacao)"
   ]
  },
  {
   "cell_type": "markdown",
   "metadata": {},
   "source": [
    "Como p>5% (0.05), não rejeitamos a hipótese nula. Não há evidência estatisticamente significativa de correlação entre Runtime e Age."
   ]
  },
  {
   "cell_type": "markdown",
   "metadata": {},
   "source": [
    "Os indivíduos correspondem às observações da tabela de dados, ou seja, cada linha do conjunto de dados fitness representa um indivíduo. Neste caso, os indivíduos são as 31 pessoas identificadas pelos nomes na coluna Name (ex.: Donna, Gracie, Luanne, etc.)."
   ]
  },
  {
   "cell_type": "markdown",
   "metadata": {},
   "source": [
    "Os indivíduos estão inicialmente definidos em um espaço multidimensional, onde cada variável quantitativa do conjunto de dados corresponde a uma dimensão. As variáveis usadas para definir o espaço são:\n",
    "\n",
    "Runtime\n",
    "Age\n",
    "Weight\n",
    "Oxygen_Consumption\n",
    "Run_Pulse\n",
    "Rest_Pulse\n",
    "Maximum_Pulse\n",
    "Performance\n"
   ]
  },
  {
   "cell_type": "markdown",
   "metadata": {},
   "source": [
    "### Questão 7"
   ]
  },
  {
   "cell_type": "code",
   "execution_count": 8,
   "metadata": {
    "vscode": {
     "languageId": "r"
    }
   },
   "outputs": [
    {
     "data": {
      "text/plain": [
       "Importance of components:\n",
       "                          PC1    PC2    PC3     PC4     PC5     PC6     PC7\n",
       "Standard deviation     1.8886 1.4362 0.9740 0.87892 0.66294 0.39823 0.20409\n",
       "Proportion of Variance 0.4459 0.2579 0.1186 0.09656 0.05494 0.01982 0.00521\n",
       "Cumulative Proportion  0.4459 0.7037 0.8223 0.91885 0.97378 0.99361 0.99881\n",
       "                           PC8\n",
       "Standard deviation     0.09745\n",
       "Proportion of Variance 0.00119\n",
       "Cumulative Proportion  1.00000"
      ]
     },
     "metadata": {},
     "output_type": "display_data"
    },
    {
     "data": {
      "text/html": [
       "<style>\n",
       ".list-inline {list-style: none; margin:0; padding: 0}\n",
       ".list-inline>li {display: inline-block}\n",
       ".list-inline>li:not(:last-child)::after {content: \"\\00b7\"; padding: 0 .5ex}\n",
       "</style>\n",
       "<ol class=list-inline><li>0.445862877954777</li><li>0.703712153578758</li><li>0.82228534812724</li><li>0.918846805780791</li><li>0.973783460613988</li><li>0.99360652456907</li><li>0.99881300832021</li><li>1</li></ol>\n"
      ],
      "text/latex": [
       "\\begin{enumerate*}\n",
       "\\item 0.445862877954777\n",
       "\\item 0.703712153578758\n",
       "\\item 0.82228534812724\n",
       "\\item 0.918846805780791\n",
       "\\item 0.973783460613988\n",
       "\\item 0.99360652456907\n",
       "\\item 0.99881300832021\n",
       "\\item 1\n",
       "\\end{enumerate*}\n"
      ],
      "text/markdown": [
       "1. 0.445862877954777\n",
       "2. 0.703712153578758\n",
       "3. 0.82228534812724\n",
       "4. 0.918846805780791\n",
       "5. 0.973783460613988\n",
       "6. 0.99360652456907\n",
       "7. 0.99881300832021\n",
       "8. 1\n",
       "\n",
       "\n"
      ],
      "text/plain": [
       "[1] 0.4458629 0.7037122 0.8222853 0.9188468 0.9737835 0.9936065 0.9988130\n",
       "[8] 1.0000000"
      ]
     },
     "metadata": {},
     "output_type": "display_data"
    }
   ],
   "source": [
    "# Selecionar apenas as variáveis quantitativas\n",
    "dados_numericos <- fitness[, c(\"Runtime\", \"Age\", \"Weight\", \"Oxygen_Consumption\", \n",
    "                               \"Run_Pulse\", \"Rest_Pulse\", \"Maximum_Pulse\", \"Performance\")]\n",
    "                               \n",
    "acp <- prcomp(dados_numericos, scale. = TRUE)\n",
    "\n",
    "summary(acp)\n",
    "\n",
    "# Calcular variâncias explicadas\n",
    "variancias <- acp$sdev^2\n",
    "variancia_explicada <- variancias / sum(variancias)\n",
    "\n",
    "# Mostrar variância explicada acumulada\n",
    "cumsum(variancia_explicada)"
   ]
  },
  {
   "cell_type": "code",
   "execution_count": 9,
   "metadata": {
    "vscode": {
     "languageId": "r"
    }
   },
   "outputs": [
    {
     "data": {
      "text/html": [
       "<style>\n",
       ".list-inline {list-style: none; margin:0; padding: 0}\n",
       ".list-inline>li {display: inline-block}\n",
       ".list-inline>li:not(:last-child)::after {content: \"\\00b7\"; padding: 0 .5ex}\n",
       "</style>\n",
       "<ol class=list-inline><li>1</li><li>2</li></ol>\n"
      ],
      "text/latex": [
       "\\begin{enumerate*}\n",
       "\\item 1\n",
       "\\item 2\n",
       "\\end{enumerate*}\n"
      ],
      "text/markdown": [
       "1. 1\n",
       "2. 2\n",
       "\n",
       "\n"
      ],
      "text/plain": [
       "[1] 1 2"
      ]
     },
     "metadata": {},
     "output_type": "display_data"
    }
   ],
   "source": [
    "# Identificar componentes com autovalores > 1\n",
    "autovalores_maiores_que_um <- which(variancias > 1)\n",
    "autovalores_maiores_que_um"
   ]
  },
  {
   "cell_type": "code",
   "execution_count": 11,
   "metadata": {
    "vscode": {
     "languageId": "r"
    }
   },
   "outputs": [
    {
     "data": {
      "image/png": "[encoded data removed]",
      "text/plain": [
       "Plot with title \"Scree Plot (Regra do Cotovelo)\""
      ]
     },
     "metadata": {
      "image/png": {
       "height": 420,
       "width": 420
      }
     },
     "output_type": "display_data"
    }
   ],
   "source": [
    "# Criar o Scree Plot\n",
    "plot(variancias, type = \"b\", xlab = \"Componentes Principais\", \n",
    "     ylab = \"Autovalores\", main = \"Scree Plot (Regra do Cotovelo)\")\n",
    "\n",
    "# A quebra (\"cotovelo\") é identificada visualmente no gráfico\n"
   ]
  },
  {
   "cell_type": "code",
   "execution_count": 13,
   "metadata": {
    "vscode": {
     "languageId": "r"
    }
   },
   "outputs": [
    {
     "name": "stdout",
     "output_type": "stream",
     "text": [
      "Número de componentes para 90% da variância acumulada: 4 \n"
     ]
    }
   ],
   "source": [
    "# Calcular a variância explicada acumulada\n",
    "variancia_explicada <- variancias / sum(variancias)\n",
    "variancia_acumulada <- cumsum(variancia_explicada)\n",
    "\n",
    "# Número de componentes que explicam pelo menos 90% da variância\n",
    "componentes_90 <- which(variancia_acumulada >= 0.9)[1]\n",
    "cat(\"Número de componentes para 90% da variância acumulada:\", componentes_90, \"\\n\")\n"
   ]
  },
  {
   "cell_type": "markdown",
   "metadata": {},
   "source": [
    "Para identificar quais variáveis contribuem mais para a construção do eixo 1 (PC1) e do eixo 2 (PC2), analisamos os loadings (ou \"pesos\") das variáveis em cada componente principal. Esses valores indicam o grau de influência de cada variável na formação de cada componente."
   ]
  },
  {
   "cell_type": "code",
   "execution_count": 15,
   "metadata": {
    "vscode": {
     "languageId": "r"
    }
   },
   "outputs": [
    {
     "name": "stdout",
     "output_type": "stream",
     "text": [
      "                           PC1         PC2         PC3         PC4          PC5\n",
      "Runtime             0.47259109 -0.24610602 -0.08070424 -0.05550279  0.337512524\n",
      "Age                 0.01052551 -0.55950834  0.04894782  0.45421765 -0.644519085\n",
      "Weight              0.13385567  0.22644224 -0.91103134 -0.07742531 -0.292349069\n",
      "Oxygen_Consumption -0.46114666  0.24078154  0.08500512 -0.14970640 -0.006699843\n",
      "Run_Pulse           0.34981409  0.43197234  0.21053737  0.36900341 -0.127554575\n",
      "Rest_Pulse          0.32875463  0.06578237  0.29515196 -0.71808562 -0.532401340\n",
      "Maximum_Pulse       0.30191311  0.50837555  0.14597270  0.32662029 -0.093473367\n",
      "Performance        -0.47367950  0.26030230  0.03373830  0.06089161 -0.276963810\n",
      "                            PC6         PC7          PC8\n",
      "Runtime            -0.305460713  0.08976857  0.700868329\n",
      "Age                -0.245794661  0.03015220  0.037430630\n",
      "Weight             -0.061281234  0.07293747 -0.017045484\n",
      "Oxygen_Consumption -0.765749776  0.33603178  0.019878841\n",
      "Run_Pulse           0.176538190  0.68020855  0.020516468\n",
      "Rest_Pulse         -0.004061032 -0.01248147  0.034755841\n",
      "Maximum_Pulse      -0.344710949 -0.62833121 -0.007135481\n",
      "Performance         0.325795588 -0.12310829  0.710645487\n"
     ]
    }
   ],
   "source": [
    "# Exibir os loadings (pesos das variáveis nos componentes principais)\n",
    "loadings <- acp$rotation\n",
    "print(loadings)"
   ]
  },
  {
   "cell_type": "markdown",
   "metadata": {},
   "source": [
    "Para cada eixo (PC1 e PC2), identificamos as variáveis com **maiores valores absolutos** nos loadings. Quanto maior o valor absoluto, maior a contribuição da variável para o componente."
   ]
  }
 ],
 "metadata": {
  "kernelspec": {
   "display_name": "R",
   "language": "R",
   "name": "ir"
  },
  "language_info": {
   "codemirror_mode": "r",
   "file_extension": ".r",
   "mimetype": "text/x-r-source",
   "name": "R",
   "pygments_lexer": "r",
   "version": "4.4.1"
  }
 },
 "nbformat": 4,
 "nbformat_minor": 2
}
