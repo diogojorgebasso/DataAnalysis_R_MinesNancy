{
 "cells": [
  {
   "cell_type": "code",
   "execution_count": null,
   "metadata": {
    "vscode": {
     "languageId": "r"
    }
   },
   "outputs": [],
   "source": [
    "# para carregar o pacote arules\n",
    "install.packages(\"arules\")"
   ]
  },
  {
   "cell_type": "code",
   "execution_count": 16,
   "metadata": {
    "vscode": {
     "languageId": "r"
    }
   },
   "outputs": [],
   "source": [
    "library(arules)"
   ]
  },
  {
   "cell_type": "markdown",
   "metadata": {},
   "source": [
    "Question 7\n",
    "\n",
    "Transform the bigger categories, like age into groups."
   ]
  },
  {
   "cell_type": "code",
   "execution_count": 55,
   "metadata": {
    "vscode": {
     "languageId": "r"
    }
   },
   "outputs": [
    {
     "data": {
      "text/html": [
       "<table class=\"dataframe\">\n",
       "<caption>A data.frame: 6 × 15</caption>\n",
       "<thead>\n",
       "\t<tr><th></th><th scope=col>age</th><th scope=col>workclass</th><th scope=col>fnlwgt</th><th scope=col>education</th><th scope=col>education-num</th><th scope=col>marital-status</th><th scope=col>occupation</th><th scope=col>relationship</th><th scope=col>race</th><th scope=col>sex</th><th scope=col>capital-gain</th><th scope=col>capital-loss</th><th scope=col>hours-per-week</th><th scope=col>native-country</th><th scope=col>income</th></tr>\n",
       "\t<tr><th></th><th scope=col>&lt;int&gt;</th><th scope=col>&lt;fct&gt;</th><th scope=col>&lt;int&gt;</th><th scope=col>&lt;ord&gt;</th><th scope=col>&lt;int&gt;</th><th scope=col>&lt;fct&gt;</th><th scope=col>&lt;fct&gt;</th><th scope=col>&lt;fct&gt;</th><th scope=col>&lt;fct&gt;</th><th scope=col>&lt;fct&gt;</th><th scope=col>&lt;int&gt;</th><th scope=col>&lt;int&gt;</th><th scope=col>&lt;int&gt;</th><th scope=col>&lt;fct&gt;</th><th scope=col>&lt;ord&gt;</th></tr>\n",
       "</thead>\n",
       "<tbody>\n",
       "\t<tr><th scope=row>1</th><td>39</td><td>State-gov       </td><td> 77516</td><td>Bachelors</td><td>13</td><td>Never-married     </td><td>Adm-clerical     </td><td>Not-in-family</td><td>White</td><td>Male  </td><td>2174</td><td>0</td><td>40</td><td>United-States</td><td>small</td></tr>\n",
       "\t<tr><th scope=row>2</th><td>50</td><td>Self-emp-not-inc</td><td> 83311</td><td>Bachelors</td><td>13</td><td>Married-civ-spouse</td><td>Exec-managerial  </td><td>Husband      </td><td>White</td><td>Male  </td><td>   0</td><td>0</td><td>13</td><td>United-States</td><td>small</td></tr>\n",
       "\t<tr><th scope=row>3</th><td>38</td><td>Private         </td><td>215646</td><td>HS-grad  </td><td> 9</td><td>Divorced          </td><td>Handlers-cleaners</td><td>Not-in-family</td><td>White</td><td>Male  </td><td>   0</td><td>0</td><td>40</td><td>United-States</td><td>small</td></tr>\n",
       "\t<tr><th scope=row>4</th><td>53</td><td>Private         </td><td>234721</td><td>11th     </td><td> 7</td><td>Married-civ-spouse</td><td>Handlers-cleaners</td><td>Husband      </td><td>Black</td><td>Male  </td><td>   0</td><td>0</td><td>40</td><td>United-States</td><td>small</td></tr>\n",
       "\t<tr><th scope=row>5</th><td>28</td><td>Private         </td><td>338409</td><td>Bachelors</td><td>13</td><td>Married-civ-spouse</td><td>Prof-specialty   </td><td>Wife         </td><td>Black</td><td>Female</td><td>   0</td><td>0</td><td>40</td><td>Cuba         </td><td>small</td></tr>\n",
       "\t<tr><th scope=row>6</th><td>37</td><td>Private         </td><td>284582</td><td>Masters  </td><td>14</td><td>Married-civ-spouse</td><td>Exec-managerial  </td><td>Wife         </td><td>White</td><td>Female</td><td>   0</td><td>0</td><td>40</td><td>United-States</td><td>small</td></tr>\n",
       "</tbody>\n",
       "</table>\n"
      ],
      "text/latex": [
       "A data.frame: 6 × 15\n",
       "\\begin{tabular}{r|lllllllllllllll}\n",
       "  & age & workclass & fnlwgt & education & education-num & marital-status & occupation & relationship & race & sex & capital-gain & capital-loss & hours-per-week & native-country & income\\\\\n",
       "  & <int> & <fct> & <int> & <ord> & <int> & <fct> & <fct> & <fct> & <fct> & <fct> & <int> & <int> & <int> & <fct> & <ord>\\\\\n",
       "\\hline\n",
       "\t1 & 39 & State-gov        &  77516 & Bachelors & 13 & Never-married      & Adm-clerical      & Not-in-family & White & Male   & 2174 & 0 & 40 & United-States & small\\\\\n",
       "\t2 & 50 & Self-emp-not-inc &  83311 & Bachelors & 13 & Married-civ-spouse & Exec-managerial   & Husband       & White & Male   &    0 & 0 & 13 & United-States & small\\\\\n",
       "\t3 & 38 & Private          & 215646 & HS-grad   &  9 & Divorced           & Handlers-cleaners & Not-in-family & White & Male   &    0 & 0 & 40 & United-States & small\\\\\n",
       "\t4 & 53 & Private          & 234721 & 11th      &  7 & Married-civ-spouse & Handlers-cleaners & Husband       & Black & Male   &    0 & 0 & 40 & United-States & small\\\\\n",
       "\t5 & 28 & Private          & 338409 & Bachelors & 13 & Married-civ-spouse & Prof-specialty    & Wife          & Black & Female &    0 & 0 & 40 & Cuba          & small\\\\\n",
       "\t6 & 37 & Private          & 284582 & Masters   & 14 & Married-civ-spouse & Exec-managerial   & Wife          & White & Female &    0 & 0 & 40 & United-States & small\\\\\n",
       "\\end{tabular}\n"
      ],
      "text/markdown": [
       "\n",
       "A data.frame: 6 × 15\n",
       "\n",
       "| <!--/--> | age &lt;int&gt; | workclass &lt;fct&gt; | fnlwgt &lt;int&gt; | education &lt;ord&gt; | education-num &lt;int&gt; | marital-status &lt;fct&gt; | occupation &lt;fct&gt; | relationship &lt;fct&gt; | race &lt;fct&gt; | sex &lt;fct&gt; | capital-gain &lt;int&gt; | capital-loss &lt;int&gt; | hours-per-week &lt;int&gt; | native-country &lt;fct&gt; | income &lt;ord&gt; |\n",
       "|---|---|---|---|---|---|---|---|---|---|---|---|---|---|---|---|\n",
       "| 1 | 39 | State-gov        |  77516 | Bachelors | 13 | Never-married      | Adm-clerical      | Not-in-family | White | Male   | 2174 | 0 | 40 | United-States | small |\n",
       "| 2 | 50 | Self-emp-not-inc |  83311 | Bachelors | 13 | Married-civ-spouse | Exec-managerial   | Husband       | White | Male   |    0 | 0 | 13 | United-States | small |\n",
       "| 3 | 38 | Private          | 215646 | HS-grad   |  9 | Divorced           | Handlers-cleaners | Not-in-family | White | Male   |    0 | 0 | 40 | United-States | small |\n",
       "| 4 | 53 | Private          | 234721 | 11th      |  7 | Married-civ-spouse | Handlers-cleaners | Husband       | Black | Male   |    0 | 0 | 40 | United-States | small |\n",
       "| 5 | 28 | Private          | 338409 | Bachelors | 13 | Married-civ-spouse | Prof-specialty    | Wife          | Black | Female |    0 | 0 | 40 | Cuba          | small |\n",
       "| 6 | 37 | Private          | 284582 | Masters   | 14 | Married-civ-spouse | Exec-managerial   | Wife          | White | Female |    0 | 0 | 40 | United-States | small |\n",
       "\n"
      ],
      "text/plain": [
       "  age workclass        fnlwgt education education-num marital-status    \n",
       "1 39  State-gov         77516 Bachelors 13            Never-married     \n",
       "2 50  Self-emp-not-inc  83311 Bachelors 13            Married-civ-spouse\n",
       "3 38  Private          215646 HS-grad    9            Divorced          \n",
       "4 53  Private          234721 11th       7            Married-civ-spouse\n",
       "5 28  Private          338409 Bachelors 13            Married-civ-spouse\n",
       "6 37  Private          284582 Masters   14            Married-civ-spouse\n",
       "  occupation        relationship  race  sex    capital-gain capital-loss\n",
       "1 Adm-clerical      Not-in-family White Male   2174         0           \n",
       "2 Exec-managerial   Husband       White Male      0         0           \n",
       "3 Handlers-cleaners Not-in-family White Male      0         0           \n",
       "4 Handlers-cleaners Husband       Black Male      0         0           \n",
       "5 Prof-specialty    Wife          Black Female    0         0           \n",
       "6 Exec-managerial   Wife          White Female    0         0           \n",
       "  hours-per-week native-country income\n",
       "1 40             United-States  small \n",
       "2 13             United-States  small \n",
       "3 40             United-States  small \n",
       "4 40             United-States  small \n",
       "5 40             Cuba           small \n",
       "6 40             United-States  small "
      ]
     },
     "metadata": {},
     "output_type": "display_data"
    }
   ],
   "source": [
    "data(\"AdultUCI\")\n",
    "\n",
    "head(AdultUCI)"
   ]
  },
  {
   "cell_type": "code",
   "execution_count": 50,
   "metadata": {
    "vscode": {
     "languageId": "r"
    }
   },
   "outputs": [
    {
     "data": {
      "text/plain": [
       "   Min. 1st Qu.  Median    Mean 3rd Qu.    Max. \n",
       "  17.00   28.00   37.00   38.64   48.00   90.00 "
      ]
     },
     "metadata": {},
     "output_type": "display_data"
    }
   ],
   "source": [
    "summary(AdultUCI$age)"
   ]
  },
  {
   "cell_type": "markdown",
   "metadata": {},
   "source": [
    "Convertendo o conjunto em dados qualitativos"
   ]
  },
  {
   "cell_type": "code",
   "execution_count": 56,
   "metadata": {
    "vscode": {
     "languageId": "r"
    }
   },
   "outputs": [
    {
     "data": {
      "text/html": [
       "<table class=\"dataframe\">\n",
       "<caption>A data.frame: 6 × 15</caption>\n",
       "<thead>\n",
       "\t<tr><th></th><th scope=col>age</th><th scope=col>workclass</th><th scope=col>fnlwgt</th><th scope=col>education</th><th scope=col>education-num</th><th scope=col>marital-status</th><th scope=col>occupation</th><th scope=col>relationship</th><th scope=col>race</th><th scope=col>sex</th><th scope=col>capital-gain</th><th scope=col>capital-loss</th><th scope=col>hours-per-week</th><th scope=col>native-country</th><th scope=col>income</th></tr>\n",
       "\t<tr><th></th><th scope=col>&lt;fct&gt;</th><th scope=col>&lt;fct&gt;</th><th scope=col>&lt;int&gt;</th><th scope=col>&lt;ord&gt;</th><th scope=col>&lt;int&gt;</th><th scope=col>&lt;fct&gt;</th><th scope=col>&lt;fct&gt;</th><th scope=col>&lt;fct&gt;</th><th scope=col>&lt;fct&gt;</th><th scope=col>&lt;fct&gt;</th><th scope=col>&lt;int&gt;</th><th scope=col>&lt;int&gt;</th><th scope=col>&lt;fct&gt;</th><th scope=col>&lt;fct&gt;</th><th scope=col>&lt;ord&gt;</th></tr>\n",
       "</thead>\n",
       "<tbody>\n",
       "\t<tr><th scope=row>1</th><td>Middle-aged</td><td>State-gov       </td><td> 77516</td><td>Bachelors</td><td>13</td><td>Never-married     </td><td>Adm-clerical     </td><td>Not-in-family</td><td>White</td><td>Male  </td><td>2174</td><td>0</td><td>Over-time</td><td>United-States</td><td>small</td></tr>\n",
       "\t<tr><th scope=row>2</th><td>Senior     </td><td>Self-emp-not-inc</td><td> 83311</td><td>Bachelors</td><td>13</td><td>Married-civ-spouse</td><td>Exec-managerial  </td><td>Husband      </td><td>White</td><td>Male  </td><td>   0</td><td>0</td><td>Part-time</td><td>United-States</td><td>small</td></tr>\n",
       "\t<tr><th scope=row>3</th><td>Middle-aged</td><td>Private         </td><td>215646</td><td>HS-grad  </td><td> 9</td><td>Divorced          </td><td>Handlers-cleaners</td><td>Not-in-family</td><td>White</td><td>Male  </td><td>   0</td><td>0</td><td>Over-time</td><td>United-States</td><td>small</td></tr>\n",
       "\t<tr><th scope=row>4</th><td>Senior     </td><td>Private         </td><td>234721</td><td>11th     </td><td> 7</td><td>Married-civ-spouse</td><td>Handlers-cleaners</td><td>Husband      </td><td>Black</td><td>Male  </td><td>   0</td><td>0</td><td>Over-time</td><td>United-States</td><td>small</td></tr>\n",
       "\t<tr><th scope=row>5</th><td>Middle-aged</td><td>Private         </td><td>338409</td><td>Bachelors</td><td>13</td><td>Married-civ-spouse</td><td>Prof-specialty   </td><td>Wife         </td><td>Black</td><td>Female</td><td>   0</td><td>0</td><td>Over-time</td><td>Cuba         </td><td>small</td></tr>\n",
       "\t<tr><th scope=row>6</th><td>Middle-aged</td><td>Private         </td><td>284582</td><td>Masters  </td><td>14</td><td>Married-civ-spouse</td><td>Exec-managerial  </td><td>Wife         </td><td>White</td><td>Female</td><td>   0</td><td>0</td><td>Over-time</td><td>United-States</td><td>small</td></tr>\n",
       "</tbody>\n",
       "</table>\n"
      ],
      "text/latex": [
       "A data.frame: 6 × 15\n",
       "\\begin{tabular}{r|lllllllllllllll}\n",
       "  & age & workclass & fnlwgt & education & education-num & marital-status & occupation & relationship & race & sex & capital-gain & capital-loss & hours-per-week & native-country & income\\\\\n",
       "  & <fct> & <fct> & <int> & <ord> & <int> & <fct> & <fct> & <fct> & <fct> & <fct> & <int> & <int> & <fct> & <fct> & <ord>\\\\\n",
       "\\hline\n",
       "\t1 & Middle-aged & State-gov        &  77516 & Bachelors & 13 & Never-married      & Adm-clerical      & Not-in-family & White & Male   & 2174 & 0 & Over-time & United-States & small\\\\\n",
       "\t2 & Senior      & Self-emp-not-inc &  83311 & Bachelors & 13 & Married-civ-spouse & Exec-managerial   & Husband       & White & Male   &    0 & 0 & Part-time & United-States & small\\\\\n",
       "\t3 & Middle-aged & Private          & 215646 & HS-grad   &  9 & Divorced           & Handlers-cleaners & Not-in-family & White & Male   &    0 & 0 & Over-time & United-States & small\\\\\n",
       "\t4 & Senior      & Private          & 234721 & 11th      &  7 & Married-civ-spouse & Handlers-cleaners & Husband       & Black & Male   &    0 & 0 & Over-time & United-States & small\\\\\n",
       "\t5 & Middle-aged & Private          & 338409 & Bachelors & 13 & Married-civ-spouse & Prof-specialty    & Wife          & Black & Female &    0 & 0 & Over-time & Cuba          & small\\\\\n",
       "\t6 & Middle-aged & Private          & 284582 & Masters   & 14 & Married-civ-spouse & Exec-managerial   & Wife          & White & Female &    0 & 0 & Over-time & United-States & small\\\\\n",
       "\\end{tabular}\n"
      ],
      "text/markdown": [
       "\n",
       "A data.frame: 6 × 15\n",
       "\n",
       "| <!--/--> | age &lt;fct&gt; | workclass &lt;fct&gt; | fnlwgt &lt;int&gt; | education &lt;ord&gt; | education-num &lt;int&gt; | marital-status &lt;fct&gt; | occupation &lt;fct&gt; | relationship &lt;fct&gt; | race &lt;fct&gt; | sex &lt;fct&gt; | capital-gain &lt;int&gt; | capital-loss &lt;int&gt; | hours-per-week &lt;fct&gt; | native-country &lt;fct&gt; | income &lt;ord&gt; |\n",
       "|---|---|---|---|---|---|---|---|---|---|---|---|---|---|---|---|\n",
       "| 1 | Middle-aged | State-gov        |  77516 | Bachelors | 13 | Never-married      | Adm-clerical      | Not-in-family | White | Male   | 2174 | 0 | Over-time | United-States | small |\n",
       "| 2 | Senior      | Self-emp-not-inc |  83311 | Bachelors | 13 | Married-civ-spouse | Exec-managerial   | Husband       | White | Male   |    0 | 0 | Part-time | United-States | small |\n",
       "| 3 | Middle-aged | Private          | 215646 | HS-grad   |  9 | Divorced           | Handlers-cleaners | Not-in-family | White | Male   |    0 | 0 | Over-time | United-States | small |\n",
       "| 4 | Senior      | Private          | 234721 | 11th      |  7 | Married-civ-spouse | Handlers-cleaners | Husband       | Black | Male   |    0 | 0 | Over-time | United-States | small |\n",
       "| 5 | Middle-aged | Private          | 338409 | Bachelors | 13 | Married-civ-spouse | Prof-specialty    | Wife          | Black | Female |    0 | 0 | Over-time | Cuba          | small |\n",
       "| 6 | Middle-aged | Private          | 284582 | Masters   | 14 | Married-civ-spouse | Exec-managerial   | Wife          | White | Female |    0 | 0 | Over-time | United-States | small |\n",
       "\n"
      ],
      "text/plain": [
       "  age         workclass        fnlwgt education education-num\n",
       "1 Middle-aged State-gov         77516 Bachelors 13           \n",
       "2 Senior      Self-emp-not-inc  83311 Bachelors 13           \n",
       "3 Middle-aged Private          215646 HS-grad    9           \n",
       "4 Senior      Private          234721 11th       7           \n",
       "5 Middle-aged Private          338409 Bachelors 13           \n",
       "6 Middle-aged Private          284582 Masters   14           \n",
       "  marital-status     occupation        relationship  race  sex    capital-gain\n",
       "1 Never-married      Adm-clerical      Not-in-family White Male   2174        \n",
       "2 Married-civ-spouse Exec-managerial   Husband       White Male      0        \n",
       "3 Divorced           Handlers-cleaners Not-in-family White Male      0        \n",
       "4 Married-civ-spouse Handlers-cleaners Husband       Black Male      0        \n",
       "5 Married-civ-spouse Prof-specialty    Wife          Black Female    0        \n",
       "6 Married-civ-spouse Exec-managerial   Wife          White Female    0        \n",
       "  capital-loss hours-per-week native-country income\n",
       "1 0            Over-time      United-States  small \n",
       "2 0            Part-time      United-States  small \n",
       "3 0            Over-time      United-States  small \n",
       "4 0            Over-time      United-States  small \n",
       "5 0            Over-time      Cuba           small \n",
       "6 0            Over-time      United-States  small "
      ]
     },
     "metadata": {},
     "output_type": "display_data"
    }
   ],
   "source": [
    "AdultUCI$age <- cut(AdultUCI$age, breaks = c(15, 25, 45, 65, 100),\n",
    "                    labels = c(\"Young\", \"Middle-aged\", \"Senior\", \"Old\"),\n",
    "                    right = FALSE)\n",
    "\n",
    "# Categoria para 'hours-per-week'\n",
    "AdultUCI$\"hours-per-week\" <- cut(AdultUCI$\"hours-per-week\",\n",
    "                             breaks = c(0, 25, 40, 60, 168),\n",
    "                             labels = c(\"Part-time\", \"Full-time\", \"Over-time\", \"Work-Aholic\"),\n",
    "                             right = FALSE)\n",
    "\n",
    "\n",
    "head(AdultUCI)"
   ]
  },
  {
   "cell_type": "code",
   "execution_count": 57,
   "metadata": {
    "vscode": {
     "languageId": "r"
    }
   },
   "outputs": [
    {
     "data": {
      "text/plain": [
       "   Min. 1st Qu.  Median    Mean 3rd Qu.    Max. \n",
       "      0       0       0    1079       0   99999 "
      ]
     },
     "metadata": {},
     "output_type": "display_data"
    },
    {
     "data": {
      "text/html": [
       "<style>\n",
       ".list-inline {list-style: none; margin:0; padding: 0}\n",
       ".list-inline>li {display: inline-block}\n",
       ".list-inline>li:not(:last-child)::after {content: \"\\00b7\"; padding: 0 .5ex}\n",
       "</style>\n",
       "<ol class=list-inline><li>2174</li><li>0</li><li>14084</li><li>5178</li><li>5013</li><li>2407</li><li>14344</li><li>15024</li><li>7688</li><li>34095</li><li>4064</li><li>4386</li><li>7298</li><li>1409</li><li>3674</li><li>1055</li><li>3464</li><li>2050</li><li>2176</li><li>594</li><li>20051</li><li>6849</li><li>4101</li><li>1111</li><li>8614</li><li>3411</li><li>2597</li><li>25236</li><li>4650</li><li>9386</li><li>2463</li><li>3103</li><li>10605</li><li>2964</li><li>3325</li><li>2580</li><li>3471</li><li>4865</li><li>99999</li><li>6514</li><li>1471</li><li>2329</li><li>2105</li><li>2885</li><li>25124</li><li>10520</li><li>2202</li><li>2961</li><li>27828</li><li>6767</li><li>2228</li><li>1506</li><li>13550</li><li>2635</li><li>5556</li><li>4787</li><li>3781</li><li>3137</li><li>3818</li><li>3942</li><li>914</li><li>401</li><li>2829</li><li>2977</li><li>4934</li><li>2062</li><li>2354</li><li>5455</li><li>15020</li><li>1424</li><li>3273</li><li>22040</li><li>4416</li><li>3908</li><li>10566</li><li>991</li><li>4931</li><li>1086</li><li>7430</li><li>6497</li><li>114</li><li>7896</li><li>2346</li><li>3418</li><li>3432</li><li>2907</li><li>1151</li><li>2414</li><li>2290</li><li>15831</li><li>41310</li><li>4508</li><li>2538</li><li>3456</li><li>6418</li><li>1848</li><li>3887</li><li>5721</li><li>9562</li><li>1455</li><li>2036</li><li>1831</li><li>11678</li><li>2936</li><li>2993</li><li>7443</li><li>6360</li><li>1797</li><li>1173</li><li>4687</li><li>6723</li><li>2009</li><li>6097</li><li>2653</li><li>1639</li><li>18481</li><li>7978</li><li>2387</li><li>5060</li><li>1264</li><li>7262</li><li>1731</li><li>6612</li></ol>\n"
      ],
      "text/latex": [
       "\\begin{enumerate*}\n",
       "\\item 2174\n",
       "\\item 0\n",
       "\\item 14084\n",
       "\\item 5178\n",
       "\\item 5013\n",
       "\\item 2407\n",
       "\\item 14344\n",
       "\\item 15024\n",
       "\\item 7688\n",
       "\\item 34095\n",
       "\\item 4064\n",
       "\\item 4386\n",
       "\\item 7298\n",
       "\\item 1409\n",
       "\\item 3674\n",
       "\\item 1055\n",
       "\\item 3464\n",
       "\\item 2050\n",
       "\\item 2176\n",
       "\\item 594\n",
       "\\item 20051\n",
       "\\item 6849\n",
       "\\item 4101\n",
       "\\item 1111\n",
       "\\item 8614\n",
       "\\item 3411\n",
       "\\item 2597\n",
       "\\item 25236\n",
       "\\item 4650\n",
       "\\item 9386\n",
       "\\item 2463\n",
       "\\item 3103\n",
       "\\item 10605\n",
       "\\item 2964\n",
       "\\item 3325\n",
       "\\item 2580\n",
       "\\item 3471\n",
       "\\item 4865\n",
       "\\item 99999\n",
       "\\item 6514\n",
       "\\item 1471\n",
       "\\item 2329\n",
       "\\item 2105\n",
       "\\item 2885\n",
       "\\item 25124\n",
       "\\item 10520\n",
       "\\item 2202\n",
       "\\item 2961\n",
       "\\item 27828\n",
       "\\item 6767\n",
       "\\item 2228\n",
       "\\item 1506\n",
       "\\item 13550\n",
       "\\item 2635\n",
       "\\item 5556\n",
       "\\item 4787\n",
       "\\item 3781\n",
       "\\item 3137\n",
       "\\item 3818\n",
       "\\item 3942\n",
       "\\item 914\n",
       "\\item 401\n",
       "\\item 2829\n",
       "\\item 2977\n",
       "\\item 4934\n",
       "\\item 2062\n",
       "\\item 2354\n",
       "\\item 5455\n",
       "\\item 15020\n",
       "\\item 1424\n",
       "\\item 3273\n",
       "\\item 22040\n",
       "\\item 4416\n",
       "\\item 3908\n",
       "\\item 10566\n",
       "\\item 991\n",
       "\\item 4931\n",
       "\\item 1086\n",
       "\\item 7430\n",
       "\\item 6497\n",
       "\\item 114\n",
       "\\item 7896\n",
       "\\item 2346\n",
       "\\item 3418\n",
       "\\item 3432\n",
       "\\item 2907\n",
       "\\item 1151\n",
       "\\item 2414\n",
       "\\item 2290\n",
       "\\item 15831\n",
       "\\item 41310\n",
       "\\item 4508\n",
       "\\item 2538\n",
       "\\item 3456\n",
       "\\item 6418\n",
       "\\item 1848\n",
       "\\item 3887\n",
       "\\item 5721\n",
       "\\item 9562\n",
       "\\item 1455\n",
       "\\item 2036\n",
       "\\item 1831\n",
       "\\item 11678\n",
       "\\item 2936\n",
       "\\item 2993\n",
       "\\item 7443\n",
       "\\item 6360\n",
       "\\item 1797\n",
       "\\item 1173\n",
       "\\item 4687\n",
       "\\item 6723\n",
       "\\item 2009\n",
       "\\item 6097\n",
       "\\item 2653\n",
       "\\item 1639\n",
       "\\item 18481\n",
       "\\item 7978\n",
       "\\item 2387\n",
       "\\item 5060\n",
       "\\item 1264\n",
       "\\item 7262\n",
       "\\item 1731\n",
       "\\item 6612\n",
       "\\end{enumerate*}\n"
      ],
      "text/markdown": [
       "1. 2174\n",
       "2. 0\n",
       "3. 14084\n",
       "4. 5178\n",
       "5. 5013\n",
       "6. 2407\n",
       "7. 14344\n",
       "8. 15024\n",
       "9. 7688\n",
       "10. 34095\n",
       "11. 4064\n",
       "12. 4386\n",
       "13. 7298\n",
       "14. 1409\n",
       "15. 3674\n",
       "16. 1055\n",
       "17. 3464\n",
       "18. 2050\n",
       "19. 2176\n",
       "20. 594\n",
       "21. 20051\n",
       "22. 6849\n",
       "23. 4101\n",
       "24. 1111\n",
       "25. 8614\n",
       "26. 3411\n",
       "27. 2597\n",
       "28. 25236\n",
       "29. 4650\n",
       "30. 9386\n",
       "31. 2463\n",
       "32. 3103\n",
       "33. 10605\n",
       "34. 2964\n",
       "35. 3325\n",
       "36. 2580\n",
       "37. 3471\n",
       "38. 4865\n",
       "39. 99999\n",
       "40. 6514\n",
       "41. 1471\n",
       "42. 2329\n",
       "43. 2105\n",
       "44. 2885\n",
       "45. 25124\n",
       "46. 10520\n",
       "47. 2202\n",
       "48. 2961\n",
       "49. 27828\n",
       "50. 6767\n",
       "51. 2228\n",
       "52. 1506\n",
       "53. 13550\n",
       "54. 2635\n",
       "55. 5556\n",
       "56. 4787\n",
       "57. 3781\n",
       "58. 3137\n",
       "59. 3818\n",
       "60. 3942\n",
       "61. 914\n",
       "62. 401\n",
       "63. 2829\n",
       "64. 2977\n",
       "65. 4934\n",
       "66. 2062\n",
       "67. 2354\n",
       "68. 5455\n",
       "69. 15020\n",
       "70. 1424\n",
       "71. 3273\n",
       "72. 22040\n",
       "73. 4416\n",
       "74. 3908\n",
       "75. 10566\n",
       "76. 991\n",
       "77. 4931\n",
       "78. 1086\n",
       "79. 7430\n",
       "80. 6497\n",
       "81. 114\n",
       "82. 7896\n",
       "83. 2346\n",
       "84. 3418\n",
       "85. 3432\n",
       "86. 2907\n",
       "87. 1151\n",
       "88. 2414\n",
       "89. 2290\n",
       "90. 15831\n",
       "91. 41310\n",
       "92. 4508\n",
       "93. 2538\n",
       "94. 3456\n",
       "95. 6418\n",
       "96. 1848\n",
       "97. 3887\n",
       "98. 5721\n",
       "99. 9562\n",
       "100. 1455\n",
       "101. 2036\n",
       "102. 1831\n",
       "103. 11678\n",
       "104. 2936\n",
       "105. 2993\n",
       "106. 7443\n",
       "107. 6360\n",
       "108. 1797\n",
       "109. 1173\n",
       "110. 4687\n",
       "111. 6723\n",
       "112. 2009\n",
       "113. 6097\n",
       "114. 2653\n",
       "115. 1639\n",
       "116. 18481\n",
       "117. 7978\n",
       "118. 2387\n",
       "119. 5060\n",
       "120. 1264\n",
       "121. 7262\n",
       "122. 1731\n",
       "123. 6612\n",
       "\n",
       "\n"
      ],
      "text/plain": [
       "  [1]  2174     0 14084  5178  5013  2407 14344 15024  7688 34095  4064  4386\n",
       " [13]  7298  1409  3674  1055  3464  2050  2176   594 20051  6849  4101  1111\n",
       " [25]  8614  3411  2597 25236  4650  9386  2463  3103 10605  2964  3325  2580\n",
       " [37]  3471  4865 99999  6514  1471  2329  2105  2885 25124 10520  2202  2961\n",
       " [49] 27828  6767  2228  1506 13550  2635  5556  4787  3781  3137  3818  3942\n",
       " [61]   914   401  2829  2977  4934  2062  2354  5455 15020  1424  3273 22040\n",
       " [73]  4416  3908 10566   991  4931  1086  7430  6497   114  7896  2346  3418\n",
       " [85]  3432  2907  1151  2414  2290 15831 41310  4508  2538  3456  6418  1848\n",
       " [97]  3887  5721  9562  1455  2036  1831 11678  2936  2993  7443  6360  1797\n",
       "[109]  1173  4687  6723  2009  6097  2653  1639 18481  7978  2387  5060  1264\n",
       "[121]  7262  1731  6612"
      ]
     },
     "metadata": {},
     "output_type": "display_data"
    },
    {
     "name": "stdout",
     "output_type": "stream",
     "text": [
      "[1] \"integer\"\n"
     ]
    }
   ],
   "source": [
    "summary(AdultUCI$\"capital-gain\")\n",
    "\n",
    "unique(AdultUCI$`capital-gain`)\n",
    "\n",
    "print(typeof(AdultUCI$\"capital-gain\"))"
   ]
  },
  {
   "cell_type": "code",
   "execution_count": 62,
   "metadata": {
    "vscode": {
     "languageId": "r"
    }
   },
   "outputs": [],
   "source": [
    "# Categoria para 'capital-gain'\n",
    "mediana_gain <- median(AdultUCI$\"capital-gain\")\n",
    "# as duas medianas são xero\n",
    "AdultUCI$`capital-gain` <- cut(\n",
    "  AdultUCI$`capital-gain`,\n",
    "  breaks = c(-Inf, 0, median(AdultUCI$`capital-gain`[AdultUCI$`capital-gain` > 0], na.rm = TRUE), Inf),\n",
    "  labels = c(\"None\", \"Low\", \"High\"),\n",
    "  right = FALSE\n",
    ")\n",
    "\n",
    "# Categoria para 'capital-loss'\n",
    "mediana_loss <- median(AdultUCI$\"capital-loss\")\n",
    "AdultUCI$`capital-loss` <- cut(\n",
    "  AdultUCI$`capital-loss`,\n",
    "  breaks = c(-Inf, 0, median(AdultUCI$`capital-loss`[AdultUCI$`capital-loss` > 0], na.rm = TRUE), Inf),\n",
    "  labels = c(\"None\", \"Low\", \"High\"),\n",
    "  right = FALSE\n",
    ")"
   ]
  },
  {
   "cell_type": "code",
   "execution_count": 64,
   "metadata": {
    "vscode": {
     "languageId": "r"
    }
   },
   "outputs": [
    {
     "data": {
      "text/html": [
       "<table class=\"dataframe\">\n",
       "<caption>A data.frame: 10 × 15</caption>\n",
       "<thead>\n",
       "\t<tr><th></th><th scope=col>age</th><th scope=col>workclass</th><th scope=col>fnlwgt</th><th scope=col>education</th><th scope=col>education-num</th><th scope=col>marital-status</th><th scope=col>occupation</th><th scope=col>relationship</th><th scope=col>race</th><th scope=col>sex</th><th scope=col>capital-gain</th><th scope=col>capital-loss</th><th scope=col>hours-per-week</th><th scope=col>native-country</th><th scope=col>income</th></tr>\n",
       "\t<tr><th></th><th scope=col>&lt;fct&gt;</th><th scope=col>&lt;fct&gt;</th><th scope=col>&lt;int&gt;</th><th scope=col>&lt;ord&gt;</th><th scope=col>&lt;int&gt;</th><th scope=col>&lt;fct&gt;</th><th scope=col>&lt;fct&gt;</th><th scope=col>&lt;fct&gt;</th><th scope=col>&lt;fct&gt;</th><th scope=col>&lt;fct&gt;</th><th scope=col>&lt;fct&gt;</th><th scope=col>&lt;fct&gt;</th><th scope=col>&lt;fct&gt;</th><th scope=col>&lt;fct&gt;</th><th scope=col>&lt;ord&gt;</th></tr>\n",
       "</thead>\n",
       "<tbody>\n",
       "\t<tr><th scope=row>1</th><td>Middle-aged</td><td>State-gov       </td><td> 77516</td><td>Bachelors</td><td>13</td><td>Never-married        </td><td>Adm-clerical     </td><td>Not-in-family</td><td>White</td><td>Male  </td><td>Low </td><td>Low</td><td>Over-time</td><td>United-States</td><td>small</td></tr>\n",
       "\t<tr><th scope=row>2</th><td>Senior     </td><td>Self-emp-not-inc</td><td> 83311</td><td>Bachelors</td><td>13</td><td>Married-civ-spouse   </td><td>Exec-managerial  </td><td>Husband      </td><td>White</td><td>Male  </td><td>Low </td><td>Low</td><td>Part-time</td><td>United-States</td><td>small</td></tr>\n",
       "\t<tr><th scope=row>3</th><td>Middle-aged</td><td>Private         </td><td>215646</td><td>HS-grad  </td><td> 9</td><td>Divorced             </td><td>Handlers-cleaners</td><td>Not-in-family</td><td>White</td><td>Male  </td><td>Low </td><td>Low</td><td>Over-time</td><td>United-States</td><td>small</td></tr>\n",
       "\t<tr><th scope=row>4</th><td>Senior     </td><td>Private         </td><td>234721</td><td>11th     </td><td> 7</td><td>Married-civ-spouse   </td><td>Handlers-cleaners</td><td>Husband      </td><td>Black</td><td>Male  </td><td>Low </td><td>Low</td><td>Over-time</td><td>United-States</td><td>small</td></tr>\n",
       "\t<tr><th scope=row>5</th><td>Middle-aged</td><td>Private         </td><td>338409</td><td>Bachelors</td><td>13</td><td>Married-civ-spouse   </td><td>Prof-specialty   </td><td>Wife         </td><td>Black</td><td>Female</td><td>Low </td><td>Low</td><td>Over-time</td><td>Cuba         </td><td>small</td></tr>\n",
       "\t<tr><th scope=row>6</th><td>Middle-aged</td><td>Private         </td><td>284582</td><td>Masters  </td><td>14</td><td>Married-civ-spouse   </td><td>Exec-managerial  </td><td>Wife         </td><td>White</td><td>Female</td><td>Low </td><td>Low</td><td>Over-time</td><td>United-States</td><td>small</td></tr>\n",
       "\t<tr><th scope=row>7</th><td>Senior     </td><td>Private         </td><td>160187</td><td>9th      </td><td> 5</td><td>Married-spouse-absent</td><td>Other-service    </td><td>Not-in-family</td><td>Black</td><td>Female</td><td>Low </td><td>Low</td><td>Part-time</td><td>Jamaica      </td><td>small</td></tr>\n",
       "\t<tr><th scope=row>8</th><td>Senior     </td><td>Self-emp-not-inc</td><td>209642</td><td>HS-grad  </td><td> 9</td><td>Married-civ-spouse   </td><td>Exec-managerial  </td><td>Husband      </td><td>White</td><td>Male  </td><td>Low </td><td>Low</td><td>Over-time</td><td>United-States</td><td>large</td></tr>\n",
       "\t<tr><th scope=row>9</th><td>Middle-aged</td><td>Private         </td><td> 45781</td><td>Masters  </td><td>14</td><td>Never-married        </td><td>Prof-specialty   </td><td>Not-in-family</td><td>White</td><td>Female</td><td>High</td><td>Low</td><td>Over-time</td><td>United-States</td><td>large</td></tr>\n",
       "\t<tr><th scope=row>10</th><td>Middle-aged</td><td>Private         </td><td>159449</td><td>Bachelors</td><td>13</td><td>Married-civ-spouse   </td><td>Exec-managerial  </td><td>Husband      </td><td>White</td><td>Male  </td><td>Low </td><td>Low</td><td>Over-time</td><td>United-States</td><td>large</td></tr>\n",
       "</tbody>\n",
       "</table>\n"
      ],
      "text/latex": [
       "A data.frame: 10 × 15\n",
       "\\begin{tabular}{r|lllllllllllllll}\n",
       "  & age & workclass & fnlwgt & education & education-num & marital-status & occupation & relationship & race & sex & capital-gain & capital-loss & hours-per-week & native-country & income\\\\\n",
       "  & <fct> & <fct> & <int> & <ord> & <int> & <fct> & <fct> & <fct> & <fct> & <fct> & <fct> & <fct> & <fct> & <fct> & <ord>\\\\\n",
       "\\hline\n",
       "\t1 & Middle-aged & State-gov        &  77516 & Bachelors & 13 & Never-married         & Adm-clerical      & Not-in-family & White & Male   & Low  & Low & Over-time & United-States & small\\\\\n",
       "\t2 & Senior      & Self-emp-not-inc &  83311 & Bachelors & 13 & Married-civ-spouse    & Exec-managerial   & Husband       & White & Male   & Low  & Low & Part-time & United-States & small\\\\\n",
       "\t3 & Middle-aged & Private          & 215646 & HS-grad   &  9 & Divorced              & Handlers-cleaners & Not-in-family & White & Male   & Low  & Low & Over-time & United-States & small\\\\\n",
       "\t4 & Senior      & Private          & 234721 & 11th      &  7 & Married-civ-spouse    & Handlers-cleaners & Husband       & Black & Male   & Low  & Low & Over-time & United-States & small\\\\\n",
       "\t5 & Middle-aged & Private          & 338409 & Bachelors & 13 & Married-civ-spouse    & Prof-specialty    & Wife          & Black & Female & Low  & Low & Over-time & Cuba          & small\\\\\n",
       "\t6 & Middle-aged & Private          & 284582 & Masters   & 14 & Married-civ-spouse    & Exec-managerial   & Wife          & White & Female & Low  & Low & Over-time & United-States & small\\\\\n",
       "\t7 & Senior      & Private          & 160187 & 9th       &  5 & Married-spouse-absent & Other-service     & Not-in-family & Black & Female & Low  & Low & Part-time & Jamaica       & small\\\\\n",
       "\t8 & Senior      & Self-emp-not-inc & 209642 & HS-grad   &  9 & Married-civ-spouse    & Exec-managerial   & Husband       & White & Male   & Low  & Low & Over-time & United-States & large\\\\\n",
       "\t9 & Middle-aged & Private          &  45781 & Masters   & 14 & Never-married         & Prof-specialty    & Not-in-family & White & Female & High & Low & Over-time & United-States & large\\\\\n",
       "\t10 & Middle-aged & Private          & 159449 & Bachelors & 13 & Married-civ-spouse    & Exec-managerial   & Husband       & White & Male   & Low  & Low & Over-time & United-States & large\\\\\n",
       "\\end{tabular}\n"
      ],
      "text/markdown": [
       "\n",
       "A data.frame: 10 × 15\n",
       "\n",
       "| <!--/--> | age &lt;fct&gt; | workclass &lt;fct&gt; | fnlwgt &lt;int&gt; | education &lt;ord&gt; | education-num &lt;int&gt; | marital-status &lt;fct&gt; | occupation &lt;fct&gt; | relationship &lt;fct&gt; | race &lt;fct&gt; | sex &lt;fct&gt; | capital-gain &lt;fct&gt; | capital-loss &lt;fct&gt; | hours-per-week &lt;fct&gt; | native-country &lt;fct&gt; | income &lt;ord&gt; |\n",
       "|---|---|---|---|---|---|---|---|---|---|---|---|---|---|---|---|\n",
       "| 1 | Middle-aged | State-gov        |  77516 | Bachelors | 13 | Never-married         | Adm-clerical      | Not-in-family | White | Male   | Low  | Low | Over-time | United-States | small |\n",
       "| 2 | Senior      | Self-emp-not-inc |  83311 | Bachelors | 13 | Married-civ-spouse    | Exec-managerial   | Husband       | White | Male   | Low  | Low | Part-time | United-States | small |\n",
       "| 3 | Middle-aged | Private          | 215646 | HS-grad   |  9 | Divorced              | Handlers-cleaners | Not-in-family | White | Male   | Low  | Low | Over-time | United-States | small |\n",
       "| 4 | Senior      | Private          | 234721 | 11th      |  7 | Married-civ-spouse    | Handlers-cleaners | Husband       | Black | Male   | Low  | Low | Over-time | United-States | small |\n",
       "| 5 | Middle-aged | Private          | 338409 | Bachelors | 13 | Married-civ-spouse    | Prof-specialty    | Wife          | Black | Female | Low  | Low | Over-time | Cuba          | small |\n",
       "| 6 | Middle-aged | Private          | 284582 | Masters   | 14 | Married-civ-spouse    | Exec-managerial   | Wife          | White | Female | Low  | Low | Over-time | United-States | small |\n",
       "| 7 | Senior      | Private          | 160187 | 9th       |  5 | Married-spouse-absent | Other-service     | Not-in-family | Black | Female | Low  | Low | Part-time | Jamaica       | small |\n",
       "| 8 | Senior      | Self-emp-not-inc | 209642 | HS-grad   |  9 | Married-civ-spouse    | Exec-managerial   | Husband       | White | Male   | Low  | Low | Over-time | United-States | large |\n",
       "| 9 | Middle-aged | Private          |  45781 | Masters   | 14 | Never-married         | Prof-specialty    | Not-in-family | White | Female | High | Low | Over-time | United-States | large |\n",
       "| 10 | Middle-aged | Private          | 159449 | Bachelors | 13 | Married-civ-spouse    | Exec-managerial   | Husband       | White | Male   | Low  | Low | Over-time | United-States | large |\n",
       "\n"
      ],
      "text/plain": [
       "   age         workclass        fnlwgt education education-num\n",
       "1  Middle-aged State-gov         77516 Bachelors 13           \n",
       "2  Senior      Self-emp-not-inc  83311 Bachelors 13           \n",
       "3  Middle-aged Private          215646 HS-grad    9           \n",
       "4  Senior      Private          234721 11th       7           \n",
       "5  Middle-aged Private          338409 Bachelors 13           \n",
       "6  Middle-aged Private          284582 Masters   14           \n",
       "7  Senior      Private          160187 9th        5           \n",
       "8  Senior      Self-emp-not-inc 209642 HS-grad    9           \n",
       "9  Middle-aged Private           45781 Masters   14           \n",
       "10 Middle-aged Private          159449 Bachelors 13           \n",
       "   marital-status        occupation        relationship  race  sex   \n",
       "1  Never-married         Adm-clerical      Not-in-family White Male  \n",
       "2  Married-civ-spouse    Exec-managerial   Husband       White Male  \n",
       "3  Divorced              Handlers-cleaners Not-in-family White Male  \n",
       "4  Married-civ-spouse    Handlers-cleaners Husband       Black Male  \n",
       "5  Married-civ-spouse    Prof-specialty    Wife          Black Female\n",
       "6  Married-civ-spouse    Exec-managerial   Wife          White Female\n",
       "7  Married-spouse-absent Other-service     Not-in-family Black Female\n",
       "8  Married-civ-spouse    Exec-managerial   Husband       White Male  \n",
       "9  Never-married         Prof-specialty    Not-in-family White Female\n",
       "10 Married-civ-spouse    Exec-managerial   Husband       White Male  \n",
       "   capital-gain capital-loss hours-per-week native-country income\n",
       "1  Low          Low          Over-time      United-States  small \n",
       "2  Low          Low          Part-time      United-States  small \n",
       "3  Low          Low          Over-time      United-States  small \n",
       "4  Low          Low          Over-time      United-States  small \n",
       "5  Low          Low          Over-time      Cuba           small \n",
       "6  Low          Low          Over-time      United-States  small \n",
       "7  Low          Low          Part-time      Jamaica        small \n",
       "8  Low          Low          Over-time      United-States  large \n",
       "9  High         Low          Over-time      United-States  large \n",
       "10 Low          Low          Over-time      United-States  large "
      ]
     },
     "metadata": {},
     "output_type": "display_data"
    }
   ],
   "source": [
    "head(AdultUCI, 10)"
   ]
  },
  {
   "cell_type": "code",
   "execution_count": 73,
   "metadata": {
    "vscode": {
     "languageId": "r"
    }
   },
   "outputs": [
    {
     "name": "stderr",
     "output_type": "stream",
     "text": [
      "Warning message:\n",
      "\"Column(s) 2, 4 not logical or factor. Applying default discretization (see '? discretizeDF').\"\n"
     ]
    },
    {
     "data": {
      "text/plain": [
       "transactions in sparse format with\n",
       " 48842 transactions (rows) and\n",
       " 107 items (columns)"
      ]
     },
     "metadata": {},
     "output_type": "display_data"
    }
   ],
   "source": [
    "adults <- as(AdultUCI, \"transactions\")\n",
    "\n",
    "adults"
   ]
  },
  {
   "cell_type": "code",
   "execution_count": 75,
   "metadata": {
    "vscode": {
     "languageId": "r"
    }
   },
   "outputs": [
    {
     "data": {
      "image/png": "[encoded data removed]",
      "text/plain": [
       "plot without title"
      ]
     },
     "metadata": {
      "image/png": {
       "height": 420,
       "width": 420
      }
     },
     "output_type": "display_data"
    }
   ],
   "source": [
    "itemFrequencyPlot(adults, support = 0.1, cex.names=0.8)"
   ]
  },
  {
   "cell_type": "markdown",
   "metadata": {},
   "source": [
    "Extrair os conjuntos de itens frequentes com o algoritmo Apriori:"
   ]
  },
  {
   "cell_type": "code",
   "execution_count": null,
   "metadata": {
    "vscode": {
     "languageId": "r"
    }
   },
   "outputs": [
    {
     "name": "stdout",
     "output_type": "stream",
     "text": [
      "Apriori\n",
      "\n",
      "Parameter specification:\n",
      " confidence minval smax arem  aval originalSupport maxtime support minlen\n",
      "        0.8    0.1    1 none FALSE            TRUE       5     0.1      2\n",
      " maxlen target  ext\n",
      "     10  rules TRUE\n",
      "\n",
      "Algorithmic control:\n",
      " filter tree heap memopt load sort verbose\n",
      "    0.1 TRUE TRUE  FALSE TRUE    2    TRUE\n",
      "\n",
      "Absolute minimum support count: 4884 \n",
      "\n",
      "set item appearances ...[0 item(s)] done [0.00s].\n",
      "set transactions ...[107 item(s), 48842 transaction(s)] done [0.02s].\n",
      "sorting and recoding items ... [29 item(s)] done [0.00s].\n",
      "creating transaction tree ... done [0.02s].\n",
      "checking subsets of size 1 2 3 4 5 6 7 done [0.02s].\n",
      "writing ... [1184 rule(s)] done [0.00s].\n",
      "creating S4 object  ... done [0.00s].\n"
     ]
    }
   ],
   "source": [
    "params <- list(support = 0.1, confidence = 0.8, minlen = 2, maxlen=100, target=\"frequent itemsets\") \n",
    "itemsets <- apriori(adults, parameter = params)"
   ]
  },
  {
   "cell_type": "code",
   "execution_count": 79,
   "metadata": {
    "vscode": {
     "languageId": "r"
    }
   },
   "outputs": [
    {
     "name": "stdout",
     "output_type": "stream",
     "text": [
      "    lhs                   rhs                            support   confidence\n",
      "[1] {occupation=Sales} => {race=White}                   0.1005282 0.8920785 \n",
      "[2] {occupation=Sales} => {native-country=United-States} 0.1039679 0.9226017 \n",
      "    coverage  lift     count\n",
      "[1] 0.1126899 1.043314 4910 \n",
      "[2] 0.1126899 1.028055 5078 \n"
     ]
    }
   ],
   "source": [
    "inspect(itemsets[1:2])"
   ]
  },
  {
   "cell_type": "code",
   "execution_count": 80,
   "metadata": {
    "vscode": {
     "languageId": "r"
    }
   },
   "outputs": [
    {
     "name": "stdout",
     "output_type": "stream",
     "text": [
      "     lhs                                     rhs                                   support confidence  coverage      lift count\n",
      "[1]  {race=White}                         => {native-country=United-States}      0.7881127  0.9217231 0.8550428 1.0270761 38493\n",
      "[2]  {native-country=United-States}       => {race=White}                        0.7881127  0.8781940 0.8974243 1.0270761 38493\n",
      "[3]  {workclass=Private}                  => {native-country=United-States}      0.6171942  0.8890757 0.6941976 0.9906971 30145\n",
      "[4]  {sex=Male}                           => {native-country=United-States}      0.5983170  0.8950383 0.6684820 0.9973412 29223\n",
      "[5]  {workclass=Private}                  => {race=White}                        0.5942427  0.8560137 0.6941976 1.0011355 29024\n",
      "[6]  {sex=Male}                           => {race=White}                        0.5883256  0.8800919 0.6684820 1.0292957 28735\n",
      "[7]  {workclass=Private,                                                                                                       \n",
      "      race=White}                         => {native-country=United-States}      0.5433848  0.9144157 0.5942427 1.0189334 26540\n",
      "[8]  {workclass=Private,                                                                                                       \n",
      "      native-country=United-States}       => {race=White}                        0.5433848  0.8804113 0.6171942 1.0296693 26540\n",
      "[9]  {race=White,                                                                                                              \n",
      "      sex=Male}                           => {native-country=United-States}      0.5415421  0.9204803 0.5883256 1.0256912 26450\n",
      "[10] {sex=Male,                                                                                                                \n",
      "      native-country=United-States}       => {race=White}                        0.5415421  0.9051090 0.5983170 1.0585540 26450\n",
      "[11] {education-num=[10,16]}              => {native-country=United-States}      0.4958233  0.9087054 0.5456370 1.0125705 24217\n",
      "[12] {education-num=[10,16]}              => {race=White}                        0.4732812  0.8673921 0.5456370 1.0144429 23116\n",
      "[13] {income=small}                       => {native-country=United-States}      0.4504115  0.8899272 0.5061218 0.9916459 21999\n",
      "[14] {education-num=[10,16],                                                                                                   \n",
      "      race=White}                         => {native-country=United-States}      0.4448016  0.9398252 0.4732812 1.0472473 21725\n",
      "[15] {education-num=[10,16],                                                                                                   \n",
      "      native-country=United-States}       => {race=White}                        0.4448016  0.8970971 0.4958233 1.0491838 21725\n",
      "[16] {income=small}                       => {race=White}                        0.4237951  0.8373382 0.5061218 0.9792939 20699\n",
      "[17] {marital-status=Married-civ-spouse}  => {race=White}                        0.4105892  0.8961080 0.4581917 1.0480270 20054\n",
      "[18] {marital-status=Married-civ-spouse}  => {native-country=United-States}      0.4095451  0.8938290 0.4581917 0.9959937 20003\n",
      "[19] {marital-status=Married-civ-spouse}  => {sex=Male}                          0.4074157  0.8891818 0.4581917 1.3301506 19899\n",
      "[20] {workclass=Private,                                                                                                       \n",
      "      sex=Male}                           => {native-country=United-States}      0.4044265  0.8855068 0.4567176 0.9867203 19753\n",
      "[21] {relationship=Husband}               => {sex=Male}                          0.4036485  0.9999493 0.4036690 1.4958506 19715\n",
      "[22] {relationship=Husband}               => {marital-status=Married-civ-spouse} 0.4034233  0.9993914 0.4036690 2.1811642 19704\n",
      "[23] {marital-status=Married-civ-spouse}  => {relationship=Husband}              0.4034233  0.8804683 0.4581917 2.1811642 19704\n",
      "[24] {marital-status=Married-civ-spouse,                                                                                       \n",
      "      relationship=Husband}               => {sex=Male}                          0.4034028  0.9999492 0.4034233 1.4958506 19703\n",
      "[25] {relationship=Husband,                                                                                                    \n",
      "      sex=Male}                           => {marital-status=Married-civ-spouse} 0.4034028  0.9993913 0.4036485 2.1811641 19703\n",
      "[26] {marital-status=Married-civ-spouse,                                                                                       \n",
      "      sex=Male}                           => {relationship=Husband}              0.4034028  0.9901503 0.4074157 2.4528768 19703\n",
      "[27] {workclass=Private,                                                                                                       \n",
      "      sex=Male}                           => {race=White}                        0.4013349  0.8787376 0.4567176 1.0277119 19602\n",
      "[28] {race=White,                                                                                                              \n",
      "      income=small}                       => {native-country=United-States}      0.3873101  0.9139089 0.4237951 1.0183687 18917\n",
      "[29] {native-country=United-States,                                                                                            \n",
      "      income=small}                       => {race=White}                        0.3873101  0.8599027 0.4504115 1.0056838 18917\n",
      "[30] {marital-status=Married-civ-spouse,                                                                                       \n",
      "      race=White}                         => {native-country=United-States}      0.3788133  0.9226090 0.4105892 1.0280632 18502\n",
      "[31] {marital-status=Married-civ-spouse,                                                                                       \n",
      "      native-country=United-States}       => {race=White}                        0.3788133  0.9249613 0.4095451 1.0817719 18502\n",
      "[32] {marital-status=Married-civ-spouse,                                                                                       \n",
      "      sex=Male}                           => {race=White}                        0.3684739  0.9044173 0.4074157 1.0577451 17997\n",
      "[33] {marital-status=Married-civ-spouse,                                                                                       \n",
      "      race=White}                         => {sex=Male}                          0.3684739  0.8974269 0.4105892 1.3424847 17997\n",
      "[34] {workclass=Private,                                                                                                       \n",
      "      race=White,                                                                                                              \n",
      "      sex=Male}                           => {native-country=United-States}      0.3656894  0.9111825 0.4013349 1.0153307 17861\n",
      "[35] {workclass=Private,                                                                                                       \n",
      "      sex=Male,                                                                                                                \n",
      "      native-country=United-States}       => {race=White}                        0.3656894  0.9042171 0.4044265 1.0575109 17861\n",
      "[36] {relationship=Husband}               => {race=White}                        0.3656279  0.9057618 0.4036690 1.0593175 17858\n",
      "[37] {relationship=Husband,                                                                                                    \n",
      "      sex=Male}                           => {race=White}                        0.3656075  0.9057570 0.4036485 1.0593119 17857\n",
      "[38] {relationship=Husband,                                                                                                    \n",
      "      race=White}                         => {sex=Male}                          0.3656075  0.9999440 0.3656279 1.4958427 17857\n",
      "[39] {marital-status=Married-civ-spouse,                                                                                       \n",
      "      sex=Male}                           => {native-country=United-States}      0.3656075  0.8973818 0.4074157 0.9999526 17857\n",
      "[40] {marital-status=Married-civ-spouse,                                                                                       \n",
      "      native-country=United-States}       => {sex=Male}                          0.3656075  0.8927161 0.4095451 1.3354377 17857\n",
      "[41] {marital-status=Married-civ-spouse,                                                                                       \n",
      "      relationship=Husband}               => {race=White}                        0.3654232  0.9058059 0.4034233 1.0593691 17848\n",
      "[42] {relationship=Husband,                                                                                                    \n",
      "      race=White}                         => {marital-status=Married-civ-spouse} 0.3654232  0.9994400 0.3656279 2.1812704 17848\n",
      "[43] {marital-status=Married-civ-spouse,                                                                                       \n",
      "      race=White}                         => {relationship=Husband}              0.3654232  0.8899970 0.4105892 2.2047694 17848\n",
      "[44] {marital-status=Married-civ-spouse,                                                                                       \n",
      "      relationship=Husband,                                                                                                    \n",
      "      sex=Male}                           => {race=White}                        0.3654027  0.9058011 0.4034028 1.0593635 17847\n",
      "[45] {marital-status=Married-civ-spouse,                                                                                       \n",
      "      relationship=Husband,                                                                                                    \n",
      "      race=White}                         => {sex=Male}                          0.3654027  0.9999440 0.3654232 1.4958427 17847\n",
      "[46] {relationship=Husband,                                                                                                    \n",
      "      race=White,                                                                                                              \n",
      "      sex=Male}                           => {marital-status=Married-civ-spouse} 0.3654027  0.9994400 0.3656075 2.1812703 17847\n",
      "[47] {marital-status=Married-civ-spouse,                                                                                       \n",
      "      race=White,                                                                                                              \n",
      "      sex=Male}                           => {relationship=Husband}              0.3654027  0.9916653 0.3684739 2.4566299 17847\n",
      "[48] {relationship=Husband}               => {native-country=United-States}      0.3630687  0.8994218 0.4036690 1.0022257 17733\n",
      "[49] {relationship=Husband,                                                                                                    \n",
      "      sex=Male}                           => {native-country=United-States}      0.3630482  0.8994167 0.4036485 1.0022201 17732\n",
      "[50] {relationship=Husband,                                                                                                    \n",
      "      native-country=United-States}       => {sex=Male}                          0.3630482  0.9999436 0.3630687 1.4958421 17732\n"
     ]
    }
   ],
   "source": [
    "# Ordenar pelo suporte e visualizar os 50 primeiros\n",
    "sorted_itemsets <- sort(itemsets, by=\"support\", decreasing=TRUE)\n",
    "inspect(sorted_itemsets[1:50])"
   ]
  },
  {
   "cell_type": "code",
   "execution_count": 82,
   "metadata": {
    "vscode": {
     "languageId": "r"
    }
   },
   "outputs": [
    {
     "name": "stdout",
     "output_type": "stream",
     "text": [
      "Apriori\n",
      "\n",
      "Parameter specification:\n",
      " confidence minval smax arem  aval originalSupport maxtime support minlen\n",
      "         NA    0.1    1 none FALSE            TRUE       5     0.1      2\n",
      " maxlen                   target  ext\n",
      "     10 closed frequent itemsets TRUE\n",
      "\n",
      "Algorithmic control:\n",
      " filter tree heap memopt load sort verbose\n",
      "    0.1 TRUE TRUE  FALSE TRUE    2    TRUE\n",
      "\n",
      "Absolute minimum support count: 4884 \n",
      "\n",
      "set item appearances ...[0 item(s)] done [0.00s].\n",
      "set transactions ...[107 item(s), 48842 transaction(s)] done [0.02s].\n",
      "sorting and recoding items ... [29 item(s)] done [0.00s].\n",
      "creating transaction tree ... done [0.02s].\n",
      "checking subsets of size 1 2 3 4 5 6 7 done [0.02s].\n",
      "filtering closed item sets ... done [0.00s].\n",
      "sorting transactions ... done [0.01s].\n",
      "writing ... [551 set(s)] done [0.00s].\n",
      "creating S4 object  ... done [0.00s].\n"
     ]
    },
    {
     "data": {
      "text/html": [
       "1184"
      ],
      "text/latex": [
       "1184"
      ],
      "text/markdown": [
       "1184"
      ],
      "text/plain": [
       "[1] 1184"
      ]
     },
     "metadata": {},
     "output_type": "display_data"
    },
    {
     "data": {
      "text/html": [
       "551"
      ],
      "text/latex": [
       "551"
      ],
      "text/markdown": [
       "551"
      ],
      "text/plain": [
       "[1] 551"
      ]
     },
     "metadata": {},
     "output_type": "display_data"
    }
   ],
   "source": [
    "# Extraindo conjuntos fechados\n",
    "itemsetC <- apriori(adults, parameter=list(target=\"closed frequent itemsets\", support=0.1, confidence=0.8, minlen=2))\n",
    "\n",
    "# Comparar o número de conjuntos\n",
    "length(itemsets)\n",
    "length(itemsetC)"
   ]
  },
  {
   "cell_type": "markdown",
   "metadata": {},
   "source": [
    "Verificar se os conjuntos fechados são um subconjunto dos conjuntos frequentes:"
   ]
  },
  {
   "cell_type": "markdown",
   "metadata": {},
   "source": [
    "Listar os conjuntos de itens que contêm o item income=large e analisar os inconvenientes de não trabalhar com apenas os conjuntos fechados."
   ]
  },
  {
   "cell_type": "code",
   "execution_count": null,
   "metadata": {
    "vscode": {
     "languageId": "r"
    }
   },
   "outputs": [],
   "source": [
    "# Listar os conjuntos que contêm 'income=large'\n",
    "income_large <- subset(itemsets, items %in% \"income=large\")\n",
    "inspect(income_large)"
   ]
  },
  {
   "cell_type": "code",
   "execution_count": 83,
   "metadata": {
    "vscode": {
     "languageId": "r"
    }
   },
   "outputs": [
    {
     "ename": "ERROR",
     "evalue": "Error in h(simpleError(msg, call)): erro na avaliação do argumento 'x' na seleção do método para a função 'sort': 'objeto 'income_large' não encontrado'\n",
     "output_type": "error",
     "traceback": [
      "Error in h(simpleError(msg, call)): erro na avaliação do argumento 'x' na seleção do método para a função 'sort': 'objeto 'income_large' não encontrado'\nTraceback:\n",
      "1. .handleSimpleError(function (cond) \n . .Internal(C_tryCatchHelper(addr, 1L, cond)), \"objeto 'income_large' não encontrado\", \n .     base::quote(eval(expr, envir)))",
      "2. h(simpleError(msg, call))",
      "3. .handleSimpleError(function (cnd) \n . {\n .     watcher$capture_plot_and_output()\n .     cnd <- sanitize_call(cnd)\n .     watcher$push(cnd)\n .     switch(on_error, continue = invokeRestart(\"eval_continue\"), \n .         stop = invokeRestart(\"eval_stop\"), error = invokeRestart(\"eval_error\", \n .             cnd))\n . }, \"erro na avaliação do argumento 'x' na seleção do método para a função 'sort': 'objeto 'income_large' não encontrado'\", \n .     base::quote(h(simpleError(msg, call))))"
     ]
    }
   ],
   "source": [
    "# Ordenar por suporte e listar os 30 primeiros\n",
    "sorted_income_large <- sort(income_large, by=\"support\", decreasing=TRUE)\n",
    "inspect(sorted_income_large[1:30])"
   ]
  },
  {
   "cell_type": "code",
   "execution_count": null,
   "metadata": {
    "vscode": {
     "languageId": "r"
    }
   },
   "outputs": [],
   "source": [
    "# Listar conjuntos com 'income=small'\n",
    "income_small <- subset(itemsets, items %in% \"income=small\")\n",
    "sorted_income_small <- sort(income_small, by=\"support\", decreasing=TRUE)\n",
    "inspect(sorted_income_small[1:30])"
   ]
  }
 ],
 "metadata": {
  "kernelspec": {
   "display_name": "R",
   "language": "R",
   "name": "ir"
  },
  "language_info": {
   "codemirror_mode": "r",
   "file_extension": ".r",
   "mimetype": "text/x-r-source",
   "name": "R",
   "pygments_lexer": "r",
   "version": "4.4.1"
  }
 },
 "nbformat": 4,
 "nbformat_minor": 2
}
