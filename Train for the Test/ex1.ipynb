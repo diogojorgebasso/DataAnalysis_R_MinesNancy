{
 "cells": [
  {
   "cell_type": "code",
   "execution_count": 2,
   "metadata": {
    "vscode": {
     "languageId": "r"
    }
   },
   "outputs": [],
   "source": [
    "setwd(\"C:/Users/diogo/code/Analyse de Donne/Train for the Test\")"
   ]
  },
  {
   "cell_type": "code",
   "execution_count": 3,
   "metadata": {
    "vscode": {
     "languageId": "r"
    }
   },
   "outputs": [
    {
     "data": {
      "text/html": [
       "<table class=\"dataframe\">\n",
       "<caption>A data.frame: 150 × 5</caption>\n",
       "<thead>\n",
       "\t<tr><th scope=col>Sepal.Length</th><th scope=col>Sepal.Width</th><th scope=col>Petal.Length</th><th scope=col>Petal.Width</th><th scope=col>Species</th></tr>\n",
       "\t<tr><th scope=col>&lt;dbl&gt;</th><th scope=col>&lt;dbl&gt;</th><th scope=col>&lt;dbl&gt;</th><th scope=col>&lt;dbl&gt;</th><th scope=col>&lt;fct&gt;</th></tr>\n",
       "</thead>\n",
       "<tbody>\n",
       "\t<tr><td>5.1</td><td>3.5</td><td>1.4</td><td>0.2</td><td>setosa</td></tr>\n",
       "\t<tr><td>4.9</td><td>3.0</td><td>1.4</td><td>0.2</td><td>setosa</td></tr>\n",
       "\t<tr><td>4.7</td><td>3.2</td><td>1.3</td><td>0.2</td><td>setosa</td></tr>\n",
       "\t<tr><td>4.6</td><td>3.1</td><td>1.5</td><td>0.2</td><td>setosa</td></tr>\n",
       "\t<tr><td>5.0</td><td>3.6</td><td>1.4</td><td>0.2</td><td>setosa</td></tr>\n",
       "\t<tr><td>5.4</td><td>3.9</td><td>1.7</td><td>0.4</td><td>setosa</td></tr>\n",
       "\t<tr><td>4.6</td><td>3.4</td><td>1.4</td><td>0.3</td><td>setosa</td></tr>\n",
       "\t<tr><td>5.0</td><td>3.4</td><td>1.5</td><td>0.2</td><td>setosa</td></tr>\n",
       "\t<tr><td>4.4</td><td>2.9</td><td>1.4</td><td>0.2</td><td>setosa</td></tr>\n",
       "\t<tr><td>4.9</td><td>3.1</td><td>1.5</td><td>0.1</td><td>setosa</td></tr>\n",
       "\t<tr><td>5.4</td><td>3.7</td><td>1.5</td><td>0.2</td><td>setosa</td></tr>\n",
       "\t<tr><td>4.8</td><td>3.4</td><td>1.6</td><td>0.2</td><td>setosa</td></tr>\n",
       "\t<tr><td>4.8</td><td>3.0</td><td>1.4</td><td>0.1</td><td>setosa</td></tr>\n",
       "\t<tr><td>4.3</td><td>3.0</td><td>1.1</td><td>0.1</td><td>setosa</td></tr>\n",
       "\t<tr><td>5.8</td><td>4.0</td><td>1.2</td><td>0.2</td><td>setosa</td></tr>\n",
       "\t<tr><td>5.7</td><td>4.4</td><td>1.5</td><td>0.4</td><td>setosa</td></tr>\n",
       "\t<tr><td>5.4</td><td>3.9</td><td>1.3</td><td>0.4</td><td>setosa</td></tr>\n",
       "\t<tr><td>5.1</td><td>3.5</td><td>1.4</td><td>0.3</td><td>setosa</td></tr>\n",
       "\t<tr><td>5.7</td><td>3.8</td><td>1.7</td><td>0.3</td><td>setosa</td></tr>\n",
       "\t<tr><td>5.1</td><td>3.8</td><td>1.5</td><td>0.3</td><td>setosa</td></tr>\n",
       "\t<tr><td>5.4</td><td>3.4</td><td>1.7</td><td>0.2</td><td>setosa</td></tr>\n",
       "\t<tr><td>5.1</td><td>3.7</td><td>1.5</td><td>0.4</td><td>setosa</td></tr>\n",
       "\t<tr><td>4.6</td><td>3.6</td><td>1.0</td><td>0.2</td><td>setosa</td></tr>\n",
       "\t<tr><td>5.1</td><td>3.3</td><td>1.7</td><td>0.5</td><td>setosa</td></tr>\n",
       "\t<tr><td>4.8</td><td>3.4</td><td>1.9</td><td>0.2</td><td>setosa</td></tr>\n",
       "\t<tr><td>5.0</td><td>3.0</td><td>1.6</td><td>0.2</td><td>setosa</td></tr>\n",
       "\t<tr><td>5.0</td><td>3.4</td><td>1.6</td><td>0.4</td><td>setosa</td></tr>\n",
       "\t<tr><td>5.2</td><td>3.5</td><td>1.5</td><td>0.2</td><td>setosa</td></tr>\n",
       "\t<tr><td>5.2</td><td>3.4</td><td>1.4</td><td>0.2</td><td>setosa</td></tr>\n",
       "\t<tr><td>4.7</td><td>3.2</td><td>1.6</td><td>0.2</td><td>setosa</td></tr>\n",
       "\t<tr><td>⋮</td><td>⋮</td><td>⋮</td><td>⋮</td><td>⋮</td></tr>\n",
       "\t<tr><td>6.9</td><td>3.2</td><td>5.7</td><td>2.3</td><td>virginica</td></tr>\n",
       "\t<tr><td>5.6</td><td>2.8</td><td>4.9</td><td>2.0</td><td>virginica</td></tr>\n",
       "\t<tr><td>7.7</td><td>2.8</td><td>6.7</td><td>2.0</td><td>virginica</td></tr>\n",
       "\t<tr><td>6.3</td><td>2.7</td><td>4.9</td><td>1.8</td><td>virginica</td></tr>\n",
       "\t<tr><td>6.7</td><td>3.3</td><td>5.7</td><td>2.1</td><td>virginica</td></tr>\n",
       "\t<tr><td>7.2</td><td>3.2</td><td>6.0</td><td>1.8</td><td>virginica</td></tr>\n",
       "\t<tr><td>6.2</td><td>2.8</td><td>4.8</td><td>1.8</td><td>virginica</td></tr>\n",
       "\t<tr><td>6.1</td><td>3.0</td><td>4.9</td><td>1.8</td><td>virginica</td></tr>\n",
       "\t<tr><td>6.4</td><td>2.8</td><td>5.6</td><td>2.1</td><td>virginica</td></tr>\n",
       "\t<tr><td>7.2</td><td>3.0</td><td>5.8</td><td>1.6</td><td>virginica</td></tr>\n",
       "\t<tr><td>7.4</td><td>2.8</td><td>6.1</td><td>1.9</td><td>virginica</td></tr>\n",
       "\t<tr><td>7.9</td><td>3.8</td><td>6.4</td><td>2.0</td><td>virginica</td></tr>\n",
       "\t<tr><td>6.4</td><td>2.8</td><td>5.6</td><td>2.2</td><td>virginica</td></tr>\n",
       "\t<tr><td>6.3</td><td>2.8</td><td>5.1</td><td>1.5</td><td>virginica</td></tr>\n",
       "\t<tr><td>6.1</td><td>2.6</td><td>5.6</td><td>1.4</td><td>virginica</td></tr>\n",
       "\t<tr><td>7.7</td><td>3.0</td><td>6.1</td><td>2.3</td><td>virginica</td></tr>\n",
       "\t<tr><td>6.3</td><td>3.4</td><td>5.6</td><td>2.4</td><td>virginica</td></tr>\n",
       "\t<tr><td>6.4</td><td>3.1</td><td>5.5</td><td>1.8</td><td>virginica</td></tr>\n",
       "\t<tr><td>6.0</td><td>3.0</td><td>4.8</td><td>1.8</td><td>virginica</td></tr>\n",
       "\t<tr><td>6.9</td><td>3.1</td><td>5.4</td><td>2.1</td><td>virginica</td></tr>\n",
       "\t<tr><td>6.7</td><td>3.1</td><td>5.6</td><td>2.4</td><td>virginica</td></tr>\n",
       "\t<tr><td>6.9</td><td>3.1</td><td>5.1</td><td>2.3</td><td>virginica</td></tr>\n",
       "\t<tr><td>5.8</td><td>2.7</td><td>5.1</td><td>1.9</td><td>virginica</td></tr>\n",
       "\t<tr><td>6.8</td><td>3.2</td><td>5.9</td><td>2.3</td><td>virginica</td></tr>\n",
       "\t<tr><td>6.7</td><td>3.3</td><td>5.7</td><td>2.5</td><td>virginica</td></tr>\n",
       "\t<tr><td>6.7</td><td>3.0</td><td>5.2</td><td>2.3</td><td>virginica</td></tr>\n",
       "\t<tr><td>6.3</td><td>2.5</td><td>5.0</td><td>1.9</td><td>virginica</td></tr>\n",
       "\t<tr><td>6.5</td><td>3.0</td><td>5.2</td><td>2.0</td><td>virginica</td></tr>\n",
       "\t<tr><td>6.2</td><td>3.4</td><td>5.4</td><td>2.3</td><td>virginica</td></tr>\n",
       "\t<tr><td>5.9</td><td>3.0</td><td>5.1</td><td>1.8</td><td>virginica</td></tr>\n",
       "</tbody>\n",
       "</table>\n"
      ],
      "text/latex": [
       "A data.frame: 150 × 5\n",
       "\\begin{tabular}{lllll}\n",
       " Sepal.Length & Sepal.Width & Petal.Length & Petal.Width & Species\\\\\n",
       " <dbl> & <dbl> & <dbl> & <dbl> & <fct>\\\\\n",
       "\\hline\n",
       "\t 5.1 & 3.5 & 1.4 & 0.2 & setosa\\\\\n",
       "\t 4.9 & 3.0 & 1.4 & 0.2 & setosa\\\\\n",
       "\t 4.7 & 3.2 & 1.3 & 0.2 & setosa\\\\\n",
       "\t 4.6 & 3.1 & 1.5 & 0.2 & setosa\\\\\n",
       "\t 5.0 & 3.6 & 1.4 & 0.2 & setosa\\\\\n",
       "\t 5.4 & 3.9 & 1.7 & 0.4 & setosa\\\\\n",
       "\t 4.6 & 3.4 & 1.4 & 0.3 & setosa\\\\\n",
       "\t 5.0 & 3.4 & 1.5 & 0.2 & setosa\\\\\n",
       "\t 4.4 & 2.9 & 1.4 & 0.2 & setosa\\\\\n",
       "\t 4.9 & 3.1 & 1.5 & 0.1 & setosa\\\\\n",
       "\t 5.4 & 3.7 & 1.5 & 0.2 & setosa\\\\\n",
       "\t 4.8 & 3.4 & 1.6 & 0.2 & setosa\\\\\n",
       "\t 4.8 & 3.0 & 1.4 & 0.1 & setosa\\\\\n",
       "\t 4.3 & 3.0 & 1.1 & 0.1 & setosa\\\\\n",
       "\t 5.8 & 4.0 & 1.2 & 0.2 & setosa\\\\\n",
       "\t 5.7 & 4.4 & 1.5 & 0.4 & setosa\\\\\n",
       "\t 5.4 & 3.9 & 1.3 & 0.4 & setosa\\\\\n",
       "\t 5.1 & 3.5 & 1.4 & 0.3 & setosa\\\\\n",
       "\t 5.7 & 3.8 & 1.7 & 0.3 & setosa\\\\\n",
       "\t 5.1 & 3.8 & 1.5 & 0.3 & setosa\\\\\n",
       "\t 5.4 & 3.4 & 1.7 & 0.2 & setosa\\\\\n",
       "\t 5.1 & 3.7 & 1.5 & 0.4 & setosa\\\\\n",
       "\t 4.6 & 3.6 & 1.0 & 0.2 & setosa\\\\\n",
       "\t 5.1 & 3.3 & 1.7 & 0.5 & setosa\\\\\n",
       "\t 4.8 & 3.4 & 1.9 & 0.2 & setosa\\\\\n",
       "\t 5.0 & 3.0 & 1.6 & 0.2 & setosa\\\\\n",
       "\t 5.0 & 3.4 & 1.6 & 0.4 & setosa\\\\\n",
       "\t 5.2 & 3.5 & 1.5 & 0.2 & setosa\\\\\n",
       "\t 5.2 & 3.4 & 1.4 & 0.2 & setosa\\\\\n",
       "\t 4.7 & 3.2 & 1.6 & 0.2 & setosa\\\\\n",
       "\t ⋮ & ⋮ & ⋮ & ⋮ & ⋮\\\\\n",
       "\t 6.9 & 3.2 & 5.7 & 2.3 & virginica\\\\\n",
       "\t 5.6 & 2.8 & 4.9 & 2.0 & virginica\\\\\n",
       "\t 7.7 & 2.8 & 6.7 & 2.0 & virginica\\\\\n",
       "\t 6.3 & 2.7 & 4.9 & 1.8 & virginica\\\\\n",
       "\t 6.7 & 3.3 & 5.7 & 2.1 & virginica\\\\\n",
       "\t 7.2 & 3.2 & 6.0 & 1.8 & virginica\\\\\n",
       "\t 6.2 & 2.8 & 4.8 & 1.8 & virginica\\\\\n",
       "\t 6.1 & 3.0 & 4.9 & 1.8 & virginica\\\\\n",
       "\t 6.4 & 2.8 & 5.6 & 2.1 & virginica\\\\\n",
       "\t 7.2 & 3.0 & 5.8 & 1.6 & virginica\\\\\n",
       "\t 7.4 & 2.8 & 6.1 & 1.9 & virginica\\\\\n",
       "\t 7.9 & 3.8 & 6.4 & 2.0 & virginica\\\\\n",
       "\t 6.4 & 2.8 & 5.6 & 2.2 & virginica\\\\\n",
       "\t 6.3 & 2.8 & 5.1 & 1.5 & virginica\\\\\n",
       "\t 6.1 & 2.6 & 5.6 & 1.4 & virginica\\\\\n",
       "\t 7.7 & 3.0 & 6.1 & 2.3 & virginica\\\\\n",
       "\t 6.3 & 3.4 & 5.6 & 2.4 & virginica\\\\\n",
       "\t 6.4 & 3.1 & 5.5 & 1.8 & virginica\\\\\n",
       "\t 6.0 & 3.0 & 4.8 & 1.8 & virginica\\\\\n",
       "\t 6.9 & 3.1 & 5.4 & 2.1 & virginica\\\\\n",
       "\t 6.7 & 3.1 & 5.6 & 2.4 & virginica\\\\\n",
       "\t 6.9 & 3.1 & 5.1 & 2.3 & virginica\\\\\n",
       "\t 5.8 & 2.7 & 5.1 & 1.9 & virginica\\\\\n",
       "\t 6.8 & 3.2 & 5.9 & 2.3 & virginica\\\\\n",
       "\t 6.7 & 3.3 & 5.7 & 2.5 & virginica\\\\\n",
       "\t 6.7 & 3.0 & 5.2 & 2.3 & virginica\\\\\n",
       "\t 6.3 & 2.5 & 5.0 & 1.9 & virginica\\\\\n",
       "\t 6.5 & 3.0 & 5.2 & 2.0 & virginica\\\\\n",
       "\t 6.2 & 3.4 & 5.4 & 2.3 & virginica\\\\\n",
       "\t 5.9 & 3.0 & 5.1 & 1.8 & virginica\\\\\n",
       "\\end{tabular}\n"
      ],
      "text/markdown": [
       "\n",
       "A data.frame: 150 × 5\n",
       "\n",
       "| Sepal.Length &lt;dbl&gt; | Sepal.Width &lt;dbl&gt; | Petal.Length &lt;dbl&gt; | Petal.Width &lt;dbl&gt; | Species &lt;fct&gt; |\n",
       "|---|---|---|---|---|\n",
       "| 5.1 | 3.5 | 1.4 | 0.2 | setosa |\n",
       "| 4.9 | 3.0 | 1.4 | 0.2 | setosa |\n",
       "| 4.7 | 3.2 | 1.3 | 0.2 | setosa |\n",
       "| 4.6 | 3.1 | 1.5 | 0.2 | setosa |\n",
       "| 5.0 | 3.6 | 1.4 | 0.2 | setosa |\n",
       "| 5.4 | 3.9 | 1.7 | 0.4 | setosa |\n",
       "| 4.6 | 3.4 | 1.4 | 0.3 | setosa |\n",
       "| 5.0 | 3.4 | 1.5 | 0.2 | setosa |\n",
       "| 4.4 | 2.9 | 1.4 | 0.2 | setosa |\n",
       "| 4.9 | 3.1 | 1.5 | 0.1 | setosa |\n",
       "| 5.4 | 3.7 | 1.5 | 0.2 | setosa |\n",
       "| 4.8 | 3.4 | 1.6 | 0.2 | setosa |\n",
       "| 4.8 | 3.0 | 1.4 | 0.1 | setosa |\n",
       "| 4.3 | 3.0 | 1.1 | 0.1 | setosa |\n",
       "| 5.8 | 4.0 | 1.2 | 0.2 | setosa |\n",
       "| 5.7 | 4.4 | 1.5 | 0.4 | setosa |\n",
       "| 5.4 | 3.9 | 1.3 | 0.4 | setosa |\n",
       "| 5.1 | 3.5 | 1.4 | 0.3 | setosa |\n",
       "| 5.7 | 3.8 | 1.7 | 0.3 | setosa |\n",
       "| 5.1 | 3.8 | 1.5 | 0.3 | setosa |\n",
       "| 5.4 | 3.4 | 1.7 | 0.2 | setosa |\n",
       "| 5.1 | 3.7 | 1.5 | 0.4 | setosa |\n",
       "| 4.6 | 3.6 | 1.0 | 0.2 | setosa |\n",
       "| 5.1 | 3.3 | 1.7 | 0.5 | setosa |\n",
       "| 4.8 | 3.4 | 1.9 | 0.2 | setosa |\n",
       "| 5.0 | 3.0 | 1.6 | 0.2 | setosa |\n",
       "| 5.0 | 3.4 | 1.6 | 0.4 | setosa |\n",
       "| 5.2 | 3.5 | 1.5 | 0.2 | setosa |\n",
       "| 5.2 | 3.4 | 1.4 | 0.2 | setosa |\n",
       "| 4.7 | 3.2 | 1.6 | 0.2 | setosa |\n",
       "| ⋮ | ⋮ | ⋮ | ⋮ | ⋮ |\n",
       "| 6.9 | 3.2 | 5.7 | 2.3 | virginica |\n",
       "| 5.6 | 2.8 | 4.9 | 2.0 | virginica |\n",
       "| 7.7 | 2.8 | 6.7 | 2.0 | virginica |\n",
       "| 6.3 | 2.7 | 4.9 | 1.8 | virginica |\n",
       "| 6.7 | 3.3 | 5.7 | 2.1 | virginica |\n",
       "| 7.2 | 3.2 | 6.0 | 1.8 | virginica |\n",
       "| 6.2 | 2.8 | 4.8 | 1.8 | virginica |\n",
       "| 6.1 | 3.0 | 4.9 | 1.8 | virginica |\n",
       "| 6.4 | 2.8 | 5.6 | 2.1 | virginica |\n",
       "| 7.2 | 3.0 | 5.8 | 1.6 | virginica |\n",
       "| 7.4 | 2.8 | 6.1 | 1.9 | virginica |\n",
       "| 7.9 | 3.8 | 6.4 | 2.0 | virginica |\n",
       "| 6.4 | 2.8 | 5.6 | 2.2 | virginica |\n",
       "| 6.3 | 2.8 | 5.1 | 1.5 | virginica |\n",
       "| 6.1 | 2.6 | 5.6 | 1.4 | virginica |\n",
       "| 7.7 | 3.0 | 6.1 | 2.3 | virginica |\n",
       "| 6.3 | 3.4 | 5.6 | 2.4 | virginica |\n",
       "| 6.4 | 3.1 | 5.5 | 1.8 | virginica |\n",
       "| 6.0 | 3.0 | 4.8 | 1.8 | virginica |\n",
       "| 6.9 | 3.1 | 5.4 | 2.1 | virginica |\n",
       "| 6.7 | 3.1 | 5.6 | 2.4 | virginica |\n",
       "| 6.9 | 3.1 | 5.1 | 2.3 | virginica |\n",
       "| 5.8 | 2.7 | 5.1 | 1.9 | virginica |\n",
       "| 6.8 | 3.2 | 5.9 | 2.3 | virginica |\n",
       "| 6.7 | 3.3 | 5.7 | 2.5 | virginica |\n",
       "| 6.7 | 3.0 | 5.2 | 2.3 | virginica |\n",
       "| 6.3 | 2.5 | 5.0 | 1.9 | virginica |\n",
       "| 6.5 | 3.0 | 5.2 | 2.0 | virginica |\n",
       "| 6.2 | 3.4 | 5.4 | 2.3 | virginica |\n",
       "| 5.9 | 3.0 | 5.1 | 1.8 | virginica |\n",
       "\n"
      ],
      "text/plain": [
       "    Sepal.Length Sepal.Width Petal.Length Petal.Width Species  \n",
       "1   5.1          3.5         1.4          0.2         setosa   \n",
       "2   4.9          3.0         1.4          0.2         setosa   \n",
       "3   4.7          3.2         1.3          0.2         setosa   \n",
       "4   4.6          3.1         1.5          0.2         setosa   \n",
       "5   5.0          3.6         1.4          0.2         setosa   \n",
       "6   5.4          3.9         1.7          0.4         setosa   \n",
       "7   4.6          3.4         1.4          0.3         setosa   \n",
       "8   5.0          3.4         1.5          0.2         setosa   \n",
       "9   4.4          2.9         1.4          0.2         setosa   \n",
       "10  4.9          3.1         1.5          0.1         setosa   \n",
       "11  5.4          3.7         1.5          0.2         setosa   \n",
       "12  4.8          3.4         1.6          0.2         setosa   \n",
       "13  4.8          3.0         1.4          0.1         setosa   \n",
       "14  4.3          3.0         1.1          0.1         setosa   \n",
       "15  5.8          4.0         1.2          0.2         setosa   \n",
       "16  5.7          4.4         1.5          0.4         setosa   \n",
       "17  5.4          3.9         1.3          0.4         setosa   \n",
       "18  5.1          3.5         1.4          0.3         setosa   \n",
       "19  5.7          3.8         1.7          0.3         setosa   \n",
       "20  5.1          3.8         1.5          0.3         setosa   \n",
       "21  5.4          3.4         1.7          0.2         setosa   \n",
       "22  5.1          3.7         1.5          0.4         setosa   \n",
       "23  4.6          3.6         1.0          0.2         setosa   \n",
       "24  5.1          3.3         1.7          0.5         setosa   \n",
       "25  4.8          3.4         1.9          0.2         setosa   \n",
       "26  5.0          3.0         1.6          0.2         setosa   \n",
       "27  5.0          3.4         1.6          0.4         setosa   \n",
       "28  5.2          3.5         1.5          0.2         setosa   \n",
       "29  5.2          3.4         1.4          0.2         setosa   \n",
       "30  4.7          3.2         1.6          0.2         setosa   \n",
       "⋮   ⋮            ⋮           ⋮            ⋮           ⋮        \n",
       "121 6.9          3.2         5.7          2.3         virginica\n",
       "122 5.6          2.8         4.9          2.0         virginica\n",
       "123 7.7          2.8         6.7          2.0         virginica\n",
       "124 6.3          2.7         4.9          1.8         virginica\n",
       "125 6.7          3.3         5.7          2.1         virginica\n",
       "126 7.2          3.2         6.0          1.8         virginica\n",
       "127 6.2          2.8         4.8          1.8         virginica\n",
       "128 6.1          3.0         4.9          1.8         virginica\n",
       "129 6.4          2.8         5.6          2.1         virginica\n",
       "130 7.2          3.0         5.8          1.6         virginica\n",
       "131 7.4          2.8         6.1          1.9         virginica\n",
       "132 7.9          3.8         6.4          2.0         virginica\n",
       "133 6.4          2.8         5.6          2.2         virginica\n",
       "134 6.3          2.8         5.1          1.5         virginica\n",
       "135 6.1          2.6         5.6          1.4         virginica\n",
       "136 7.7          3.0         6.1          2.3         virginica\n",
       "137 6.3          3.4         5.6          2.4         virginica\n",
       "138 6.4          3.1         5.5          1.8         virginica\n",
       "139 6.0          3.0         4.8          1.8         virginica\n",
       "140 6.9          3.1         5.4          2.1         virginica\n",
       "141 6.7          3.1         5.6          2.4         virginica\n",
       "142 6.9          3.1         5.1          2.3         virginica\n",
       "143 5.8          2.7         5.1          1.9         virginica\n",
       "144 6.8          3.2         5.9          2.3         virginica\n",
       "145 6.7          3.3         5.7          2.5         virginica\n",
       "146 6.7          3.0         5.2          2.3         virginica\n",
       "147 6.3          2.5         5.0          1.9         virginica\n",
       "148 6.5          3.0         5.2          2.0         virginica\n",
       "149 6.2          3.4         5.4          2.3         virginica\n",
       "150 5.9          3.0         5.1          1.8         virginica"
      ]
     },
     "metadata": {},
     "output_type": "display_data"
    }
   ],
   "source": [
    "data(iris)\n",
    "iris"
   ]
  },
  {
   "cell_type": "code",
   "execution_count": 4,
   "metadata": {
    "vscode": {
     "languageId": "r"
    }
   },
   "outputs": [
    {
     "data": {
      "text/plain": [
       "  Sepal.Length    Sepal.Width     Petal.Length    Petal.Width   \n",
       " Min.   :4.300   Min.   :2.000   Min.   :1.000   Min.   :0.100  \n",
       " 1st Qu.:5.100   1st Qu.:2.800   1st Qu.:1.600   1st Qu.:0.300  \n",
       " Median :5.800   Median :3.000   Median :4.350   Median :1.300  \n",
       " Mean   :5.843   Mean   :3.057   Mean   :3.758   Mean   :1.199  \n",
       " 3rd Qu.:6.400   3rd Qu.:3.300   3rd Qu.:5.100   3rd Qu.:1.800  \n",
       " Max.   :7.900   Max.   :4.400   Max.   :6.900   Max.   :2.500  \n",
       "       Species  \n",
       " setosa    :50  \n",
       " versicolor:50  \n",
       " virginica :50  \n",
       "                \n",
       "                \n",
       "                "
      ]
     },
     "metadata": {},
     "output_type": "display_data"
    }
   ],
   "source": [
    "summary(iris)"
   ]
  },
  {
   "cell_type": "markdown",
   "metadata": {},
   "source": [
    "Corelação de Person"
   ]
  },
  {
   "cell_type": "code",
   "execution_count": 5,
   "metadata": {
    "vscode": {
     "languageId": "r"
    }
   },
   "outputs": [
    {
     "data": {
      "text/plain": [
       "\n",
       "\tPearson's product-moment correlation\n",
       "\n",
       "data:  iris$Sepal.Length and iris$Sepal.Width\n",
       "t = -1.4403, df = 148, p-value = 0.1519\n",
       "alternative hypothesis: true correlation is not equal to 0\n",
       "95 percent confidence interval:\n",
       " -0.27269325  0.04351158\n",
       "sample estimates:\n",
       "       cor \n",
       "-0.1175698 \n"
      ]
     },
     "metadata": {},
     "output_type": "display_data"
    }
   ],
   "source": [
    "cor_test_sepal <- cor.test(iris$Sepal.Length, iris$Sepal.Width)\n",
    "cor_test_sepal"
   ]
  },
  {
   "cell_type": "markdown",
   "metadata": {},
   "source": [
    "O valor de p-value (0.1519) é maior que 0.05, o que significa que não há evidência suficiente para rejeitar a hipótese nula (H0). A hipótese nula nesse caso afirma que não há correlação entre Sepal.Length e Sepal.Width."
   ]
  },
  {
   "cell_type": "code",
   "execution_count": 6,
   "metadata": {
    "vscode": {
     "languageId": "r"
    }
   },
   "outputs": [
    {
     "data": {
      "text/plain": [
       "\n",
       "\tPearson's product-moment correlation\n",
       "\n",
       "data:  iris$Petal.Length and iris$Petal.Width\n",
       "t = 43.387, df = 148, p-value < 2.2e-16\n",
       "alternative hypothesis: true correlation is not equal to 0\n",
       "95 percent confidence interval:\n",
       " 0.9490525 0.9729853\n",
       "sample estimates:\n",
       "      cor \n",
       "0.9628654 \n"
      ]
     },
     "metadata": {},
     "output_type": "display_data"
    }
   ],
   "source": [
    "cor_test_sepal <- cor.test(iris$Petal.Length, iris$Petal.Width)\n",
    "cor_test_sepal"
   ]
  },
  {
   "cell_type": "markdown",
   "metadata": {},
   "source": [
    "Há uma correlação positiva muito forte entre o comprimento e a largura das pétalas, o que faz sentido do ponto de vista biológico, já que essas dimensões provavelmente crescem juntas em muitas espécies de flores, incluindo as do dataset iris."
   ]
  },
  {
   "cell_type": "markdown",
   "metadata": {},
   "source": [
    "# 3. Análise em Componentes Principais (ACP)"
   ]
  },
  {
   "cell_type": "markdown",
   "metadata": {},
   "source": [
    "Agora, realizamos uma ACP (Análise em Componentes Principais) com as variáveis adequadas (normalmente as quantitativas). Vamos eliminar a variável Species para focar nas variáveis numéricas."
   ]
  },
  {
   "cell_type": "code",
   "execution_count": 7,
   "metadata": {
    "vscode": {
     "languageId": "r"
    }
   },
   "outputs": [],
   "source": [
    "library(FactoMineR)"
   ]
  },
  {
   "cell_type": "code",
   "execution_count": 8,
   "metadata": {
    "vscode": {
     "languageId": "r"
    }
   },
   "outputs": [
    {
     "name": "stdout",
     "output_type": "stream",
     "text": [
      "\n",
      "Call:\n",
      "PCA(X = iris_data) \n",
      "\n",
      "\n",
      "Eigenvalues\n",
      "                       Dim.1   Dim.2   Dim.3   Dim.4\n",
      "Variance               2.918   0.914   0.147   0.021\n",
      "% of var.             72.962  22.851   3.669   0.518\n",
      "Cumulative % of var.  72.962  95.813  99.482 100.000\n",
      "\n",
      "Individuals (the 10 first)\n",
      "                 Dist    Dim.1    ctr   cos2    Dim.2    ctr   cos2    Dim.3\n",
      "1            |  2.319 | -2.265  1.172  0.954 |  0.480  0.168  0.043 | -0.128\n",
      "2            |  2.202 | -2.081  0.989  0.893 | -0.674  0.331  0.094 | -0.235\n",
      "3            |  2.389 | -2.364  1.277  0.979 | -0.342  0.085  0.020 |  0.044\n",
      "4            |  2.378 | -2.299  1.208  0.935 | -0.597  0.260  0.063 |  0.091\n",
      "5            |  2.476 | -2.390  1.305  0.932 |  0.647  0.305  0.068 |  0.016\n",
      "6            |  2.555 | -2.076  0.984  0.660 |  1.489  1.617  0.340 |  0.027\n",
      "7            |  2.468 | -2.444  1.364  0.981 |  0.048  0.002  0.000 |  0.335\n",
      "8            |  2.246 | -2.233  1.139  0.988 |  0.223  0.036  0.010 | -0.089\n",
      "9            |  2.592 | -2.335  1.245  0.812 | -1.115  0.907  0.185 |  0.145\n",
      "10           |  2.249 | -2.184  1.090  0.943 | -0.469  0.160  0.043 | -0.254\n",
      "                ctr   cos2  \n",
      "1             0.074  0.003 |\n",
      "2             0.250  0.011 |\n",
      "3             0.009  0.000 |\n",
      "4             0.038  0.001 |\n",
      "5             0.001  0.000 |\n",
      "6             0.003  0.000 |\n",
      "7             0.511  0.018 |\n",
      "8             0.036  0.002 |\n",
      "9             0.096  0.003 |\n",
      "10            0.293  0.013 |\n",
      "\n",
      "Variables\n",
      "                Dim.1    ctr   cos2    Dim.2    ctr   cos2    Dim.3    ctr\n",
      "Sepal.Length |  0.890 27.151  0.792 |  0.361 14.244  0.130 | -0.276 51.778\n",
      "Sepal.Width  | -0.460  7.255  0.212 |  0.883 85.247  0.779 |  0.094  5.972\n",
      "Petal.Length |  0.992 33.688  0.983 |  0.023  0.060  0.001 |  0.054  2.020\n",
      "Petal.Width  |  0.965 31.906  0.931 |  0.064  0.448  0.004 |  0.243 40.230\n",
      "               cos2  \n",
      "Sepal.Length  0.076 |\n",
      "Sepal.Width   0.009 |\n",
      "Petal.Length  0.003 |\n",
      "Petal.Width   0.059 |\n"
     ]
    }
   ],
   "source": [
    "iris_data <- iris[, 1:4] # Selecionar as variáveis quantitativas\n",
    "pca_result <- PCA(iris_data)\n",
    "\n",
    "summary(pca_result)"
   ]
  },
  {
   "cell_type": "markdown",
   "metadata": {},
   "source": [
    "Examine o resumo das variáveis numéricas: Use a função summary em R para ver o alcance (mínimo e máximo) de cada variável. Se os valores das variáveis têm ordens de grandeza muito diferentes, a ACP normada é recomendada."
   ]
  },
  {
   "cell_type": "code",
   "execution_count": 9,
   "metadata": {
    "vscode": {
     "languageId": "r"
    }
   },
   "outputs": [
    {
     "data": {
      "text/plain": [
       "  Sepal.Length    Sepal.Width     Petal.Length    Petal.Width   \n",
       " Min.   :4.300   Min.   :2.000   Min.   :1.000   Min.   :0.100  \n",
       " 1st Qu.:5.100   1st Qu.:2.800   1st Qu.:1.600   1st Qu.:0.300  \n",
       " Median :5.800   Median :3.000   Median :4.350   Median :1.300  \n",
       " Mean   :5.843   Mean   :3.057   Mean   :3.758   Mean   :1.199  \n",
       " 3rd Qu.:6.400   3rd Qu.:3.300   3rd Qu.:5.100   3rd Qu.:1.800  \n",
       " Max.   :7.900   Max.   :4.400   Max.   :6.900   Max.   :2.500  "
      ]
     },
     "metadata": {},
     "output_type": "display_data"
    }
   ],
   "source": [
    "summary(iris[, 1:4])"
   ]
  },
  {
   "cell_type": "markdown",
   "metadata": {},
   "source": [
    "Por fim, para uma ACP normada em R, caso os valores sejam bastante diferentes, você pode definir scale.unit = TRUE:"
   ]
  },
  {
   "cell_type": "code",
   "execution_count": 10,
   "metadata": {
    "vscode": {
     "languageId": "r"
    }
   },
   "outputs": [],
   "source": [
    "iris_acp <- PCA(iris[, 1:4], scale.unit = TRUE)"
   ]
  },
  {
   "cell_type": "markdown",
   "metadata": {},
   "source": [
    "Para decidir quantos eixos manter com base no Critério de Kaiser, usamos os autovalores. De acordo com esse critério, você deve manter apenas os componentes **com autovalores maiores que 1**, pois eles capturam uma quantidade significativa de variância."
   ]
  },
  {
   "cell_type": "code",
   "execution_count": 11,
   "metadata": {
    "vscode": {
     "languageId": "r"
    }
   },
   "outputs": [
    {
     "data": {
      "text/html": [
       "<table class=\"dataframe\">\n",
       "<caption>A matrix: 4 × 3 of type dbl</caption>\n",
       "<thead>\n",
       "\t<tr><th></th><th scope=col>eigenvalue</th><th scope=col>percentage of variance</th><th scope=col>cumulative percentage of variance</th></tr>\n",
       "</thead>\n",
       "<tbody>\n",
       "\t<tr><th scope=row>comp 1</th><td>2.91849782</td><td>72.9624454</td><td> 72.96245</td></tr>\n",
       "\t<tr><th scope=row>comp 2</th><td>0.91403047</td><td>22.8507618</td><td> 95.81321</td></tr>\n",
       "\t<tr><th scope=row>comp 3</th><td>0.14675688</td><td> 3.6689219</td><td> 99.48213</td></tr>\n",
       "\t<tr><th scope=row>comp 4</th><td>0.02071484</td><td> 0.5178709</td><td>100.00000</td></tr>\n",
       "</tbody>\n",
       "</table>\n"
      ],
      "text/latex": [
       "A matrix: 4 × 3 of type dbl\n",
       "\\begin{tabular}{r|lll}\n",
       "  & eigenvalue & percentage of variance & cumulative percentage of variance\\\\\n",
       "\\hline\n",
       "\tcomp 1 & 2.91849782 & 72.9624454 &  72.96245\\\\\n",
       "\tcomp 2 & 0.91403047 & 22.8507618 &  95.81321\\\\\n",
       "\tcomp 3 & 0.14675688 &  3.6689219 &  99.48213\\\\\n",
       "\tcomp 4 & 0.02071484 &  0.5178709 & 100.00000\\\\\n",
       "\\end{tabular}\n"
      ],
      "text/markdown": [
       "\n",
       "A matrix: 4 × 3 of type dbl\n",
       "\n",
       "| <!--/--> | eigenvalue | percentage of variance | cumulative percentage of variance |\n",
       "|---|---|---|---|\n",
       "| comp 1 | 2.91849782 | 72.9624454 |  72.96245 |\n",
       "| comp 2 | 0.91403047 | 22.8507618 |  95.81321 |\n",
       "| comp 3 | 0.14675688 |  3.6689219 |  99.48213 |\n",
       "| comp 4 | 0.02071484 |  0.5178709 | 100.00000 |\n",
       "\n"
      ],
      "text/plain": [
       "       eigenvalue percentage of variance cumulative percentage of variance\n",
       "comp 1 2.91849782 72.9624454              72.96245                        \n",
       "comp 2 0.91403047 22.8507618              95.81321                        \n",
       "comp 3 0.14675688  3.6689219              99.48213                        \n",
       "comp 4 0.02071484  0.5178709             100.00000                        "
      ]
     },
     "metadata": {},
     "output_type": "display_data"
    }
   ],
   "source": [
    "iris_acp$eig"
   ]
  },
  {
   "cell_type": "markdown",
   "metadata": {},
   "source": [
    "Apenas o Componente 1 tem autovalor maior que 1. Portanto, o Critério de Kaiser sugere manter apenas o primeiro componente."
   ]
  },
  {
   "cell_type": "markdown",
   "metadata": {},
   "source": [
    "Variáveis que mais contribuem para os eixos 1 e 2:"
   ]
  },
  {
   "cell_type": "code",
   "execution_count": 12,
   "metadata": {
    "vscode": {
     "languageId": "r"
    }
   },
   "outputs": [
    {
     "data": {
      "text/html": [
       "<table class=\"dataframe\">\n",
       "<caption>A matrix: 4 × 4 of type dbl</caption>\n",
       "<thead>\n",
       "\t<tr><th></th><th scope=col>Dim.1</th><th scope=col>Dim.2</th><th scope=col>Dim.3</th><th scope=col>Dim.4</th></tr>\n",
       "</thead>\n",
       "<tbody>\n",
       "\t<tr><th scope=row>Sepal.Length</th><td>27.150969</td><td>14.24440565</td><td>51.777574</td><td> 6.827052</td></tr>\n",
       "\t<tr><th scope=row>Sepal.Width</th><td> 7.254804</td><td>85.24748749</td><td> 5.972245</td><td> 1.525463</td></tr>\n",
       "\t<tr><th scope=row>Petal.Length</th><td>33.687936</td><td> 0.05998389</td><td> 2.019990</td><td>64.232089</td></tr>\n",
       "\t<tr><th scope=row>Petal.Width</th><td>31.906291</td><td> 0.44812296</td><td>40.230191</td><td>27.415396</td></tr>\n",
       "</tbody>\n",
       "</table>\n"
      ],
      "text/latex": [
       "A matrix: 4 × 4 of type dbl\n",
       "\\begin{tabular}{r|llll}\n",
       "  & Dim.1 & Dim.2 & Dim.3 & Dim.4\\\\\n",
       "\\hline\n",
       "\tSepal.Length & 27.150969 & 14.24440565 & 51.777574 &  6.827052\\\\\n",
       "\tSepal.Width &  7.254804 & 85.24748749 &  5.972245 &  1.525463\\\\\n",
       "\tPetal.Length & 33.687936 &  0.05998389 &  2.019990 & 64.232089\\\\\n",
       "\tPetal.Width & 31.906291 &  0.44812296 & 40.230191 & 27.415396\\\\\n",
       "\\end{tabular}\n"
      ],
      "text/markdown": [
       "\n",
       "A matrix: 4 × 4 of type dbl\n",
       "\n",
       "| <!--/--> | Dim.1 | Dim.2 | Dim.3 | Dim.4 |\n",
       "|---|---|---|---|---|\n",
       "| Sepal.Length | 27.150969 | 14.24440565 | 51.777574 |  6.827052 |\n",
       "| Sepal.Width |  7.254804 | 85.24748749 |  5.972245 |  1.525463 |\n",
       "| Petal.Length | 33.687936 |  0.05998389 |  2.019990 | 64.232089 |\n",
       "| Petal.Width | 31.906291 |  0.44812296 | 40.230191 | 27.415396 |\n",
       "\n"
      ],
      "text/plain": [
       "             Dim.1     Dim.2       Dim.3     Dim.4    \n",
       "Sepal.Length 27.150969 14.24440565 51.777574  6.827052\n",
       "Sepal.Width   7.254804 85.24748749  5.972245  1.525463\n",
       "Petal.Length 33.687936  0.05998389  2.019990 64.232089\n",
       "Petal.Width  31.906291  0.44812296 40.230191 27.415396"
      ]
     },
     "metadata": {},
     "output_type": "display_data"
    }
   ],
   "source": [
    "iris_acp$var$contrib"
   ]
  },
  {
   "cell_type": "markdown",
   "metadata": {},
   "source": [
    "Variáveis bem representadas no plano (1, 2):"
   ]
  },
  {
   "cell_type": "code",
   "execution_count": 13,
   "metadata": {
    "vscode": {
     "languageId": "r"
    }
   },
   "outputs": [
    {
     "data": {
      "text/html": [
       "<table class=\"dataframe\">\n",
       "<caption>A matrix: 4 × 4 of type dbl</caption>\n",
       "<thead>\n",
       "\t<tr><th></th><th scope=col>Dim.1</th><th scope=col>Dim.2</th><th scope=col>Dim.3</th><th scope=col>Dim.4</th></tr>\n",
       "</thead>\n",
       "<tbody>\n",
       "\t<tr><th scope=row>Sepal.Length</th><td>0.7924004</td><td>0.130198208</td><td>0.075987149</td><td>0.0014142127</td></tr>\n",
       "\t<tr><th scope=row>Sepal.Width</th><td>0.2117313</td><td>0.779188012</td><td>0.008764681</td><td>0.0003159971</td></tr>\n",
       "\t<tr><th scope=row>Petal.Length</th><td>0.9831817</td><td>0.000548271</td><td>0.002964475</td><td>0.0133055723</td></tr>\n",
       "\t<tr><th scope=row>Petal.Width</th><td>0.9311844</td><td>0.004095980</td><td>0.059040571</td><td>0.0056790544</td></tr>\n",
       "</tbody>\n",
       "</table>\n"
      ],
      "text/latex": [
       "A matrix: 4 × 4 of type dbl\n",
       "\\begin{tabular}{r|llll}\n",
       "  & Dim.1 & Dim.2 & Dim.3 & Dim.4\\\\\n",
       "\\hline\n",
       "\tSepal.Length & 0.7924004 & 0.130198208 & 0.075987149 & 0.0014142127\\\\\n",
       "\tSepal.Width & 0.2117313 & 0.779188012 & 0.008764681 & 0.0003159971\\\\\n",
       "\tPetal.Length & 0.9831817 & 0.000548271 & 0.002964475 & 0.0133055723\\\\\n",
       "\tPetal.Width & 0.9311844 & 0.004095980 & 0.059040571 & 0.0056790544\\\\\n",
       "\\end{tabular}\n"
      ],
      "text/markdown": [
       "\n",
       "A matrix: 4 × 4 of type dbl\n",
       "\n",
       "| <!--/--> | Dim.1 | Dim.2 | Dim.3 | Dim.4 |\n",
       "|---|---|---|---|---|\n",
       "| Sepal.Length | 0.7924004 | 0.130198208 | 0.075987149 | 0.0014142127 |\n",
       "| Sepal.Width | 0.2117313 | 0.779188012 | 0.008764681 | 0.0003159971 |\n",
       "| Petal.Length | 0.9831817 | 0.000548271 | 0.002964475 | 0.0133055723 |\n",
       "| Petal.Width | 0.9311844 | 0.004095980 | 0.059040571 | 0.0056790544 |\n",
       "\n"
      ],
      "text/plain": [
       "             Dim.1     Dim.2       Dim.3       Dim.4       \n",
       "Sepal.Length 0.7924004 0.130198208 0.075987149 0.0014142127\n",
       "Sepal.Width  0.2117313 0.779188012 0.008764681 0.0003159971\n",
       "Petal.Length 0.9831817 0.000548271 0.002964475 0.0133055723\n",
       "Petal.Width  0.9311844 0.004095980 0.059040571 0.0056790544"
      ]
     },
     "metadata": {},
     "output_type": "display_data"
    }
   ],
   "source": [
    "# Cos2 das variáveis no plano (1, 2)\n",
    "iris_acp$var$cos2"
   ]
  },
  {
   "cell_type": "markdown",
   "metadata": {},
   "source": [
    "Exemplo de Iris representado no plano (1, 3):"
   ]
  },
  {
   "cell_type": "code",
   "execution_count": 14,
   "metadata": {
    "vscode": {
     "languageId": "r"
    }
   },
   "outputs": [
    {
     "data": {
      "text/html": [
       "<table class=\"dataframe\">\n",
       "<caption>A matrix: 150 × 3 of type dbl</caption>\n",
       "<thead>\n",
       "\t<tr><th></th><th scope=col>Dim.1</th><th scope=col>Dim.2</th><th scope=col>Dim.3</th></tr>\n",
       "</thead>\n",
       "<tbody>\n",
       "\t<tr><th scope=row>1</th><td>0.9539975</td><td>0.0428603196</td><td>3.033525e-03</td></tr>\n",
       "\t<tr><th scope=row>2</th><td>0.8927725</td><td>0.0936924830</td><td>1.134754e-02</td></tr>\n",
       "\t<tr><th scope=row>3</th><td>0.9790410</td><td>0.0204757751</td><td>3.422122e-04</td></tr>\n",
       "\t<tr><th scope=row>4</th><td>0.9346682</td><td>0.0630894655</td><td>1.473268e-03</td></tr>\n",
       "\t<tr><th scope=row>5</th><td>0.9315095</td><td>0.0682395896</td><td>4.039790e-05</td></tr>\n",
       "\t<tr><th scope=row>6</th><td>0.6600989</td><td>0.3397830087</td><td>1.114335e-04</td></tr>\n",
       "\t<tr><th scope=row>7</th><td>0.9809239</td><td>0.0003727715</td><td>1.848124e-02</td></tr>\n",
       "\t<tr><th scope=row>8</th><td>0.9884478</td><td>0.0098723840</td><td>1.559692e-03</td></tr>\n",
       "\t<tr><th scope=row>9</th><td>0.8115435</td><td>0.1852152600</td><td>3.133777e-03</td></tr>\n",
       "\t<tr><th scope=row>10</th><td>0.9434549</td><td>0.0434966878</td><td>1.273359e-02</td></tr>\n",
       "\t<tr><th scope=row>11</th><td>0.8015666</td><td>0.1860552698</td><td>1.233027e-02</td></tr>\n",
       "\t<tr><th scope=row>12</th><td>0.9918759</td><td>0.0032464131</td><td>1.611452e-03</td></tr>\n",
       "\t<tr><th scope=row>13</th><td>0.8938769</td><td>0.0964377747</td><td>9.684299e-03</td></tr>\n",
       "\t<tr><th scope=row>14</th><td>0.8786492</td><td>0.1171615802</td><td>4.142463e-03</td></tr>\n",
       "\t<tr><th scope=row>15</th><td>0.5650488</td><td>0.4043807629</td><td>2.613836e-02</td></tr>\n",
       "\t<tr><th scope=row>16</th><td>0.4148109</td><td>0.5849066264</td><td>7.553351e-05</td></tr>\n",
       "\t<tr><th scope=row>17</th><td>0.6854138</td><td>0.3095679891</td><td>4.016660e-06</td></tr>\n",
       "\t<tr><th scope=row>18</th><td>0.9505502</td><td>0.0473454993</td><td>3.873412e-04</td></tr>\n",
       "\t<tr><th scope=row>19</th><td>0.6298932</td><td>0.3449665783</td><td>2.448797e-02</td></tr>\n",
       "\t<tr><th scope=row>20</th><td>0.8096466</td><td>0.1875496710</td><td>2.593586e-03</td></tr>\n",
       "\t<tr><th scope=row>21</th><td>0.9140097</td><td>0.0416927461</td><td>4.426781e-02</td></tr>\n",
       "\t<tr><th scope=row>22</th><td>0.8465230</td><td>0.1484181799</td><td>4.441578e-03</td></tr>\n",
       "\t<tr><th scope=row>23</th><td>0.9599880</td><td>0.0262015778</td><td>1.376225e-02</td></tr>\n",
       "\t<tr><th scope=row>24</th><td>0.9906097</td><td>0.0021924091</td><td>3.562427e-04</td></tr>\n",
       "\t<tr><th scope=row>25</th><td>0.9791281</td><td>0.0037186755</td><td>2.748222e-03</td></tr>\n",
       "\t<tr><th scope=row>26</th><td>0.8867166</td><td>0.0910988483</td><td>2.174287e-02</td></tr>\n",
       "\t<tr><th scope=row>27</th><td>0.9834773</td><td>0.0137083908</td><td>1.743550e-03</td></tr>\n",
       "\t<tr><th scope=row>28</th><td>0.9361470</td><td>0.0553174196</td><td>8.514587e-03</td></tr>\n",
       "\t<tr><th scope=row>29</th><td>0.9624243</td><td>0.0206257201</td><td>1.545739e-02</td></tr>\n",
       "\t<tr><th scope=row>30</th><td>0.9752045</td><td>0.0216772007</td><td>8.900726e-04</td></tr>\n",
       "\t<tr><th scope=row>⋮</th><td>⋮</td><td>⋮</td><td>⋮</td></tr>\n",
       "\t<tr><th scope=row>121</th><td>0.8198686</td><td>0.1636762351</td><td>1.088557e-02</td></tr>\n",
       "\t<tr><th scope=row>122</th><td>0.4855240</td><td>0.1659526689</td><td>3.481322e-01</td></tr>\n",
       "\t<tr><th scope=row>123</th><td>0.9010088</td><td>0.0183604803</td><td>7.889070e-02</td></tr>\n",
       "\t<tr><th scope=row>124</th><td>0.8759355</td><td>0.1143969339</td><td>1.452106e-05</td></tr>\n",
       "\t<tr><th scope=row>125</th><td>0.7207085</td><td>0.2561508946</td><td>2.219381e-02</td></tr>\n",
       "\t<tr><th scope=row>126</th><td>0.7549599</td><td>0.2007515637</td><td>3.486555e-02</td></tr>\n",
       "\t<tr><th scope=row>127</th><td>0.9123146</td><td>0.0661378489</td><td>1.115483e-02</td></tr>\n",
       "\t<tr><th scope=row>128</th><td>0.8980987</td><td>0.0035674522</td><td>9.826930e-02</td></tr>\n",
       "\t<tr><th scope=row>129</th><td>0.9669461</td><td>0.0106134521</td><td>2.214823e-02</td></tr>\n",
       "\t<tr><th scope=row>130</th><td>0.7993811</td><td>0.0727692958</td><td>1.178714e-01</td></tr>\n",
       "\t<tr><th scope=row>131</th><td>0.9085510</td><td>0.0102935250</td><td>8.110630e-02</td></tr>\n",
       "\t<tr><th scope=row>132</th><td>0.4250633</td><td>0.5518682578</td><td>1.948351e-02</td></tr>\n",
       "\t<tr><th scope=row>133</th><td>0.9539992</td><td>0.0087655254</td><td>3.448514e-02</td></tr>\n",
       "\t<tr><th scope=row>134</th><td>0.8895068</td><td>0.0614850473</td><td>2.412575e-02</td></tr>\n",
       "\t<tr><th scope=row>135</th><td>0.6098699</td><td>0.2776294978</td><td>1.144455e-02</td></tr>\n",
       "\t<tr><th scope=row>136</th><td>0.8752553</td><td>0.0820280709</td><td>3.293444e-02</td></tr>\n",
       "\t<tr><th scope=row>137</th><td>0.5494001</td><td>0.2524935478</td><td>1.978260e-01</td></tr>\n",
       "\t<tr><th scope=row>138</th><td>0.8755744</td><td>0.0862035685</td><td>1.580425e-02</td></tr>\n",
       "\t<tr><th scope=row>139</th><td>0.8308982</td><td>0.0002881718</td><td>1.687869e-01</td></tr>\n",
       "\t<tr><th scope=row>140</th><td>0.8737961</td><td>0.1164568617</td><td>4.090771e-05</td></tr>\n",
       "\t<tr><th scope=row>141</th><td>0.8672096</td><td>0.0805064460</td><td>3.919390e-02</td></tr>\n",
       "\t<tr><th scope=row>142</th><td>0.8353172</td><td>0.1098228322</td><td>3.907659e-03</td></tr>\n",
       "\t<tr><th scope=row>143</th><td>0.6348502</td><td>0.2312786785</td><td>1.330936e-01</td></tr>\n",
       "\t<tr><th scope=row>144</th><td>0.8273394</td><td>0.1495358548</td><td>2.271900e-02</td></tr>\n",
       "\t<tr><th scope=row>145</th><td>0.7208004</td><td>0.1987242107</td><td>7.220417e-02</td></tr>\n",
       "\t<tr><th scope=row>146</th><td>0.9050786</td><td>0.0387360315</td><td>1.698940e-02</td></tr>\n",
       "\t<tr><th scope=row>147</th><td>0.7415355</td><td>0.2435665850</td><td>2.106691e-04</td></tr>\n",
       "\t<tr><th scope=row>148</th><td>0.9510633</td><td>0.0297564707</td><td>1.334317e-02</td></tr>\n",
       "\t<tr><th scope=row>149</th><td>0.4986771</td><td>0.2706035514</td><td>2.305387e-01</td></tr>\n",
       "\t<tr><th scope=row>150</th><td>0.7508462</td><td>0.0004816803</td><td>2.270347e-01</td></tr>\n",
       "</tbody>\n",
       "</table>\n"
      ],
      "text/latex": [
       "A matrix: 150 × 3 of type dbl\n",
       "\\begin{tabular}{r|lll}\n",
       "  & Dim.1 & Dim.2 & Dim.3\\\\\n",
       "\\hline\n",
       "\t1 & 0.9539975 & 0.0428603196 & 3.033525e-03\\\\\n",
       "\t2 & 0.8927725 & 0.0936924830 & 1.134754e-02\\\\\n",
       "\t3 & 0.9790410 & 0.0204757751 & 3.422122e-04\\\\\n",
       "\t4 & 0.9346682 & 0.0630894655 & 1.473268e-03\\\\\n",
       "\t5 & 0.9315095 & 0.0682395896 & 4.039790e-05\\\\\n",
       "\t6 & 0.6600989 & 0.3397830087 & 1.114335e-04\\\\\n",
       "\t7 & 0.9809239 & 0.0003727715 & 1.848124e-02\\\\\n",
       "\t8 & 0.9884478 & 0.0098723840 & 1.559692e-03\\\\\n",
       "\t9 & 0.8115435 & 0.1852152600 & 3.133777e-03\\\\\n",
       "\t10 & 0.9434549 & 0.0434966878 & 1.273359e-02\\\\\n",
       "\t11 & 0.8015666 & 0.1860552698 & 1.233027e-02\\\\\n",
       "\t12 & 0.9918759 & 0.0032464131 & 1.611452e-03\\\\\n",
       "\t13 & 0.8938769 & 0.0964377747 & 9.684299e-03\\\\\n",
       "\t14 & 0.8786492 & 0.1171615802 & 4.142463e-03\\\\\n",
       "\t15 & 0.5650488 & 0.4043807629 & 2.613836e-02\\\\\n",
       "\t16 & 0.4148109 & 0.5849066264 & 7.553351e-05\\\\\n",
       "\t17 & 0.6854138 & 0.3095679891 & 4.016660e-06\\\\\n",
       "\t18 & 0.9505502 & 0.0473454993 & 3.873412e-04\\\\\n",
       "\t19 & 0.6298932 & 0.3449665783 & 2.448797e-02\\\\\n",
       "\t20 & 0.8096466 & 0.1875496710 & 2.593586e-03\\\\\n",
       "\t21 & 0.9140097 & 0.0416927461 & 4.426781e-02\\\\\n",
       "\t22 & 0.8465230 & 0.1484181799 & 4.441578e-03\\\\\n",
       "\t23 & 0.9599880 & 0.0262015778 & 1.376225e-02\\\\\n",
       "\t24 & 0.9906097 & 0.0021924091 & 3.562427e-04\\\\\n",
       "\t25 & 0.9791281 & 0.0037186755 & 2.748222e-03\\\\\n",
       "\t26 & 0.8867166 & 0.0910988483 & 2.174287e-02\\\\\n",
       "\t27 & 0.9834773 & 0.0137083908 & 1.743550e-03\\\\\n",
       "\t28 & 0.9361470 & 0.0553174196 & 8.514587e-03\\\\\n",
       "\t29 & 0.9624243 & 0.0206257201 & 1.545739e-02\\\\\n",
       "\t30 & 0.9752045 & 0.0216772007 & 8.900726e-04\\\\\n",
       "\t⋮ & ⋮ & ⋮ & ⋮\\\\\n",
       "\t121 & 0.8198686 & 0.1636762351 & 1.088557e-02\\\\\n",
       "\t122 & 0.4855240 & 0.1659526689 & 3.481322e-01\\\\\n",
       "\t123 & 0.9010088 & 0.0183604803 & 7.889070e-02\\\\\n",
       "\t124 & 0.8759355 & 0.1143969339 & 1.452106e-05\\\\\n",
       "\t125 & 0.7207085 & 0.2561508946 & 2.219381e-02\\\\\n",
       "\t126 & 0.7549599 & 0.2007515637 & 3.486555e-02\\\\\n",
       "\t127 & 0.9123146 & 0.0661378489 & 1.115483e-02\\\\\n",
       "\t128 & 0.8980987 & 0.0035674522 & 9.826930e-02\\\\\n",
       "\t129 & 0.9669461 & 0.0106134521 & 2.214823e-02\\\\\n",
       "\t130 & 0.7993811 & 0.0727692958 & 1.178714e-01\\\\\n",
       "\t131 & 0.9085510 & 0.0102935250 & 8.110630e-02\\\\\n",
       "\t132 & 0.4250633 & 0.5518682578 & 1.948351e-02\\\\\n",
       "\t133 & 0.9539992 & 0.0087655254 & 3.448514e-02\\\\\n",
       "\t134 & 0.8895068 & 0.0614850473 & 2.412575e-02\\\\\n",
       "\t135 & 0.6098699 & 0.2776294978 & 1.144455e-02\\\\\n",
       "\t136 & 0.8752553 & 0.0820280709 & 3.293444e-02\\\\\n",
       "\t137 & 0.5494001 & 0.2524935478 & 1.978260e-01\\\\\n",
       "\t138 & 0.8755744 & 0.0862035685 & 1.580425e-02\\\\\n",
       "\t139 & 0.8308982 & 0.0002881718 & 1.687869e-01\\\\\n",
       "\t140 & 0.8737961 & 0.1164568617 & 4.090771e-05\\\\\n",
       "\t141 & 0.8672096 & 0.0805064460 & 3.919390e-02\\\\\n",
       "\t142 & 0.8353172 & 0.1098228322 & 3.907659e-03\\\\\n",
       "\t143 & 0.6348502 & 0.2312786785 & 1.330936e-01\\\\\n",
       "\t144 & 0.8273394 & 0.1495358548 & 2.271900e-02\\\\\n",
       "\t145 & 0.7208004 & 0.1987242107 & 7.220417e-02\\\\\n",
       "\t146 & 0.9050786 & 0.0387360315 & 1.698940e-02\\\\\n",
       "\t147 & 0.7415355 & 0.2435665850 & 2.106691e-04\\\\\n",
       "\t148 & 0.9510633 & 0.0297564707 & 1.334317e-02\\\\\n",
       "\t149 & 0.4986771 & 0.2706035514 & 2.305387e-01\\\\\n",
       "\t150 & 0.7508462 & 0.0004816803 & 2.270347e-01\\\\\n",
       "\\end{tabular}\n"
      ],
      "text/markdown": [
       "\n",
       "A matrix: 150 × 3 of type dbl\n",
       "\n",
       "| <!--/--> | Dim.1 | Dim.2 | Dim.3 |\n",
       "|---|---|---|---|\n",
       "| 1 | 0.9539975 | 0.0428603196 | 3.033525e-03 |\n",
       "| 2 | 0.8927725 | 0.0936924830 | 1.134754e-02 |\n",
       "| 3 | 0.9790410 | 0.0204757751 | 3.422122e-04 |\n",
       "| 4 | 0.9346682 | 0.0630894655 | 1.473268e-03 |\n",
       "| 5 | 0.9315095 | 0.0682395896 | 4.039790e-05 |\n",
       "| 6 | 0.6600989 | 0.3397830087 | 1.114335e-04 |\n",
       "| 7 | 0.9809239 | 0.0003727715 | 1.848124e-02 |\n",
       "| 8 | 0.9884478 | 0.0098723840 | 1.559692e-03 |\n",
       "| 9 | 0.8115435 | 0.1852152600 | 3.133777e-03 |\n",
       "| 10 | 0.9434549 | 0.0434966878 | 1.273359e-02 |\n",
       "| 11 | 0.8015666 | 0.1860552698 | 1.233027e-02 |\n",
       "| 12 | 0.9918759 | 0.0032464131 | 1.611452e-03 |\n",
       "| 13 | 0.8938769 | 0.0964377747 | 9.684299e-03 |\n",
       "| 14 | 0.8786492 | 0.1171615802 | 4.142463e-03 |\n",
       "| 15 | 0.5650488 | 0.4043807629 | 2.613836e-02 |\n",
       "| 16 | 0.4148109 | 0.5849066264 | 7.553351e-05 |\n",
       "| 17 | 0.6854138 | 0.3095679891 | 4.016660e-06 |\n",
       "| 18 | 0.9505502 | 0.0473454993 | 3.873412e-04 |\n",
       "| 19 | 0.6298932 | 0.3449665783 | 2.448797e-02 |\n",
       "| 20 | 0.8096466 | 0.1875496710 | 2.593586e-03 |\n",
       "| 21 | 0.9140097 | 0.0416927461 | 4.426781e-02 |\n",
       "| 22 | 0.8465230 | 0.1484181799 | 4.441578e-03 |\n",
       "| 23 | 0.9599880 | 0.0262015778 | 1.376225e-02 |\n",
       "| 24 | 0.9906097 | 0.0021924091 | 3.562427e-04 |\n",
       "| 25 | 0.9791281 | 0.0037186755 | 2.748222e-03 |\n",
       "| 26 | 0.8867166 | 0.0910988483 | 2.174287e-02 |\n",
       "| 27 | 0.9834773 | 0.0137083908 | 1.743550e-03 |\n",
       "| 28 | 0.9361470 | 0.0553174196 | 8.514587e-03 |\n",
       "| 29 | 0.9624243 | 0.0206257201 | 1.545739e-02 |\n",
       "| 30 | 0.9752045 | 0.0216772007 | 8.900726e-04 |\n",
       "| ⋮ | ⋮ | ⋮ | ⋮ |\n",
       "| 121 | 0.8198686 | 0.1636762351 | 1.088557e-02 |\n",
       "| 122 | 0.4855240 | 0.1659526689 | 3.481322e-01 |\n",
       "| 123 | 0.9010088 | 0.0183604803 | 7.889070e-02 |\n",
       "| 124 | 0.8759355 | 0.1143969339 | 1.452106e-05 |\n",
       "| 125 | 0.7207085 | 0.2561508946 | 2.219381e-02 |\n",
       "| 126 | 0.7549599 | 0.2007515637 | 3.486555e-02 |\n",
       "| 127 | 0.9123146 | 0.0661378489 | 1.115483e-02 |\n",
       "| 128 | 0.8980987 | 0.0035674522 | 9.826930e-02 |\n",
       "| 129 | 0.9669461 | 0.0106134521 | 2.214823e-02 |\n",
       "| 130 | 0.7993811 | 0.0727692958 | 1.178714e-01 |\n",
       "| 131 | 0.9085510 | 0.0102935250 | 8.110630e-02 |\n",
       "| 132 | 0.4250633 | 0.5518682578 | 1.948351e-02 |\n",
       "| 133 | 0.9539992 | 0.0087655254 | 3.448514e-02 |\n",
       "| 134 | 0.8895068 | 0.0614850473 | 2.412575e-02 |\n",
       "| 135 | 0.6098699 | 0.2776294978 | 1.144455e-02 |\n",
       "| 136 | 0.8752553 | 0.0820280709 | 3.293444e-02 |\n",
       "| 137 | 0.5494001 | 0.2524935478 | 1.978260e-01 |\n",
       "| 138 | 0.8755744 | 0.0862035685 | 1.580425e-02 |\n",
       "| 139 | 0.8308982 | 0.0002881718 | 1.687869e-01 |\n",
       "| 140 | 0.8737961 | 0.1164568617 | 4.090771e-05 |\n",
       "| 141 | 0.8672096 | 0.0805064460 | 3.919390e-02 |\n",
       "| 142 | 0.8353172 | 0.1098228322 | 3.907659e-03 |\n",
       "| 143 | 0.6348502 | 0.2312786785 | 1.330936e-01 |\n",
       "| 144 | 0.8273394 | 0.1495358548 | 2.271900e-02 |\n",
       "| 145 | 0.7208004 | 0.1987242107 | 7.220417e-02 |\n",
       "| 146 | 0.9050786 | 0.0387360315 | 1.698940e-02 |\n",
       "| 147 | 0.7415355 | 0.2435665850 | 2.106691e-04 |\n",
       "| 148 | 0.9510633 | 0.0297564707 | 1.334317e-02 |\n",
       "| 149 | 0.4986771 | 0.2706035514 | 2.305387e-01 |\n",
       "| 150 | 0.7508462 | 0.0004816803 | 2.270347e-01 |\n",
       "\n"
      ],
      "text/plain": [
       "    Dim.1     Dim.2        Dim.3       \n",
       "1   0.9539975 0.0428603196 3.033525e-03\n",
       "2   0.8927725 0.0936924830 1.134754e-02\n",
       "3   0.9790410 0.0204757751 3.422122e-04\n",
       "4   0.9346682 0.0630894655 1.473268e-03\n",
       "5   0.9315095 0.0682395896 4.039790e-05\n",
       "6   0.6600989 0.3397830087 1.114335e-04\n",
       "7   0.9809239 0.0003727715 1.848124e-02\n",
       "8   0.9884478 0.0098723840 1.559692e-03\n",
       "9   0.8115435 0.1852152600 3.133777e-03\n",
       "10  0.9434549 0.0434966878 1.273359e-02\n",
       "11  0.8015666 0.1860552698 1.233027e-02\n",
       "12  0.9918759 0.0032464131 1.611452e-03\n",
       "13  0.8938769 0.0964377747 9.684299e-03\n",
       "14  0.8786492 0.1171615802 4.142463e-03\n",
       "15  0.5650488 0.4043807629 2.613836e-02\n",
       "16  0.4148109 0.5849066264 7.553351e-05\n",
       "17  0.6854138 0.3095679891 4.016660e-06\n",
       "18  0.9505502 0.0473454993 3.873412e-04\n",
       "19  0.6298932 0.3449665783 2.448797e-02\n",
       "20  0.8096466 0.1875496710 2.593586e-03\n",
       "21  0.9140097 0.0416927461 4.426781e-02\n",
       "22  0.8465230 0.1484181799 4.441578e-03\n",
       "23  0.9599880 0.0262015778 1.376225e-02\n",
       "24  0.9906097 0.0021924091 3.562427e-04\n",
       "25  0.9791281 0.0037186755 2.748222e-03\n",
       "26  0.8867166 0.0910988483 2.174287e-02\n",
       "27  0.9834773 0.0137083908 1.743550e-03\n",
       "28  0.9361470 0.0553174196 8.514587e-03\n",
       "29  0.9624243 0.0206257201 1.545739e-02\n",
       "30  0.9752045 0.0216772007 8.900726e-04\n",
       "⋮   ⋮         ⋮            ⋮           \n",
       "121 0.8198686 0.1636762351 1.088557e-02\n",
       "122 0.4855240 0.1659526689 3.481322e-01\n",
       "123 0.9010088 0.0183604803 7.889070e-02\n",
       "124 0.8759355 0.1143969339 1.452106e-05\n",
       "125 0.7207085 0.2561508946 2.219381e-02\n",
       "126 0.7549599 0.2007515637 3.486555e-02\n",
       "127 0.9123146 0.0661378489 1.115483e-02\n",
       "128 0.8980987 0.0035674522 9.826930e-02\n",
       "129 0.9669461 0.0106134521 2.214823e-02\n",
       "130 0.7993811 0.0727692958 1.178714e-01\n",
       "131 0.9085510 0.0102935250 8.110630e-02\n",
       "132 0.4250633 0.5518682578 1.948351e-02\n",
       "133 0.9539992 0.0087655254 3.448514e-02\n",
       "134 0.8895068 0.0614850473 2.412575e-02\n",
       "135 0.6098699 0.2776294978 1.144455e-02\n",
       "136 0.8752553 0.0820280709 3.293444e-02\n",
       "137 0.5494001 0.2524935478 1.978260e-01\n",
       "138 0.8755744 0.0862035685 1.580425e-02\n",
       "139 0.8308982 0.0002881718 1.687869e-01\n",
       "140 0.8737961 0.1164568617 4.090771e-05\n",
       "141 0.8672096 0.0805064460 3.919390e-02\n",
       "142 0.8353172 0.1098228322 3.907659e-03\n",
       "143 0.6348502 0.2312786785 1.330936e-01\n",
       "144 0.8273394 0.1495358548 2.271900e-02\n",
       "145 0.7208004 0.1987242107 7.220417e-02\n",
       "146 0.9050786 0.0387360315 1.698940e-02\n",
       "147 0.7415355 0.2435665850 2.106691e-04\n",
       "148 0.9510633 0.0297564707 1.334317e-02\n",
       "149 0.4986771 0.2706035514 2.305387e-01\n",
       "150 0.7508462 0.0004816803 2.270347e-01"
      ]
     },
     "metadata": {},
     "output_type": "display_data"
    }
   ],
   "source": [
    "# Cos2 dos indivíduos no plano (1, 2) e (1, 3)\n",
    "iris_acp$ind$cos2[, c(1, 2, 3)]"
   ]
  },
  {
   "cell_type": "markdown",
   "metadata": {},
   "source": [
    "# Part 2\n",
    "Distância entre Iris 6 e 3:"
   ]
  },
  {
   "cell_type": "code",
   "execution_count": 17,
   "metadata": {
    "vscode": {
     "languageId": "r"
    }
   },
   "outputs": [
    {
     "data": {
      "text/html": [
       "1.08627804912002"
      ],
      "text/latex": [
       "1.08627804912002"
      ],
      "text/markdown": [
       "1.08627804912002"
      ],
      "text/plain": [
       "[1] 1.086278"
      ]
     },
     "metadata": {},
     "output_type": "display_data"
    }
   ],
   "source": [
    "dist_iris <- dist(iris[, 1:4])\n",
    "as.matrix(dist_iris)[6, 3]"
   ]
  },
  {
   "cell_type": "code",
   "execution_count": 18,
   "metadata": {
    "vscode": {
     "languageId": "r"
    }
   },
   "outputs": [
    {
     "data": {
      "image/png": "[encoded data removed]",
      "text/plain": [
       "Plot with title \"Cluster Dendrogram\""
      ]
     },
     "metadata": {
      "image/png": {
       "height": 420,
       "width": 420
      }
     },
     "output_type": "display_data"
    }
   ],
   "source": [
    "hc_iris <- hclust(dist_iris, method = \"ward.D2\")\n",
    "plot(hc_iris)"
   ]
  },
  {
   "cell_type": "markdown",
   "metadata": {},
   "source": [
    "Gere o dendrograma e observe os \"níveis de altura\" em que os grupos são formados."
   ]
  },
  {
   "cell_type": "markdown",
   "metadata": {},
   "source": [
    "## Procure Grandes Saltos nos Ramos: \n",
    "Observe onde há grandes distâncias verticais (grandes saltos) entre as junções dos grupos. Estes saltos indicam um nível importante de separação entre grupos.\n",
    "\n",
    "## Cada linha horizontal representa uma união de grupos, e a altura mostra o \"custo\" ou \"distância\" para unir esses grupos.\n",
    "Um grande salto significa que unir mais grupos além daquele ponto traria uma grande perda de similaridade, então geralmente cortamos o dendrograma antes desse grande salto.\n"
   ]
  },
  {
   "cell_type": "markdown",
   "metadata": {},
   "source": [
    "---\n",
    "Como disse o enunciado, trabalharemos com 3 classes."
   ]
  },
  {
   "cell_type": "code",
   "execution_count": 20,
   "metadata": {
    "vscode": {
     "languageId": "r"
    }
   },
   "outputs": [
    {
     "data": {
      "text/plain": [
       "classes\n",
       " 1  2  3 \n",
       "50 64 36 "
      ]
     },
     "metadata": {},
     "output_type": "display_data"
    }
   ],
   "source": [
    "classes <- cutree(hc_iris, k = 3)\n",
    "table(classes)  # Ver quantas observações estão em cada classe"
   ]
  },
  {
   "cell_type": "markdown",
   "metadata": {},
   "source": [
    "Classe do Iris 70:"
   ]
  },
  {
   "cell_type": "code",
   "execution_count": 21,
   "metadata": {
    "vscode": {
     "languageId": "r"
    }
   },
   "outputs": [
    {
     "data": {
      "text/html": [
       "2"
      ],
      "text/latex": [
       "2"
      ],
      "text/markdown": [
       "2"
      ],
      "text/plain": [
       "[1] 2"
      ]
     },
     "metadata": {},
     "output_type": "display_data"
    }
   ],
   "source": [
    "classes[70]"
   ]
  },
  {
   "cell_type": "markdown",
   "metadata": {},
   "source": [
    "Média de Sepal.Length por Classe"
   ]
  },
  {
   "cell_type": "code",
   "execution_count": 22,
   "metadata": {
    "vscode": {
     "languageId": "r"
    }
   },
   "outputs": [
    {
     "data": {
      "text/html": [
       "<table class=\"dataframe\">\n",
       "<caption>A data.frame: 3 × 2</caption>\n",
       "<thead>\n",
       "\t<tr><th scope=col>classes</th><th scope=col>Sepal.Length</th></tr>\n",
       "\t<tr><th scope=col>&lt;int&gt;</th><th scope=col>&lt;dbl&gt;</th></tr>\n",
       "</thead>\n",
       "<tbody>\n",
       "\t<tr><td>1</td><td>5.006000</td></tr>\n",
       "\t<tr><td>2</td><td>5.920312</td></tr>\n",
       "\t<tr><td>3</td><td>6.869444</td></tr>\n",
       "</tbody>\n",
       "</table>\n"
      ],
      "text/latex": [
       "A data.frame: 3 × 2\n",
       "\\begin{tabular}{ll}\n",
       " classes & Sepal.Length\\\\\n",
       " <int> & <dbl>\\\\\n",
       "\\hline\n",
       "\t 1 & 5.006000\\\\\n",
       "\t 2 & 5.920312\\\\\n",
       "\t 3 & 6.869444\\\\\n",
       "\\end{tabular}\n"
      ],
      "text/markdown": [
       "\n",
       "A data.frame: 3 × 2\n",
       "\n",
       "| classes &lt;int&gt; | Sepal.Length &lt;dbl&gt; |\n",
       "|---|---|\n",
       "| 1 | 5.006000 |\n",
       "| 2 | 5.920312 |\n",
       "| 3 | 6.869444 |\n",
       "\n"
      ],
      "text/plain": [
       "  classes Sepal.Length\n",
       "1 1       5.006000    \n",
       "2 2       5.920312    \n",
       "3 3       6.869444    "
      ]
     },
     "metadata": {},
     "output_type": "display_data"
    }
   ],
   "source": [
    "aggregate(Sepal.Length ~ classes, data = iris, mean)"
   ]
  },
  {
   "cell_type": "markdown",
   "metadata": {},
   "source": [
    "CAH significa Classificação Ascendente Hierárquica (em inglês, Hierarchical Ascendant Classification - HAC), que é um método de agrupamento hierárquico. Ele organiza os dados em uma hierarquia de grupos ou clusters sem a necessidade de definir um número fixo de grupos antes de iniciar o processo."
   ]
  },
  {
   "cell_type": "code",
   "execution_count": null,
   "metadata": {
    "vscode": {
     "languageId": "r"
    }
   },
   "outputs": [],
   "source": [
    "dist_acp <- dist(iris_acp$ind$coord[, 1:4])\n",
    "hc_acp <- hclust(dist_acp, method = \"ward.D2\")\n",
    "plot(hc_acp)"
   ]
  },
  {
   "cell_type": "markdown",
   "metadata": {},
   "source": [
    "Classificação das Variáveis por Discriminância: Utilize uma análise discriminante linear para verificar a importância das variáveis."
   ]
  },
  {
   "cell_type": "code",
   "execution_count": 23,
   "metadata": {
    "vscode": {
     "languageId": "r"
    }
   },
   "outputs": [
    {
     "data": {
      "text/plain": [
       "Call:\n",
       "lda(Species ~ ., data = iris)\n",
       "\n",
       "Prior probabilities of groups:\n",
       "    setosa versicolor  virginica \n",
       " 0.3333333  0.3333333  0.3333333 \n",
       "\n",
       "Group means:\n",
       "           Sepal.Length Sepal.Width Petal.Length Petal.Width\n",
       "setosa            5.006       3.428        1.462       0.246\n",
       "versicolor        5.936       2.770        4.260       1.326\n",
       "virginica         6.588       2.974        5.552       2.026\n",
       "\n",
       "Coefficients of linear discriminants:\n",
       "                    LD1         LD2\n",
       "Sepal.Length  0.8293776 -0.02410215\n",
       "Sepal.Width   1.5344731 -2.16452123\n",
       "Petal.Length -2.2012117  0.93192121\n",
       "Petal.Width  -2.8104603 -2.83918785\n",
       "\n",
       "Proportion of trace:\n",
       "   LD1    LD2 \n",
       "0.9912 0.0088 "
      ]
     },
     "metadata": {},
     "output_type": "display_data"
    }
   ],
   "source": [
    "library(MASS)\n",
    "lda_model <- lda(Species ~ ., data = iris)\n",
    "lda_model\n"
   ]
  },
  {
   "cell_type": "markdown",
   "metadata": {},
   "source": [
    "#### Conclusão\n",
    "\n",
    "O LD1 captura 99.12% da variância discriminante (o que significa que a maior parte da separação entre as classes está nesse eixo), enquanto o LD2 captura apenas 0.88%.\n",
    "\n",
    "As variáveis mais importantes para a separação entre as classes são aquelas com os maiores valores absolutos nos coeficientes de LD1 (já que ele captura quase toda a discriminação):\n",
    "\n",
    "Petal.Width: -2.8104603 (mais discriminante)\n",
    "Petal.Length: -2.2012117\n",
    "Sepal.Width: 1.5344731\n",
    "Sepal.Length: 0.8293776 (menos discriminante)\n",
    "\n",
    "A ordem de importância (da mais discriminante para a menos discriminante) é:\n",
    "\n",
    "1. Petal.Width\n",
    "2. Petal.Length\n",
    "3. Sepal.Width\n",
    "4. Sepal.Length"
   ]
  },
  {
   "cell_type": "markdown",
   "metadata": {},
   "source": [
    "Teste de Wilks:"
   ]
  },
  {
   "cell_type": "code",
   "execution_count": 24,
   "metadata": {
    "vscode": {
     "languageId": "r"
    }
   },
   "outputs": [
    {
     "data": {
      "text/plain": [
       "           Df    Wilks approx F num Df den Df    Pr(>F)    \n",
       "Species     2 0.023439   199.15      8    288 < 2.2e-16 ***\n",
       "Residuals 147                                              \n",
       "---\n",
       "Signif. codes:  0 '***' 0.001 '**' 0.01 '*' 0.05 '.' 0.1 ' ' 1"
      ]
     },
     "metadata": {},
     "output_type": "display_data"
    }
   ],
   "source": [
    "iris_manova <- manova(cbind(Sepal.Length, Sepal.Width, Petal.Length, Petal.Width) ~ Species, data = iris)\n",
    "summary(iris_manova, test = \"Wilks\")"
   ]
  },
  {
   "cell_type": "code",
   "execution_count": null,
   "metadata": {
    "vscode": {
     "languageId": "r"
    }
   },
   "outputs": [],
   "source": [
    "lda_model$svd^2 / sum(lda_model$svd^2)"
   ]
  },
  {
   "cell_type": "markdown",
   "metadata": {},
   "source": [
    "Taxa de Erro do Modelo Discriminante:"
   ]
  },
  {
   "cell_type": "code",
   "execution_count": 25,
   "metadata": {
    "vscode": {
     "languageId": "r"
    }
   },
   "outputs": [
    {
     "data": {
      "text/plain": [
       "            \n",
       "             setosa versicolor virginica\n",
       "  setosa         50          0         0\n",
       "  versicolor      0         48         1\n",
       "  virginica       0          2        49"
      ]
     },
     "metadata": {},
     "output_type": "display_data"
    },
    {
     "data": {
      "text/html": [
       "0.02"
      ],
      "text/latex": [
       "0.02"
      ],
      "text/markdown": [
       "0.02"
      ],
      "text/plain": [
       "[1] 0.02"
      ]
     },
     "metadata": {},
     "output_type": "display_data"
    }
   ],
   "source": [
    "predictions <- predict(lda_model)\n",
    "table(predictions$class, iris$Species)\n",
    "mean(predictions$class != iris$Species)"
   ]
  },
  {
   "cell_type": "code",
   "execution_count": 26,
   "metadata": {
    "vscode": {
     "languageId": "r"
    }
   },
   "outputs": [
    {
     "data": {
      "text/html": [
       "<dl>\n",
       "\t<dt>$class</dt>\n",
       "\t\t<dd>virginica\n",
       "<details>\n",
       "\t<summary style=display:list-item;cursor:pointer>\n",
       "\t\t<strong>Levels</strong>:\n",
       "\t</summary>\n",
       "\t<style>\n",
       "\t.list-inline {list-style: none; margin:0; padding: 0}\n",
       "\t.list-inline>li {display: inline-block}\n",
       "\t.list-inline>li:not(:last-child)::after {content: \"\\00b7\"; padding: 0 .5ex}\n",
       "\t</style>\n",
       "\t<ol class=list-inline><li>'setosa'</li><li>'versicolor'</li><li>'virginica'</li></ol>\n",
       "</details></dd>\n",
       "\t<dt>$posterior</dt>\n",
       "\t\t<dd><table class=\"dataframe\">\n",
       "<caption>A matrix: 1 × 3 of type dbl</caption>\n",
       "<thead>\n",
       "\t<tr><th></th><th scope=col>setosa</th><th scope=col>versicolor</th><th scope=col>virginica</th></tr>\n",
       "</thead>\n",
       "<tbody>\n",
       "\t<tr><th scope=row>1</th><td>1.289824e-32</td><td>0.02988645</td><td>0.9701136</td></tr>\n",
       "</tbody>\n",
       "</table>\n",
       "</dd>\n",
       "\t<dt>$x</dt>\n",
       "\t\t<dd><table class=\"dataframe\">\n",
       "<caption>A matrix: 1 × 2 of type dbl</caption>\n",
       "<thead>\n",
       "\t<tr><th></th><th scope=col>LD1</th><th scope=col>LD2</th></tr>\n",
       "</thead>\n",
       "<tbody>\n",
       "\t<tr><th scope=row>1</th><td>-4.571524</td><td>-0.2484825</td></tr>\n",
       "</tbody>\n",
       "</table>\n",
       "</dd>\n",
       "</dl>\n"
      ],
      "text/latex": [
       "\\begin{description}\n",
       "\\item[\\$class] virginica\n",
       "\\emph{Levels}: \\begin{enumerate*}\n",
       "\\item 'setosa'\n",
       "\\item 'versicolor'\n",
       "\\item 'virginica'\n",
       "\\end{enumerate*}\n",
       "\n",
       "\\item[\\$posterior] A matrix: 1 × 3 of type dbl\n",
       "\\begin{tabular}{r|lll}\n",
       "  & setosa & versicolor & virginica\\\\\n",
       "\\hline\n",
       "\t1 & 1.289824e-32 & 0.02988645 & 0.9701136\\\\\n",
       "\\end{tabular}\n",
       "\n",
       "\\item[\\$x] A matrix: 1 × 2 of type dbl\n",
       "\\begin{tabular}{r|ll}\n",
       "  & LD1 & LD2\\\\\n",
       "\\hline\n",
       "\t1 & -4.571524 & -0.2484825\\\\\n",
       "\\end{tabular}\n",
       "\n",
       "\\end{description}\n"
      ],
      "text/markdown": [
       "$class\n",
       ":   virginica\n",
       "**Levels**: 1. 'setosa'\n",
       "2. 'versicolor'\n",
       "3. 'virginica'\n",
       "\n",
       "\n",
       "\n",
       "$posterior\n",
       ":   \n",
       "A matrix: 1 × 3 of type dbl\n",
       "\n",
       "| <!--/--> | setosa | versicolor | virginica |\n",
       "|---|---|---|---|\n",
       "| 1 | 1.289824e-32 | 0.02988645 | 0.9701136 |\n",
       "\n",
       "\n",
       "$x\n",
       ":   \n",
       "A matrix: 1 × 2 of type dbl\n",
       "\n",
       "| <!--/--> | LD1 | LD2 |\n",
       "|---|---|---|\n",
       "| 1 | -4.571524 | -0.2484825 |\n",
       "\n",
       "\n",
       "\n",
       "\n"
      ],
      "text/plain": [
       "$class\n",
       "[1] virginica\n",
       "Levels: setosa versicolor virginica\n",
       "\n",
       "$posterior\n",
       "        setosa versicolor virginica\n",
       "1 1.289824e-32 0.02988645 0.9701136\n",
       "\n",
       "$x\n",
       "        LD1        LD2\n",
       "1 -4.571524 -0.2484825\n"
      ]
     },
     "metadata": {},
     "output_type": "display_data"
    }
   ],
   "source": [
    "new_iris <- data.frame(Sepal.Length = 6.3, Sepal.Width = 3, Petal.Length = 5.2, Petal.Width = 1.8)\n",
    "predict(lda_model, newdata = new_iris)"
   ]
  }
 ],
 "metadata": {
  "kernelspec": {
   "display_name": "R",
   "language": "R",
   "name": "ir"
  },
  "language_info": {
   "codemirror_mode": "r",
   "file_extension": ".r",
   "mimetype": "text/x-r-source",
   "name": "R",
   "pygments_lexer": "r",
   "version": "4.4.1"
  }
 },
 "nbformat": 4,
 "nbformat_minor": 2
}
