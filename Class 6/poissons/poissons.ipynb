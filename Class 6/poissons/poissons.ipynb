{
 "cells": [
  {
   "cell_type": "markdown",
   "id": "7af9e3e2",
   "metadata": {},
   "source": [
    "# Analyse discriminante"
   ]
  },
  {
   "cell_type": "markdown",
   "id": "6a9e75c8",
   "metadata": {},
   "source": [
    "Set the work directory. \n",
    "> If you don't know, you can use the following code to find out the current working directory: getwd()\n"
   ]
  },
  {
   "cell_type": "code",
   "execution_count": 2,
   "id": "39044747",
   "metadata": {
    "vscode": {
     "languageId": "r"
    }
   },
   "outputs": [],
   "source": [
    "setwd(\"C:/Users/diogo/code/Analyse de Donne/Aula 6/poissons\")"
   ]
  },
  {
   "cell_type": "code",
   "execution_count": null,
   "id": "78c10c18",
   "metadata": {
    "vscode": {
     "languageId": "r"
    }
   },
   "outputs": [],
   "source": [
    "# Importar as bibliotecas necessárias\n",
    "library(MASS)"
   ]
  },
  {
   "cell_type": "markdown",
   "id": "0c048c15",
   "metadata": {},
   "source": [
    "### 1º Passo: Preparação dos Dados"
   ]
  },
  {
   "cell_type": "code",
   "execution_count": null,
   "id": "72213450",
   "metadata": {
    "vscode": {
     "languageId": "r"
    }
   },
   "outputs": [],
   "source": [
    "# Nesse caso, os dados já estão disponíveis no ambiente de trabalho através do formato .rda\n",
    "load(\"poissons.rda\")\n",
    "poissons"
   ]
  },
  {
   "cell_type": "markdown",
   "id": "38f7a6b1",
   "metadata": {},
   "source": [
    "### 2º Passo: Análise Exploratória de Dados (AED)"
   ]
  },
  {
   "cell_type": "code",
   "execution_count": null,
   "id": "859acf50",
   "metadata": {
    "vscode": {
     "languageId": "r"
    }
   },
   "outputs": [],
   "source": [
    "poissons2 <- split(poissons[, c(2:15)], poissons[, 1])\n",
    "poissons2\n",
    "\n",
    "summary(poissons2$site1)\n",
    "summary(poissons2$site2)\n",
    "summary(poissons2$site3)"
   ]
  },
  {
   "cell_type": "markdown",
   "id": "25804270",
   "metadata": {},
   "source": [
    "### 2.b Visualização Gráfica"
   ]
  },
  {
   "cell_type": "code",
   "execution_count": null,
   "id": "8bf4e58c",
   "metadata": {
    "vscode": {
     "languageId": "r"
    }
   },
   "outputs": [],
   "source": [
    "boxplot(YEU ~ site, data = poissons, main = \"YEU por Site\")\n",
    "boxplot(BR ~ site, data = poissons, main = \"BR por Site\")\n",
    "boxplot(FOI ~ site, data = poissons, main = \"FOI por Site\")"
   ]
  },
  {
   "cell_type": "markdown",
   "id": "1ff3ac8d",
   "metadata": {},
   "source": [
    "### 3º Passo: Teste de Diferenças entre Grupos"
   ]
  },
  {
   "cell_type": "code",
   "execution_count": 1,
   "id": "537fa738",
   "metadata": {
    "vscode": {
     "languageId": "r"
    }
   },
   "outputs": [
    {
     "ename": "ERROR",
     "evalue": "Error: objeto 'poissons' não encontrado\n",
     "output_type": "error",
     "traceback": [
      "Error: objeto 'poissons' não encontrado\nTraceback:\n",
      "1. lapply(X = X, FUN = FUN, ...)",
      "2. .handleSimpleError(function (cnd) \n . {\n .     watcher$capture_plot_and_output()\n .     cnd <- sanitize_call(cnd)\n .     watcher$push(cnd)\n .     switch(on_error, continue = invokeRestart(\"eval_continue\"), \n .         stop = invokeRestart(\"eval_stop\"), error = invokeRestart(\"eval_error\", \n .             cnd))\n . }, \"objeto 'poissons' não encontrado\", base::quote(eval(expr, \n .     envir)))"
     ]
    }
   ],
   "source": [
    "anova_results <- sapply(poissons[, -1], function(x) {\n",
    "  summary(aov(x ~ poissons$site))[[1]][[\"Pr(>F)\"]][1]\n",
    "})\n",
    "\n",
    "anova_results <- data.frame(\n",
    "  Variável = names(anova_results),\n",
    "  p_value = anova_results\n",
    ")\n",
    "\n",
    "print(anova_results)"
   ]
  },
  {
   "cell_type": "markdown",
   "id": "f36975bf",
   "metadata": {},
   "source": [
    "### 4º Passo: Verificação de Multicolinearidade"
   ]
  },
  {
   "cell_type": "code",
   "execution_count": null,
   "id": "fc9ecf32",
   "metadata": {
    "vscode": {
     "languageId": "r"
    }
   },
   "outputs": [],
   "source": [
    "library(corrplot)\n",
    "\n",
    "cor_matrix <- cor(poissons[, -1])\n",
    "\n",
    "corrplot(cor_matrix, method = \"circle\")"
   ]
  },
  {
   "cell_type": "markdown",
   "id": "69328eb8",
   "metadata": {},
   "source": [
    "### 5º Passo: Seleção de Variáveis"
   ]
  },
  {
   "cell_type": "code",
   "execution_count": null,
   "id": "70dd9f73",
   "metadata": {
    "vscode": {
     "languageId": "r"
    }
   },
   "outputs": [],
   "source": [
    "# Opção 1: Seleção manual\n",
    "modele <- aov(NAG ~ site, data = poissons)\n",
    "summary(modele)\n",
    "\n",
    "modele_test <- lda(site ~ ., data = poissons)\n",
    "modele_test\n",
    "\n",
    "modele2 <- lda(site ~ YEU + BR, data = poissons)\n",
    "modele2\n",
    "\n",
    "prev1 <- lda(site ~ ., data = poissons, CV = TRUE)$class\n",
    "table(prev1, poissons$site)\n",
    "\n",
    "sum(prev1 != poissons$site) / nrow(poissons)\n",
    "\n",
    "# Escolhendo o modelo 2\n",
    "prev2 <- lda(site ~ YEU + BR, data = poissons, CV = TRUE)$class\n",
    "table(prev2, poissons$site)\n",
    "sum(prev2 != poissons$site) / nrow(poissons)\n",
    "\n",
    "modele2_pred <- predict(modele2, newdata = poissons)$class\n",
    "modele2_pred"
   ]
  },
  {
   "cell_type": "code",
   "execution_count": null,
   "id": "7d47be8c",
   "metadata": {
    "vscode": {
     "languageId": "r"
    }
   },
   "outputs": [],
   "source": [
    "# Opção 2: Seleção automática com Klar\n",
    "library(klaR)\n",
    "\n",
    "preditoras <- poissons[, -1] # Todas as colunas exceto 'site'\n",
    "resposta <- poissons$site\n",
    "\n",
    "modelo_step <- stepclass(\n",
    "  preditoras,\n",
    "  poissons$site,\n",
    "  method = \"lda\",\n",
    "  direction = \"both\"\n",
    ")\n",
    "\n",
    "formula_lda <- modelo_step$formula\n",
    "modelo_lda <- lda(formula_lda, data = poissons)\n",
    "plot(modelo_lda)"
   ]
  },
  {
   "cell_type": "markdown",
   "id": "52ace543",
   "metadata": {},
   "source": [
    "### 6º Passo: Validação do Modelo"
   ]
  },
  {
   "cell_type": "code",
   "execution_count": null,
   "id": "05485a99",
   "metadata": {
    "vscode": {
     "languageId": "r"
    }
   },
   "outputs": [],
   "source": [
    "predicoes <- predict(modelo_lda, poissons)$class\n",
    "confusao <- table(Predito = predicoes, Real = resposta)\n",
    "\n",
    "taxa_acerto <- sum(diag(confusao)) / sum(confusao)\n",
    "print(paste(\"Taxa de acerto:\", round(taxa_acerto * 100, 2), \"%\"))\n",
    "\n",
    "# Validação Cruzada\n",
    "predicoes_cv <- lda(formula_lda, data = poissons, CV = TRUE)$class\n",
    "confusao_cv <- table(Predito = predicoes_cv, Real = poissons$site)\n",
    "taxa_acerto_cv <- sum(diag(confusao_cv)) / sum(confusao_cv)\n",
    "print(paste(\"Taxa de acerto com validação cruzada:\", round(taxa_acerto_cv * 100, 2), \"%\"))"
   ]
  },
  {
   "cell_type": "markdown",
   "id": "df52532a",
   "metadata": {},
   "source": [
    "### 7º Passo: Entendimento dos Dados"
   ]
  },
  {
   "cell_type": "code",
   "execution_count": null,
   "id": "4be7facf",
   "metadata": {
    "vscode": {
     "languageId": "r"
    }
   },
   "outputs": [],
   "source": [
    "print(\"Coeficientes das funções discriminantes:\")\n",
    "print(modelo_lda$scaling)\n",
    "\n",
    "# Teste de Shapiro-Wilk para NAG e YEU\n",
    "print(\"Teste de Shapiro-Wilk para NAG:\")\n",
    "by(poissons$NAG, poissons$site, shapiro.test)\n",
    "\n",
    "print(\"Teste de Shapiro-Wilk para YEU:\")\n",
    "by(poissons$YEU, poissons$site, shapiro.test)"
   ]
  },
  {
   "cell_type": "markdown",
   "id": "131a9c73",
   "metadata": {},
   "source": [
    "### 8º Passo: Simulação de Novo Dado"
   ]
  },
  {
   "cell_type": "code",
   "execution_count": null,
   "id": "a42e614b",
   "metadata": {
    "vscode": {
     "languageId": "r"
    }
   },
   "outputs": [],
   "source": [
    "n_don1 <- matrix(\n",
    "  c(10, 70, 50, 100, 20, 120, 130, 1, 120, 200, 50, 50, 18, 10),\n",
    "  ncol = 14,\n",
    "  byrow = TRUE\n",
    ")\n",
    "n_don1 <- data.frame(n_don1)\n",
    "names(n_don1) <- names(poissons[-1])\n",
    "n_don1\n",
    "predict(modele2, newdata = n_don1)\n",
    "\n",
    "plot(modele)"
   ]
  }
 ],
 "metadata": {
  "kernelspec": {
   "display_name": "R",
   "language": "R",
   "name": "ir"
  },
  "language_info": {
   "codemirror_mode": "r",
   "file_extension": ".r",
   "mimetype": "text/x-r-source",
   "name": "R",
   "pygments_lexer": "r",
   "version": "4.4.1"
  }
 },
 "nbformat": 4,
 "nbformat_minor": 5
}
