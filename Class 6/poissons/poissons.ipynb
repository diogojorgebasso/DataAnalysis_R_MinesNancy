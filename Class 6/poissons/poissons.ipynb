{
 "cells": [
  {
   "cell_type": "markdown",
   "id": "7af9e3e2",
   "metadata": {},
   "source": [
    "# Analyse discriminante"
   ]
  },
  {
   "cell_type": "markdown",
   "id": "6a9e75c8",
   "metadata": {},
   "source": [
    "Set the work directory. \n",
    "> If you don't know, you can use the following code to find out the current working directory: getwd()\n"
   ]
  },
  {
   "cell_type": "code",
   "execution_count": 13,
   "id": "78c10c18",
   "metadata": {
    "vscode": {
     "languageId": "r"
    }
   },
   "outputs": [],
   "source": [
    "# Importar as bibliotecas necessárias\n",
    "library(MASS)"
   ]
  },
  {
   "cell_type": "markdown",
   "id": "0c048c15",
   "metadata": {},
   "source": [
    "### 1º Passo: Preparação dos Dados"
   ]
  },
  {
   "cell_type": "code",
   "execution_count": 14,
   "id": "72213450",
   "metadata": {
    "vscode": {
     "languageId": "r"
    }
   },
   "outputs": [
    {
     "data": {
      "text/html": [
       "<table class=\"dataframe\">\n",
       "<caption>A data.frame: 23 × 15</caption>\n",
       "<thead>\n",
       "\t<tr><th></th><th scope=col>site</th><th scope=col>YEU</th><th scope=col>BR</th><th scope=col>OP</th><th scope=col>NAG</th><th scope=col>FOI</th><th scope=col>TUB</th><th scope=col>EC</th><th scope=col>MUS</th><th scope=col>POI</th><th scope=col>LON</th><th scope=col>LART</th><th scope=col>LAR</th><th scope=col>LARM</th><th scope=col>DYEU</th></tr>\n",
       "\t<tr><th></th><th scope=col>&lt;fct&gt;</th><th scope=col>&lt;int&gt;</th><th scope=col>&lt;int&gt;</th><th scope=col>&lt;int&gt;</th><th scope=col>&lt;int&gt;</th><th scope=col>&lt;int&gt;</th><th scope=col>&lt;int&gt;</th><th scope=col>&lt;int&gt;</th><th scope=col>&lt;int&gt;</th><th scope=col>&lt;int&gt;</th><th scope=col>&lt;int&gt;</th><th scope=col>&lt;int&gt;</th><th scope=col>&lt;int&gt;</th><th scope=col>&lt;int&gt;</th><th scope=col>&lt;int&gt;</th></tr>\n",
       "</thead>\n",
       "<tbody>\n",
       "\t<tr><th scope=row>1</th><td>site1</td><td>10</td><td> 65</td><td> 65</td><td>107</td><td> 7</td><td>  76</td><td>142</td><td> 1</td><td>132</td><td>214</td><td>54</td><td>47</td><td>18</td><td>11</td></tr>\n",
       "\t<tr><th scope=row>2</th><td>site1</td><td> 9</td><td> 43</td><td> 39</td><td> 67</td><td>29</td><td> 113</td><td> 99</td><td> 2</td><td>122</td><td>220</td><td>49</td><td>44</td><td>16</td><td>10</td></tr>\n",
       "\t<tr><th scope=row>3</th><td>site1</td><td> 6</td><td> 47</td><td> 71</td><td> 95</td><td>11</td><td> 192</td><td>121</td><td> 2</td><td>129</td><td>220</td><td>49</td><td>45</td><td>17</td><td>11</td></tr>\n",
       "\t<tr><th scope=row>4</th><td>site1</td><td> 7</td><td> 70</td><td> 40</td><td> 66</td><td> 8</td><td> 310</td><td> 90</td><td> 2</td><td>133</td><td>225</td><td>52</td><td>48</td><td>15</td><td>11</td></tr>\n",
       "\t<tr><th scope=row>5</th><td>site1</td><td> 8</td><td> 59</td><td> 67</td><td>100</td><td>14</td><td> 289</td><td>244</td><td> 1</td><td> 57</td><td>168</td><td>37</td><td>37</td><td> 9</td><td> 9</td></tr>\n",
       "\t<tr><th scope=row>6</th><td>site1</td><td> 8</td><td> 46</td><td> 55</td><td>112</td><td>17</td><td> 115</td><td>153</td><td> 1</td><td> 59</td><td>178</td><td>38</td><td>35</td><td>11</td><td> 9</td></tr>\n",
       "\t<tr><th scope=row>7</th><td>site1</td><td> 7</td><td> 47</td><td> 36</td><td> 87</td><td>16</td><td> 100</td><td>162</td><td> 1</td><td> 59</td><td>176</td><td>40</td><td>36</td><td>11</td><td> 9</td></tr>\n",
       "\t<tr><th scope=row>8</th><td>site1</td><td>11</td><td> 79</td><td> 46</td><td> 95</td><td>20</td><td> 106</td><td>141</td><td> 4</td><td> 47</td><td>176</td><td>39</td><td>31</td><td>10</td><td> 8</td></tr>\n",
       "\t<tr><th scope=row>9</th><td>site2</td><td>13</td><td> 80</td><td> 64</td><td>155</td><td>42</td><td> 192</td><td>169</td><td> 3</td><td> 72</td><td>182</td><td>40</td><td>39</td><td>12</td><td>10</td></tr>\n",
       "\t<tr><th scope=row>10</th><td>site2</td><td>21</td><td>150</td><td>115</td><td>146</td><td>49</td><td> 229</td><td>233</td><td> 5</td><td> 79</td><td>200</td><td>45</td><td>38</td><td>12</td><td> 9</td></tr>\n",
       "\t<tr><th scope=row>11</th><td>site2</td><td>12</td><td> 91</td><td> 84</td><td>138</td><td>22</td><td> 590</td><td>220</td><td> 2</td><td> 80</td><td>185</td><td>43</td><td>41</td><td>12</td><td>11</td></tr>\n",
       "\t<tr><th scope=row>12</th><td>site2</td><td>14</td><td>120</td><td> 76</td><td>125</td><td>21</td><td> 309</td><td>617</td><td> 5</td><td> 72</td><td>175</td><td>40</td><td>39</td><td>13</td><td>10</td></tr>\n",
       "\t<tr><th scope=row>13</th><td>site2</td><td>14</td><td>142</td><td> 86</td><td>135</td><td>34</td><td> 523</td><td>211</td><td>10</td><td> 75</td><td>189</td><td>42</td><td>39</td><td>18</td><td>10</td></tr>\n",
       "\t<tr><th scope=row>14</th><td>site2</td><td>23</td><td> 92</td><td> 80</td><td>132</td><td>49</td><td> 459</td><td>197</td><td> 2</td><td> 52</td><td>164</td><td>36</td><td>35</td><td>12</td><td> 9</td></tr>\n",
       "\t<tr><th scope=row>15</th><td>site2</td><td>13</td><td> 85</td><td> 64</td><td>124</td><td>20</td><td> 318</td><td>191</td><td> 4</td><td> 86</td><td>195</td><td>41</td><td>39</td><td>16</td><td>10</td></tr>\n",
       "\t<tr><th scope=row>16</th><td>site2</td><td>14</td><td>106</td><td> 67</td><td>110</td><td>31</td><td> 115</td><td>248</td><td> 6</td><td> 87</td><td>210</td><td>46</td><td>40</td><td>17</td><td>10</td></tr>\n",
       "\t<tr><th scope=row>17</th><td>site3</td><td>32</td><td>224</td><td>260</td><td>314</td><td>36</td><td> 107</td><td>461</td><td> 3</td><td> 72</td><td>181</td><td>41</td><td>36</td><td>13</td><td> 9</td></tr>\n",
       "\t<tr><th scope=row>18</th><td>site3</td><td>22</td><td>162</td><td>218</td><td>318</td><td>25</td><td> 884</td><td>590</td><td> 2</td><td> 63</td><td>175</td><td>38</td><td>35</td><td>12</td><td> 9</td></tr>\n",
       "\t<tr><th scope=row>19</th><td>site3</td><td>31</td><td>195</td><td>208</td><td>350</td><td>73</td><td> 109</td><td>809</td><td>11</td><td> 49</td><td>170</td><td>39</td><td>33</td><td>12</td><td> 8</td></tr>\n",
       "\t<tr><th scope=row>20</th><td>site3</td><td>15</td><td>127</td><td>119</td><td>197</td><td>23</td><td>  99</td><td>157</td><td> 2</td><td>107</td><td>204</td><td>47</td><td>45</td><td>15</td><td>11</td></tr>\n",
       "\t<tr><th scope=row>21</th><td>site3</td><td>22</td><td>160</td><td>256</td><td>282</td><td>12</td><td> 102</td><td>690</td><td> 3</td><td> 83</td><td>190</td><td>42</td><td>44</td><td>14</td><td> 9</td></tr>\n",
       "\t<tr><th scope=row>22</th><td>site3</td><td>24</td><td>162</td><td>231</td><td>308</td><td>51</td><td>1031</td><td>558</td><td> 2</td><td> 82</td><td>194</td><td>42</td><td>39</td><td>14</td><td>10</td></tr>\n",
       "\t<tr><th scope=row>23</th><td>site3</td><td>19</td><td> 64</td><td>163</td><td>229</td><td>16</td><td> 109</td><td>345</td><td> 1</td><td> 91</td><td>190</td><td>44</td><td>42</td><td>13</td><td>11</td></tr>\n",
       "</tbody>\n",
       "</table>\n"
      ],
      "text/latex": [
       "A data.frame: 23 × 15\n",
       "\\begin{tabular}{r|lllllllllllllll}\n",
       "  & site & YEU & BR & OP & NAG & FOI & TUB & EC & MUS & POI & LON & LART & LAR & LARM & DYEU\\\\\n",
       "  & <fct> & <int> & <int> & <int> & <int> & <int> & <int> & <int> & <int> & <int> & <int> & <int> & <int> & <int> & <int>\\\\\n",
       "\\hline\n",
       "\t1 & site1 & 10 &  65 &  65 & 107 &  7 &   76 & 142 &  1 & 132 & 214 & 54 & 47 & 18 & 11\\\\\n",
       "\t2 & site1 &  9 &  43 &  39 &  67 & 29 &  113 &  99 &  2 & 122 & 220 & 49 & 44 & 16 & 10\\\\\n",
       "\t3 & site1 &  6 &  47 &  71 &  95 & 11 &  192 & 121 &  2 & 129 & 220 & 49 & 45 & 17 & 11\\\\\n",
       "\t4 & site1 &  7 &  70 &  40 &  66 &  8 &  310 &  90 &  2 & 133 & 225 & 52 & 48 & 15 & 11\\\\\n",
       "\t5 & site1 &  8 &  59 &  67 & 100 & 14 &  289 & 244 &  1 &  57 & 168 & 37 & 37 &  9 &  9\\\\\n",
       "\t6 & site1 &  8 &  46 &  55 & 112 & 17 &  115 & 153 &  1 &  59 & 178 & 38 & 35 & 11 &  9\\\\\n",
       "\t7 & site1 &  7 &  47 &  36 &  87 & 16 &  100 & 162 &  1 &  59 & 176 & 40 & 36 & 11 &  9\\\\\n",
       "\t8 & site1 & 11 &  79 &  46 &  95 & 20 &  106 & 141 &  4 &  47 & 176 & 39 & 31 & 10 &  8\\\\\n",
       "\t9 & site2 & 13 &  80 &  64 & 155 & 42 &  192 & 169 &  3 &  72 & 182 & 40 & 39 & 12 & 10\\\\\n",
       "\t10 & site2 & 21 & 150 & 115 & 146 & 49 &  229 & 233 &  5 &  79 & 200 & 45 & 38 & 12 &  9\\\\\n",
       "\t11 & site2 & 12 &  91 &  84 & 138 & 22 &  590 & 220 &  2 &  80 & 185 & 43 & 41 & 12 & 11\\\\\n",
       "\t12 & site2 & 14 & 120 &  76 & 125 & 21 &  309 & 617 &  5 &  72 & 175 & 40 & 39 & 13 & 10\\\\\n",
       "\t13 & site2 & 14 & 142 &  86 & 135 & 34 &  523 & 211 & 10 &  75 & 189 & 42 & 39 & 18 & 10\\\\\n",
       "\t14 & site2 & 23 &  92 &  80 & 132 & 49 &  459 & 197 &  2 &  52 & 164 & 36 & 35 & 12 &  9\\\\\n",
       "\t15 & site2 & 13 &  85 &  64 & 124 & 20 &  318 & 191 &  4 &  86 & 195 & 41 & 39 & 16 & 10\\\\\n",
       "\t16 & site2 & 14 & 106 &  67 & 110 & 31 &  115 & 248 &  6 &  87 & 210 & 46 & 40 & 17 & 10\\\\\n",
       "\t17 & site3 & 32 & 224 & 260 & 314 & 36 &  107 & 461 &  3 &  72 & 181 & 41 & 36 & 13 &  9\\\\\n",
       "\t18 & site3 & 22 & 162 & 218 & 318 & 25 &  884 & 590 &  2 &  63 & 175 & 38 & 35 & 12 &  9\\\\\n",
       "\t19 & site3 & 31 & 195 & 208 & 350 & 73 &  109 & 809 & 11 &  49 & 170 & 39 & 33 & 12 &  8\\\\\n",
       "\t20 & site3 & 15 & 127 & 119 & 197 & 23 &   99 & 157 &  2 & 107 & 204 & 47 & 45 & 15 & 11\\\\\n",
       "\t21 & site3 & 22 & 160 & 256 & 282 & 12 &  102 & 690 &  3 &  83 & 190 & 42 & 44 & 14 &  9\\\\\n",
       "\t22 & site3 & 24 & 162 & 231 & 308 & 51 & 1031 & 558 &  2 &  82 & 194 & 42 & 39 & 14 & 10\\\\\n",
       "\t23 & site3 & 19 &  64 & 163 & 229 & 16 &  109 & 345 &  1 &  91 & 190 & 44 & 42 & 13 & 11\\\\\n",
       "\\end{tabular}\n"
      ],
      "text/markdown": [
       "\n",
       "A data.frame: 23 × 15\n",
       "\n",
       "| <!--/--> | site &lt;fct&gt; | YEU &lt;int&gt; | BR &lt;int&gt; | OP &lt;int&gt; | NAG &lt;int&gt; | FOI &lt;int&gt; | TUB &lt;int&gt; | EC &lt;int&gt; | MUS &lt;int&gt; | POI &lt;int&gt; | LON &lt;int&gt; | LART &lt;int&gt; | LAR &lt;int&gt; | LARM &lt;int&gt; | DYEU &lt;int&gt; |\n",
       "|---|---|---|---|---|---|---|---|---|---|---|---|---|---|---|---|\n",
       "| 1 | site1 | 10 |  65 |  65 | 107 |  7 |   76 | 142 |  1 | 132 | 214 | 54 | 47 | 18 | 11 |\n",
       "| 2 | site1 |  9 |  43 |  39 |  67 | 29 |  113 |  99 |  2 | 122 | 220 | 49 | 44 | 16 | 10 |\n",
       "| 3 | site1 |  6 |  47 |  71 |  95 | 11 |  192 | 121 |  2 | 129 | 220 | 49 | 45 | 17 | 11 |\n",
       "| 4 | site1 |  7 |  70 |  40 |  66 |  8 |  310 |  90 |  2 | 133 | 225 | 52 | 48 | 15 | 11 |\n",
       "| 5 | site1 |  8 |  59 |  67 | 100 | 14 |  289 | 244 |  1 |  57 | 168 | 37 | 37 |  9 |  9 |\n",
       "| 6 | site1 |  8 |  46 |  55 | 112 | 17 |  115 | 153 |  1 |  59 | 178 | 38 | 35 | 11 |  9 |\n",
       "| 7 | site1 |  7 |  47 |  36 |  87 | 16 |  100 | 162 |  1 |  59 | 176 | 40 | 36 | 11 |  9 |\n",
       "| 8 | site1 | 11 |  79 |  46 |  95 | 20 |  106 | 141 |  4 |  47 | 176 | 39 | 31 | 10 |  8 |\n",
       "| 9 | site2 | 13 |  80 |  64 | 155 | 42 |  192 | 169 |  3 |  72 | 182 | 40 | 39 | 12 | 10 |\n",
       "| 10 | site2 | 21 | 150 | 115 | 146 | 49 |  229 | 233 |  5 |  79 | 200 | 45 | 38 | 12 |  9 |\n",
       "| 11 | site2 | 12 |  91 |  84 | 138 | 22 |  590 | 220 |  2 |  80 | 185 | 43 | 41 | 12 | 11 |\n",
       "| 12 | site2 | 14 | 120 |  76 | 125 | 21 |  309 | 617 |  5 |  72 | 175 | 40 | 39 | 13 | 10 |\n",
       "| 13 | site2 | 14 | 142 |  86 | 135 | 34 |  523 | 211 | 10 |  75 | 189 | 42 | 39 | 18 | 10 |\n",
       "| 14 | site2 | 23 |  92 |  80 | 132 | 49 |  459 | 197 |  2 |  52 | 164 | 36 | 35 | 12 |  9 |\n",
       "| 15 | site2 | 13 |  85 |  64 | 124 | 20 |  318 | 191 |  4 |  86 | 195 | 41 | 39 | 16 | 10 |\n",
       "| 16 | site2 | 14 | 106 |  67 | 110 | 31 |  115 | 248 |  6 |  87 | 210 | 46 | 40 | 17 | 10 |\n",
       "| 17 | site3 | 32 | 224 | 260 | 314 | 36 |  107 | 461 |  3 |  72 | 181 | 41 | 36 | 13 |  9 |\n",
       "| 18 | site3 | 22 | 162 | 218 | 318 | 25 |  884 | 590 |  2 |  63 | 175 | 38 | 35 | 12 |  9 |\n",
       "| 19 | site3 | 31 | 195 | 208 | 350 | 73 |  109 | 809 | 11 |  49 | 170 | 39 | 33 | 12 |  8 |\n",
       "| 20 | site3 | 15 | 127 | 119 | 197 | 23 |   99 | 157 |  2 | 107 | 204 | 47 | 45 | 15 | 11 |\n",
       "| 21 | site3 | 22 | 160 | 256 | 282 | 12 |  102 | 690 |  3 |  83 | 190 | 42 | 44 | 14 |  9 |\n",
       "| 22 | site3 | 24 | 162 | 231 | 308 | 51 | 1031 | 558 |  2 |  82 | 194 | 42 | 39 | 14 | 10 |\n",
       "| 23 | site3 | 19 |  64 | 163 | 229 | 16 |  109 | 345 |  1 |  91 | 190 | 44 | 42 | 13 | 11 |\n",
       "\n"
      ],
      "text/plain": [
       "   site  YEU BR  OP  NAG FOI TUB  EC  MUS POI LON LART LAR LARM DYEU\n",
       "1  site1 10   65  65 107  7    76 142  1  132 214 54   47  18   11  \n",
       "2  site1  9   43  39  67 29   113  99  2  122 220 49   44  16   10  \n",
       "3  site1  6   47  71  95 11   192 121  2  129 220 49   45  17   11  \n",
       "4  site1  7   70  40  66  8   310  90  2  133 225 52   48  15   11  \n",
       "5  site1  8   59  67 100 14   289 244  1   57 168 37   37   9    9  \n",
       "6  site1  8   46  55 112 17   115 153  1   59 178 38   35  11    9  \n",
       "7  site1  7   47  36  87 16   100 162  1   59 176 40   36  11    9  \n",
       "8  site1 11   79  46  95 20   106 141  4   47 176 39   31  10    8  \n",
       "9  site2 13   80  64 155 42   192 169  3   72 182 40   39  12   10  \n",
       "10 site2 21  150 115 146 49   229 233  5   79 200 45   38  12    9  \n",
       "11 site2 12   91  84 138 22   590 220  2   80 185 43   41  12   11  \n",
       "12 site2 14  120  76 125 21   309 617  5   72 175 40   39  13   10  \n",
       "13 site2 14  142  86 135 34   523 211 10   75 189 42   39  18   10  \n",
       "14 site2 23   92  80 132 49   459 197  2   52 164 36   35  12    9  \n",
       "15 site2 13   85  64 124 20   318 191  4   86 195 41   39  16   10  \n",
       "16 site2 14  106  67 110 31   115 248  6   87 210 46   40  17   10  \n",
       "17 site3 32  224 260 314 36   107 461  3   72 181 41   36  13    9  \n",
       "18 site3 22  162 218 318 25   884 590  2   63 175 38   35  12    9  \n",
       "19 site3 31  195 208 350 73   109 809 11   49 170 39   33  12    8  \n",
       "20 site3 15  127 119 197 23    99 157  2  107 204 47   45  15   11  \n",
       "21 site3 22  160 256 282 12   102 690  3   83 190 42   44  14    9  \n",
       "22 site3 24  162 231 308 51  1031 558  2   82 194 42   39  14   10  \n",
       "23 site3 19   64 163 229 16   109 345  1   91 190 44   42  13   11  "
      ]
     },
     "metadata": {},
     "output_type": "display_data"
    }
   ],
   "source": [
    "# Nesse caso, os dados já estão disponíveis no ambiente de trabalho através do formato .rda\n",
    "load(\"poissons.rda\")\n",
    "poissons"
   ]
  },
  {
   "cell_type": "markdown",
   "id": "38f7a6b1",
   "metadata": {},
   "source": [
    "### 2º Passo: Análise Exploratória de Dados (AED)"
   ]
  },
  {
   "cell_type": "code",
   "execution_count": 15,
   "id": "859acf50",
   "metadata": {
    "vscode": {
     "languageId": "r"
    }
   },
   "outputs": [
    {
     "data": {
      "text/html": [
       "<dl>\n",
       "\t<dt>$site1</dt>\n",
       "\t\t<dd><table class=\"dataframe\">\n",
       "<caption>A data.frame: 8 × 14</caption>\n",
       "<thead>\n",
       "\t<tr><th></th><th scope=col>YEU</th><th scope=col>BR</th><th scope=col>OP</th><th scope=col>NAG</th><th scope=col>FOI</th><th scope=col>TUB</th><th scope=col>EC</th><th scope=col>MUS</th><th scope=col>POI</th><th scope=col>LON</th><th scope=col>LART</th><th scope=col>LAR</th><th scope=col>LARM</th><th scope=col>DYEU</th></tr>\n",
       "\t<tr><th></th><th scope=col>&lt;int&gt;</th><th scope=col>&lt;int&gt;</th><th scope=col>&lt;int&gt;</th><th scope=col>&lt;int&gt;</th><th scope=col>&lt;int&gt;</th><th scope=col>&lt;int&gt;</th><th scope=col>&lt;int&gt;</th><th scope=col>&lt;int&gt;</th><th scope=col>&lt;int&gt;</th><th scope=col>&lt;int&gt;</th><th scope=col>&lt;int&gt;</th><th scope=col>&lt;int&gt;</th><th scope=col>&lt;int&gt;</th><th scope=col>&lt;int&gt;</th></tr>\n",
       "</thead>\n",
       "<tbody>\n",
       "\t<tr><th scope=row>1</th><td>10</td><td>65</td><td>65</td><td>107</td><td> 7</td><td> 76</td><td>142</td><td>1</td><td>132</td><td>214</td><td>54</td><td>47</td><td>18</td><td>11</td></tr>\n",
       "\t<tr><th scope=row>2</th><td> 9</td><td>43</td><td>39</td><td> 67</td><td>29</td><td>113</td><td> 99</td><td>2</td><td>122</td><td>220</td><td>49</td><td>44</td><td>16</td><td>10</td></tr>\n",
       "\t<tr><th scope=row>3</th><td> 6</td><td>47</td><td>71</td><td> 95</td><td>11</td><td>192</td><td>121</td><td>2</td><td>129</td><td>220</td><td>49</td><td>45</td><td>17</td><td>11</td></tr>\n",
       "\t<tr><th scope=row>4</th><td> 7</td><td>70</td><td>40</td><td> 66</td><td> 8</td><td>310</td><td> 90</td><td>2</td><td>133</td><td>225</td><td>52</td><td>48</td><td>15</td><td>11</td></tr>\n",
       "\t<tr><th scope=row>5</th><td> 8</td><td>59</td><td>67</td><td>100</td><td>14</td><td>289</td><td>244</td><td>1</td><td> 57</td><td>168</td><td>37</td><td>37</td><td> 9</td><td> 9</td></tr>\n",
       "\t<tr><th scope=row>6</th><td> 8</td><td>46</td><td>55</td><td>112</td><td>17</td><td>115</td><td>153</td><td>1</td><td> 59</td><td>178</td><td>38</td><td>35</td><td>11</td><td> 9</td></tr>\n",
       "\t<tr><th scope=row>7</th><td> 7</td><td>47</td><td>36</td><td> 87</td><td>16</td><td>100</td><td>162</td><td>1</td><td> 59</td><td>176</td><td>40</td><td>36</td><td>11</td><td> 9</td></tr>\n",
       "\t<tr><th scope=row>8</th><td>11</td><td>79</td><td>46</td><td> 95</td><td>20</td><td>106</td><td>141</td><td>4</td><td> 47</td><td>176</td><td>39</td><td>31</td><td>10</td><td> 8</td></tr>\n",
       "</tbody>\n",
       "</table>\n",
       "</dd>\n",
       "\t<dt>$site2</dt>\n",
       "\t\t<dd><table class=\"dataframe\">\n",
       "<caption>A data.frame: 8 × 14</caption>\n",
       "<thead>\n",
       "\t<tr><th></th><th scope=col>YEU</th><th scope=col>BR</th><th scope=col>OP</th><th scope=col>NAG</th><th scope=col>FOI</th><th scope=col>TUB</th><th scope=col>EC</th><th scope=col>MUS</th><th scope=col>POI</th><th scope=col>LON</th><th scope=col>LART</th><th scope=col>LAR</th><th scope=col>LARM</th><th scope=col>DYEU</th></tr>\n",
       "\t<tr><th></th><th scope=col>&lt;int&gt;</th><th scope=col>&lt;int&gt;</th><th scope=col>&lt;int&gt;</th><th scope=col>&lt;int&gt;</th><th scope=col>&lt;int&gt;</th><th scope=col>&lt;int&gt;</th><th scope=col>&lt;int&gt;</th><th scope=col>&lt;int&gt;</th><th scope=col>&lt;int&gt;</th><th scope=col>&lt;int&gt;</th><th scope=col>&lt;int&gt;</th><th scope=col>&lt;int&gt;</th><th scope=col>&lt;int&gt;</th><th scope=col>&lt;int&gt;</th></tr>\n",
       "</thead>\n",
       "<tbody>\n",
       "\t<tr><th scope=row>9</th><td>13</td><td> 80</td><td> 64</td><td>155</td><td>42</td><td>192</td><td>169</td><td> 3</td><td>72</td><td>182</td><td>40</td><td>39</td><td>12</td><td>10</td></tr>\n",
       "\t<tr><th scope=row>10</th><td>21</td><td>150</td><td>115</td><td>146</td><td>49</td><td>229</td><td>233</td><td> 5</td><td>79</td><td>200</td><td>45</td><td>38</td><td>12</td><td> 9</td></tr>\n",
       "\t<tr><th scope=row>11</th><td>12</td><td> 91</td><td> 84</td><td>138</td><td>22</td><td>590</td><td>220</td><td> 2</td><td>80</td><td>185</td><td>43</td><td>41</td><td>12</td><td>11</td></tr>\n",
       "\t<tr><th scope=row>12</th><td>14</td><td>120</td><td> 76</td><td>125</td><td>21</td><td>309</td><td>617</td><td> 5</td><td>72</td><td>175</td><td>40</td><td>39</td><td>13</td><td>10</td></tr>\n",
       "\t<tr><th scope=row>13</th><td>14</td><td>142</td><td> 86</td><td>135</td><td>34</td><td>523</td><td>211</td><td>10</td><td>75</td><td>189</td><td>42</td><td>39</td><td>18</td><td>10</td></tr>\n",
       "\t<tr><th scope=row>14</th><td>23</td><td> 92</td><td> 80</td><td>132</td><td>49</td><td>459</td><td>197</td><td> 2</td><td>52</td><td>164</td><td>36</td><td>35</td><td>12</td><td> 9</td></tr>\n",
       "\t<tr><th scope=row>15</th><td>13</td><td> 85</td><td> 64</td><td>124</td><td>20</td><td>318</td><td>191</td><td> 4</td><td>86</td><td>195</td><td>41</td><td>39</td><td>16</td><td>10</td></tr>\n",
       "\t<tr><th scope=row>16</th><td>14</td><td>106</td><td> 67</td><td>110</td><td>31</td><td>115</td><td>248</td><td> 6</td><td>87</td><td>210</td><td>46</td><td>40</td><td>17</td><td>10</td></tr>\n",
       "</tbody>\n",
       "</table>\n",
       "</dd>\n",
       "\t<dt>$site3</dt>\n",
       "\t\t<dd><table class=\"dataframe\">\n",
       "<caption>A data.frame: 7 × 14</caption>\n",
       "<thead>\n",
       "\t<tr><th></th><th scope=col>YEU</th><th scope=col>BR</th><th scope=col>OP</th><th scope=col>NAG</th><th scope=col>FOI</th><th scope=col>TUB</th><th scope=col>EC</th><th scope=col>MUS</th><th scope=col>POI</th><th scope=col>LON</th><th scope=col>LART</th><th scope=col>LAR</th><th scope=col>LARM</th><th scope=col>DYEU</th></tr>\n",
       "\t<tr><th></th><th scope=col>&lt;int&gt;</th><th scope=col>&lt;int&gt;</th><th scope=col>&lt;int&gt;</th><th scope=col>&lt;int&gt;</th><th scope=col>&lt;int&gt;</th><th scope=col>&lt;int&gt;</th><th scope=col>&lt;int&gt;</th><th scope=col>&lt;int&gt;</th><th scope=col>&lt;int&gt;</th><th scope=col>&lt;int&gt;</th><th scope=col>&lt;int&gt;</th><th scope=col>&lt;int&gt;</th><th scope=col>&lt;int&gt;</th><th scope=col>&lt;int&gt;</th></tr>\n",
       "</thead>\n",
       "<tbody>\n",
       "\t<tr><th scope=row>17</th><td>32</td><td>224</td><td>260</td><td>314</td><td>36</td><td> 107</td><td>461</td><td> 3</td><td> 72</td><td>181</td><td>41</td><td>36</td><td>13</td><td> 9</td></tr>\n",
       "\t<tr><th scope=row>18</th><td>22</td><td>162</td><td>218</td><td>318</td><td>25</td><td> 884</td><td>590</td><td> 2</td><td> 63</td><td>175</td><td>38</td><td>35</td><td>12</td><td> 9</td></tr>\n",
       "\t<tr><th scope=row>19</th><td>31</td><td>195</td><td>208</td><td>350</td><td>73</td><td> 109</td><td>809</td><td>11</td><td> 49</td><td>170</td><td>39</td><td>33</td><td>12</td><td> 8</td></tr>\n",
       "\t<tr><th scope=row>20</th><td>15</td><td>127</td><td>119</td><td>197</td><td>23</td><td>  99</td><td>157</td><td> 2</td><td>107</td><td>204</td><td>47</td><td>45</td><td>15</td><td>11</td></tr>\n",
       "\t<tr><th scope=row>21</th><td>22</td><td>160</td><td>256</td><td>282</td><td>12</td><td> 102</td><td>690</td><td> 3</td><td> 83</td><td>190</td><td>42</td><td>44</td><td>14</td><td> 9</td></tr>\n",
       "\t<tr><th scope=row>22</th><td>24</td><td>162</td><td>231</td><td>308</td><td>51</td><td>1031</td><td>558</td><td> 2</td><td> 82</td><td>194</td><td>42</td><td>39</td><td>14</td><td>10</td></tr>\n",
       "\t<tr><th scope=row>23</th><td>19</td><td> 64</td><td>163</td><td>229</td><td>16</td><td> 109</td><td>345</td><td> 1</td><td> 91</td><td>190</td><td>44</td><td>42</td><td>13</td><td>11</td></tr>\n",
       "</tbody>\n",
       "</table>\n",
       "</dd>\n",
       "</dl>\n"
      ],
      "text/latex": [
       "\\begin{description}\n",
       "\\item[\\$site1] A data.frame: 8 × 14\n",
       "\\begin{tabular}{r|llllllllllllll}\n",
       "  & YEU & BR & OP & NAG & FOI & TUB & EC & MUS & POI & LON & LART & LAR & LARM & DYEU\\\\\n",
       "  & <int> & <int> & <int> & <int> & <int> & <int> & <int> & <int> & <int> & <int> & <int> & <int> & <int> & <int>\\\\\n",
       "\\hline\n",
       "\t1 & 10 & 65 & 65 & 107 &  7 &  76 & 142 & 1 & 132 & 214 & 54 & 47 & 18 & 11\\\\\n",
       "\t2 &  9 & 43 & 39 &  67 & 29 & 113 &  99 & 2 & 122 & 220 & 49 & 44 & 16 & 10\\\\\n",
       "\t3 &  6 & 47 & 71 &  95 & 11 & 192 & 121 & 2 & 129 & 220 & 49 & 45 & 17 & 11\\\\\n",
       "\t4 &  7 & 70 & 40 &  66 &  8 & 310 &  90 & 2 & 133 & 225 & 52 & 48 & 15 & 11\\\\\n",
       "\t5 &  8 & 59 & 67 & 100 & 14 & 289 & 244 & 1 &  57 & 168 & 37 & 37 &  9 &  9\\\\\n",
       "\t6 &  8 & 46 & 55 & 112 & 17 & 115 & 153 & 1 &  59 & 178 & 38 & 35 & 11 &  9\\\\\n",
       "\t7 &  7 & 47 & 36 &  87 & 16 & 100 & 162 & 1 &  59 & 176 & 40 & 36 & 11 &  9\\\\\n",
       "\t8 & 11 & 79 & 46 &  95 & 20 & 106 & 141 & 4 &  47 & 176 & 39 & 31 & 10 &  8\\\\\n",
       "\\end{tabular}\n",
       "\n",
       "\\item[\\$site2] A data.frame: 8 × 14\n",
       "\\begin{tabular}{r|llllllllllllll}\n",
       "  & YEU & BR & OP & NAG & FOI & TUB & EC & MUS & POI & LON & LART & LAR & LARM & DYEU\\\\\n",
       "  & <int> & <int> & <int> & <int> & <int> & <int> & <int> & <int> & <int> & <int> & <int> & <int> & <int> & <int>\\\\\n",
       "\\hline\n",
       "\t9 & 13 &  80 &  64 & 155 & 42 & 192 & 169 &  3 & 72 & 182 & 40 & 39 & 12 & 10\\\\\n",
       "\t10 & 21 & 150 & 115 & 146 & 49 & 229 & 233 &  5 & 79 & 200 & 45 & 38 & 12 &  9\\\\\n",
       "\t11 & 12 &  91 &  84 & 138 & 22 & 590 & 220 &  2 & 80 & 185 & 43 & 41 & 12 & 11\\\\\n",
       "\t12 & 14 & 120 &  76 & 125 & 21 & 309 & 617 &  5 & 72 & 175 & 40 & 39 & 13 & 10\\\\\n",
       "\t13 & 14 & 142 &  86 & 135 & 34 & 523 & 211 & 10 & 75 & 189 & 42 & 39 & 18 & 10\\\\\n",
       "\t14 & 23 &  92 &  80 & 132 & 49 & 459 & 197 &  2 & 52 & 164 & 36 & 35 & 12 &  9\\\\\n",
       "\t15 & 13 &  85 &  64 & 124 & 20 & 318 & 191 &  4 & 86 & 195 & 41 & 39 & 16 & 10\\\\\n",
       "\t16 & 14 & 106 &  67 & 110 & 31 & 115 & 248 &  6 & 87 & 210 & 46 & 40 & 17 & 10\\\\\n",
       "\\end{tabular}\n",
       "\n",
       "\\item[\\$site3] A data.frame: 7 × 14\n",
       "\\begin{tabular}{r|llllllllllllll}\n",
       "  & YEU & BR & OP & NAG & FOI & TUB & EC & MUS & POI & LON & LART & LAR & LARM & DYEU\\\\\n",
       "  & <int> & <int> & <int> & <int> & <int> & <int> & <int> & <int> & <int> & <int> & <int> & <int> & <int> & <int>\\\\\n",
       "\\hline\n",
       "\t17 & 32 & 224 & 260 & 314 & 36 &  107 & 461 &  3 &  72 & 181 & 41 & 36 & 13 &  9\\\\\n",
       "\t18 & 22 & 162 & 218 & 318 & 25 &  884 & 590 &  2 &  63 & 175 & 38 & 35 & 12 &  9\\\\\n",
       "\t19 & 31 & 195 & 208 & 350 & 73 &  109 & 809 & 11 &  49 & 170 & 39 & 33 & 12 &  8\\\\\n",
       "\t20 & 15 & 127 & 119 & 197 & 23 &   99 & 157 &  2 & 107 & 204 & 47 & 45 & 15 & 11\\\\\n",
       "\t21 & 22 & 160 & 256 & 282 & 12 &  102 & 690 &  3 &  83 & 190 & 42 & 44 & 14 &  9\\\\\n",
       "\t22 & 24 & 162 & 231 & 308 & 51 & 1031 & 558 &  2 &  82 & 194 & 42 & 39 & 14 & 10\\\\\n",
       "\t23 & 19 &  64 & 163 & 229 & 16 &  109 & 345 &  1 &  91 & 190 & 44 & 42 & 13 & 11\\\\\n",
       "\\end{tabular}\n",
       "\n",
       "\\end{description}\n"
      ],
      "text/markdown": [
       "$site1\n",
       ":   \n",
       "A data.frame: 8 × 14\n",
       "\n",
       "| <!--/--> | YEU &lt;int&gt; | BR &lt;int&gt; | OP &lt;int&gt; | NAG &lt;int&gt; | FOI &lt;int&gt; | TUB &lt;int&gt; | EC &lt;int&gt; | MUS &lt;int&gt; | POI &lt;int&gt; | LON &lt;int&gt; | LART &lt;int&gt; | LAR &lt;int&gt; | LARM &lt;int&gt; | DYEU &lt;int&gt; |\n",
       "|---|---|---|---|---|---|---|---|---|---|---|---|---|---|---|\n",
       "| 1 | 10 | 65 | 65 | 107 |  7 |  76 | 142 | 1 | 132 | 214 | 54 | 47 | 18 | 11 |\n",
       "| 2 |  9 | 43 | 39 |  67 | 29 | 113 |  99 | 2 | 122 | 220 | 49 | 44 | 16 | 10 |\n",
       "| 3 |  6 | 47 | 71 |  95 | 11 | 192 | 121 | 2 | 129 | 220 | 49 | 45 | 17 | 11 |\n",
       "| 4 |  7 | 70 | 40 |  66 |  8 | 310 |  90 | 2 | 133 | 225 | 52 | 48 | 15 | 11 |\n",
       "| 5 |  8 | 59 | 67 | 100 | 14 | 289 | 244 | 1 |  57 | 168 | 37 | 37 |  9 |  9 |\n",
       "| 6 |  8 | 46 | 55 | 112 | 17 | 115 | 153 | 1 |  59 | 178 | 38 | 35 | 11 |  9 |\n",
       "| 7 |  7 | 47 | 36 |  87 | 16 | 100 | 162 | 1 |  59 | 176 | 40 | 36 | 11 |  9 |\n",
       "| 8 | 11 | 79 | 46 |  95 | 20 | 106 | 141 | 4 |  47 | 176 | 39 | 31 | 10 |  8 |\n",
       "\n",
       "\n",
       "$site2\n",
       ":   \n",
       "A data.frame: 8 × 14\n",
       "\n",
       "| <!--/--> | YEU &lt;int&gt; | BR &lt;int&gt; | OP &lt;int&gt; | NAG &lt;int&gt; | FOI &lt;int&gt; | TUB &lt;int&gt; | EC &lt;int&gt; | MUS &lt;int&gt; | POI &lt;int&gt; | LON &lt;int&gt; | LART &lt;int&gt; | LAR &lt;int&gt; | LARM &lt;int&gt; | DYEU &lt;int&gt; |\n",
       "|---|---|---|---|---|---|---|---|---|---|---|---|---|---|---|\n",
       "| 9 | 13 |  80 |  64 | 155 | 42 | 192 | 169 |  3 | 72 | 182 | 40 | 39 | 12 | 10 |\n",
       "| 10 | 21 | 150 | 115 | 146 | 49 | 229 | 233 |  5 | 79 | 200 | 45 | 38 | 12 |  9 |\n",
       "| 11 | 12 |  91 |  84 | 138 | 22 | 590 | 220 |  2 | 80 | 185 | 43 | 41 | 12 | 11 |\n",
       "| 12 | 14 | 120 |  76 | 125 | 21 | 309 | 617 |  5 | 72 | 175 | 40 | 39 | 13 | 10 |\n",
       "| 13 | 14 | 142 |  86 | 135 | 34 | 523 | 211 | 10 | 75 | 189 | 42 | 39 | 18 | 10 |\n",
       "| 14 | 23 |  92 |  80 | 132 | 49 | 459 | 197 |  2 | 52 | 164 | 36 | 35 | 12 |  9 |\n",
       "| 15 | 13 |  85 |  64 | 124 | 20 | 318 | 191 |  4 | 86 | 195 | 41 | 39 | 16 | 10 |\n",
       "| 16 | 14 | 106 |  67 | 110 | 31 | 115 | 248 |  6 | 87 | 210 | 46 | 40 | 17 | 10 |\n",
       "\n",
       "\n",
       "$site3\n",
       ":   \n",
       "A data.frame: 7 × 14\n",
       "\n",
       "| <!--/--> | YEU &lt;int&gt; | BR &lt;int&gt; | OP &lt;int&gt; | NAG &lt;int&gt; | FOI &lt;int&gt; | TUB &lt;int&gt; | EC &lt;int&gt; | MUS &lt;int&gt; | POI &lt;int&gt; | LON &lt;int&gt; | LART &lt;int&gt; | LAR &lt;int&gt; | LARM &lt;int&gt; | DYEU &lt;int&gt; |\n",
       "|---|---|---|---|---|---|---|---|---|---|---|---|---|---|---|\n",
       "| 17 | 32 | 224 | 260 | 314 | 36 |  107 | 461 |  3 |  72 | 181 | 41 | 36 | 13 |  9 |\n",
       "| 18 | 22 | 162 | 218 | 318 | 25 |  884 | 590 |  2 |  63 | 175 | 38 | 35 | 12 |  9 |\n",
       "| 19 | 31 | 195 | 208 | 350 | 73 |  109 | 809 | 11 |  49 | 170 | 39 | 33 | 12 |  8 |\n",
       "| 20 | 15 | 127 | 119 | 197 | 23 |   99 | 157 |  2 | 107 | 204 | 47 | 45 | 15 | 11 |\n",
       "| 21 | 22 | 160 | 256 | 282 | 12 |  102 | 690 |  3 |  83 | 190 | 42 | 44 | 14 |  9 |\n",
       "| 22 | 24 | 162 | 231 | 308 | 51 | 1031 | 558 |  2 |  82 | 194 | 42 | 39 | 14 | 10 |\n",
       "| 23 | 19 |  64 | 163 | 229 | 16 |  109 | 345 |  1 |  91 | 190 | 44 | 42 | 13 | 11 |\n",
       "\n",
       "\n",
       "\n",
       "\n"
      ],
      "text/plain": [
       "$site1\n",
       "  YEU BR OP NAG FOI TUB  EC MUS POI LON LART LAR LARM DYEU\n",
       "1  10 65 65 107   7  76 142   1 132 214   54  47   18   11\n",
       "2   9 43 39  67  29 113  99   2 122 220   49  44   16   10\n",
       "3   6 47 71  95  11 192 121   2 129 220   49  45   17   11\n",
       "4   7 70 40  66   8 310  90   2 133 225   52  48   15   11\n",
       "5   8 59 67 100  14 289 244   1  57 168   37  37    9    9\n",
       "6   8 46 55 112  17 115 153   1  59 178   38  35   11    9\n",
       "7   7 47 36  87  16 100 162   1  59 176   40  36   11    9\n",
       "8  11 79 46  95  20 106 141   4  47 176   39  31   10    8\n",
       "\n",
       "$site2\n",
       "   YEU  BR  OP NAG FOI TUB  EC MUS POI LON LART LAR LARM DYEU\n",
       "9   13  80  64 155  42 192 169   3  72 182   40  39   12   10\n",
       "10  21 150 115 146  49 229 233   5  79 200   45  38   12    9\n",
       "11  12  91  84 138  22 590 220   2  80 185   43  41   12   11\n",
       "12  14 120  76 125  21 309 617   5  72 175   40  39   13   10\n",
       "13  14 142  86 135  34 523 211  10  75 189   42  39   18   10\n",
       "14  23  92  80 132  49 459 197   2  52 164   36  35   12    9\n",
       "15  13  85  64 124  20 318 191   4  86 195   41  39   16   10\n",
       "16  14 106  67 110  31 115 248   6  87 210   46  40   17   10\n",
       "\n",
       "$site3\n",
       "   YEU  BR  OP NAG FOI  TUB  EC MUS POI LON LART LAR LARM DYEU\n",
       "17  32 224 260 314  36  107 461   3  72 181   41  36   13    9\n",
       "18  22 162 218 318  25  884 590   2  63 175   38  35   12    9\n",
       "19  31 195 208 350  73  109 809  11  49 170   39  33   12    8\n",
       "20  15 127 119 197  23   99 157   2 107 204   47  45   15   11\n",
       "21  22 160 256 282  12  102 690   3  83 190   42  44   14    9\n",
       "22  24 162 231 308  51 1031 558   2  82 194   42  39   14   10\n",
       "23  19  64 163 229  16  109 345   1  91 190   44  42   13   11\n"
      ]
     },
     "metadata": {},
     "output_type": "display_data"
    },
    {
     "data": {
      "text/plain": [
       "      YEU              BR              OP             NAG        \n",
       " Min.   : 6.00   Min.   :43.00   Min.   :36.00   Min.   : 66.00  \n",
       " 1st Qu.: 7.00   1st Qu.:46.75   1st Qu.:39.75   1st Qu.: 82.00  \n",
       " Median : 8.00   Median :53.00   Median :50.50   Median : 95.00  \n",
       " Mean   : 8.25   Mean   :57.00   Mean   :52.38   Mean   : 91.12  \n",
       " 3rd Qu.: 9.25   3rd Qu.:66.25   3rd Qu.:65.50   3rd Qu.:101.75  \n",
       " Max.   :11.00   Max.   :79.00   Max.   :71.00   Max.   :112.00  \n",
       "      FOI             TUB              EC             MUS      \n",
       " Min.   : 7.00   Min.   : 76.0   Min.   : 90.0   Min.   :1.00  \n",
       " 1st Qu.:10.25   1st Qu.:104.5   1st Qu.:115.5   1st Qu.:1.00  \n",
       " Median :15.00   Median :114.0   Median :141.5   Median :1.50  \n",
       " Mean   :15.25   Mean   :162.6   Mean   :144.0   Mean   :1.75  \n",
       " 3rd Qu.:17.75   3rd Qu.:216.2   3rd Qu.:155.2   3rd Qu.:2.00  \n",
       " Max.   :29.00   Max.   :310.0   Max.   :244.0   Max.   :4.00  \n",
       "      POI              LON             LART            LAR       \n",
       " Min.   : 47.00   Min.   :168.0   Min.   :37.00   Min.   :31.00  \n",
       " 1st Qu.: 58.50   1st Qu.:176.0   1st Qu.:38.75   1st Qu.:35.75  \n",
       " Median : 90.50   Median :196.0   Median :44.50   Median :40.50  \n",
       " Mean   : 92.25   Mean   :197.1   Mean   :44.75   Mean   :40.38  \n",
       " 3rd Qu.:129.75   3rd Qu.:220.0   3rd Qu.:49.75   3rd Qu.:45.50  \n",
       " Max.   :133.00   Max.   :225.0   Max.   :54.00   Max.   :48.00  \n",
       "      LARM            DYEU      \n",
       " Min.   : 9.00   Min.   : 8.00  \n",
       " 1st Qu.:10.75   1st Qu.: 9.00  \n",
       " Median :13.00   Median : 9.50  \n",
       " Mean   :13.38   Mean   : 9.75  \n",
       " 3rd Qu.:16.25   3rd Qu.:11.00  \n",
       " Max.   :18.00   Max.   :11.00  "
      ]
     },
     "metadata": {},
     "output_type": "display_data"
    },
    {
     "data": {
      "text/plain": [
       "      YEU              BR              OP              NAG       \n",
       " Min.   :12.00   Min.   : 80.0   Min.   : 64.00   Min.   :110.0  \n",
       " 1st Qu.:13.00   1st Qu.: 89.5   1st Qu.: 66.25   1st Qu.:124.8  \n",
       " Median :14.00   Median : 99.0   Median : 78.00   Median :133.5  \n",
       " Mean   :15.50   Mean   :108.2   Mean   : 79.50   Mean   :133.1  \n",
       " 3rd Qu.:15.75   3rd Qu.:125.5   3rd Qu.: 84.50   3rd Qu.:140.0  \n",
       " Max.   :23.00   Max.   :150.0   Max.   :115.00   Max.   :155.0  \n",
       "      FOI             TUB              EC             MUS        \n",
       " Min.   :20.00   Min.   :115.0   Min.   :169.0   Min.   : 2.000  \n",
       " 1st Qu.:21.75   1st Qu.:219.8   1st Qu.:195.5   1st Qu.: 2.750  \n",
       " Median :32.50   Median :313.5   Median :215.5   Median : 4.500  \n",
       " Mean   :33.50   Mean   :341.9   Mean   :260.8   Mean   : 4.625  \n",
       " 3rd Qu.:43.75   3rd Qu.:475.0   3rd Qu.:236.8   3rd Qu.: 5.250  \n",
       " Max.   :49.00   Max.   :590.0   Max.   :617.0   Max.   :10.000  \n",
       "      POI             LON             LART            LAR       \n",
       " Min.   :52.00   Min.   :164.0   Min.   :36.00   Min.   :35.00  \n",
       " 1st Qu.:72.00   1st Qu.:180.2   1st Qu.:40.00   1st Qu.:38.75  \n",
       " Median :77.00   Median :187.0   Median :41.50   Median :39.00  \n",
       " Mean   :75.38   Mean   :187.5   Mean   :41.62   Mean   :38.75  \n",
       " 3rd Qu.:81.50   3rd Qu.:196.2   3rd Qu.:43.50   3rd Qu.:39.25  \n",
       " Max.   :87.00   Max.   :210.0   Max.   :46.00   Max.   :41.00  \n",
       "      LARM            DYEU       \n",
       " Min.   :12.00   Min.   : 9.000  \n",
       " 1st Qu.:12.00   1st Qu.: 9.750  \n",
       " Median :12.50   Median :10.000  \n",
       " Mean   :14.00   Mean   : 9.875  \n",
       " 3rd Qu.:16.25   3rd Qu.:10.000  \n",
       " Max.   :18.00   Max.   :11.000  "
      ]
     },
     "metadata": {},
     "output_type": "display_data"
    },
    {
     "data": {
      "text/plain": [
       "      YEU              BR              OP             NAG       \n",
       " Min.   :15.00   Min.   : 64.0   Min.   :119.0   Min.   :197.0  \n",
       " 1st Qu.:20.50   1st Qu.:143.5   1st Qu.:185.5   1st Qu.:255.5  \n",
       " Median :22.00   Median :162.0   Median :218.0   Median :308.0  \n",
       " Mean   :23.57   Mean   :156.3   Mean   :207.9   Mean   :285.4  \n",
       " 3rd Qu.:27.50   3rd Qu.:178.5   3rd Qu.:243.5   3rd Qu.:316.0  \n",
       " Max.   :32.00   Max.   :224.0   Max.   :260.0   Max.   :350.0  \n",
       "      FOI             TUB               EC             MUS        \n",
       " Min.   :12.00   Min.   :  99.0   Min.   :157.0   Min.   : 1.000  \n",
       " 1st Qu.:19.50   1st Qu.: 104.5   1st Qu.:403.0   1st Qu.: 2.000  \n",
       " Median :25.00   Median : 109.0   Median :558.0   Median : 2.000  \n",
       " Mean   :33.71   Mean   : 348.7   Mean   :515.7   Mean   : 3.429  \n",
       " 3rd Qu.:43.50   3rd Qu.: 496.5   3rd Qu.:640.0   3rd Qu.: 3.000  \n",
       " Max.   :73.00   Max.   :1031.0   Max.   :809.0   Max.   :11.000  \n",
       "      POI              LON             LART            LAR       \n",
       " Min.   : 49.00   Min.   :170.0   Min.   :38.00   Min.   :33.00  \n",
       " 1st Qu.: 67.50   1st Qu.:178.0   1st Qu.:40.00   1st Qu.:35.50  \n",
       " Median : 82.00   Median :190.0   Median :42.00   Median :39.00  \n",
       " Mean   : 78.14   Mean   :186.3   Mean   :41.86   Mean   :39.14  \n",
       " 3rd Qu.: 87.00   3rd Qu.:192.0   3rd Qu.:43.00   3rd Qu.:43.00  \n",
       " Max.   :107.00   Max.   :204.0   Max.   :47.00   Max.   :45.00  \n",
       "      LARM            DYEU       \n",
       " Min.   :12.00   Min.   : 8.000  \n",
       " 1st Qu.:12.50   1st Qu.: 9.000  \n",
       " Median :13.00   Median : 9.000  \n",
       " Mean   :13.29   Mean   : 9.571  \n",
       " 3rd Qu.:14.00   3rd Qu.:10.500  \n",
       " Max.   :15.00   Max.   :11.000  "
      ]
     },
     "metadata": {},
     "output_type": "display_data"
    }
   ],
   "source": [
    "poissons2 <- split(poissons[, c(2:15)], poissons[, 1])\n",
    "poissons2\n",
    "\n",
    "summary(poissons2$site1)\n",
    "summary(poissons2$site2)\n",
    "summary(poissons2$site3)"
   ]
  },
  {
   "cell_type": "markdown",
   "id": "25804270",
   "metadata": {},
   "source": [
    "### 2.b Visualização Gráfica"
   ]
  },
  {
   "cell_type": "code",
   "execution_count": 16,
   "id": "8bf4e58c",
   "metadata": {
    "vscode": {
     "languageId": "r"
    }
   },
   "outputs": [
    {
     "data": {
      "image/png": "[encoded data removed]",
      "text/plain": [
       "Plot with title \"YEU por Site\""
      ]
     },
     "metadata": {
      "image/png": {
       "height": 420,
       "width": 420
      }
     },
     "output_type": "display_data"
    },
    {
     "data": {
      "image/png": "[encoded data removed]",
      "text/plain": [
       "Plot with title \"BR por Site\""
      ]
     },
     "metadata": {
      "image/png": {
       "height": 420,
       "width": 420
      }
     },
     "output_type": "display_data"
    },
    {
     "data": {
      "image/png": "[encoded data removed]",
      "text/plain": [
       "Plot with title \"FOI por Site\""
      ]
     },
     "metadata": {
      "image/png": {
       "height": 420,
       "width": 420
      }
     },
     "output_type": "display_data"
    }
   ],
   "source": [
    "boxplot(YEU ~ site, data = poissons, main = \"YEU por Site\")\n",
    "boxplot(BR ~ site, data = poissons, main = \"BR por Site\")\n",
    "boxplot(FOI ~ site, data = poissons, main = \"FOI por Site\")"
   ]
  },
  {
   "cell_type": "markdown",
   "id": "1ff3ac8d",
   "metadata": {},
   "source": [
    "### 3º Passo: Teste de Diferenças entre Grupos"
   ]
  },
  {
   "cell_type": "code",
   "execution_count": 17,
   "id": "537fa738",
   "metadata": {
    "vscode": {
     "languageId": "r"
    }
   },
   "outputs": [
    {
     "name": "stdout",
     "output_type": "stream",
     "text": [
      "     Variável      p_value\n",
      "YEU       YEU 4.662628e-06\n",
      "BR         BR 4.826825e-05\n",
      "OP         OP 9.550610e-09\n",
      "NAG       NAG 6.322385e-10\n",
      "FOI       FOI 3.054544e-02\n",
      "TUB       TUB 2.858285e-01\n",
      "EC         EC 4.044222e-04\n",
      "MUS       MUS 9.412301e-02\n",
      "POI       POI 4.122394e-01\n",
      "LON       LON 4.455967e-01\n",
      "LART     LART 3.731434e-01\n",
      "LAR       LAR 7.722709e-01\n",
      "LARM     LARM 8.460384e-01\n",
      "DYEU     DYEU 8.432274e-01\n"
     ]
    }
   ],
   "source": [
    "anova_results <- sapply(poissons[, -1], function(x) {\n",
    "  summary(aov(x ~ poissons$site))[[1]][[\"Pr(>F)\"]][1]\n",
    "})\n",
    "\n",
    "anova_results <- data.frame(\n",
    "  Variável = names(anova_results),\n",
    "  p_value = anova_results\n",
    ")\n",
    "\n",
    "print(anova_results)"
   ]
  },
  {
   "cell_type": "markdown",
   "id": "f36975bf",
   "metadata": {},
   "source": [
    "### 4º Passo: Verificação de Multicolinearidade"
   ]
  },
  {
   "cell_type": "code",
   "execution_count": 18,
   "id": "fc9ecf32",
   "metadata": {
    "vscode": {
     "languageId": "r"
    }
   },
   "outputs": [
    {
     "data": {
      "image/png": "[encoded data removed]",
      "text/plain": [
       "Plot with title \"\""
      ]
     },
     "metadata": {
      "image/png": {
       "height": 420,
       "width": 420
      }
     },
     "output_type": "display_data"
    }
   ],
   "source": [
    "library(corrplot)\n",
    "\n",
    "cor_matrix <- cor(poissons[, -1])\n",
    "\n",
    "corrplot(cor_matrix, method = \"circle\")"
   ]
  },
  {
   "cell_type": "markdown",
   "id": "69328eb8",
   "metadata": {},
   "source": [
    "### 5º Passo: Seleção de Variáveis"
   ]
  },
  {
   "cell_type": "code",
   "execution_count": 19,
   "id": "70dd9f73",
   "metadata": {
    "vscode": {
     "languageId": "r"
    }
   },
   "outputs": [
    {
     "data": {
      "text/plain": [
       "            Df Sum Sq Mean Sq F value   Pr(>F)    \n",
       "site         2 153309   76655   73.16 6.32e-10 ***\n",
       "Residuals   20  20955    1048                     \n",
       "---\n",
       "Signif. codes:  0 '***' 0.001 '**' 0.01 '*' 0.05 '.' 0.1 ' ' 1"
      ]
     },
     "metadata": {},
     "output_type": "display_data"
    },
    {
     "data": {
      "text/plain": [
       "Call:\n",
       "lda(site ~ ., data = poissons)\n",
       "\n",
       "Prior probabilities of groups:\n",
       "    site1     site2     site3 \n",
       "0.3478261 0.3478261 0.3043478 \n",
       "\n",
       "Group means:\n",
       "           YEU       BR       OP      NAG      FOI      TUB       EC      MUS\n",
       "site1  8.25000  57.0000  52.3750  91.1250 15.25000 162.6250 144.0000 1.750000\n",
       "site2 15.50000 108.2500  79.5000 133.1250 33.50000 341.8750 260.7500 4.625000\n",
       "site3 23.57143 156.2857 207.8571 285.4286 33.71429 348.7143 515.7143 3.428571\n",
       "           POI      LON     LART      LAR     LARM     DYEU\n",
       "site1 92.25000 197.1250 44.75000 40.37500 13.37500 9.750000\n",
       "site2 75.37500 187.5000 41.62500 38.75000 14.00000 9.875000\n",
       "site3 78.14286 186.2857 41.85714 39.14286 13.28571 9.571429\n",
       "\n",
       "Coefficients of linear discriminants:\n",
       "               LD1           LD2\n",
       "YEU   0.5931807506 -0.3267058452\n",
       "BR    0.0152698939 -0.0210244595\n",
       "OP   -0.0595033093  0.0279759774\n",
       "NAG   0.0636329646  0.0270934814\n",
       "FOI  -0.0888652981 -0.0026695684\n",
       "TUB  -0.0008615031 -0.0008407548\n",
       "EC    0.0005660807 -0.0029805814\n",
       "MUS  -0.0573343976  0.0012822104\n",
       "POI  -0.2297780258  0.1316660680\n",
       "LON   0.2691140425 -0.1113728349\n",
       "LART -0.6039438894  0.3391122501\n",
       "LAR   0.7260971410 -0.3103285939\n",
       "LARM  0.0253648868 -0.1893844686\n",
       "DYEU  2.6303424809 -1.8765257822\n",
       "\n",
       "Proportion of trace:\n",
       "   LD1    LD2 \n",
       "0.8627 0.1373 "
      ]
     },
     "metadata": {},
     "output_type": "display_data"
    },
    {
     "data": {
      "text/plain": [
       "Call:\n",
       "lda(site ~ YEU + BR, data = poissons)\n",
       "\n",
       "Prior probabilities of groups:\n",
       "    site1     site2     site3 \n",
       "0.3478261 0.3478261 0.3043478 \n",
       "\n",
       "Group means:\n",
       "           YEU       BR\n",
       "site1  8.25000  57.0000\n",
       "site2 15.50000 108.2500\n",
       "site3 23.57143 156.2857\n",
       "\n",
       "Coefficients of linear discriminants:\n",
       "            LD1         LD2\n",
       "YEU 0.179662906  0.25282278\n",
       "BR  0.009547074 -0.03897367\n",
       "\n",
       "Proportion of trace:\n",
       "   LD1    LD2 \n",
       "0.9972 0.0028 "
      ]
     },
     "metadata": {},
     "output_type": "display_data"
    },
    {
     "data": {
      "text/plain": [
       "       \n",
       "prev1   site1 site2 site3\n",
       "  site1     7     2     0\n",
       "  site2     1     6     2\n",
       "  site3     0     0     5"
      ]
     },
     "metadata": {},
     "output_type": "display_data"
    },
    {
     "data": {
      "text/html": [
       "0.217391304347826"
      ],
      "text/latex": [
       "0.217391304347826"
      ],
      "text/markdown": [
       "0.217391304347826"
      ],
      "text/plain": [
       "[1] 0.2173913"
      ]
     },
     "metadata": {},
     "output_type": "display_data"
    },
    {
     "data": {
      "text/plain": [
       "       \n",
       "prev2   site1 site2 site3\n",
       "  site1     8     0     1\n",
       "  site2     0     6     1\n",
       "  site3     0     2     5"
      ]
     },
     "metadata": {},
     "output_type": "display_data"
    },
    {
     "data": {
      "text/html": [
       "0.173913043478261"
      ],
      "text/latex": [
       "0.173913043478261"
      ],
      "text/markdown": [
       "0.173913043478261"
      ],
      "text/plain": [
       "[1] 0.173913"
      ]
     },
     "metadata": {},
     "output_type": "display_data"
    },
    {
     "data": {
      "text/html": [
       "<style>\n",
       ".list-inline {list-style: none; margin:0; padding: 0}\n",
       ".list-inline>li {display: inline-block}\n",
       ".list-inline>li:not(:last-child)::after {content: \"\\00b7\"; padding: 0 .5ex}\n",
       "</style>\n",
       "<ol class=list-inline><li>site1</li><li>site1</li><li>site1</li><li>site1</li><li>site1</li><li>site1</li><li>site1</li><li>site1</li><li>site2</li><li>site3</li><li>site2</li><li>site2</li><li>site2</li><li>site3</li><li>site2</li><li>site2</li><li>site3</li><li>site3</li><li>site3</li><li>site2</li><li>site3</li><li>site3</li><li>site2</li></ol>\n",
       "\n",
       "<details>\n",
       "\t<summary style=display:list-item;cursor:pointer>\n",
       "\t\t<strong>Levels</strong>:\n",
       "\t</summary>\n",
       "\t<style>\n",
       "\t.list-inline {list-style: none; margin:0; padding: 0}\n",
       "\t.list-inline>li {display: inline-block}\n",
       "\t.list-inline>li:not(:last-child)::after {content: \"\\00b7\"; padding: 0 .5ex}\n",
       "\t</style>\n",
       "\t<ol class=list-inline><li>'site1'</li><li>'site2'</li><li>'site3'</li></ol>\n",
       "</details>"
      ],
      "text/latex": [
       "\\begin{enumerate*}\n",
       "\\item site1\n",
       "\\item site1\n",
       "\\item site1\n",
       "\\item site1\n",
       "\\item site1\n",
       "\\item site1\n",
       "\\item site1\n",
       "\\item site1\n",
       "\\item site2\n",
       "\\item site3\n",
       "\\item site2\n",
       "\\item site2\n",
       "\\item site2\n",
       "\\item site3\n",
       "\\item site2\n",
       "\\item site2\n",
       "\\item site3\n",
       "\\item site3\n",
       "\\item site3\n",
       "\\item site2\n",
       "\\item site3\n",
       "\\item site3\n",
       "\\item site2\n",
       "\\end{enumerate*}\n",
       "\n",
       "\\emph{Levels}: \\begin{enumerate*}\n",
       "\\item 'site1'\n",
       "\\item 'site2'\n",
       "\\item 'site3'\n",
       "\\end{enumerate*}\n"
      ],
      "text/markdown": [
       "1. site1\n",
       "2. site1\n",
       "3. site1\n",
       "4. site1\n",
       "5. site1\n",
       "6. site1\n",
       "7. site1\n",
       "8. site1\n",
       "9. site2\n",
       "10. site3\n",
       "11. site2\n",
       "12. site2\n",
       "13. site2\n",
       "14. site3\n",
       "15. site2\n",
       "16. site2\n",
       "17. site3\n",
       "18. site3\n",
       "19. site3\n",
       "20. site2\n",
       "21. site3\n",
       "22. site3\n",
       "23. site2\n",
       "\n",
       "\n",
       "\n",
       "**Levels**: 1. 'site1'\n",
       "2. 'site2'\n",
       "3. 'site3'\n",
       "\n",
       "\n"
      ],
      "text/plain": [
       " [1] site1 site1 site1 site1 site1 site1 site1 site1 site2 site3 site2 site2\n",
       "[13] site2 site3 site2 site2 site3 site3 site3 site2 site3 site3 site2\n",
       "Levels: site1 site2 site3"
      ]
     },
     "metadata": {},
     "output_type": "display_data"
    }
   ],
   "source": [
    "# Opção 1: Seleção manual\n",
    "modele <- aov(NAG ~ site, data = poissons)\n",
    "summary(modele)\n",
    "\n",
    "modele_test <- lda(site ~ ., data = poissons)\n",
    "modele_test\n",
    "\n",
    "modele2 <- lda(site ~ YEU + BR, data = poissons)\n",
    "modele2\n",
    "\n",
    "prev1 <- lda(site ~ ., data = poissons, CV = TRUE)$class\n",
    "table(prev1, poissons$site)\n",
    "\n",
    "sum(prev1 != poissons$site) / nrow(poissons)\n",
    "\n",
    "# Escolhendo o modelo 2\n",
    "prev2 <- lda(site ~ YEU + BR, data = poissons, CV = TRUE)$class\n",
    "table(prev2, poissons$site)\n",
    "sum(prev2 != poissons$site) / nrow(poissons)\n",
    "\n",
    "modele2_pred <- predict(modele2, newdata = poissons)$class\n",
    "modele2_pred"
   ]
  },
  {
   "cell_type": "code",
   "execution_count": 20,
   "id": "7d47be8c",
   "metadata": {
    "vscode": {
     "languageId": "r"
    }
   },
   "outputs": [
    {
     "name": "stderr",
     "output_type": "stream",
     "text": [
      " `stepwise classification', using 10-fold cross-validated correctness rate of method lda'.\n",
      "\n",
      "23 observations of 14 variables in 3 classes; direction: both\n",
      "\n",
      "stop criterion: improvement less than 5%.\n",
      "\n"
     ]
    },
    {
     "name": "stdout",
     "output_type": "stream",
     "text": [
      "correctness rate: 0.91667;  in: \"NAG\";  variables (1): NAG \n",
      "correctness rate: 0.96667;  in: \"BR\";  variables (2): NAG, BR \n",
      "\n",
      " hr.elapsed min.elapsed sec.elapsed \n",
      "        0.0         0.0         0.6 \n",
      "\n"
     ]
    },
    {
     "data": {
      "image/png": "[encoded data removed]",
      "text/plain": [
       "plot without title"
      ]
     },
     "metadata": {
      "image/png": {
       "height": 420,
       "width": 420
      }
     },
     "output_type": "display_data"
    }
   ],
   "source": [
    "# Opção 2: Seleção automática com Klar\n",
    "library(klaR)\n",
    "\n",
    "preditoras <- poissons[, -1] # Todas as colunas exceto 'site'\n",
    "resposta <- poissons$site\n",
    "\n",
    "modelo_step <- stepclass(\n",
    "  preditoras,\n",
    "  resposta,\n",
    "  method = \"lda\",\n",
    "  direction = \"both\"\n",
    ")\n",
    "\n",
    "formula_lda <- modelo_step$formula\n",
    "modelo_lda <- lda(formula_lda, data = poissons)\n",
    "plot(modelo_lda)"
   ]
  },
  {
   "cell_type": "markdown",
   "id": "52ace543",
   "metadata": {},
   "source": [
    "### 6º Passo: Validação do Modelo"
   ]
  },
  {
   "cell_type": "code",
   "execution_count": 21,
   "id": "05485a99",
   "metadata": {
    "vscode": {
     "languageId": "r"
    }
   },
   "outputs": [
    {
     "name": "stdout",
     "output_type": "stream",
     "text": [
      "[1] \"Taxa de acerto: 95.65 %\"\n",
      "[1] \"Taxa de acerto com validação cruzada: 95.65 %\"\n"
     ]
    }
   ],
   "source": [
    "predicoes <- predict(modelo_lda, poissons)$class\n",
    "confusao <- table(Predito = predicoes, Real = resposta)\n",
    "\n",
    "taxa_acerto <- sum(diag(confusao)) / sum(confusao)\n",
    "print(paste(\"Taxa de acerto:\", round(taxa_acerto * 100, 2), \"%\"))\n",
    "\n",
    "# Validação Cruzada\n",
    "predicoes_cv <- lda(formula_lda, data = poissons, CV = TRUE)$class\n",
    "confusao_cv <- table(Predito = predicoes_cv, Real = poissons$site)\n",
    "taxa_acerto_cv <- sum(diag(confusao_cv)) / sum(confusao_cv)\n",
    "print(paste(\"Taxa de acerto com validação cruzada:\", round(taxa_acerto_cv * 100, 2), \"%\"))"
   ]
  },
  {
   "cell_type": "markdown",
   "id": "df52532a",
   "metadata": {},
   "source": [
    "### 7º Passo: Entendimento dos Dados"
   ]
  },
  {
   "cell_type": "code",
   "execution_count": 22,
   "id": "4be7facf",
   "metadata": {
    "vscode": {
     "languageId": "r"
    }
   },
   "outputs": [
    {
     "name": "stdout",
     "output_type": "stream",
     "text": [
      "[1] \"Coeficientes das funções discriminantes:\"\n",
      "            LD1         LD2\n",
      "BR  -0.00665756 -0.03709074\n",
      "NAG  0.03442129  0.01690377\n",
      "[1] \"Teste de Shapiro-Wilk para NAG:\"\n"
     ]
    },
    {
     "data": {
      "text/plain": [
       "poissons$site: site1\n",
       "\n",
       "\tShapiro-Wilk normality test\n",
       "\n",
       "data:  dd[x, ]\n",
       "W = 0.90214, p-value = 0.302\n",
       "\n",
       "------------------------------------------------------------ \n",
       "poissons$site: site2\n",
       "\n",
       "\tShapiro-Wilk normality test\n",
       "\n",
       "data:  dd[x, ]\n",
       "W = 0.98898, p-value = 0.9933\n",
       "\n",
       "------------------------------------------------------------ \n",
       "poissons$site: site3\n",
       "\n",
       "\tShapiro-Wilk normality test\n",
       "\n",
       "data:  dd[x, ]\n",
       "W = 0.9153, p-value = 0.4338\n"
      ]
     },
     "metadata": {},
     "output_type": "display_data"
    },
    {
     "name": "stdout",
     "output_type": "stream",
     "text": [
      "[1] \"Teste de Shapiro-Wilk para YEU:\"\n"
     ]
    },
    {
     "data": {
      "text/plain": [
       "poissons$site: site1\n",
       "\n",
       "\tShapiro-Wilk normality test\n",
       "\n",
       "data:  dd[x, ]\n",
       "W = 0.95901, p-value = 0.8006\n",
       "\n",
       "------------------------------------------------------------ \n",
       "poissons$site: site2\n",
       "\n",
       "\tShapiro-Wilk normality test\n",
       "\n",
       "data:  dd[x, ]\n",
       "W = 0.74264, p-value = 0.006771\n",
       "\n",
       "------------------------------------------------------------ \n",
       "poissons$site: site3\n",
       "\n",
       "\tShapiro-Wilk normality test\n",
       "\n",
       "data:  dd[x, ]\n",
       "W = 0.93294, p-value = 0.5762\n"
      ]
     },
     "metadata": {},
     "output_type": "display_data"
    }
   ],
   "source": [
    "print(\"Coeficientes das funções discriminantes:\")\n",
    "print(modelo_lda$scaling)\n",
    "\n",
    "# Teste de Shapiro-Wilk para NAG e YEU\n",
    "print(\"Teste de Shapiro-Wilk para NAG:\")\n",
    "by(poissons$NAG, poissons$site, shapiro.test)\n",
    "\n",
    "print(\"Teste de Shapiro-Wilk para YEU:\")\n",
    "by(poissons$YEU, poissons$site, shapiro.test)"
   ]
  },
  {
   "cell_type": "markdown",
   "id": "131a9c73",
   "metadata": {},
   "source": [
    "### 8º Passo: Simulação de Novo Dado"
   ]
  },
  {
   "cell_type": "code",
   "execution_count": 23,
   "id": "a42e614b",
   "metadata": {
    "vscode": {
     "languageId": "r"
    }
   },
   "outputs": [
    {
     "data": {
      "text/html": [
       "<table class=\"dataframe\">\n",
       "<caption>A data.frame: 1 × 14</caption>\n",
       "<thead>\n",
       "\t<tr><th scope=col>YEU</th><th scope=col>BR</th><th scope=col>OP</th><th scope=col>NAG</th><th scope=col>FOI</th><th scope=col>TUB</th><th scope=col>EC</th><th scope=col>MUS</th><th scope=col>POI</th><th scope=col>LON</th><th scope=col>LART</th><th scope=col>LAR</th><th scope=col>LARM</th><th scope=col>DYEU</th></tr>\n",
       "\t<tr><th scope=col>&lt;dbl&gt;</th><th scope=col>&lt;dbl&gt;</th><th scope=col>&lt;dbl&gt;</th><th scope=col>&lt;dbl&gt;</th><th scope=col>&lt;dbl&gt;</th><th scope=col>&lt;dbl&gt;</th><th scope=col>&lt;dbl&gt;</th><th scope=col>&lt;dbl&gt;</th><th scope=col>&lt;dbl&gt;</th><th scope=col>&lt;dbl&gt;</th><th scope=col>&lt;dbl&gt;</th><th scope=col>&lt;dbl&gt;</th><th scope=col>&lt;dbl&gt;</th><th scope=col>&lt;dbl&gt;</th></tr>\n",
       "</thead>\n",
       "<tbody>\n",
       "\t<tr><td>10</td><td>70</td><td>50</td><td>100</td><td>20</td><td>120</td><td>130</td><td>1</td><td>120</td><td>200</td><td>50</td><td>50</td><td>18</td><td>10</td></tr>\n",
       "</tbody>\n",
       "</table>\n"
      ],
      "text/latex": [
       "A data.frame: 1 × 14\n",
       "\\begin{tabular}{llllllllllllll}\n",
       " YEU & BR & OP & NAG & FOI & TUB & EC & MUS & POI & LON & LART & LAR & LARM & DYEU\\\\\n",
       " <dbl> & <dbl> & <dbl> & <dbl> & <dbl> & <dbl> & <dbl> & <dbl> & <dbl> & <dbl> & <dbl> & <dbl> & <dbl> & <dbl>\\\\\n",
       "\\hline\n",
       "\t 10 & 70 & 50 & 100 & 20 & 120 & 130 & 1 & 120 & 200 & 50 & 50 & 18 & 10\\\\\n",
       "\\end{tabular}\n"
      ],
      "text/markdown": [
       "\n",
       "A data.frame: 1 × 14\n",
       "\n",
       "| YEU &lt;dbl&gt; | BR &lt;dbl&gt; | OP &lt;dbl&gt; | NAG &lt;dbl&gt; | FOI &lt;dbl&gt; | TUB &lt;dbl&gt; | EC &lt;dbl&gt; | MUS &lt;dbl&gt; | POI &lt;dbl&gt; | LON &lt;dbl&gt; | LART &lt;dbl&gt; | LAR &lt;dbl&gt; | LARM &lt;dbl&gt; | DYEU &lt;dbl&gt; |\n",
       "|---|---|---|---|---|---|---|---|---|---|---|---|---|---|\n",
       "| 10 | 70 | 50 | 100 | 20 | 120 | 130 | 1 | 120 | 200 | 50 | 50 | 18 | 10 |\n",
       "\n"
      ],
      "text/plain": [
       "  YEU BR OP NAG FOI TUB EC  MUS POI LON LART LAR LARM DYEU\n",
       "1 10  70 50 100 20  120 130 1   120 200 50   50  18   10  "
      ]
     },
     "metadata": {},
     "output_type": "display_data"
    },
    {
     "data": {
      "text/html": [
       "<dl>\n",
       "\t<dt>$class</dt>\n",
       "\t\t<dd>site1\n",
       "<details>\n",
       "\t<summary style=display:list-item;cursor:pointer>\n",
       "\t\t<strong>Levels</strong>:\n",
       "\t</summary>\n",
       "\t<style>\n",
       "\t.list-inline {list-style: none; margin:0; padding: 0}\n",
       "\t.list-inline>li {display: inline-block}\n",
       "\t.list-inline>li:not(:last-child)::after {content: \"\\00b7\"; padding: 0 .5ex}\n",
       "\t</style>\n",
       "\t<ol class=list-inline><li>'site1'</li><li>'site2'</li><li>'site3'</li></ol>\n",
       "</details></dd>\n",
       "\t<dt>$posterior</dt>\n",
       "\t\t<dd><table class=\"dataframe\">\n",
       "<caption>A matrix: 1 × 3 of type dbl</caption>\n",
       "<thead>\n",
       "\t<tr><th></th><th scope=col>site1</th><th scope=col>site2</th><th scope=col>site3</th></tr>\n",
       "</thead>\n",
       "<tbody>\n",
       "\t<tr><th scope=row>1</th><td>0.6925111</td><td>0.3042275</td><td>0.003261414</td></tr>\n",
       "</tbody>\n",
       "</table>\n",
       "</dd>\n",
       "\t<dt>$x</dt>\n",
       "\t\t<dd><table class=\"dataframe\">\n",
       "<caption>A matrix: 1 × 2 of type dbl</caption>\n",
       "<thead>\n",
       "\t<tr><th></th><th scope=col>LD1</th><th scope=col>LD2</th></tr>\n",
       "</thead>\n",
       "<tbody>\n",
       "\t<tr><th scope=row>1</th><td>-1.310992</td><td>-0.008263792</td></tr>\n",
       "</tbody>\n",
       "</table>\n",
       "</dd>\n",
       "</dl>\n"
      ],
      "text/latex": [
       "\\begin{description}\n",
       "\\item[\\$class] site1\n",
       "\\emph{Levels}: \\begin{enumerate*}\n",
       "\\item 'site1'\n",
       "\\item 'site2'\n",
       "\\item 'site3'\n",
       "\\end{enumerate*}\n",
       "\n",
       "\\item[\\$posterior] A matrix: 1 × 3 of type dbl\n",
       "\\begin{tabular}{r|lll}\n",
       "  & site1 & site2 & site3\\\\\n",
       "\\hline\n",
       "\t1 & 0.6925111 & 0.3042275 & 0.003261414\\\\\n",
       "\\end{tabular}\n",
       "\n",
       "\\item[\\$x] A matrix: 1 × 2 of type dbl\n",
       "\\begin{tabular}{r|ll}\n",
       "  & LD1 & LD2\\\\\n",
       "\\hline\n",
       "\t1 & -1.310992 & -0.008263792\\\\\n",
       "\\end{tabular}\n",
       "\n",
       "\\end{description}\n"
      ],
      "text/markdown": [
       "$class\n",
       ":   site1\n",
       "**Levels**: 1. 'site1'\n",
       "2. 'site2'\n",
       "3. 'site3'\n",
       "\n",
       "\n",
       "\n",
       "$posterior\n",
       ":   \n",
       "A matrix: 1 × 3 of type dbl\n",
       "\n",
       "| <!--/--> | site1 | site2 | site3 |\n",
       "|---|---|---|---|\n",
       "| 1 | 0.6925111 | 0.3042275 | 0.003261414 |\n",
       "\n",
       "\n",
       "$x\n",
       ":   \n",
       "A matrix: 1 × 2 of type dbl\n",
       "\n",
       "| <!--/--> | LD1 | LD2 |\n",
       "|---|---|---|\n",
       "| 1 | -1.310992 | -0.008263792 |\n",
       "\n",
       "\n",
       "\n",
       "\n"
      ],
      "text/plain": [
       "$class\n",
       "[1] site1\n",
       "Levels: site1 site2 site3\n",
       "\n",
       "$posterior\n",
       "      site1     site2       site3\n",
       "1 0.6925111 0.3042275 0.003261414\n",
       "\n",
       "$x\n",
       "        LD1          LD2\n",
       "1 -1.310992 -0.008263792\n"
      ]
     },
     "metadata": {},
     "output_type": "display_data"
    },
    {
     "data": {
      "image/png": "[encoded data removed]",
      "text/plain": [
       "Plot with title \"\""
      ]
     },
     "metadata": {
      "image/png": {
       "height": 420,
       "width": 420
      }
     },
     "output_type": "display_data"
    },
    {
     "data": {
      "image/png": "[encoded data removed]",
      "text/plain": [
       "Plot with title \"\""
      ]
     },
     "metadata": {
      "image/png": {
       "height": 420,
       "width": 420
      }
     },
     "output_type": "display_data"
    },
    {
     "data": {
      "image/png": "[encoded data removed]",
      "text/plain": [
       "Plot with title \"\""
      ]
     },
     "metadata": {
      "image/png": {
       "height": 420,
       "width": 420
      }
     },
     "output_type": "display_data"
    },
    {
     "data": {
      "image/png": "[encoded data removed]",
      "text/plain": [
       "Plot with title \"\""
      ]
     },
     "metadata": {
      "image/png": {
       "height": 420,
       "width": 420
      }
     },
     "output_type": "display_data"
    }
   ],
   "source": [
    "n_don1 <- matrix(\n",
    "  c(10, 70, 50, 100, 20, 120, 130, 1, 120, 200, 50, 50, 18, 10),\n",
    "  ncol = 14,\n",
    "  byrow = TRUE\n",
    ")\n",
    "n_don1 <- data.frame(n_don1)\n",
    "names(n_don1) <- names(poissons[-1])\n",
    "n_don1\n",
    "predict(modele2, newdata = n_don1)\n",
    "\n",
    "plot(modele)"
   ]
  }
 ],
 "metadata": {
  "kernelspec": {
   "display_name": "R",
   "language": "R",
   "name": "ir"
  },
  "language_info": {
   "codemirror_mode": "r",
   "file_extension": ".r",
   "mimetype": "text/x-r-source",
   "name": "R",
   "pygments_lexer": "r",
   "version": "4.4.1"
  }
 },
 "nbformat": 4,
 "nbformat_minor": 5
}
