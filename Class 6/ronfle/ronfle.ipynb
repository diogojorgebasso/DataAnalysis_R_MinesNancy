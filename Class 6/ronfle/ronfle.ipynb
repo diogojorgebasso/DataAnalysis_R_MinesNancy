{
 "cells": [
  {
   "cell_type": "code",
   "execution_count": null,
   "metadata": {
    "vscode": {
     "languageId": "r"
    }
   },
   "outputs": [],
   "source": [
    "install.packages(\"klaR\")"
   ]
  },
  {
   "cell_type": "code",
   "execution_count": 8,
   "metadata": {
    "vscode": {
     "languageId": "r"
    }
   },
   "outputs": [
    {
     "name": "stderr",
     "output_type": "stream",
     "text": [
      "Carregando pacotes exigidos: MASS\n",
      "\n"
     ]
    }
   ],
   "source": [
    "library(klaR)"
   ]
  },
  {
   "cell_type": "code",
   "execution_count": 3,
   "metadata": {
    "vscode": {
     "languageId": "r"
    }
   },
   "outputs": [
    {
     "data": {
      "text/html": [
       "<table class=\"dataframe\">\n",
       "<caption>A data.frame: 6 × 7</caption>\n",
       "<thead>\n",
       "\t<tr><th></th><th scope=col>age</th><th scope=col>poids</th><th scope=col>taille</th><th scope=col>alcool</th><th scope=col>sexe</th><th scope=col>ronfle</th><th scope=col>taba</th></tr>\n",
       "\t<tr><th></th><th scope=col>&lt;int&gt;</th><th scope=col>&lt;int&gt;</th><th scope=col>&lt;int&gt;</th><th scope=col>&lt;int&gt;</th><th scope=col>&lt;chr&gt;</th><th scope=col>&lt;chr&gt;</th><th scope=col>&lt;chr&gt;</th></tr>\n",
       "</thead>\n",
       "<tbody>\n",
       "\t<tr><th scope=row>1</th><td>47</td><td> 71</td><td>158</td><td>0</td><td>H</td><td>N</td><td>O</td></tr>\n",
       "\t<tr><th scope=row>2</th><td>56</td><td> 58</td><td>164</td><td>7</td><td>H</td><td>O</td><td>N</td></tr>\n",
       "\t<tr><th scope=row>3</th><td>46</td><td>116</td><td>208</td><td>3</td><td>H</td><td>N</td><td>O</td></tr>\n",
       "\t<tr><th scope=row>4</th><td>70</td><td> 96</td><td>186</td><td>3</td><td>H</td><td>N</td><td>O</td></tr>\n",
       "\t<tr><th scope=row>5</th><td>51</td><td> 91</td><td>195</td><td>2</td><td>H</td><td>O</td><td>O</td></tr>\n",
       "\t<tr><th scope=row>6</th><td>46</td><td> 98</td><td>188</td><td>0</td><td>F</td><td>N</td><td>N</td></tr>\n",
       "</tbody>\n",
       "</table>\n"
      ],
      "text/latex": [
       "A data.frame: 6 × 7\n",
       "\\begin{tabular}{r|lllllll}\n",
       "  & age & poids & taille & alcool & sexe & ronfle & taba\\\\\n",
       "  & <int> & <int> & <int> & <int> & <chr> & <chr> & <chr>\\\\\n",
       "\\hline\n",
       "\t1 & 47 &  71 & 158 & 0 & H & N & O\\\\\n",
       "\t2 & 56 &  58 & 164 & 7 & H & O & N\\\\\n",
       "\t3 & 46 & 116 & 208 & 3 & H & N & O\\\\\n",
       "\t4 & 70 &  96 & 186 & 3 & H & N & O\\\\\n",
       "\t5 & 51 &  91 & 195 & 2 & H & O & O\\\\\n",
       "\t6 & 46 &  98 & 188 & 0 & F & N & N\\\\\n",
       "\\end{tabular}\n"
      ],
      "text/markdown": [
       "\n",
       "A data.frame: 6 × 7\n",
       "\n",
       "| <!--/--> | age &lt;int&gt; | poids &lt;int&gt; | taille &lt;int&gt; | alcool &lt;int&gt; | sexe &lt;chr&gt; | ronfle &lt;chr&gt; | taba &lt;chr&gt; |\n",
       "|---|---|---|---|---|---|---|---|\n",
       "| 1 | 47 |  71 | 158 | 0 | H | N | O |\n",
       "| 2 | 56 |  58 | 164 | 7 | H | O | N |\n",
       "| 3 | 46 | 116 | 208 | 3 | H | N | O |\n",
       "| 4 | 70 |  96 | 186 | 3 | H | N | O |\n",
       "| 5 | 51 |  91 | 195 | 2 | H | O | O |\n",
       "| 6 | 46 |  98 | 188 | 0 | F | N | N |\n",
       "\n"
      ],
      "text/plain": [
       "  age poids taille alcool sexe ronfle taba\n",
       "1 47   71   158    0      H    N      O   \n",
       "2 56   58   164    7      H    O      N   \n",
       "3 46  116   208    3      H    N      O   \n",
       "4 70   96   186    3      H    N      O   \n",
       "5 51   91   195    2      H    O      O   \n",
       "6 46   98   188    0      F    N      N   "
      ]
     },
     "metadata": {},
     "output_type": "display_data"
    },
    {
     "data": {
      "text/plain": [
       "      age            poids            taille          alcool     \n",
       " Min.   :23.00   Min.   : 42.00   Min.   :158.0   Min.   : 0.00  \n",
       " 1st Qu.:43.00   1st Qu.: 77.00   1st Qu.:166.0   1st Qu.: 0.00  \n",
       " Median :52.00   Median : 95.00   Median :186.0   Median : 2.00  \n",
       " Mean   :52.27   Mean   : 90.41   Mean   :181.1   Mean   : 2.95  \n",
       " 3rd Qu.:62.25   3rd Qu.:107.00   3rd Qu.:194.0   3rd Qu.: 4.25  \n",
       " Max.   :74.00   Max.   :120.00   Max.   :208.0   Max.   :15.00  \n",
       "     sexe              ronfle              taba          \n",
       " Length:100         Length:100         Length:100        \n",
       " Class :character   Class :character   Class :character  \n",
       " Mode  :character   Mode  :character   Mode  :character  \n",
       "                                                         \n",
       "                                                         \n",
       "                                                         "
      ]
     },
     "metadata": {},
     "output_type": "display_data"
    }
   ],
   "source": [
    "ronfle <- read.table(\"ronfle.txt\", header = TRUE)\n",
    "\n",
    "head(ronfle)\n",
    "\n",
    "summary(ronfle)"
   ]
  },
  {
   "cell_type": "code",
   "execution_count": 13,
   "metadata": {
    "vscode": {
     "languageId": "r"
    }
   },
   "outputs": [
    {
     "name": "stderr",
     "output_type": "stream",
     "text": [
      " `stepwise classification', using 10-fold cross-validated correctness rate of method lda'.\n",
      "\n",
      "100 observations of 6 variables in 2 classes; direction: both\n",
      "\n",
      "stop criterion: improvement less than 5%.\n",
      "\n"
     ]
    },
    {
     "name": "stderr",
     "output_type": "stream",
     "text": [
      "Warning message in cv.rate(vars = c(model, tryvar), data = data, grouping = grouping, :\n",
      "\"error(s) in modeling/prediction step\"\n",
      "Warning message in cv.rate(vars = c(model, tryvar), data = data, grouping = grouping, :\n",
      "\"error(s) in modeling/prediction step\"\n"
     ]
    },
    {
     "name": "stdout",
     "output_type": "stream",
     "text": [
      "correctness rate: 0.66;  in: \"age\";  variables (1): age \n"
     ]
    },
    {
     "name": "stderr",
     "output_type": "stream",
     "text": [
      "Warning message in cv.rate(vars = c(model, tryvar), data = data, grouping = grouping, :\n",
      "\"error(s) in modeling/prediction step\"\n",
      "Warning message in cv.rate(vars = c(model, tryvar), data = data, grouping = grouping, :\n",
      "\"error(s) in modeling/prediction step\"\n"
     ]
    },
    {
     "name": "stdout",
     "output_type": "stream",
     "text": [
      "\n",
      " hr.elapsed min.elapsed sec.elapsed \n",
      "       0.00        0.00        0.19 \n",
      "\n"
     ]
    },
    {
     "data": {
      "text/plain": [
       "resposta ~ age\n",
       "<environment: 0x000001bc9db7d570>"
      ]
     },
     "metadata": {},
     "output_type": "display_data"
    },
    {
     "data": {
      "image/png": "[encoded data removed]",
      "text/plain": [
       "plot without title"
      ]
     },
     "metadata": {
      "image/png": {
       "height": 420,
       "width": 420
      }
     },
     "output_type": "display_data"
    }
   ],
   "source": [
    "preditoras <- ronfle[, -6] # Todas as colunas exceto 'ronfle'\n",
    "resposta <- ronfle$ronfle\n",
    "\n",
    "modelo_step <- stepclass(\n",
    "  preditoras,\n",
    "  resposta,\n",
    "  method = \"lda\",\n",
    "  direction = \"both\"\n",
    ")\n",
    "\n",
    "formula_lda <- modelo_step$formula\n",
    "formula_lda\n",
    "modelo_lda <- lda(formula_lda, data = ronfle)\n",
    "plot(modelo_lda)"
   ]
  },
  {
   "cell_type": "code",
   "execution_count": 12,
   "metadata": {
    "vscode": {
     "languageId": "r"
    }
   },
   "outputs": [
    {
     "name": "stdout",
     "output_type": "stream",
     "text": [
      "[1] \"Taxa de acerto: 68 %\"\n",
      "[1] \"Taxa de acerto com validação cruzada: 66 %\"\n"
     ]
    }
   ],
   "source": [
    "predicoes <- predict(modelo_lda, ronfle)$class\n",
    "confusao <- table(Predito = predicoes, Real = resposta)\n",
    "\n",
    "taxa_acerto <- sum(diag(confusao)) / sum(confusao)\n",
    "print(paste(\"Taxa de acerto:\", round(taxa_acerto * 100, 2), \"%\"))\n",
    "\n",
    "# Validação Cruzada\n",
    "predicoes_cv <- lda(formula_lda, data = ronfle, CV = TRUE)$class\n",
    "confusao_cv <- table(Predito = predicoes_cv, Real = resposta)\n",
    "taxa_acerto_cv <- sum(diag(confusao_cv)) / sum(confusao_cv)\n",
    "print(paste(\"Taxa de acerto com validação cruzada:\", round(taxa_acerto_cv * 100, 2), \"%\"))"
   ]
  }
 ],
 "metadata": {
  "kernelspec": {
   "display_name": "R",
   "language": "R",
   "name": "ir"
  },
  "language_info": {
   "codemirror_mode": "r",
   "file_extension": ".r",
   "mimetype": "text/x-r-source",
   "name": "R",
   "pygments_lexer": "r",
   "version": "4.4.1"
  }
 },
 "nbformat": 4,
 "nbformat_minor": 2
}
