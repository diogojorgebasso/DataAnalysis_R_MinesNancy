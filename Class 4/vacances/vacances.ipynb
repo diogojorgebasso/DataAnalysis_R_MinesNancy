{
 "cells": [
  {
   "cell_type": "code",
   "execution_count": null,
   "metadata": {
    "vscode": {
     "languageId": "r"
    }
   },
   "outputs": [],
   "source": [
    "profil <- function(x){x / sum(x) * 100}"
   ]
  },
  {
   "cell_type": "code",
   "execution_count": 1,
   "metadata": {
    "vscode": {
     "languageId": "r"
    }
   },
   "outputs": [
    {
     "data": {
      "text/html": [
       "<table class=\"dataframe\">\n",
       "<caption>A data.frame: 8 × 9</caption>\n",
       "<thead>\n",
       "\t<tr><th></th><th scope=col>HOTE</th><th scope=col>LOCA</th><th scope=col>RESS</th><th scope=col>RPPA</th><th scope=col>RSPA</th><th scope=col>TENTE</th><th scope=col>CARAVANE</th><th scope=col>AJ</th><th scope=col>VILLAGEV</th></tr>\n",
       "\t<tr><th></th><th scope=col>&lt;int&gt;</th><th scope=col>&lt;int&gt;</th><th scope=col>&lt;int&gt;</th><th scope=col>&lt;int&gt;</th><th scope=col>&lt;int&gt;</th><th scope=col>&lt;int&gt;</th><th scope=col>&lt;int&gt;</th><th scope=col>&lt;int&gt;</th><th scope=col>&lt;int&gt;</th></tr>\n",
       "</thead>\n",
       "<tbody>\n",
       "\t<tr><th scope=row>AGRI</th><td> 41</td><td> 47</td><td> 13</td><td>  59</td><td> 17</td><td> 26</td><td>  4</td><td>  9</td><td> 19</td></tr>\n",
       "\t<tr><th scope=row>ARTI</th><td>220</td><td>260</td><td> 71</td><td> 299</td><td>120</td><td>120</td><td> 64</td><td> 35</td><td> 29</td></tr>\n",
       "\t<tr><th scope=row>CSPI</th><td>685</td><td>775</td><td>450</td><td>1242</td><td>706</td><td>706</td><td>122</td><td>100</td><td>130</td></tr>\n",
       "\t<tr><th scope=row>PINT</th><td>485</td><td>639</td><td>292</td><td>1250</td><td>398</td><td>398</td><td>273</td><td> 68</td><td>193</td></tr>\n",
       "\t<tr><th scope=row>EMP</th><td>190</td><td>352</td><td> 67</td><td> 813</td><td>163</td><td>163</td><td>161</td><td> 49</td><td> 72</td></tr>\n",
       "\t<tr><th scope=row>OUVR</th><td>224</td><td>591</td><td>147</td><td>1204</td><td>181</td><td>181</td><td>306</td><td> 74</td><td>114</td></tr>\n",
       "\t<tr><th scope=row>RET</th><td>754</td><td>393</td><td>692</td><td>1158</td><td>223</td><td>223</td><td>195</td><td> 47</td><td>115</td></tr>\n",
       "\t<tr><th scope=row>AINA</th><td> 31</td><td> 34</td><td>  2</td><td> 225</td><td> 42</td><td> 42</td><td>  5</td><td>  6</td><td> 14</td></tr>\n",
       "</tbody>\n",
       "</table>\n"
      ],
      "text/latex": [
       "A data.frame: 8 × 9\n",
       "\\begin{tabular}{r|lllllllll}\n",
       "  & HOTE & LOCA & RESS & RPPA & RSPA & TENTE & CARAVANE & AJ & VILLAGEV\\\\\n",
       "  & <int> & <int> & <int> & <int> & <int> & <int> & <int> & <int> & <int>\\\\\n",
       "\\hline\n",
       "\tAGRI &  41 &  47 &  13 &   59 &  17 &  26 &   4 &   9 &  19\\\\\n",
       "\tARTI & 220 & 260 &  71 &  299 & 120 & 120 &  64 &  35 &  29\\\\\n",
       "\tCSPI & 685 & 775 & 450 & 1242 & 706 & 706 & 122 & 100 & 130\\\\\n",
       "\tPINT & 485 & 639 & 292 & 1250 & 398 & 398 & 273 &  68 & 193\\\\\n",
       "\tEMP & 190 & 352 &  67 &  813 & 163 & 163 & 161 &  49 &  72\\\\\n",
       "\tOUVR & 224 & 591 & 147 & 1204 & 181 & 181 & 306 &  74 & 114\\\\\n",
       "\tRET & 754 & 393 & 692 & 1158 & 223 & 223 & 195 &  47 & 115\\\\\n",
       "\tAINA &  31 &  34 &   2 &  225 &  42 &  42 &   5 &   6 &  14\\\\\n",
       "\\end{tabular}\n"
      ],
      "text/markdown": [
       "\n",
       "A data.frame: 8 × 9\n",
       "\n",
       "| <!--/--> | HOTE &lt;int&gt; | LOCA &lt;int&gt; | RESS &lt;int&gt; | RPPA &lt;int&gt; | RSPA &lt;int&gt; | TENTE &lt;int&gt; | CARAVANE &lt;int&gt; | AJ &lt;int&gt; | VILLAGEV &lt;int&gt; |\n",
       "|---|---|---|---|---|---|---|---|---|---|\n",
       "| AGRI |  41 |  47 |  13 |   59 |  17 |  26 |   4 |   9 |  19 |\n",
       "| ARTI | 220 | 260 |  71 |  299 | 120 | 120 |  64 |  35 |  29 |\n",
       "| CSPI | 685 | 775 | 450 | 1242 | 706 | 706 | 122 | 100 | 130 |\n",
       "| PINT | 485 | 639 | 292 | 1250 | 398 | 398 | 273 |  68 | 193 |\n",
       "| EMP | 190 | 352 |  67 |  813 | 163 | 163 | 161 |  49 |  72 |\n",
       "| OUVR | 224 | 591 | 147 | 1204 | 181 | 181 | 306 |  74 | 114 |\n",
       "| RET | 754 | 393 | 692 | 1158 | 223 | 223 | 195 |  47 | 115 |\n",
       "| AINA |  31 |  34 |   2 |  225 |  42 |  42 |   5 |   6 |  14 |\n",
       "\n"
      ],
      "text/plain": [
       "     HOTE LOCA RESS RPPA RSPA TENTE CARAVANE AJ  VILLAGEV\n",
       "AGRI  41   47   13    59  17   26     4        9  19     \n",
       "ARTI 220  260   71   299 120  120    64       35  29     \n",
       "CSPI 685  775  450  1242 706  706   122      100 130     \n",
       "PINT 485  639  292  1250 398  398   273       68 193     \n",
       "EMP  190  352   67   813 163  163   161       49  72     \n",
       "OUVR 224  591  147  1204 181  181   306       74 114     \n",
       "RET  754  393  692  1158 223  223   195       47 115     \n",
       "AINA  31   34    2   225  42   42     5        6  14     "
      ]
     },
     "metadata": {},
     "output_type": "display_data"
    }
   ],
   "source": [
    "# Load the vacances dataset\n",
    "vacances <- read.csv(\"vacances.csv\", header = TRUE, row.names = 1, sep = \";\")\n",
    "vacances"
   ]
  },
  {
   "cell_type": "code",
   "execution_count": 2,
   "metadata": {
    "vscode": {
     "languageId": "r"
    }
   },
   "outputs": [
    {
     "data": {
      "text/plain": [
       "      HOTE            LOCA            RESS            RPPA       \n",
       " Min.   : 31.0   Min.   : 34.0   Min.   :  2.0   Min.   :  59.0  \n",
       " 1st Qu.:152.8   1st Qu.:206.8   1st Qu.: 53.5   1st Qu.: 280.5  \n",
       " Median :222.0   Median :372.5   Median :109.0   Median : 985.5  \n",
       " Mean   :328.8   Mean   :386.4   Mean   :216.8   Mean   : 781.2  \n",
       " 3rd Qu.:535.0   3rd Qu.:603.0   3rd Qu.:331.5   3rd Qu.:1213.5  \n",
       " Max.   :754.0   Max.   :775.0   Max.   :692.0   Max.   :1250.0  \n",
       "      RSPA           TENTE          CARAVANE            AJ       \n",
       " Min.   : 17.0   Min.   : 26.0   Min.   :  4.00   Min.   :  6.0  \n",
       " 1st Qu.:100.5   1st Qu.:100.5   1st Qu.: 49.25   1st Qu.: 28.5  \n",
       " Median :172.0   Median :172.0   Median :141.50   Median : 48.0  \n",
       " Mean   :231.2   Mean   :232.4   Mean   :141.25   Mean   : 48.5  \n",
       " 3rd Qu.:266.8   3rd Qu.:266.8   3rd Qu.:214.50   3rd Qu.: 69.5  \n",
       " Max.   :706.0   Max.   :706.0   Max.   :306.00   Max.   :100.0  \n",
       "    VILLAGEV     \n",
       " Min.   : 14.00  \n",
       " 1st Qu.: 26.50  \n",
       " Median : 93.00  \n",
       " Mean   : 85.75  \n",
       " 3rd Qu.:118.75  \n",
       " Max.   :193.00  "
      ]
     },
     "metadata": {},
     "output_type": "display_data"
    }
   ],
   "source": [
    "# Summary of the vacances dataset\n",
    "summary(vacances)"
   ]
  },
  {
   "cell_type": "code",
   "execution_count": 3,
   "metadata": {
    "vscode": {
     "languageId": "r"
    }
   },
   "outputs": [
    {
     "ename": "ERROR",
     "evalue": "Error: objeto 'profil' não encontrado\n",
     "output_type": "error",
     "traceback": [
      "Error: objeto 'profil' não encontrado\nTraceback:\n",
      "1. apply(vacances[, 1:6], 1, profil)",
      "2. match.fun(FUN)",
      "3. .handleSimpleError(function (cnd) \n . {\n .     watcher$capture_plot_and_output()\n .     cnd <- sanitize_call(cnd)\n .     watcher$push(cnd)\n .     switch(on_error, continue = invokeRestart(\"eval_continue\"), \n .         stop = invokeRestart(\"eval_stop\"), error = invokeRestart(\"eval_error\", \n .             cnd))\n . }, \"objeto 'profil' não encontrado\", base::quote(eval(expr, \n .     envir)))"
     ]
    }
   ],
   "source": [
    "# Profile transformations on vacances dataset\n",
    "profil.ligne <- t(apply(vacances[,1:6], 1, profil))\n",
    "profil.colonne <- apply(vacances[,1:6], 2, profil)\n",
    "profil.colonne"
   ]
  },
  {
   "cell_type": "code",
   "execution_count": null,
   "metadata": {
    "vscode": {
     "languageId": "r"
    }
   },
   "outputs": [],
   "source": [
    "# Chi-squared test on vacances dataset\n",
    "chideux <- chisq.test(vacances[,1:6])\n",
    "chideux"
   ]
  },
  {
   "cell_type": "code",
   "execution_count": null,
   "metadata": {
    "vscode": {
     "languageId": "r"
    }
   },
   "outputs": [],
   "source": [
    "# Correspondence Analysis on vacances data\n",
    "res.ca <- CA(vacances)\n",
    "barplot(res.ca$eig[,2], names=paste(\"Dim\", 1:nrow(res.ca$eig)))\n",
    "round(res.ca$eig, 3)"
   ]
  },
  {
   "cell_type": "code",
   "execution_count": null,
   "metadata": {
    "vscode": {
     "languageId": "r"
    }
   },
   "outputs": [],
   "source": [
    "# Additional CA plots\n",
    "plot(res.ca)\n",
    "plot(res.ca, invisible=\"row\")\n",
    "plot(res.ca, invisible=c(\"col\", \"col.sup\"))\n",
    "plot(res.ca, axes = 2:3)"
   ]
  }
 ],
 "metadata": {
  "kernelspec": {
   "display_name": "R",
   "language": "R",
   "name": "ir"
  },
  "language_info": {
   "codemirror_mode": "r",
   "file_extension": ".r",
   "mimetype": "text/x-r-source",
   "name": "R",
   "pygments_lexer": "r",
   "version": "4.4.1"
  }
 },
 "nbformat": 4,
 "nbformat_minor": 2
}
