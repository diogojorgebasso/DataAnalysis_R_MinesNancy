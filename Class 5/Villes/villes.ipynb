{
 "cells": [
  {
   "cell_type": "code",
   "execution_count": 2,
   "metadata": {
    "vscode": {
     "languageId": "r"
    }
   },
   "outputs": [
    {
     "data": {
      "text/html": [
       "<table class=\"dataframe\">\n",
       "<caption>A data.frame: 6 × 17</caption>\n",
       "<thead>\n",
       "\t<tr><th></th><th scope=col>Janvier</th><th scope=col>Fevrier</th><th scope=col>Mars</th><th scope=col>Avril</th><th scope=col>Mai</th><th scope=col>Juin</th><th scope=col>Juillet</th><th scope=col>Aout</th><th scope=col>Septembre</th><th scope=col>Octobre</th><th scope=col>Novembre</th><th scope=col>Decembre</th><th scope=col>Moyenne</th><th scope=col>Amplitude</th><th scope=col>Latitude</th><th scope=col>Longitude</th><th scope=col>Region</th></tr>\n",
       "\t<tr><th></th><th scope=col>&lt;dbl&gt;</th><th scope=col>&lt;dbl&gt;</th><th scope=col>&lt;dbl&gt;</th><th scope=col>&lt;dbl&gt;</th><th scope=col>&lt;dbl&gt;</th><th scope=col>&lt;dbl&gt;</th><th scope=col>&lt;dbl&gt;</th><th scope=col>&lt;dbl&gt;</th><th scope=col>&lt;dbl&gt;</th><th scope=col>&lt;dbl&gt;</th><th scope=col>&lt;dbl&gt;</th><th scope=col>&lt;dbl&gt;</th><th scope=col>&lt;dbl&gt;</th><th scope=col>&lt;dbl&gt;</th><th scope=col>&lt;dbl&gt;</th><th scope=col>&lt;dbl&gt;</th><th scope=col>&lt;chr&gt;</th></tr>\n",
       "</thead>\n",
       "<tbody>\n",
       "\t<tr><th scope=row>Amsterdam</th><td> 2.9</td><td> 2.5</td><td> 5.7</td><td> 8.2</td><td>12.5</td><td>14.8</td><td>17.1</td><td>17.1</td><td>14.5</td><td>11.4</td><td> 7.0</td><td> 4.4</td><td> 9.9</td><td>14.6</td><td>52.2</td><td> 4.5</td><td>Ouest</td></tr>\n",
       "\t<tr><th scope=row>Athenes</th><td> 9.1</td><td> 9.7</td><td>11.7</td><td>15.4</td><td>20.1</td><td>24.5</td><td>27.4</td><td>27.2</td><td>23.8</td><td>19.2</td><td>14.6</td><td>11.0</td><td>17.8</td><td>18.3</td><td>37.6</td><td>23.5</td><td>Sud  </td></tr>\n",
       "\t<tr><th scope=row>Berlin</th><td>-0.2</td><td> 0.1</td><td> 4.4</td><td> 8.2</td><td>13.8</td><td>16.0</td><td>18.3</td><td>18.0</td><td>14.4</td><td>10.0</td><td> 4.2</td><td> 1.2</td><td> 9.1</td><td>18.5</td><td>52.3</td><td>13.2</td><td>Ouest</td></tr>\n",
       "\t<tr><th scope=row>Bruxelles</th><td> 3.3</td><td> 3.3</td><td> 6.7</td><td> 8.9</td><td>12.8</td><td>15.6</td><td>17.8</td><td>17.8</td><td>15.0</td><td>11.1</td><td> 6.7</td><td> 4.4</td><td>10.3</td><td>14.4</td><td>50.5</td><td> 4.2</td><td>Ouest</td></tr>\n",
       "\t<tr><th scope=row>Budapest</th><td>-1.1</td><td> 0.8</td><td> 5.5</td><td>11.6</td><td>17.0</td><td>20.2</td><td>22.0</td><td>21.3</td><td>16.9</td><td>11.3</td><td> 5.1</td><td> 0.7</td><td>10.9</td><td>23.1</td><td>47.3</td><td>19.0</td><td>Est  </td></tr>\n",
       "\t<tr><th scope=row>Copenhague</th><td>-0.4</td><td>-0.4</td><td> 1.3</td><td> 5.8</td><td>11.1</td><td>15.4</td><td>17.1</td><td>16.6</td><td>13.3</td><td> 8.8</td><td> 4.1</td><td> 1.3</td><td> 7.8</td><td>17.5</td><td>55.4</td><td>12.3</td><td>Nord </td></tr>\n",
       "</tbody>\n",
       "</table>\n"
      ],
      "text/latex": [
       "A data.frame: 6 × 17\n",
       "\\begin{tabular}{r|lllllllllllllllll}\n",
       "  & Janvier & Fevrier & Mars & Avril & Mai & Juin & Juillet & Aout & Septembre & Octobre & Novembre & Decembre & Moyenne & Amplitude & Latitude & Longitude & Region\\\\\n",
       "  & <dbl> & <dbl> & <dbl> & <dbl> & <dbl> & <dbl> & <dbl> & <dbl> & <dbl> & <dbl> & <dbl> & <dbl> & <dbl> & <dbl> & <dbl> & <dbl> & <chr>\\\\\n",
       "\\hline\n",
       "\tAmsterdam &  2.9 &  2.5 &  5.7 &  8.2 & 12.5 & 14.8 & 17.1 & 17.1 & 14.5 & 11.4 &  7.0 &  4.4 &  9.9 & 14.6 & 52.2 &  4.5 & Ouest\\\\\n",
       "\tAthenes &  9.1 &  9.7 & 11.7 & 15.4 & 20.1 & 24.5 & 27.4 & 27.2 & 23.8 & 19.2 & 14.6 & 11.0 & 17.8 & 18.3 & 37.6 & 23.5 & Sud  \\\\\n",
       "\tBerlin & -0.2 &  0.1 &  4.4 &  8.2 & 13.8 & 16.0 & 18.3 & 18.0 & 14.4 & 10.0 &  4.2 &  1.2 &  9.1 & 18.5 & 52.3 & 13.2 & Ouest\\\\\n",
       "\tBruxelles &  3.3 &  3.3 &  6.7 &  8.9 & 12.8 & 15.6 & 17.8 & 17.8 & 15.0 & 11.1 &  6.7 &  4.4 & 10.3 & 14.4 & 50.5 &  4.2 & Ouest\\\\\n",
       "\tBudapest & -1.1 &  0.8 &  5.5 & 11.6 & 17.0 & 20.2 & 22.0 & 21.3 & 16.9 & 11.3 &  5.1 &  0.7 & 10.9 & 23.1 & 47.3 & 19.0 & Est  \\\\\n",
       "\tCopenhague & -0.4 & -0.4 &  1.3 &  5.8 & 11.1 & 15.4 & 17.1 & 16.6 & 13.3 &  8.8 &  4.1 &  1.3 &  7.8 & 17.5 & 55.4 & 12.3 & Nord \\\\\n",
       "\\end{tabular}\n"
      ],
      "text/markdown": [
       "\n",
       "A data.frame: 6 × 17\n",
       "\n",
       "| <!--/--> | Janvier &lt;dbl&gt; | Fevrier &lt;dbl&gt; | Mars &lt;dbl&gt; | Avril &lt;dbl&gt; | Mai &lt;dbl&gt; | Juin &lt;dbl&gt; | Juillet &lt;dbl&gt; | Aout &lt;dbl&gt; | Septembre &lt;dbl&gt; | Octobre &lt;dbl&gt; | Novembre &lt;dbl&gt; | Decembre &lt;dbl&gt; | Moyenne &lt;dbl&gt; | Amplitude &lt;dbl&gt; | Latitude &lt;dbl&gt; | Longitude &lt;dbl&gt; | Region &lt;chr&gt; |\n",
       "|---|---|---|---|---|---|---|---|---|---|---|---|---|---|---|---|---|---|\n",
       "| Amsterdam |  2.9 |  2.5 |  5.7 |  8.2 | 12.5 | 14.8 | 17.1 | 17.1 | 14.5 | 11.4 |  7.0 |  4.4 |  9.9 | 14.6 | 52.2 |  4.5 | Ouest |\n",
       "| Athenes |  9.1 |  9.7 | 11.7 | 15.4 | 20.1 | 24.5 | 27.4 | 27.2 | 23.8 | 19.2 | 14.6 | 11.0 | 17.8 | 18.3 | 37.6 | 23.5 | Sud   |\n",
       "| Berlin | -0.2 |  0.1 |  4.4 |  8.2 | 13.8 | 16.0 | 18.3 | 18.0 | 14.4 | 10.0 |  4.2 |  1.2 |  9.1 | 18.5 | 52.3 | 13.2 | Ouest |\n",
       "| Bruxelles |  3.3 |  3.3 |  6.7 |  8.9 | 12.8 | 15.6 | 17.8 | 17.8 | 15.0 | 11.1 |  6.7 |  4.4 | 10.3 | 14.4 | 50.5 |  4.2 | Ouest |\n",
       "| Budapest | -1.1 |  0.8 |  5.5 | 11.6 | 17.0 | 20.2 | 22.0 | 21.3 | 16.9 | 11.3 |  5.1 |  0.7 | 10.9 | 23.1 | 47.3 | 19.0 | Est   |\n",
       "| Copenhague | -0.4 | -0.4 |  1.3 |  5.8 | 11.1 | 15.4 | 17.1 | 16.6 | 13.3 |  8.8 |  4.1 |  1.3 |  7.8 | 17.5 | 55.4 | 12.3 | Nord  |\n",
       "\n"
      ],
      "text/plain": [
       "           Janvier Fevrier Mars Avril Mai  Juin Juillet Aout Septembre Octobre\n",
       "Amsterdam   2.9     2.5     5.7  8.2  12.5 14.8 17.1    17.1 14.5      11.4   \n",
       "Athenes     9.1     9.7    11.7 15.4  20.1 24.5 27.4    27.2 23.8      19.2   \n",
       "Berlin     -0.2     0.1     4.4  8.2  13.8 16.0 18.3    18.0 14.4      10.0   \n",
       "Bruxelles   3.3     3.3     6.7  8.9  12.8 15.6 17.8    17.8 15.0      11.1   \n",
       "Budapest   -1.1     0.8     5.5 11.6  17.0 20.2 22.0    21.3 16.9      11.3   \n",
       "Copenhague -0.4    -0.4     1.3  5.8  11.1 15.4 17.1    16.6 13.3       8.8   \n",
       "           Novembre Decembre Moyenne Amplitude Latitude Longitude Region\n",
       "Amsterdam   7.0      4.4      9.9    14.6      52.2      4.5      Ouest \n",
       "Athenes    14.6     11.0     17.8    18.3      37.6     23.5      Sud   \n",
       "Berlin      4.2      1.2      9.1    18.5      52.3     13.2      Ouest \n",
       "Bruxelles   6.7      4.4     10.3    14.4      50.5      4.2      Ouest \n",
       "Budapest    5.1      0.7     10.9    23.1      47.3     19.0      Est   \n",
       "Copenhague  4.1      1.3      7.8    17.5      55.4     12.3      Nord  "
      ]
     },
     "metadata": {},
     "output_type": "display_data"
    },
    {
     "data": {
      "text/plain": [
       "    Janvier          Fevrier            Mars            Avril       \n",
       " Min.   :-9.300   Min.   :-7.900   Min.   :-3.700   Min.   : 2.900  \n",
       " 1st Qu.:-1.550   1st Qu.:-0.150   1st Qu.: 1.600   1st Qu.: 7.250  \n",
       " Median : 0.200   Median : 1.900   Median : 5.400   Median : 8.900  \n",
       " Mean   : 1.346   Mean   : 2.217   Mean   : 5.229   Mean   : 9.283  \n",
       " 3rd Qu.: 4.900   3rd Qu.: 5.800   3rd Qu.: 8.500   3rd Qu.:12.050  \n",
       " Max.   :10.700   Max.   :11.800   Max.   :14.100   Max.   :16.900  \n",
       "      Mai             Juin          Juillet           Aout      \n",
       " Min.   : 6.50   Min.   : 9.30   Min.   :11.10   Min.   :10.60  \n",
       " 1st Qu.:12.15   1st Qu.:15.40   1st Qu.:17.30   1st Qu.:16.65  \n",
       " Median :13.80   Median :16.90   Median :18.90   Median :18.30  \n",
       " Mean   :13.91   Mean   :17.41   Mean   :19.62   Mean   :18.98  \n",
       " 3rd Qu.:16.35   3rd Qu.:19.80   3rd Qu.:21.75   3rd Qu.:21.60  \n",
       " Max.   :20.90   Max.   :24.50   Max.   :27.40   Max.   :27.20  \n",
       "   Septembre        Octobre         Novembre         Decembre    \n",
       " Min.   : 7.90   Min.   : 4.50   Min.   :-1.100   Min.   :-6.00  \n",
       " 1st Qu.:13.00   1st Qu.: 8.65   1st Qu.: 3.200   1st Qu.: 0.25  \n",
       " Median :14.80   Median :10.20   Median : 5.100   Median : 1.70  \n",
       " Mean   :15.63   Mean   :11.00   Mean   : 6.066   Mean   : 2.88  \n",
       " 3rd Qu.:18.25   3rd Qu.:13.30   3rd Qu.: 7.900   3rd Qu.: 5.40  \n",
       " Max.   :24.30   Max.   :19.40   Max.   :14.900   Max.   :12.00  \n",
       "    Moyenne        Amplitude        Latitude       Longitude    \n",
       " Min.   : 4.50   Min.   :10.20   Min.   :37.20   Min.   : 0.00  \n",
       " 1st Qu.: 7.75   1st Qu.:14.90   1st Qu.:43.90   1st Qu.: 4.35  \n",
       " Median : 9.70   Median :18.50   Median :50.00   Median : 9.40  \n",
       " Mean   :10.27   Mean   :18.32   Mean   :48.77   Mean   :11.98  \n",
       " 3rd Qu.:12.65   3rd Qu.:21.45   3rd Qu.:52.75   3rd Qu.:18.65  \n",
       " Max.   :18.20   Max.   :27.60   Max.   :64.10   Max.   :30.30  \n",
       "    Region         \n",
       " Length:35         \n",
       " Class :character  \n",
       " Mode  :character  \n",
       "                   \n",
       "                   \n",
       "                   "
      ]
     },
     "metadata": {},
     "output_type": "display_data"
    }
   ],
   "source": [
    "meteo <- read.csv(\"villes35.csv\", header = TRUE, sep = \";\", row.names = 1, dec = \",\", encoding=\"UTF-8\")\n",
    "\n",
    "head(meteo)\n",
    "\n",
    "summary(meteo)"
   ]
  },
  {
   "cell_type": "markdown",
   "metadata": {},
   "source": [
    "Selection des variables pour l'etude"
   ]
  },
  {
   "cell_type": "code",
   "execution_count": 3,
   "metadata": {
    "vscode": {
     "languageId": "r"
    }
   },
   "outputs": [
    {
     "data": {
      "text/html": [
       "<table class=\"dataframe\">\n",
       "<caption>A data.frame: 6 × 12</caption>\n",
       "<thead>\n",
       "\t<tr><th></th><th scope=col>Janvier</th><th scope=col>Fevrier</th><th scope=col>Mars</th><th scope=col>Avril</th><th scope=col>Mai</th><th scope=col>Juin</th><th scope=col>Juillet</th><th scope=col>Aout</th><th scope=col>Septembre</th><th scope=col>Octobre</th><th scope=col>Novembre</th><th scope=col>Decembre</th></tr>\n",
       "\t<tr><th></th><th scope=col>&lt;dbl&gt;</th><th scope=col>&lt;dbl&gt;</th><th scope=col>&lt;dbl&gt;</th><th scope=col>&lt;dbl&gt;</th><th scope=col>&lt;dbl&gt;</th><th scope=col>&lt;dbl&gt;</th><th scope=col>&lt;dbl&gt;</th><th scope=col>&lt;dbl&gt;</th><th scope=col>&lt;dbl&gt;</th><th scope=col>&lt;dbl&gt;</th><th scope=col>&lt;dbl&gt;</th><th scope=col>&lt;dbl&gt;</th></tr>\n",
       "</thead>\n",
       "<tbody>\n",
       "\t<tr><th scope=row>Amsterdam</th><td> 2.9</td><td> 2.5</td><td> 5.7</td><td> 8.2</td><td>12.5</td><td>14.8</td><td>17.1</td><td>17.1</td><td>14.5</td><td>11.4</td><td> 7.0</td><td> 4.4</td></tr>\n",
       "\t<tr><th scope=row>Athenes</th><td> 9.1</td><td> 9.7</td><td>11.7</td><td>15.4</td><td>20.1</td><td>24.5</td><td>27.4</td><td>27.2</td><td>23.8</td><td>19.2</td><td>14.6</td><td>11.0</td></tr>\n",
       "\t<tr><th scope=row>Berlin</th><td>-0.2</td><td> 0.1</td><td> 4.4</td><td> 8.2</td><td>13.8</td><td>16.0</td><td>18.3</td><td>18.0</td><td>14.4</td><td>10.0</td><td> 4.2</td><td> 1.2</td></tr>\n",
       "\t<tr><th scope=row>Bruxelles</th><td> 3.3</td><td> 3.3</td><td> 6.7</td><td> 8.9</td><td>12.8</td><td>15.6</td><td>17.8</td><td>17.8</td><td>15.0</td><td>11.1</td><td> 6.7</td><td> 4.4</td></tr>\n",
       "\t<tr><th scope=row>Budapest</th><td>-1.1</td><td> 0.8</td><td> 5.5</td><td>11.6</td><td>17.0</td><td>20.2</td><td>22.0</td><td>21.3</td><td>16.9</td><td>11.3</td><td> 5.1</td><td> 0.7</td></tr>\n",
       "\t<tr><th scope=row>Copenhague</th><td>-0.4</td><td>-0.4</td><td> 1.3</td><td> 5.8</td><td>11.1</td><td>15.4</td><td>17.1</td><td>16.6</td><td>13.3</td><td> 8.8</td><td> 4.1</td><td> 1.3</td></tr>\n",
       "</tbody>\n",
       "</table>\n"
      ],
      "text/latex": [
       "A data.frame: 6 × 12\n",
       "\\begin{tabular}{r|llllllllllll}\n",
       "  & Janvier & Fevrier & Mars & Avril & Mai & Juin & Juillet & Aout & Septembre & Octobre & Novembre & Decembre\\\\\n",
       "  & <dbl> & <dbl> & <dbl> & <dbl> & <dbl> & <dbl> & <dbl> & <dbl> & <dbl> & <dbl> & <dbl> & <dbl>\\\\\n",
       "\\hline\n",
       "\tAmsterdam &  2.9 &  2.5 &  5.7 &  8.2 & 12.5 & 14.8 & 17.1 & 17.1 & 14.5 & 11.4 &  7.0 &  4.4\\\\\n",
       "\tAthenes &  9.1 &  9.7 & 11.7 & 15.4 & 20.1 & 24.5 & 27.4 & 27.2 & 23.8 & 19.2 & 14.6 & 11.0\\\\\n",
       "\tBerlin & -0.2 &  0.1 &  4.4 &  8.2 & 13.8 & 16.0 & 18.3 & 18.0 & 14.4 & 10.0 &  4.2 &  1.2\\\\\n",
       "\tBruxelles &  3.3 &  3.3 &  6.7 &  8.9 & 12.8 & 15.6 & 17.8 & 17.8 & 15.0 & 11.1 &  6.7 &  4.4\\\\\n",
       "\tBudapest & -1.1 &  0.8 &  5.5 & 11.6 & 17.0 & 20.2 & 22.0 & 21.3 & 16.9 & 11.3 &  5.1 &  0.7\\\\\n",
       "\tCopenhague & -0.4 & -0.4 &  1.3 &  5.8 & 11.1 & 15.4 & 17.1 & 16.6 & 13.3 &  8.8 &  4.1 &  1.3\\\\\n",
       "\\end{tabular}\n"
      ],
      "text/markdown": [
       "\n",
       "A data.frame: 6 × 12\n",
       "\n",
       "| <!--/--> | Janvier &lt;dbl&gt; | Fevrier &lt;dbl&gt; | Mars &lt;dbl&gt; | Avril &lt;dbl&gt; | Mai &lt;dbl&gt; | Juin &lt;dbl&gt; | Juillet &lt;dbl&gt; | Aout &lt;dbl&gt; | Septembre &lt;dbl&gt; | Octobre &lt;dbl&gt; | Novembre &lt;dbl&gt; | Decembre &lt;dbl&gt; |\n",
       "|---|---|---|---|---|---|---|---|---|---|---|---|---|\n",
       "| Amsterdam |  2.9 |  2.5 |  5.7 |  8.2 | 12.5 | 14.8 | 17.1 | 17.1 | 14.5 | 11.4 |  7.0 |  4.4 |\n",
       "| Athenes |  9.1 |  9.7 | 11.7 | 15.4 | 20.1 | 24.5 | 27.4 | 27.2 | 23.8 | 19.2 | 14.6 | 11.0 |\n",
       "| Berlin | -0.2 |  0.1 |  4.4 |  8.2 | 13.8 | 16.0 | 18.3 | 18.0 | 14.4 | 10.0 |  4.2 |  1.2 |\n",
       "| Bruxelles |  3.3 |  3.3 |  6.7 |  8.9 | 12.8 | 15.6 | 17.8 | 17.8 | 15.0 | 11.1 |  6.7 |  4.4 |\n",
       "| Budapest | -1.1 |  0.8 |  5.5 | 11.6 | 17.0 | 20.2 | 22.0 | 21.3 | 16.9 | 11.3 |  5.1 |  0.7 |\n",
       "| Copenhague | -0.4 | -0.4 |  1.3 |  5.8 | 11.1 | 15.4 | 17.1 | 16.6 | 13.3 |  8.8 |  4.1 |  1.3 |\n",
       "\n"
      ],
      "text/plain": [
       "           Janvier Fevrier Mars Avril Mai  Juin Juillet Aout Septembre Octobre\n",
       "Amsterdam   2.9     2.5     5.7  8.2  12.5 14.8 17.1    17.1 14.5      11.4   \n",
       "Athenes     9.1     9.7    11.7 15.4  20.1 24.5 27.4    27.2 23.8      19.2   \n",
       "Berlin     -0.2     0.1     4.4  8.2  13.8 16.0 18.3    18.0 14.4      10.0   \n",
       "Bruxelles   3.3     3.3     6.7  8.9  12.8 15.6 17.8    17.8 15.0      11.1   \n",
       "Budapest   -1.1     0.8     5.5 11.6  17.0 20.2 22.0    21.3 16.9      11.3   \n",
       "Copenhague -0.4    -0.4     1.3  5.8  11.1 15.4 17.1    16.6 13.3       8.8   \n",
       "           Novembre Decembre\n",
       "Amsterdam   7.0      4.4    \n",
       "Athenes    14.6     11.0    \n",
       "Berlin      4.2      1.2    \n",
       "Bruxelles   6.7      4.4    \n",
       "Budapest    5.1      0.7    \n",
       "Copenhague  4.1      1.3    "
      ]
     },
     "metadata": {},
     "output_type": "display_data"
    }
   ],
   "source": [
    "meteo1 <- meteo[1:12]\n",
    "\n",
    "head(meteo1)"
   ]
  },
  {
   "cell_type": "markdown",
   "metadata": {},
   "source": [
    "Extrait de la Matrice des distances"
   ]
  },
  {
   "cell_type": "code",
   "execution_count": 4,
   "metadata": {
    "vscode": {
     "languageId": "r"
    }
   },
   "outputs": [
    {
     "data": {
      "text/plain": [
       "                 Amsterdam    Athenes     Berlin  Bruxelles   Budapest\n",
       "Athenes          7.1107188                                            \n",
       "Berlin           1.3910602  7.3077033                                 \n",
       "Bruxelles        0.5162778  6.7097022  1.3898853                      \n",
       "Budapest         3.1899958  5.5519123  2.4108108  2.8515023           \n",
       "Copenhague       1.8240625  8.3761715  1.3891383  2.0938548  3.6197284\n",
       "Dublin           1.4630184  8.1702110  2.5180388  1.7626063  4.5148803\n",
       "Helsinki         4.2668076 10.6106514  3.5322263  4.5505829  5.4180808\n",
       "Kiev             3.5660527  8.5651866  2.2517093  3.6088059  3.1091609\n",
       "Cracovie         2.4929863  8.1257052  1.2400772  2.5570516  2.7999015\n",
       "Lisbonne         4.9027496  3.0556436  5.5446305  4.5382280  4.6564218\n",
       "Londres          0.5406907  7.3090641  1.5490471  0.7115663  3.3866115\n",
       "Madrid           4.1497407  3.3436222  4.1570243  3.7021171  2.5942106\n",
       "Minsk            4.0346876  9.9004869  2.9775234  4.2266924  4.5011264\n",
       "Moscou           4.6765466 10.1716401  3.5092444  4.8204662  4.6907005\n",
       "Oslo             3.6016261  9.9668810  2.8242495  3.8464243  4.7619233\n",
       "Paris            1.2008758  5.9492555  1.7759057  0.7808402  2.4579990\n",
       "Prague           1.9852341  7.0844876  0.7320043  1.8629773  1.8907266\n",
       "Reykjavik        4.7572600 11.8257168  4.8978681  5.1477414  7.2547039\n",
       "Rome             4.9847338  2.1573489  5.2079651  4.5695771  3.6736484\n",
       "Sarajevo         1.6192812  6.8859287  0.6392056  1.4758367  1.9266405\n",
       "Sofia            2.0379297  6.6134451  1.0447235  1.8434398  1.4896297\n",
       "Stockholm        3.4354595  9.8378072  2.8153225  3.7109697  4.8201464\n",
       "Anvers           0.4323457  6.7374601  1.3632315  0.2017446  2.8637500\n",
       "Barcelone        5.3665299  1.9631740  5.7602457  4.9661291  4.4242588\n",
       "Bordeaux         2.5320376  4.7017278  2.9596970  2.0911662  2.4909551\n",
       "Edimbourg        1.7305836  8.7142609  2.3999589  2.0862538  4.6268237\n",
       "Francfort        1.5540370  6.7042026  0.7848054  1.3111671  1.8589944\n",
       "Geneve           1.5469643  6.7404719  0.7380892  1.3153497  1.8962744\n",
       "Genes            5.2903087  1.9400564  5.6294688  4.8914431  4.2427209\n",
       "Milan            3.8694759  4.2008498  3.4933513  3.4467216  1.4134669\n",
       "Palerme          6.6312064  1.7713530  6.9929524  6.2416421  5.4865002\n",
       "Séville          7.1576821  0.8413369  7.4559481  6.7490176  5.8326023\n",
       "St. Petersbourg  4.7841220 10.6035001  3.8282838  4.9972357  5.3210440\n",
       "Zurich           1.5385273  7.6174690  0.5160583  1.5599275  2.6569408\n",
       "                Copenhague     Dublin   Helsinki       Kiev   Cracovie\n",
       "Athenes                                                               \n",
       "Berlin                                                                \n",
       "Bruxelles                                                             \n",
       "Budapest                                                              \n",
       "Copenhague                                                            \n",
       "Dublin           2.2753148                                            \n",
       "Helsinki         2.5437433  4.3649716                                 \n",
       "Kiev             2.3689407  4.4319625  2.6672616                      \n",
       "Cracovie         1.4380651  3.3341564  2.7081308  1.1434018           \n",
       "Lisbonne         6.5141753  5.6626682  8.9710928  7.3826846  6.6092282\n",
       "Londres          1.7835798  1.1479065  4.2127857  3.6532561  2.5528161\n",
       "Madrid           5.2388809  5.3125040  7.4370242  5.4792757  4.9579474\n",
       "Minsk            2.4066092  4.4715094  1.3170814  1.5096133  1.8834524\n",
       "Moscou           3.1344412  5.1882068  1.8710522  1.6261423  2.3382575\n",
       "Oslo             1.8705098  3.7530073  0.9050114  2.1933092  2.0051840\n",
       "Paris            2.7069613  2.4407861  5.1479574  3.8933585  2.9387885\n",
       "Prague           1.7860157  3.1281916  3.6807109  1.8967972  1.0894485\n",
       "Reykjavik        3.7944843  3.8376810  3.3091240  5.3411833  4.7439464\n",
       "Rome             6.2884536  6.0600731  8.5823284  6.6468112  6.0906664\n",
       "Sarajevo         1.8395472  2.8558130  3.9406087  2.3251623  1.4036775\n",
       "Sofia            2.1951379  3.3270532  4.1531181  2.2481175  1.5420931\n",
       "Stockholm        1.6611486  3.5682133  1.0920783  2.4506377  2.1509818\n",
       "Anvers           2.0476083  1.7570253  4.4961477  3.5762053  2.5284345\n",
       "Barcelone        6.7904411  6.3225563  9.1595852  7.3411881  6.7134038\n",
       "Bordeaux         3.9920296  3.5602139  6.4072641  4.8429155  4.0153939\n",
       "Edimbourg        1.8359838  0.7808343  3.6690753  4.0194571  2.9640991\n",
       "Francfort        2.0006112  2.7433110  4.1565378  2.5826864  1.6737306\n",
       "Geneve           1.9040576  2.7401341  4.0736716  2.5241635  1.6040971\n",
       "Genes            6.6773311  6.3071920  9.0148575  7.1637318  6.5689912\n",
       "Milan            4.6911612  5.1627939  6.6930513  4.4760193  4.0949845\n",
       "Palerme          8.0712580  7.5242684 10.3982482  8.4817483  7.9059573\n",
       "Séville          8.5343593  8.1320484 10.8426174  8.8651109  8.3446884\n",
       "St. Petersbourg  3.0441289  5.1350698  1.2163079  2.3407176  2.7798292\n",
       "Zurich           1.2071656  2.4227834  3.3035167  2.1717031  1.0682156\n",
       "                  Lisbonne    Londres     Madrid      Minsk     Moscou\n",
       "Athenes                                                               \n",
       "Berlin                                                                \n",
       "Bruxelles                                                             \n",
       "Budapest                                                              \n",
       "Copenhague                                                            \n",
       "Dublin                                                                \n",
       "Helsinki                                                              \n",
       "Kiev                                                                  \n",
       "Cracovie                                                              \n",
       "Lisbonne                                                              \n",
       "Londres          5.0461466                                            \n",
       "Madrid           2.6861012  4.3201387                                 \n",
       "Minsk            8.4575204  4.0371237  6.7544098                      \n",
       "Moscou           8.8997739  4.6919237  7.0545705  0.8181291           \n",
       "Oslo             8.2768698  3.5187699  6.7532513  1.1071754  1.8199914\n",
       "Paris            3.8586925  1.4405045  2.9887725  4.7201973  5.2534101\n",
       "Prague           5.5753016  2.0964951  3.9157767  2.9289316  3.3417436\n",
       "Reykjavik        9.4797410  4.5316159  8.7393868  4.2359004  4.8723411\n",
       "Rome             1.7704097  5.1735619  1.4241527  7.9122459  8.2381936\n",
       "Sarajevo         5.2341174  1.7993213  3.7286801  3.2663371  3.7114063\n",
       "Sofia            5.1747811  2.2374632  3.4614810  3.3852508  3.7524662\n",
       "Stockholm        8.1268482  3.3654114  6.6434675  1.5586145  2.2890230\n",
       "Anvers           4.5770417  0.7159940  3.7538227  4.1845373  4.7832308\n",
       "Barcelone        1.2555556  5.5387732  2.1008410  8.5519660  8.9189761\n",
       "Bordeaux         2.6251791  2.6728122  1.9441673  5.8679972  6.3191619\n",
       "Edimbourg        6.3212689  1.4313838  5.7282969  3.8580841  4.5897721\n",
       "Francfort        4.9922331  1.6548520  3.5564252  3.5137125  3.9617548\n",
       "Geneve           5.0499385  1.6444625  3.5542317  3.4500236  3.9047326\n",
       "Genes            1.4998716  5.4877043  1.9137903  8.3949394  8.7500689\n",
       "Milan            3.6337075  4.0665538  1.3619543  5.8515717  6.0605730\n",
       "Palerme          2.2128265  6.7847713  3.5172124  9.7266757 10.0532642\n",
       "Séville          2.7328578  7.3370995  3.5161281 10.1636238 10.4652062\n",
       "St. Petersbourg  9.2381809  4.7818974  7.4394322  1.1694691  1.3151358\n",
       "Zurich           5.8112858  1.5509676  4.4323297  2.7655222  3.3089443\n",
       "                      Oslo      Paris     Prague  Reykjavik       Rome\n",
       "Athenes                                                               \n",
       "Berlin                                                                \n",
       "Bruxelles                                                             \n",
       "Budapest                                                              \n",
       "Copenhague                                                            \n",
       "Dublin                                                                \n",
       "Helsinki                                                              \n",
       "Kiev                                                                  \n",
       "Cracovie                                                              \n",
       "Lisbonne                                                              \n",
       "Londres                                                               \n",
       "Madrid                                                                \n",
       "Minsk                                                                 \n",
       "Moscou                                                                \n",
       "Oslo                                                                  \n",
       "Paris            4.4521747                                            \n",
       "Prague           2.9701406  2.0435083                                 \n",
       "Reykjavik        3.3006176  5.9162528  5.3920614                      \n",
       "Rome             7.9089241  3.8116081  5.0332783  9.6949186           \n",
       "Sarajevo         3.2172887  1.6416197  0.5750557  5.3923294  4.8000070\n",
       "Sofia            3.4619491  1.8240833  0.6150490  5.8336105  4.5750814\n",
       "Stockholm        0.6692199  4.3188368  3.0155853  3.2275252  7.7902124\n",
       "Anvers           3.8140878  0.8076198  1.8560557  5.1224512  4.6036199\n",
       "Barcelone        8.4782713  4.2228905  5.6556178 10.0523745  0.8388724\n",
       "Bordeaux         5.6887466  1.3741576  2.9876632  7.1953087  2.5539795\n",
       "Edimbourg        3.0713606  2.8417363  3.0095451  3.1669991  6.5830426\n",
       "Francfort        3.4233318  1.4405636  0.7196902  5.4791239  4.6004847\n",
       "Geneve           3.3372107  1.4640924  0.6570112  5.4320580  4.6380819\n",
       "Genes            8.3474559  4.1341838  5.5141651 10.0009135  0.6832829\n",
       "Milan            6.0181565  2.8110141  3.1014011  8.3117620  2.3876967\n",
       "Palerme          9.7233199  5.5129443  6.8527817 11.2792116  2.1600780\n",
       "Séville         10.1676720  5.9972141  7.2866950 11.8566873  2.2699780\n",
       "St. Petersbourg  1.4927311  5.4975942  3.7902586  4.3377533  8.6512672\n",
       "Zurich           2.5367623  2.0451610  0.8681486  4.6092185  5.5060152\n",
       "                  Sarajevo      Sofia  Stockholm     Anvers  Barcelone\n",
       "Athenes                                                               \n",
       "Berlin                                                                \n",
       "Bruxelles                                                             \n",
       "Budapest                                                              \n",
       "Copenhague                                                            \n",
       "Dublin                                                                \n",
       "Helsinki                                                              \n",
       "Kiev                                                                  \n",
       "Cracovie                                                              \n",
       "Lisbonne                                                              \n",
       "Londres                                                               \n",
       "Madrid                                                                \n",
       "Minsk                                                                 \n",
       "Moscou                                                                \n",
       "Oslo                                                                  \n",
       "Paris                                                                 \n",
       "Prague                                                                \n",
       "Reykjavik                                                             \n",
       "Rome                                                                  \n",
       "Sarajevo                                                              \n",
       "Sofia            0.5246128                                            \n",
       "Stockholm        3.2126524  3.4626671                                 \n",
       "Anvers           1.4715745  1.8352799  3.6720709                      \n",
       "Barcelone        5.3812367  5.2070975  8.3315110  5.0044032           \n",
       "Bordeaux         2.6547517  2.6380098  5.5828391  2.1430962  2.9361689\n",
       "Edimbourg        2.8169216  3.3056314  2.9051709  2.0727102  6.9075954\n",
       "Francfort        0.5176700  0.7698270  3.4410038  1.3258142  5.1726389\n",
       "Geneve           0.4386544  0.6938935  3.3278178  1.3330440  5.2088243\n",
       "Genes            5.2519447  5.0545644  8.1992754  4.9241084  0.4204301\n",
       "Milan            2.9985723  2.6347693  6.0066960  3.4811844  3.1721917\n",
       "Palerme          6.6129780  6.4320372  9.6373549  6.2686224  1.7683893\n",
       "Séville          7.0497665  6.8217744 10.0399173  6.7889658  1.8200694\n",
       "St. Petersbourg  4.1024745  4.1954378  1.6635778  4.9568672  9.2845744\n",
       "Zurich           0.8500734  1.2757268  2.5660880  1.5583049  6.0500305\n",
       "                  Bordeaux  Edimbourg  Francfort     Geneve      Genes\n",
       "Athenes                                                               \n",
       "Berlin                                                                \n",
       "Bruxelles                                                             \n",
       "Budapest                                                              \n",
       "Copenhague                                                            \n",
       "Dublin                                                                \n",
       "Helsinki                                                              \n",
       "Kiev                                                                  \n",
       "Cracovie                                                              \n",
       "Lisbonne                                                              \n",
       "Londres                                                               \n",
       "Madrid                                                                \n",
       "Minsk                                                                 \n",
       "Moscou                                                                \n",
       "Oslo                                                                  \n",
       "Paris                                                                 \n",
       "Prague                                                                \n",
       "Reykjavik                                                             \n",
       "Rome                                                                  \n",
       "Sarajevo                                                              \n",
       "Sofia                                                                 \n",
       "Stockholm                                                             \n",
       "Anvers                                                                \n",
       "Barcelone                                                             \n",
       "Bordeaux                                                              \n",
       "Edimbourg        4.0662470                                            \n",
       "Francfort        2.3889440  2.7826408                                 \n",
       "Geneve           2.4393145  2.7578418  0.2430033                      \n",
       "Genes            2.8864387  6.8706170  5.0602210  5.0924843           \n",
       "Milan            2.1376244  5.4441581  2.8657579  2.8921090  2.9808705\n",
       "Palerme          4.2092690  8.1317312  6.3559646  6.4356547  1.9744479\n",
       "Séville          4.7004183  8.7144765  6.8500227  6.8899199  1.9006668\n",
       "St. Petersbourg  6.6661817  4.4805361  4.3890913  4.2825391  9.1153591\n",
       "Zurich           3.2086213  2.2081134  0.9584213  0.8946188  5.9398112\n",
       "                     Milan    Palerme    Séville St. Petersbourg\n",
       "Athenes                                                         \n",
       "Berlin                                                          \n",
       "Bruxelles                                                       \n",
       "Budapest                                                        \n",
       "Copenhague                                                      \n",
       "Dublin                                                          \n",
       "Helsinki                                                        \n",
       "Kiev                                                            \n",
       "Cracovie                                                        \n",
       "Lisbonne                                                        \n",
       "Londres                                                         \n",
       "Madrid                                                          \n",
       "Minsk                                                           \n",
       "Moscou                                                          \n",
       "Oslo                                                            \n",
       "Paris                                                           \n",
       "Prague                                                          \n",
       "Reykjavik                                                       \n",
       "Rome                                                            \n",
       "Sarajevo                                                        \n",
       "Sofia                                                           \n",
       "Stockholm                                                       \n",
       "Anvers                                                          \n",
       "Barcelone                                                       \n",
       "Bordeaux                                                        \n",
       "Edimbourg                                                       \n",
       "Francfort                                                       \n",
       "Geneve                                                          \n",
       "Genes                                                           \n",
       "Milan                                                           \n",
       "Palerme          4.2563058                                      \n",
       "Séville          4.4714364  1.5232139                           \n",
       "St. Petersbourg  6.6106082 10.5475466 10.8890247                \n",
       "Zurich           3.7594032  7.2694234  7.7531026       3.6195129"
      ]
     },
     "metadata": {},
     "output_type": "display_data"
    }
   ],
   "source": [
    "meteo2 <- scale(meteo1, center = TRUE, scale = TRUE)\n",
    "\n",
    "meteo.d <- dist(meteo2, method = \"euclidean\")\n",
    "\n",
    "meteo.d "
   ]
  },
  {
   "cell_type": "markdown",
   "metadata": {},
   "source": [
    "Classification avec la méthode de Ward"
   ]
  },
  {
   "cell_type": "code",
   "execution_count": 5,
   "metadata": {
    "vscode": {
     "languageId": "r"
    }
   },
   "outputs": [
    {
     "data": {
      "text/plain": [
       "\n",
       "Call:\n",
       "hclust(d = meteo.d, method = \"ward.D2\")\n",
       "\n",
       "Cluster method   : ward.D2 \n",
       "Distance         : euclidean \n",
       "Number of objects: 35 \n"
      ]
     },
     "metadata": {},
     "output_type": "display_data"
    }
   ],
   "source": [
    "cah.ward <- hclust(meteo.d, method = \"ward.D2\")\n",
    "cah.ward"
   ]
  },
  {
   "cell_type": "code",
   "execution_count": 6,
   "metadata": {
    "vscode": {
     "languageId": "r"
    }
   },
   "outputs": [
    {
     "data": {
      "text/html": [
       "<style>\n",
       ".dl-inline {width: auto; margin:0; padding: 0}\n",
       ".dl-inline>dt, .dl-inline>dd {float: none; width: auto; display: inline-block}\n",
       ".dl-inline>dt::after {content: \":\\0020\"; padding-right: .5ex}\n",
       ".dl-inline>dt:not(:first-of-type) {padding-left: .5ex}\n",
       "</style><dl class=dl-inline><dt>Amsterdam</dt><dd>1</dd><dt>Athenes</dt><dd>2</dd><dt>Berlin</dt><dd>1</dd><dt>Bruxelles</dt><dd>1</dd><dt>Budapest</dt><dd>2</dd><dt>Copenhague</dt><dd>1</dd><dt>Dublin</dt><dd>1</dd><dt>Helsinki</dt><dd>3</dd><dt>Kiev</dt><dd>1</dd><dt>Cracovie</dt><dd>1</dd><dt>Lisbonne</dt><dd>2</dd><dt>Londres</dt><dd>1</dd><dt>Madrid</dt><dd>2</dd><dt>Minsk</dt><dd>3</dd><dt>Moscou</dt><dd>3</dd><dt>Oslo</dt><dd>3</dd><dt>Paris</dt><dd>1</dd><dt>Prague</dt><dd>1</dd><dt>Reykjavik</dt><dd>3</dd><dt>Rome</dt><dd>2</dd><dt>Sarajevo</dt><dd>1</dd><dt>Sofia</dt><dd>1</dd><dt>Stockholm</dt><dd>3</dd><dt>Anvers</dt><dd>1</dd><dt>Barcelone</dt><dd>2</dd><dt>Bordeaux</dt><dd>2</dd><dt>Edimbourg</dt><dd>1</dd><dt>Francfort</dt><dd>1</dd><dt>Geneve</dt><dd>1</dd><dt>Genes</dt><dd>2</dd><dt>Milan</dt><dd>2</dd><dt>Palerme</dt><dd>2</dd><dt>Séville</dt><dd>2</dd><dt>St. Petersbourg</dt><dd>3</dd><dt>Zurich</dt><dd>1</dd></dl>\n"
      ],
      "text/latex": [
       "\\begin{description*}\n",
       "\\item[Amsterdam] 1\n",
       "\\item[Athenes] 2\n",
       "\\item[Berlin] 1\n",
       "\\item[Bruxelles] 1\n",
       "\\item[Budapest] 2\n",
       "\\item[Copenhague] 1\n",
       "\\item[Dublin] 1\n",
       "\\item[Helsinki] 3\n",
       "\\item[Kiev] 1\n",
       "\\item[Cracovie] 1\n",
       "\\item[Lisbonne] 2\n",
       "\\item[Londres] 1\n",
       "\\item[Madrid] 2\n",
       "\\item[Minsk] 3\n",
       "\\item[Moscou] 3\n",
       "\\item[Oslo] 3\n",
       "\\item[Paris] 1\n",
       "\\item[Prague] 1\n",
       "\\item[Reykjavik] 3\n",
       "\\item[Rome] 2\n",
       "\\item[Sarajevo] 1\n",
       "\\item[Sofia] 1\n",
       "\\item[Stockholm] 3\n",
       "\\item[Anvers] 1\n",
       "\\item[Barcelone] 2\n",
       "\\item[Bordeaux] 2\n",
       "\\item[Edimbourg] 1\n",
       "\\item[Francfort] 1\n",
       "\\item[Geneve] 1\n",
       "\\item[Genes] 2\n",
       "\\item[Milan] 2\n",
       "\\item[Palerme] 2\n",
       "\\item[Séville] 2\n",
       "\\item[St. Petersbourg] 3\n",
       "\\item[Zurich] 1\n",
       "\\end{description*}\n"
      ],
      "text/markdown": [
       "Amsterdam\n",
       ":   1Athenes\n",
       ":   2Berlin\n",
       ":   1Bruxelles\n",
       ":   1Budapest\n",
       ":   2Copenhague\n",
       ":   1Dublin\n",
       ":   1Helsinki\n",
       ":   3Kiev\n",
       ":   1Cracovie\n",
       ":   1Lisbonne\n",
       ":   2Londres\n",
       ":   1Madrid\n",
       ":   2Minsk\n",
       ":   3Moscou\n",
       ":   3Oslo\n",
       ":   3Paris\n",
       ":   1Prague\n",
       ":   1Reykjavik\n",
       ":   3Rome\n",
       ":   2Sarajevo\n",
       ":   1Sofia\n",
       ":   1Stockholm\n",
       ":   3Anvers\n",
       ":   1Barcelone\n",
       ":   2Bordeaux\n",
       ":   2Edimbourg\n",
       ":   1Francfort\n",
       ":   1Geneve\n",
       ":   1Genes\n",
       ":   2Milan\n",
       ":   2Palerme\n",
       ":   2Séville\n",
       ":   2St. Petersbourg\n",
       ":   3Zurich\n",
       ":   1\n",
       "\n"
      ],
      "text/plain": [
       "      Amsterdam         Athenes          Berlin       Bruxelles        Budapest \n",
       "              1               2               1               1               2 \n",
       "     Copenhague          Dublin        Helsinki            Kiev        Cracovie \n",
       "              1               1               3               1               1 \n",
       "       Lisbonne         Londres          Madrid           Minsk          Moscou \n",
       "              2               1               2               3               3 \n",
       "           Oslo           Paris          Prague       Reykjavik            Rome \n",
       "              3               1               1               3               2 \n",
       "       Sarajevo           Sofia       Stockholm          Anvers       Barcelone \n",
       "              1               1               3               1               2 \n",
       "       Bordeaux       Edimbourg       Francfort          Geneve           Genes \n",
       "              2               1               1               1               2 \n",
       "          Milan         Palerme         Séville St. Petersbourg          Zurich \n",
       "              2               2               2               3               1 "
      ]
     },
     "metadata": {},
     "output_type": "display_data"
    },
    {
     "data": {
      "image/png": "[encoded data removed]",
      "text/plain": [
       "Plot with title \"Cluster Dendrogram\""
      ]
     },
     "metadata": {
      "image/png": {
       "height": 420,
       "width": 420
      }
     },
     "output_type": "display_data"
    }
   ],
   "source": [
    "plot(cah.ward)\n",
    "rect.hclust(cah.ward, k = 3)\n",
    "groupes.cah <- cutree(cah.ward, k = 3)\n",
    "groupes.cah"
   ]
  },
  {
   "cell_type": "code",
   "execution_count": 7,
   "metadata": {
    "vscode": {
     "languageId": "r"
    }
   },
   "outputs": [
    {
     "name": "stdout",
     "output_type": "stream",
     "text": [
      "      Amsterdam          Berlin       Bruxelles      Copenhague          Dublin \n",
      "              1               1               1               1               1 \n",
      "           Kiev        Cracovie         Londres           Paris          Prague \n",
      "              1               1               1               1               1 \n",
      "       Sarajevo           Sofia          Anvers       Edimbourg       Francfort \n",
      "              1               1               1               1               1 \n",
      "         Geneve          Zurich         Athenes        Budapest        Lisbonne \n",
      "              1               1               2               2               2 \n",
      "         Madrid            Rome       Barcelone        Bordeaux           Genes \n",
      "              2               2               2               2               2 \n",
      "          Milan         Palerme         Séville        Helsinki           Minsk \n",
      "              2               2               2               3               3 \n",
      "         Moscou            Oslo       Reykjavik       Stockholm St. Petersbourg \n",
      "              3               3               3               3               3 \n"
     ]
    }
   ],
   "source": [
    "print(sort(groupes.cah))"
   ]
  },
  {
   "cell_type": "markdown",
   "metadata": {},
   "source": [
    "Classification avec la méthode Single"
   ]
  },
  {
   "cell_type": "code",
   "execution_count": 8,
   "metadata": {
    "vscode": {
     "languageId": "r"
    }
   },
   "outputs": [
    {
     "data": {
      "text/plain": [
       "\n",
       "Call:\n",
       "hclust(d = meteo.d, method = \"single\")\n",
       "\n",
       "Cluster method   : single \n",
       "Distance         : euclidean \n",
       "Number of objects: 35 \n"
      ]
     },
     "metadata": {},
     "output_type": "display_data"
    }
   ],
   "source": [
    "cah.ward <- hclust(meteo.d, method = \"single\")\n",
    "cah.ward"
   ]
  },
  {
   "cell_type": "code",
   "execution_count": 9,
   "metadata": {
    "vscode": {
     "languageId": "r"
    }
   },
   "outputs": [
    {
     "data": {
      "text/html": [
       "<style>\n",
       ".dl-inline {width: auto; margin:0; padding: 0}\n",
       ".dl-inline>dt, .dl-inline>dd {float: none; width: auto; display: inline-block}\n",
       ".dl-inline>dt::after {content: \":\\0020\"; padding-right: .5ex}\n",
       ".dl-inline>dt:not(:first-of-type) {padding-left: .5ex}\n",
       "</style><dl class=dl-inline><dt>Amsterdam</dt><dd>1</dd><dt>Athenes</dt><dd>1</dd><dt>Berlin</dt><dd>1</dd><dt>Bruxelles</dt><dd>1</dd><dt>Budapest</dt><dd>1</dd><dt>Copenhague</dt><dd>1</dd><dt>Dublin</dt><dd>1</dd><dt>Helsinki</dt><dd>1</dd><dt>Kiev</dt><dd>1</dd><dt>Cracovie</dt><dd>1</dd><dt>Lisbonne</dt><dd>1</dd><dt>Londres</dt><dd>1</dd><dt>Madrid</dt><dd>1</dd><dt>Minsk</dt><dd>1</dd><dt>Moscou</dt><dd>1</dd><dt>Oslo</dt><dd>1</dd><dt>Paris</dt><dd>1</dd><dt>Prague</dt><dd>1</dd><dt>Reykjavik</dt><dd>2</dd><dt>Rome</dt><dd>1</dd><dt>Sarajevo</dt><dd>1</dd><dt>Sofia</dt><dd>1</dd><dt>Stockholm</dt><dd>1</dd><dt>Anvers</dt><dd>1</dd><dt>Barcelone</dt><dd>1</dd><dt>Bordeaux</dt><dd>1</dd><dt>Edimbourg</dt><dd>1</dd><dt>Francfort</dt><dd>1</dd><dt>Geneve</dt><dd>1</dd><dt>Genes</dt><dd>1</dd><dt>Milan</dt><dd>1</dd><dt>Palerme</dt><dd>1</dd><dt>Séville</dt><dd>1</dd><dt>St. Petersbourg</dt><dd>1</dd><dt>Zurich</dt><dd>1</dd></dl>\n"
      ],
      "text/latex": [
       "\\begin{description*}\n",
       "\\item[Amsterdam] 1\n",
       "\\item[Athenes] 1\n",
       "\\item[Berlin] 1\n",
       "\\item[Bruxelles] 1\n",
       "\\item[Budapest] 1\n",
       "\\item[Copenhague] 1\n",
       "\\item[Dublin] 1\n",
       "\\item[Helsinki] 1\n",
       "\\item[Kiev] 1\n",
       "\\item[Cracovie] 1\n",
       "\\item[Lisbonne] 1\n",
       "\\item[Londres] 1\n",
       "\\item[Madrid] 1\n",
       "\\item[Minsk] 1\n",
       "\\item[Moscou] 1\n",
       "\\item[Oslo] 1\n",
       "\\item[Paris] 1\n",
       "\\item[Prague] 1\n",
       "\\item[Reykjavik] 2\n",
       "\\item[Rome] 1\n",
       "\\item[Sarajevo] 1\n",
       "\\item[Sofia] 1\n",
       "\\item[Stockholm] 1\n",
       "\\item[Anvers] 1\n",
       "\\item[Barcelone] 1\n",
       "\\item[Bordeaux] 1\n",
       "\\item[Edimbourg] 1\n",
       "\\item[Francfort] 1\n",
       "\\item[Geneve] 1\n",
       "\\item[Genes] 1\n",
       "\\item[Milan] 1\n",
       "\\item[Palerme] 1\n",
       "\\item[Séville] 1\n",
       "\\item[St. Petersbourg] 1\n",
       "\\item[Zurich] 1\n",
       "\\end{description*}\n"
      ],
      "text/markdown": [
       "Amsterdam\n",
       ":   1Athenes\n",
       ":   1Berlin\n",
       ":   1Bruxelles\n",
       ":   1Budapest\n",
       ":   1Copenhague\n",
       ":   1Dublin\n",
       ":   1Helsinki\n",
       ":   1Kiev\n",
       ":   1Cracovie\n",
       ":   1Lisbonne\n",
       ":   1Londres\n",
       ":   1Madrid\n",
       ":   1Minsk\n",
       ":   1Moscou\n",
       ":   1Oslo\n",
       ":   1Paris\n",
       ":   1Prague\n",
       ":   1Reykjavik\n",
       ":   2Rome\n",
       ":   1Sarajevo\n",
       ":   1Sofia\n",
       ":   1Stockholm\n",
       ":   1Anvers\n",
       ":   1Barcelone\n",
       ":   1Bordeaux\n",
       ":   1Edimbourg\n",
       ":   1Francfort\n",
       ":   1Geneve\n",
       ":   1Genes\n",
       ":   1Milan\n",
       ":   1Palerme\n",
       ":   1Séville\n",
       ":   1St. Petersbourg\n",
       ":   1Zurich\n",
       ":   1\n",
       "\n"
      ],
      "text/plain": [
       "      Amsterdam         Athenes          Berlin       Bruxelles        Budapest \n",
       "              1               1               1               1               1 \n",
       "     Copenhague          Dublin        Helsinki            Kiev        Cracovie \n",
       "              1               1               1               1               1 \n",
       "       Lisbonne         Londres          Madrid           Minsk          Moscou \n",
       "              1               1               1               1               1 \n",
       "           Oslo           Paris          Prague       Reykjavik            Rome \n",
       "              1               1               1               2               1 \n",
       "       Sarajevo           Sofia       Stockholm          Anvers       Barcelone \n",
       "              1               1               1               1               1 \n",
       "       Bordeaux       Edimbourg       Francfort          Geneve           Genes \n",
       "              1               1               1               1               1 \n",
       "          Milan         Palerme         Séville St. Petersbourg          Zurich \n",
       "              1               1               1               1               1 "
      ]
     },
     "metadata": {},
     "output_type": "display_data"
    },
    {
     "data": {
      "image/png": "[encoded data removed]",
      "text/plain": [
       "Plot with title \"Cluster Dendrogram\""
      ]
     },
     "metadata": {
      "image/png": {
       "height": 420,
       "width": 420
      }
     },
     "output_type": "display_data"
    }
   ],
   "source": [
    "plot(cah.ward)\n",
    "rect.hclust(cah.ward, k = 2)\n",
    "groupes.cah <- cutree(cah.ward, k = 2)\n",
    "groupes.cah"
   ]
  },
  {
   "cell_type": "code",
   "execution_count": 10,
   "metadata": {
    "vscode": {
     "languageId": "r"
    }
   },
   "outputs": [
    {
     "name": "stdout",
     "output_type": "stream",
     "text": [
      "      Amsterdam         Athenes          Berlin       Bruxelles        Budapest \n",
      "              1               1               1               1               1 \n",
      "     Copenhague          Dublin        Helsinki            Kiev        Cracovie \n",
      "              1               1               1               1               1 \n",
      "       Lisbonne         Londres          Madrid           Minsk          Moscou \n",
      "              1               1               1               1               1 \n",
      "           Oslo           Paris          Prague            Rome        Sarajevo \n",
      "              1               1               1               1               1 \n",
      "          Sofia       Stockholm          Anvers       Barcelone        Bordeaux \n",
      "              1               1               1               1               1 \n",
      "      Edimbourg       Francfort          Geneve           Genes           Milan \n",
      "              1               1               1               1               1 \n",
      "        Palerme         Séville St. Petersbourg          Zurich       Reykjavik \n",
      "              1               1               1               1               2 \n"
     ]
    }
   ],
   "source": [
    "print(sort(groupes.cah))"
   ]
  },
  {
   "cell_type": "code",
   "execution_count": 11,
   "metadata": {
    "vscode": {
     "languageId": "r"
    }
   },
   "outputs": [],
   "source": [
    "library(FactoMineR)"
   ]
  },
  {
   "cell_type": "code",
   "execution_count": 12,
   "metadata": {
    "vscode": {
     "languageId": "r"
    }
   },
   "outputs": [
    {
     "name": "stdout",
     "output_type": "stream",
     "text": [
      "\n",
      "Call:\n",
      "PCA(X = meteo1, scale.unit = TRUE) \n",
      "\n",
      "\n",
      "Eigenvalues\n",
      "                       Dim.1   Dim.2   Dim.3   Dim.4   Dim.5   Dim.6   Dim.7\n",
      "Variance              10.424   1.370   0.121   0.042   0.023   0.009   0.004\n",
      "% of var.             86.870  11.421   1.004   0.353   0.191   0.072   0.035\n",
      "Cumulative % of var.  86.870  98.291  99.295  99.648  99.839  99.912  99.946\n",
      "                       Dim.8   Dim.9  Dim.10  Dim.11  Dim.12\n",
      "Variance               0.003   0.001   0.001   0.001   0.000\n",
      "% of var.              0.024   0.012   0.007   0.007   0.003\n",
      "Cumulative % of var.  99.971  99.983  99.990  99.997 100.000\n",
      "\n",
      "Individuals (the 10 first)\n",
      "               Dist    Dim.1    ctr   cos2    Dim.2    ctr   cos2    Dim.3\n",
      "Amsterdam  |  1.417 | -0.552  0.084  0.152 | -1.250  3.260  0.779 |  0.024\n",
      "Athenes    |  6.387 |  6.284 10.823  0.968 |  0.958  1.914  0.023 |  0.524\n",
      "Berlin     |  1.088 | -1.018  0.284  0.875 |  0.032  0.002  0.001 | -0.205\n",
      "Bruxelles  |  1.101 | -0.175  0.008  0.025 | -1.066  2.369  0.937 | -0.040\n",
      "Budapest   |  1.870 |  0.798  0.175  0.182 |  1.613  5.421  0.743 | -0.492\n",
      "Copenhague |  2.199 | -2.098  1.206  0.910 | -0.420  0.368  0.036 |  0.404\n",
      "Dublin     |  2.767 | -1.229  0.414  0.197 | -2.473 12.745  0.799 | -0.104\n",
      "Helsinki   |  4.538 | -4.463  5.460  0.967 |  0.461  0.443  0.010 |  0.458\n",
      "Kiev       |  3.002 | -2.321  1.476  0.598 |  1.879  7.364  0.392 | -0.222\n",
      "Cracovie   |  2.107 | -1.912  1.002  0.824 |  0.828  1.428  0.154 | -0.261\n",
      "              ctr   cos2  \n",
      "Amsterdam   0.014  0.000 |\n",
      "Athenes     6.522  0.007 |\n",
      "Berlin      0.998  0.036 |\n",
      "Bruxelles   0.039  0.001 |\n",
      "Budapest    5.733  0.069 |\n",
      "Copenhague  3.864  0.034 |\n",
      "Dublin      0.257  0.001 |\n",
      "Helsinki    4.972  0.010 |\n",
      "Kiev        1.174  0.005 |\n",
      "Cracovie    1.617  0.015 |\n",
      "\n",
      "Variables (the 10 first)\n",
      "              Dim.1    ctr   cos2    Dim.2    ctr   cos2    Dim.3    ctr   cos2\n",
      "Janvier    |  0.886  7.532  0.785 | -0.458 15.273  0.209 |  0.052  2.249  0.003\n",
      "Fevrier    |  0.916  8.042  0.838 | -0.390 11.116  0.152 | -0.019  0.311  0.000\n",
      "Mars       |  0.958  8.812  0.919 | -0.247  4.444  0.061 | -0.094  7.389  0.009\n",
      "Avril      |  0.980  9.215  0.961 |  0.058  0.242  0.003 | -0.183 27.754  0.033\n",
      "Mai        |  0.912  7.983  0.832 |  0.360  9.454  0.130 | -0.176 25.607  0.031\n",
      "Juin       |  0.878  7.391  0.770 |  0.468 15.985  0.219 | -0.018  0.263  0.000\n",
      "Juillet    |  0.876  7.369  0.768 |  0.460 15.433  0.212 |  0.127 13.411  0.016\n",
      "Aout       |  0.913  8.003  0.834 |  0.371 10.033  0.138 |  0.135 15.064  0.018\n",
      "Septembre  |  0.988  9.359  0.976 |  0.136  1.359  0.019 |  0.046  1.774  0.002\n",
      "Octobre    |  0.993  9.457  0.986 | -0.072  0.377  0.005 |  0.035  1.028  0.001\n",
      "            \n",
      "Janvier    |\n",
      "Fevrier    |\n",
      "Mars       |\n",
      "Avril      |\n",
      "Mai        |\n",
      "Juin       |\n",
      "Juillet    |\n",
      "Aout       |\n",
      "Septembre  |\n",
      "Octobre    |\n"
     ]
    }
   ],
   "source": [
    "acpmeteo <- PCA(meteo1, scale.unit = TRUE)\n",
    "summary(acpmeteo)"
   ]
  },
  {
   "cell_type": "code",
   "execution_count": 13,
   "metadata": {
    "vscode": {
     "languageId": "r"
    }
   },
   "outputs": [
    {
     "data": {
      "image/png": "[encoded data removed]",
      "text/plain": [
       "plot without title"
      ]
     },
     "metadata": {
      "image/png": {
       "height": 420,
       "width": 420
      }
     },
     "output_type": "display_data"
    }
   ],
   "source": [
    "plot(acpmeteo)"
   ]
  },
  {
   "cell_type": "code",
   "execution_count": 14,
   "metadata": {
    "vscode": {
     "languageId": "r"
    }
   },
   "outputs": [
    {
     "data": {
      "image/png": "[encoded data removed]",
      "text/plain": [
       "plot without title"
      ]
     },
     "metadata": {
      "image/png": {
       "height": 420,
       "width": 420
      }
     },
     "output_type": "display_data"
    }
   ],
   "source": [
    "plot(acpmeteo, choix = \"var\")"
   ]
  },
  {
   "cell_type": "code",
   "execution_count": 15,
   "metadata": {
    "vscode": {
     "languageId": "r"
    }
   },
   "outputs": [],
   "source": [
    "hcpc_result <- HCPC(acpmeteo, nb.clust = -1, graph = FALSE)  # `nb.clust = -1` lets HCPC choose optimal clusters\n"
   ]
  },
  {
   "cell_type": "code",
   "execution_count": 16,
   "metadata": {
    "vscode": {
     "languageId": "r"
    }
   },
   "outputs": [
    {
     "ename": "ERROR",
     "evalue": "Error in fviz_cluster(hcpc_result, geom = \"point\", ellipse.type = \"convex\", : não foi possível encontrar a função \"fviz_cluster\"\n",
     "output_type": "error",
     "traceback": [
      "Error in fviz_cluster(hcpc_result, geom = \"point\", ellipse.type = \"convex\", : não foi possível encontrar a função \"fviz_cluster\"\nTraceback:\n"
     ]
    }
   ],
   "source": [
    "fviz_cluster(hcpc_result, \n",
    "             geom = \"point\",          # Usar pontos para representar as cidades\n",
    "             ellipse.type = \"convex\",  # Adicionar elipses convexas ao redor de cada cluster\n",
    "             palette = \"jco\",         # Escolher uma paleta de cores para diferenciar os clusters\n",
    "             main = \"Groupes sur les axes factoriels\", # Título\n",
    "             repel = TRUE)            # Evitar sobreposição de etiquetas\n"
   ]
  },
  {
   "cell_type": "code",
   "execution_count": null,
   "metadata": {
    "vscode": {
     "languageId": "r"
    }
   },
   "outputs": [
    {
     "name": "stderr",
     "output_type": "stream",
     "text": [
      "Carregando pacotes exigidos: ggplot2\n",
      "\n",
      "Welcome! Want to learn more? See two factoextra-related books at https://goo.gl/ve3WBa\n",
      "\n"
     ]
    }
   ],
   "source": [
    "library(factoextra)"
   ]
  },
  {
   "cell_type": "markdown",
   "metadata": {},
   "source": [
    "Small angles (arrows pointing in a similar direction) suggest a strong positive correlation between those variables.\n",
    "\n",
    "Perpendicular arrows indicate that variables are uncorrelated.\n",
    "\n",
    "Opposing arrows (180 degrees apart) suggest a negative correlation."
   ]
  },
  {
   "cell_type": "code",
   "execution_count": 17,
   "metadata": {
    "vscode": {
     "languageId": "r"
    }
   },
   "outputs": [
    {
     "data": {
      "text/plain": [
       "NULL"
      ]
     },
     "metadata": {},
     "output_type": "display_data"
    }
   ],
   "source": [
    "cah.ward$desc.var"
   ]
  },
  {
   "cell_type": "code",
   "execution_count": null,
   "metadata": {
    "vscode": {
     "languageId": "r"
    }
   },
   "outputs": [
    {
     "data": {
      "text/plain": [
       "NULL"
      ]
     },
     "metadata": {},
     "output_type": "display_data"
    }
   ],
   "source": [
    "cah.ward$desc.ind"
   ]
  }
 ],
 "metadata": {
  "kernelspec": {
   "display_name": "R",
   "language": "R",
   "name": "ir"
  },
  "language_info": {
   "codemirror_mode": "r",
   "file_extension": ".r",
   "mimetype": "text/x-r-source",
   "name": "R",
   "pygments_lexer": "r",
   "version": "4.4.1"
  }
 },
 "nbformat": 4,
 "nbformat_minor": 2
}
