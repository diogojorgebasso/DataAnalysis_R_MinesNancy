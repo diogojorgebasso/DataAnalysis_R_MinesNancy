{
 "cells": [
  {
   "cell_type": "markdown",
   "metadata": {},
   "source": [
    "# Classification hiérarchique"
   ]
  },
  {
   "cell_type": "markdown",
   "metadata": {},
   "source": [
    "Setar o espaço do trabalho"
   ]
  },
  {
   "cell_type": "code",
   "execution_count": null,
   "metadata": {
    "vscode": {
     "languageId": "r"
    }
   },
   "outputs": [],
   "source": [
    "setwd(\"C:/Users/diogo/code/Analyse de Donne/Aula 5\")"
   ]
  },
  {
   "cell_type": "code",
   "execution_count": 1,
   "metadata": {
    "vscode": {
     "languageId": "r"
    }
   },
   "outputs": [
    {
     "data": {
      "text/html": [
       "<table class=\"dataframe\">\n",
       "<caption>A data.frame: 29 × 9</caption>\n",
       "<thead>\n",
       "\t<tr><th></th><th scope=col>calories</th><th scope=col>sodium</th><th scope=col>calcium</th><th scope=col>lipides</th><th scope=col>retinol</th><th scope=col>folates</th><th scope=col>proteines</th><th scope=col>cholesterol</th><th scope=col>magnesium</th></tr>\n",
       "\t<tr><th></th><th scope=col>&lt;int&gt;</th><th scope=col>&lt;dbl&gt;</th><th scope=col>&lt;dbl&gt;</th><th scope=col>&lt;dbl&gt;</th><th scope=col>&lt;dbl&gt;</th><th scope=col>&lt;dbl&gt;</th><th scope=col>&lt;dbl&gt;</th><th scope=col>&lt;int&gt;</th><th scope=col>&lt;int&gt;</th></tr>\n",
       "</thead>\n",
       "<tbody>\n",
       "\t<tr><th scope=row>CarredelEst</th><td>314</td><td>353.5</td><td> 72.6</td><td>26.3</td><td> 51.6</td><td>30.3</td><td>21.0</td><td> 70</td><td>20</td></tr>\n",
       "\t<tr><th scope=row>Babybel</th><td>314</td><td>238.0</td><td>209.8</td><td>25.1</td><td> 63.7</td><td> 6.4</td><td>22.6</td><td> 70</td><td>27</td></tr>\n",
       "\t<tr><th scope=row>Beaufort</th><td>401</td><td>112.0</td><td>259.4</td><td>33.3</td><td> 54.9</td><td> 1.2</td><td>26.6</td><td>120</td><td>41</td></tr>\n",
       "\t<tr><th scope=row>Bleu</th><td>342</td><td>336.0</td><td>211.1</td><td>28.9</td><td> 37.1</td><td>27.5</td><td>20.2</td><td> 90</td><td>27</td></tr>\n",
       "\t<tr><th scope=row>Camembert</th><td>264</td><td>314.0</td><td>215.9</td><td>19.5</td><td>103.0</td><td>36.4</td><td>23.4</td><td> 60</td><td>20</td></tr>\n",
       "\t<tr><th scope=row>Cantal</th><td>367</td><td>256.0</td><td>264.0</td><td>28.8</td><td> 48.8</td><td> 5.7</td><td>23.0</td><td> 90</td><td>30</td></tr>\n",
       "\t<tr><th scope=row>Chabichou</th><td>344</td><td>192.0</td><td> 87.2</td><td>27.9</td><td> 90.1</td><td>36.3</td><td>19.5</td><td> 80</td><td>36</td></tr>\n",
       "\t<tr><th scope=row>Chaource</th><td>292</td><td>276.0</td><td>132.9</td><td>25.4</td><td>116.4</td><td>32.5</td><td>17.8</td><td> 70</td><td>25</td></tr>\n",
       "\t<tr><th scope=row>Cheddar</th><td>406</td><td>172.0</td><td>182.3</td><td>32.5</td><td> 76.4</td><td> 4.9</td><td>26.0</td><td>110</td><td>28</td></tr>\n",
       "\t<tr><th scope=row>Comte</th><td>399</td><td> 92.0</td><td>220.5</td><td>32.4</td><td> 55.9</td><td> 1.3</td><td>29.2</td><td>120</td><td>51</td></tr>\n",
       "\t<tr><th scope=row>Coulomniers</th><td>308</td><td>222.0</td><td> 79.2</td><td>25.6</td><td> 63.6</td><td>21.1</td><td>20.5</td><td> 80</td><td>13</td></tr>\n",
       "\t<tr><th scope=row>Edam</th><td>327</td><td>148.0</td><td>272.2</td><td>24.7</td><td> 65.7</td><td> 5.5</td><td>24.7</td><td> 80</td><td>44</td></tr>\n",
       "\t<tr><th scope=row>Emmental</th><td>378</td><td> 60.0</td><td>308.2</td><td>29.4</td><td> 56.3</td><td> 2.4</td><td>29.4</td><td>110</td><td>45</td></tr>\n",
       "\t<tr><th scope=row>Fr.chevrepatemolle</th><td>206</td><td>160.0</td><td> 72.8</td><td>18.5</td><td>150.5</td><td>31.0</td><td>11.1</td><td> 50</td><td>16</td></tr>\n",
       "\t<tr><th scope=row>Fr.fondu.45</th><td>292</td><td>390.0</td><td>168.5</td><td>24.0</td><td> 77.4</td><td> 5.5</td><td>16.8</td><td> 70</td><td>20</td></tr>\n",
       "\t<tr><th scope=row>Fr.frais20nat.</th><td> 80</td><td> 41.0</td><td>146.3</td><td> 3.5</td><td> 50.0</td><td>20.0</td><td> 8.3</td><td> 10</td><td>11</td></tr>\n",
       "\t<tr><th scope=row>Fr.frais40nat.</th><td>115</td><td> 25.0</td><td> 94.8</td><td> 7.8</td><td> 64.3</td><td>22.6</td><td> 7.0</td><td> 30</td><td>10</td></tr>\n",
       "\t<tr><th scope=row>Maroilles</th><td>338</td><td>311.0</td><td>236.7</td><td>29.1</td><td> 46.7</td><td> 3.6</td><td>20.4</td><td> 90</td><td>40</td></tr>\n",
       "\t<tr><th scope=row>Morbier</th><td>347</td><td>285.0</td><td>219.0</td><td>29.5</td><td> 57.6</td><td> 5.8</td><td>23.6</td><td> 80</td><td>30</td></tr>\n",
       "\t<tr><th scope=row>Parmesan</th><td>381</td><td>240.0</td><td>334.6</td><td>27.5</td><td> 90.0</td><td> 5.2</td><td>35.7</td><td> 80</td><td>46</td></tr>\n",
       "\t<tr><th scope=row>Petitsuisse40</th><td>142</td><td> 22.0</td><td> 78.2</td><td>10.4</td><td> 63.4</td><td>20.4</td><td> 9.4</td><td> 20</td><td>10</td></tr>\n",
       "\t<tr><th scope=row>PontlEveque</th><td>300</td><td>223.0</td><td>156.7</td><td>23.4</td><td> 53.0</td><td> 4.0</td><td>21.1</td><td> 70</td><td>22</td></tr>\n",
       "\t<tr><th scope=row>Pyrenees</th><td>355</td><td>232.0</td><td>178.9</td><td>28.0</td><td> 51.5</td><td> 6.8</td><td>22.4</td><td> 90</td><td>25</td></tr>\n",
       "\t<tr><th scope=row>Reblochon</th><td>309</td><td>272.0</td><td>202.3</td><td>24.6</td><td> 73.1</td><td> 8.1</td><td>19.7</td><td> 80</td><td>30</td></tr>\n",
       "\t<tr><th scope=row>Rocquefort</th><td>370</td><td>432.0</td><td>162.0</td><td>31.2</td><td> 83.5</td><td>13.3</td><td>18.7</td><td>100</td><td>25</td></tr>\n",
       "\t<tr><th scope=row>SaintPaulin</th><td>298</td><td>205.0</td><td>261.0</td><td>23.3</td><td> 60.4</td><td> 6.7</td><td>23.3</td><td> 70</td><td>26</td></tr>\n",
       "\t<tr><th scope=row>Tome</th><td>321</td><td>252.0</td><td>125.5</td><td>27.3</td><td> 62.3</td><td> 6.2</td><td>21.8</td><td> 80</td><td>20</td></tr>\n",
       "\t<tr><th scope=row>Vacherin</th><td>321</td><td>140.0</td><td>218.0</td><td>29.3</td><td> 49.2</td><td> 3.7</td><td>17.6</td><td> 80</td><td>30</td></tr>\n",
       "\t<tr><th scope=row>Yaourtlaitent.nat.</th><td> 70</td><td> 91.0</td><td>215.7</td><td> 3.4</td><td> 42.9</td><td> 2.9</td><td> 4.1</td><td> 13</td><td>14</td></tr>\n",
       "</tbody>\n",
       "</table>\n"
      ],
      "text/latex": [
       "A data.frame: 29 × 9\n",
       "\\begin{tabular}{r|lllllllll}\n",
       "  & calories & sodium & calcium & lipides & retinol & folates & proteines & cholesterol & magnesium\\\\\n",
       "  & <int> & <dbl> & <dbl> & <dbl> & <dbl> & <dbl> & <dbl> & <int> & <int>\\\\\n",
       "\\hline\n",
       "\tCarredelEst & 314 & 353.5 &  72.6 & 26.3 &  51.6 & 30.3 & 21.0 &  70 & 20\\\\\n",
       "\tBabybel & 314 & 238.0 & 209.8 & 25.1 &  63.7 &  6.4 & 22.6 &  70 & 27\\\\\n",
       "\tBeaufort & 401 & 112.0 & 259.4 & 33.3 &  54.9 &  1.2 & 26.6 & 120 & 41\\\\\n",
       "\tBleu & 342 & 336.0 & 211.1 & 28.9 &  37.1 & 27.5 & 20.2 &  90 & 27\\\\\n",
       "\tCamembert & 264 & 314.0 & 215.9 & 19.5 & 103.0 & 36.4 & 23.4 &  60 & 20\\\\\n",
       "\tCantal & 367 & 256.0 & 264.0 & 28.8 &  48.8 &  5.7 & 23.0 &  90 & 30\\\\\n",
       "\tChabichou & 344 & 192.0 &  87.2 & 27.9 &  90.1 & 36.3 & 19.5 &  80 & 36\\\\\n",
       "\tChaource & 292 & 276.0 & 132.9 & 25.4 & 116.4 & 32.5 & 17.8 &  70 & 25\\\\\n",
       "\tCheddar & 406 & 172.0 & 182.3 & 32.5 &  76.4 &  4.9 & 26.0 & 110 & 28\\\\\n",
       "\tComte & 399 &  92.0 & 220.5 & 32.4 &  55.9 &  1.3 & 29.2 & 120 & 51\\\\\n",
       "\tCoulomniers & 308 & 222.0 &  79.2 & 25.6 &  63.6 & 21.1 & 20.5 &  80 & 13\\\\\n",
       "\tEdam & 327 & 148.0 & 272.2 & 24.7 &  65.7 &  5.5 & 24.7 &  80 & 44\\\\\n",
       "\tEmmental & 378 &  60.0 & 308.2 & 29.4 &  56.3 &  2.4 & 29.4 & 110 & 45\\\\\n",
       "\tFr.chevrepatemolle & 206 & 160.0 &  72.8 & 18.5 & 150.5 & 31.0 & 11.1 &  50 & 16\\\\\n",
       "\tFr.fondu.45 & 292 & 390.0 & 168.5 & 24.0 &  77.4 &  5.5 & 16.8 &  70 & 20\\\\\n",
       "\tFr.frais20nat. &  80 &  41.0 & 146.3 &  3.5 &  50.0 & 20.0 &  8.3 &  10 & 11\\\\\n",
       "\tFr.frais40nat. & 115 &  25.0 &  94.8 &  7.8 &  64.3 & 22.6 &  7.0 &  30 & 10\\\\\n",
       "\tMaroilles & 338 & 311.0 & 236.7 & 29.1 &  46.7 &  3.6 & 20.4 &  90 & 40\\\\\n",
       "\tMorbier & 347 & 285.0 & 219.0 & 29.5 &  57.6 &  5.8 & 23.6 &  80 & 30\\\\\n",
       "\tParmesan & 381 & 240.0 & 334.6 & 27.5 &  90.0 &  5.2 & 35.7 &  80 & 46\\\\\n",
       "\tPetitsuisse40 & 142 &  22.0 &  78.2 & 10.4 &  63.4 & 20.4 &  9.4 &  20 & 10\\\\\n",
       "\tPontlEveque & 300 & 223.0 & 156.7 & 23.4 &  53.0 &  4.0 & 21.1 &  70 & 22\\\\\n",
       "\tPyrenees & 355 & 232.0 & 178.9 & 28.0 &  51.5 &  6.8 & 22.4 &  90 & 25\\\\\n",
       "\tReblochon & 309 & 272.0 & 202.3 & 24.6 &  73.1 &  8.1 & 19.7 &  80 & 30\\\\\n",
       "\tRocquefort & 370 & 432.0 & 162.0 & 31.2 &  83.5 & 13.3 & 18.7 & 100 & 25\\\\\n",
       "\tSaintPaulin & 298 & 205.0 & 261.0 & 23.3 &  60.4 &  6.7 & 23.3 &  70 & 26\\\\\n",
       "\tTome & 321 & 252.0 & 125.5 & 27.3 &  62.3 &  6.2 & 21.8 &  80 & 20\\\\\n",
       "\tVacherin & 321 & 140.0 & 218.0 & 29.3 &  49.2 &  3.7 & 17.6 &  80 & 30\\\\\n",
       "\tYaourtlaitent.nat. &  70 &  91.0 & 215.7 &  3.4 &  42.9 &  2.9 &  4.1 &  13 & 14\\\\\n",
       "\\end{tabular}\n"
      ],
      "text/markdown": [
       "\n",
       "A data.frame: 29 × 9\n",
       "\n",
       "| <!--/--> | calories &lt;int&gt; | sodium &lt;dbl&gt; | calcium &lt;dbl&gt; | lipides &lt;dbl&gt; | retinol &lt;dbl&gt; | folates &lt;dbl&gt; | proteines &lt;dbl&gt; | cholesterol &lt;int&gt; | magnesium &lt;int&gt; |\n",
       "|---|---|---|---|---|---|---|---|---|---|\n",
       "| CarredelEst | 314 | 353.5 |  72.6 | 26.3 |  51.6 | 30.3 | 21.0 |  70 | 20 |\n",
       "| Babybel | 314 | 238.0 | 209.8 | 25.1 |  63.7 |  6.4 | 22.6 |  70 | 27 |\n",
       "| Beaufort | 401 | 112.0 | 259.4 | 33.3 |  54.9 |  1.2 | 26.6 | 120 | 41 |\n",
       "| Bleu | 342 | 336.0 | 211.1 | 28.9 |  37.1 | 27.5 | 20.2 |  90 | 27 |\n",
       "| Camembert | 264 | 314.0 | 215.9 | 19.5 | 103.0 | 36.4 | 23.4 |  60 | 20 |\n",
       "| Cantal | 367 | 256.0 | 264.0 | 28.8 |  48.8 |  5.7 | 23.0 |  90 | 30 |\n",
       "| Chabichou | 344 | 192.0 |  87.2 | 27.9 |  90.1 | 36.3 | 19.5 |  80 | 36 |\n",
       "| Chaource | 292 | 276.0 | 132.9 | 25.4 | 116.4 | 32.5 | 17.8 |  70 | 25 |\n",
       "| Cheddar | 406 | 172.0 | 182.3 | 32.5 |  76.4 |  4.9 | 26.0 | 110 | 28 |\n",
       "| Comte | 399 |  92.0 | 220.5 | 32.4 |  55.9 |  1.3 | 29.2 | 120 | 51 |\n",
       "| Coulomniers | 308 | 222.0 |  79.2 | 25.6 |  63.6 | 21.1 | 20.5 |  80 | 13 |\n",
       "| Edam | 327 | 148.0 | 272.2 | 24.7 |  65.7 |  5.5 | 24.7 |  80 | 44 |\n",
       "| Emmental | 378 |  60.0 | 308.2 | 29.4 |  56.3 |  2.4 | 29.4 | 110 | 45 |\n",
       "| Fr.chevrepatemolle | 206 | 160.0 |  72.8 | 18.5 | 150.5 | 31.0 | 11.1 |  50 | 16 |\n",
       "| Fr.fondu.45 | 292 | 390.0 | 168.5 | 24.0 |  77.4 |  5.5 | 16.8 |  70 | 20 |\n",
       "| Fr.frais20nat. |  80 |  41.0 | 146.3 |  3.5 |  50.0 | 20.0 |  8.3 |  10 | 11 |\n",
       "| Fr.frais40nat. | 115 |  25.0 |  94.8 |  7.8 |  64.3 | 22.6 |  7.0 |  30 | 10 |\n",
       "| Maroilles | 338 | 311.0 | 236.7 | 29.1 |  46.7 |  3.6 | 20.4 |  90 | 40 |\n",
       "| Morbier | 347 | 285.0 | 219.0 | 29.5 |  57.6 |  5.8 | 23.6 |  80 | 30 |\n",
       "| Parmesan | 381 | 240.0 | 334.6 | 27.5 |  90.0 |  5.2 | 35.7 |  80 | 46 |\n",
       "| Petitsuisse40 | 142 |  22.0 |  78.2 | 10.4 |  63.4 | 20.4 |  9.4 |  20 | 10 |\n",
       "| PontlEveque | 300 | 223.0 | 156.7 | 23.4 |  53.0 |  4.0 | 21.1 |  70 | 22 |\n",
       "| Pyrenees | 355 | 232.0 | 178.9 | 28.0 |  51.5 |  6.8 | 22.4 |  90 | 25 |\n",
       "| Reblochon | 309 | 272.0 | 202.3 | 24.6 |  73.1 |  8.1 | 19.7 |  80 | 30 |\n",
       "| Rocquefort | 370 | 432.0 | 162.0 | 31.2 |  83.5 | 13.3 | 18.7 | 100 | 25 |\n",
       "| SaintPaulin | 298 | 205.0 | 261.0 | 23.3 |  60.4 |  6.7 | 23.3 |  70 | 26 |\n",
       "| Tome | 321 | 252.0 | 125.5 | 27.3 |  62.3 |  6.2 | 21.8 |  80 | 20 |\n",
       "| Vacherin | 321 | 140.0 | 218.0 | 29.3 |  49.2 |  3.7 | 17.6 |  80 | 30 |\n",
       "| Yaourtlaitent.nat. |  70 |  91.0 | 215.7 |  3.4 |  42.9 |  2.9 |  4.1 |  13 | 14 |\n",
       "\n"
      ],
      "text/plain": [
       "                   calories sodium calcium lipides retinol folates proteines\n",
       "CarredelEst        314      353.5   72.6   26.3     51.6   30.3    21.0     \n",
       "Babybel            314      238.0  209.8   25.1     63.7    6.4    22.6     \n",
       "Beaufort           401      112.0  259.4   33.3     54.9    1.2    26.6     \n",
       "Bleu               342      336.0  211.1   28.9     37.1   27.5    20.2     \n",
       "Camembert          264      314.0  215.9   19.5    103.0   36.4    23.4     \n",
       "Cantal             367      256.0  264.0   28.8     48.8    5.7    23.0     \n",
       "Chabichou          344      192.0   87.2   27.9     90.1   36.3    19.5     \n",
       "Chaource           292      276.0  132.9   25.4    116.4   32.5    17.8     \n",
       "Cheddar            406      172.0  182.3   32.5     76.4    4.9    26.0     \n",
       "Comte              399       92.0  220.5   32.4     55.9    1.3    29.2     \n",
       "Coulomniers        308      222.0   79.2   25.6     63.6   21.1    20.5     \n",
       "Edam               327      148.0  272.2   24.7     65.7    5.5    24.7     \n",
       "Emmental           378       60.0  308.2   29.4     56.3    2.4    29.4     \n",
       "Fr.chevrepatemolle 206      160.0   72.8   18.5    150.5   31.0    11.1     \n",
       "Fr.fondu.45        292      390.0  168.5   24.0     77.4    5.5    16.8     \n",
       "Fr.frais20nat.      80       41.0  146.3    3.5     50.0   20.0     8.3     \n",
       "Fr.frais40nat.     115       25.0   94.8    7.8     64.3   22.6     7.0     \n",
       "Maroilles          338      311.0  236.7   29.1     46.7    3.6    20.4     \n",
       "Morbier            347      285.0  219.0   29.5     57.6    5.8    23.6     \n",
       "Parmesan           381      240.0  334.6   27.5     90.0    5.2    35.7     \n",
       "Petitsuisse40      142       22.0   78.2   10.4     63.4   20.4     9.4     \n",
       "PontlEveque        300      223.0  156.7   23.4     53.0    4.0    21.1     \n",
       "Pyrenees           355      232.0  178.9   28.0     51.5    6.8    22.4     \n",
       "Reblochon          309      272.0  202.3   24.6     73.1    8.1    19.7     \n",
       "Rocquefort         370      432.0  162.0   31.2     83.5   13.3    18.7     \n",
       "SaintPaulin        298      205.0  261.0   23.3     60.4    6.7    23.3     \n",
       "Tome               321      252.0  125.5   27.3     62.3    6.2    21.8     \n",
       "Vacherin           321      140.0  218.0   29.3     49.2    3.7    17.6     \n",
       "Yaourtlaitent.nat.  70       91.0  215.7    3.4     42.9    2.9     4.1     \n",
       "                   cholesterol magnesium\n",
       "CarredelEst         70         20       \n",
       "Babybel             70         27       \n",
       "Beaufort           120         41       \n",
       "Bleu                90         27       \n",
       "Camembert           60         20       \n",
       "Cantal              90         30       \n",
       "Chabichou           80         36       \n",
       "Chaource            70         25       \n",
       "Cheddar            110         28       \n",
       "Comte              120         51       \n",
       "Coulomniers         80         13       \n",
       "Edam                80         44       \n",
       "Emmental           110         45       \n",
       "Fr.chevrepatemolle  50         16       \n",
       "Fr.fondu.45         70         20       \n",
       "Fr.frais20nat.      10         11       \n",
       "Fr.frais40nat.      30         10       \n",
       "Maroilles           90         40       \n",
       "Morbier             80         30       \n",
       "Parmesan            80         46       \n",
       "Petitsuisse40       20         10       \n",
       "PontlEveque         70         22       \n",
       "Pyrenees            90         25       \n",
       "Reblochon           80         30       \n",
       "Rocquefort         100         25       \n",
       "SaintPaulin         70         26       \n",
       "Tome                80         20       \n",
       "Vacherin            80         30       \n",
       "Yaourtlaitent.nat.  13         14       "
      ]
     },
     "metadata": {},
     "output_type": "display_data"
    },
    {
     "data": {
      "text/plain": [
       "    calories       sodium         calcium         lipides         retinol      \n",
       " Min.   : 70   Min.   : 22.0   Min.   : 72.6   Min.   : 3.40   Min.   : 37.10  \n",
       " 1st Qu.:292   1st Qu.:140.0   1st Qu.:132.9   1st Qu.:23.40   1st Qu.: 51.60  \n",
       " Median :321   Median :223.0   Median :202.3   Median :26.30   Median : 62.30  \n",
       " Mean   :300   Mean   :210.1   Mean   :185.7   Mean   :24.16   Mean   : 67.56  \n",
       " 3rd Qu.:355   3rd Qu.:276.0   3rd Qu.:220.5   3rd Qu.:29.10   3rd Qu.: 76.40  \n",
       " Max.   :406   Max.   :432.0   Max.   :334.6   Max.   :33.30   Max.   :150.50  \n",
       "    folates        proteines      cholesterol       magnesium    \n",
       " Min.   : 1.20   Min.   : 4.10   Min.   : 10.00   Min.   :10.00  \n",
       " 1st Qu.: 4.90   1st Qu.:17.80   1st Qu.: 70.00   1st Qu.:20.00  \n",
       " Median : 6.40   Median :21.00   Median : 80.00   Median :26.00  \n",
       " Mean   :13.01   Mean   :20.17   Mean   : 74.59   Mean   :26.97  \n",
       " 3rd Qu.:21.10   3rd Qu.:23.40   3rd Qu.: 90.00   3rd Qu.:30.00  \n",
       " Max.   :36.40   Max.   :35.70   Max.   :120.00   Max.   :51.00  "
      ]
     },
     "metadata": {},
     "output_type": "display_data"
    }
   ],
   "source": [
    "fromage <- read.table(\"fromage.txt\", header=T, row.names = 1, dec = \".\")\n",
    "\n",
    "fromage\n",
    "\n",
    "summary(object = fromage)"
   ]
  },
  {
   "cell_type": "code",
   "execution_count": 2,
   "metadata": {
    "vscode": {
     "languageId": "r"
    }
   },
   "outputs": [],
   "source": [
    "fromage2 <- scale(fromage, center = T, scale = T)\n",
    "fromage.d <- dist(fromage2)"
   ]
  },
  {
   "cell_type": "code",
   "execution_count": 3,
   "metadata": {
    "vscode": {
     "languageId": "r"
    }
   },
   "outputs": [
    {
     "data": {
      "image/png": "[encoded data removed]",
      "text/plain": [
       "Plot with title \"Cluster Dendrogram\""
      ]
     },
     "metadata": {
      "image/png": {
       "height": 420,
       "width": 420
      }
     },
     "output_type": "display_data"
    }
   ],
   "source": [
    "cah.ward <- hclust(fromage.d, method = \"ward.D2\")\n",
    "plot(cah.ward)"
   ]
  }
 ],
 "metadata": {
  "kernelspec": {
   "display_name": "R",
   "language": "R",
   "name": "ir"
  },
  "language_info": {
   "codemirror_mode": "r",
   "file_extension": ".r",
   "mimetype": "text/x-r-source",
   "name": "R",
   "pygments_lexer": "r",
   "version": "4.4.1"
  }
 },
 "nbformat": 4,
 "nbformat_minor": 2
}
