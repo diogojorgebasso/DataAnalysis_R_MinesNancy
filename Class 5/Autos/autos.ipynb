{
 "cells": [
  {
   "cell_type": "markdown",
   "metadata": {},
   "source": [
    "Análise de Automóveis"
   ]
  },
  {
   "cell_type": "code",
   "execution_count": null,
   "metadata": {
    "vscode": {
     "languageId": "r"
    }
   },
   "outputs": [],
   "source": [
    "setwd(\"C:/Users/diogo/code/Analyse de Donne/Aula 5/Autos\")"
   ]
  },
  {
   "cell_type": "code",
   "execution_count": 5,
   "metadata": {
    "vscode": {
     "languageId": "r"
    }
   },
   "outputs": [],
   "source": [
    "library(FactoMineR)"
   ]
  },
  {
   "cell_type": "code",
   "execution_count": 10,
   "metadata": {
    "vscode": {
     "languageId": "r"
    }
   },
   "outputs": [
    {
     "data": {
      "text/html": [
       "<table class=\"dataframe\">\n",
       "<caption>A data.frame: 6 × 12</caption>\n",
       "<thead>\n",
       "\t<tr><th></th><th scope=col>puissance</th><th scope=col>cylindr.e</th><th scope=col>vitesse</th><th scope=col>longueur</th><th scope=col>largeur</th><th scope=col>hauteur</th><th scope=col>poids</th><th scope=col>coffre</th><th scope=col>r.servoir</th><th scope=col>conso</th><th scope=col>co2</th><th scope=col>prix</th></tr>\n",
       "\t<tr><th></th><th scope=col>&lt;int&gt;</th><th scope=col>&lt;int&gt;</th><th scope=col>&lt;int&gt;</th><th scope=col>&lt;int&gt;</th><th scope=col>&lt;int&gt;</th><th scope=col>&lt;int&gt;</th><th scope=col>&lt;int&gt;</th><th scope=col>&lt;int&gt;</th><th scope=col>&lt;int&gt;</th><th scope=col>&lt;dbl&gt;</th><th scope=col>&lt;int&gt;</th><th scope=col>&lt;int&gt;</th></tr>\n",
       "</thead>\n",
       "<tbody>\n",
       "\t<tr><th scope=row>ALFA156</th><td>250</td><td>3179</td><td>250</td><td>443</td><td>175</td><td>141</td><td>1410</td><td>378</td><td>63</td><td>12.1</td><td>287</td><td>40800</td></tr>\n",
       "\t<tr><th scope=row>AUDIA3</th><td>102</td><td>1595</td><td>185</td><td>421</td><td>177</td><td>143</td><td>1205</td><td>350</td><td>55</td><td> 7.0</td><td>168</td><td>21630</td></tr>\n",
       "\t<tr><th scope=row>AUDIA8</th><td>280</td><td>3697</td><td>250</td><td>506</td><td>203</td><td>145</td><td>1770</td><td>500</td><td>90</td><td>11.7</td><td>281</td><td>78340</td></tr>\n",
       "\t<tr><th scope=row>AVENSIS</th><td>115</td><td>1995</td><td>195</td><td>463</td><td>176</td><td>148</td><td>1400</td><td>510</td><td>60</td><td> 5.8</td><td>155</td><td>26400</td></tr>\n",
       "\t<tr><th scope=row>BMWX5</th><td>218</td><td>2993</td><td>210</td><td>467</td><td>188</td><td>172</td><td>2095</td><td>465</td><td>93</td><td> 8.6</td><td>229</td><td>52000</td></tr>\n",
       "\t<tr><th scope=row>BMW530</th><td>231</td><td>2979</td><td>250</td><td>485</td><td>185</td><td>147</td><td>1495</td><td>520</td><td>70</td><td> 9.5</td><td>231</td><td>46400</td></tr>\n",
       "</tbody>\n",
       "</table>\n"
      ],
      "text/latex": [
       "A data.frame: 6 × 12\n",
       "\\begin{tabular}{r|llllllllllll}\n",
       "  & puissance & cylindr.e & vitesse & longueur & largeur & hauteur & poids & coffre & r.servoir & conso & co2 & prix\\\\\n",
       "  & <int> & <int> & <int> & <int> & <int> & <int> & <int> & <int> & <int> & <dbl> & <int> & <int>\\\\\n",
       "\\hline\n",
       "\tALFA156 & 250 & 3179 & 250 & 443 & 175 & 141 & 1410 & 378 & 63 & 12.1 & 287 & 40800\\\\\n",
       "\tAUDIA3 & 102 & 1595 & 185 & 421 & 177 & 143 & 1205 & 350 & 55 &  7.0 & 168 & 21630\\\\\n",
       "\tAUDIA8 & 280 & 3697 & 250 & 506 & 203 & 145 & 1770 & 500 & 90 & 11.7 & 281 & 78340\\\\\n",
       "\tAVENSIS & 115 & 1995 & 195 & 463 & 176 & 148 & 1400 & 510 & 60 &  5.8 & 155 & 26400\\\\\n",
       "\tBMWX5 & 218 & 2993 & 210 & 467 & 188 & 172 & 2095 & 465 & 93 &  8.6 & 229 & 52000\\\\\n",
       "\tBMW530 & 231 & 2979 & 250 & 485 & 185 & 147 & 1495 & 520 & 70 &  9.5 & 231 & 46400\\\\\n",
       "\\end{tabular}\n"
      ],
      "text/markdown": [
       "\n",
       "A data.frame: 6 × 12\n",
       "\n",
       "| <!--/--> | puissance &lt;int&gt; | cylindr.e &lt;int&gt; | vitesse &lt;int&gt; | longueur &lt;int&gt; | largeur &lt;int&gt; | hauteur &lt;int&gt; | poids &lt;int&gt; | coffre &lt;int&gt; | r.servoir &lt;int&gt; | conso &lt;dbl&gt; | co2 &lt;int&gt; | prix &lt;int&gt; |\n",
       "|---|---|---|---|---|---|---|---|---|---|---|---|---|\n",
       "| ALFA156 | 250 | 3179 | 250 | 443 | 175 | 141 | 1410 | 378 | 63 | 12.1 | 287 | 40800 |\n",
       "| AUDIA3 | 102 | 1595 | 185 | 421 | 177 | 143 | 1205 | 350 | 55 |  7.0 | 168 | 21630 |\n",
       "| AUDIA8 | 280 | 3697 | 250 | 506 | 203 | 145 | 1770 | 500 | 90 | 11.7 | 281 | 78340 |\n",
       "| AVENSIS | 115 | 1995 | 195 | 463 | 176 | 148 | 1400 | 510 | 60 |  5.8 | 155 | 26400 |\n",
       "| BMWX5 | 218 | 2993 | 210 | 467 | 188 | 172 | 2095 | 465 | 93 |  8.6 | 229 | 52000 |\n",
       "| BMW530 | 231 | 2979 | 250 | 485 | 185 | 147 | 1495 | 520 | 70 |  9.5 | 231 | 46400 |\n",
       "\n"
      ],
      "text/plain": [
       "        puissance cylindr.e vitesse longueur largeur hauteur poids coffre\n",
       "ALFA156 250       3179      250     443      175     141     1410  378   \n",
       "AUDIA3  102       1595      185     421      177     143     1205  350   \n",
       "AUDIA8  280       3697      250     506      203     145     1770  500   \n",
       "AVENSIS 115       1995      195     463      176     148     1400  510   \n",
       "BMWX5   218       2993      210     467      188     172     2095  465   \n",
       "BMW530  231       2979      250     485      185     147     1495  520   \n",
       "        r.servoir conso co2 prix \n",
       "ALFA156 63        12.1  287 40800\n",
       "AUDIA3  55         7.0  168 21630\n",
       "AUDIA8  90        11.7  281 78340\n",
       "AVENSIS 60         5.8  155 26400\n",
       "BMWX5   93         8.6  229 52000\n",
       "BMW530  70         9.5  231 46400"
      ]
     },
     "metadata": {},
     "output_type": "display_data"
    },
    {
     "data": {
      "text/plain": [
       "   puissance       cylindr.e       vitesse         longueur        largeur     \n",
       " Min.   : 54.0   Min.   : 998   Min.   :150.0   Min.   :344.0   Min.   :159.0  \n",
       " 1st Qu.:101.5   1st Qu.:1597   1st Qu.:171.5   1st Qu.:397.2   1st Qu.:170.8  \n",
       " Median :150.0   Median :1997   Median :200.5   Median :445.0   Median :177.5  \n",
       " Mean   :164.1   Mean   :2364   Mean   :202.6   Mean   :438.3   Mean   :178.9  \n",
       " 3rd Qu.:212.0   3rd Qu.:2786   3rd Qu.:225.0   3rd Qu.:474.2   3rd Qu.:185.0  \n",
       " Max.   :404.0   Max.   :5970   Max.   :300.0   Max.   :506.0   Max.   :223.0  \n",
       "    hauteur          poids          coffre        r.servoir        conso       \n",
       " Min.   :125.0   Min.   : 840   Min.   :168.0   Min.   :35.0   Min.   : 4.300  \n",
       " 1st Qu.:143.8   1st Qu.:1214   1st Qu.:258.8   1st Qu.:50.0   1st Qu.: 5.875  \n",
       " Median :147.0   Median :1412   Median :390.0   Median :60.0   Median : 7.700  \n",
       " Mean   :152.2   Mean   :1456   Mean   :371.1   Mean   :62.5   Mean   : 8.068  \n",
       " 3rd Qu.:159.2   3rd Qu.:1627   3rd Qu.:465.8   3rd Qu.:70.0   3rd Qu.: 9.925  \n",
       " Max.   :196.0   Max.   :2495   Max.   :833.0   Max.   :98.0   Max.   :14.300  \n",
       "      co2             prix      \n",
       " Min.   :113.0   Min.   : 8070  \n",
       " 1st Qu.:145.2   1st Qu.:18830  \n",
       " Median :190.5   Median :27570  \n",
       " Mean   :199.7   Mean   :30842  \n",
       " 3rd Qu.:235.5   3rd Qu.:40613  \n",
       " Max.   :340.0   Max.   :78340  "
      ]
     },
     "metadata": {},
     "output_type": "display_data"
    }
   ],
   "source": [
    "autos <- read.csv(\"autos2005.csv\",\n",
    "  sep = \";\", dec = \",\",\n",
    "  header = TRUE, row.names = 1,\n",
    "  fileEncoding = \"Latin1\"\n",
    ")\n",
    "\n",
    "head(autos)\n",
    "\n",
    "summary(autos)"
   ]
  },
  {
   "cell_type": "markdown",
   "metadata": {},
   "source": [
    "Finding the correlational matrix"
   ]
  },
  {
   "cell_type": "code",
   "execution_count": 3,
   "metadata": {
    "vscode": {
     "languageId": "r"
    }
   },
   "outputs": [
    {
     "data": {
      "text/html": [
       "<table class=\"dataframe\">\n",
       "<caption>A matrix: 12 × 12 of type dbl</caption>\n",
       "<thead>\n",
       "\t<tr><th></th><th scope=col>puissance</th><th scope=col>cylindr.e</th><th scope=col>vitesse</th><th scope=col>longueur</th><th scope=col>largeur</th><th scope=col>hauteur</th><th scope=col>poids</th><th scope=col>coffre</th><th scope=col>r.servoir</th><th scope=col>conso</th><th scope=col>co2</th><th scope=col>prix</th></tr>\n",
       "</thead>\n",
       "<tbody>\n",
       "\t<tr><th scope=row>puissance</th><td>1.000000000</td><td>0.8862046</td><td> 0.8040863</td><td>0.7105982</td><td>0.6647452</td><td> 0.002472935</td><td>0.6832317</td><td>0.3230386</td><td>0.6962833</td><td>0.8904549</td><td>0.9023928</td><td>0.8647300</td></tr>\n",
       "\t<tr><th scope=row>cylindr.e</th><td>0.886204641</td><td>1.0000000</td><td> 0.5582830</td><td>0.6593631</td><td>0.7324158</td><td> 0.210898310</td><td>0.7408851</td><td>0.3407800</td><td>0.7282921</td><td>0.7863096</td><td>0.8099861</td><td>0.8516203</td></tr>\n",
       "\t<tr><th scope=row>vitesse</th><td>0.804086280</td><td>0.5582830</td><td> 1.0000000</td><td>0.6090058</td><td>0.3614785</td><td>-0.445024698</td><td>0.3260520</td><td>0.3034966</td><td>0.4324576</td><td>0.5808462</td><td>0.5803031</td><td>0.6457057</td></tr>\n",
       "\t<tr><th scope=row>longueur</th><td>0.710598235</td><td>0.6593631</td><td> 0.6090058</td><td>1.0000000</td><td>0.8153529</td><td> 0.182039320</td><td>0.8192482</td><td>0.7062483</td><td>0.8637223</td><td>0.6644046</td><td>0.7140009</td><td>0.7872898</td></tr>\n",
       "\t<tr><th scope=row>largeur</th><td>0.664745240</td><td>0.7324158</td><td> 0.3614785</td><td>0.8153529</td><td>1.0000000</td><td> 0.423079161</td><td>0.8508965</td><td>0.5894856</td><td>0.8683859</td><td>0.6894628</td><td>0.7259171</td><td>0.7652153</td></tr>\n",
       "\t<tr><th scope=row>hauteur</th><td>0.002472935</td><td>0.2108983</td><td>-0.4450247</td><td>0.1820393</td><td>0.4230792</td><td> 1.000000000</td><td>0.5859324</td><td>0.2721939</td><td>0.4051497</td><td>0.1827307</td><td>0.2277826</td><td>0.1712282</td></tr>\n",
       "\t<tr><th scope=row>poids</th><td>0.683231744</td><td>0.7408851</td><td> 0.3260520</td><td>0.8192482</td><td>0.8508965</td><td> 0.585932359</td><td>1.0000000</td><td>0.5583686</td><td>0.9191054</td><td>0.6947674</td><td>0.7647483</td><td>0.8116596</td></tr>\n",
       "\t<tr><th scope=row>coffre</th><td>0.323038575</td><td>0.3407800</td><td> 0.3034966</td><td>0.7062483</td><td>0.5894856</td><td> 0.272193850</td><td>0.5583686</td><td>1.0000000</td><td>0.5958842</td><td>0.2573780</td><td>0.3194459</td><td>0.4639038</td></tr>\n",
       "\t<tr><th scope=row>r.servoir</th><td>0.696283313</td><td>0.7282921</td><td> 0.4324576</td><td>0.8637223</td><td>0.8683859</td><td> 0.405149705</td><td>0.9191054</td><td>0.5958842</td><td>1.0000000</td><td>0.6716337</td><td>0.7388486</td><td>0.8710063</td></tr>\n",
       "\t<tr><th scope=row>conso</th><td>0.890454909</td><td>0.7863096</td><td> 0.5808462</td><td>0.6644046</td><td>0.6894628</td><td> 0.182730656</td><td>0.6947674</td><td>0.2573780</td><td>0.6716337</td><td>1.0000000</td><td>0.9901620</td><td>0.7749013</td></tr>\n",
       "\t<tr><th scope=row>co2</th><td>0.902392844</td><td>0.8099861</td><td> 0.5803031</td><td>0.7140009</td><td>0.7259171</td><td> 0.227782604</td><td>0.7647483</td><td>0.3194459</td><td>0.7388486</td><td>0.9901620</td><td>1.0000000</td><td>0.8266224</td></tr>\n",
       "\t<tr><th scope=row>prix</th><td>0.864729983</td><td>0.8516203</td><td> 0.6457057</td><td>0.7872898</td><td>0.7652153</td><td> 0.171228248</td><td>0.8116596</td><td>0.4639038</td><td>0.8710063</td><td>0.7749013</td><td>0.8266224</td><td>1.0000000</td></tr>\n",
       "</tbody>\n",
       "</table>\n"
      ],
      "text/latex": [
       "A matrix: 12 × 12 of type dbl\n",
       "\\begin{tabular}{r|llllllllllll}\n",
       "  & puissance & cylindr.e & vitesse & longueur & largeur & hauteur & poids & coffre & r.servoir & conso & co2 & prix\\\\\n",
       "\\hline\n",
       "\tpuissance & 1.000000000 & 0.8862046 &  0.8040863 & 0.7105982 & 0.6647452 &  0.002472935 & 0.6832317 & 0.3230386 & 0.6962833 & 0.8904549 & 0.9023928 & 0.8647300\\\\\n",
       "\tcylindr.e & 0.886204641 & 1.0000000 &  0.5582830 & 0.6593631 & 0.7324158 &  0.210898310 & 0.7408851 & 0.3407800 & 0.7282921 & 0.7863096 & 0.8099861 & 0.8516203\\\\\n",
       "\tvitesse & 0.804086280 & 0.5582830 &  1.0000000 & 0.6090058 & 0.3614785 & -0.445024698 & 0.3260520 & 0.3034966 & 0.4324576 & 0.5808462 & 0.5803031 & 0.6457057\\\\\n",
       "\tlongueur & 0.710598235 & 0.6593631 &  0.6090058 & 1.0000000 & 0.8153529 &  0.182039320 & 0.8192482 & 0.7062483 & 0.8637223 & 0.6644046 & 0.7140009 & 0.7872898\\\\\n",
       "\tlargeur & 0.664745240 & 0.7324158 &  0.3614785 & 0.8153529 & 1.0000000 &  0.423079161 & 0.8508965 & 0.5894856 & 0.8683859 & 0.6894628 & 0.7259171 & 0.7652153\\\\\n",
       "\thauteur & 0.002472935 & 0.2108983 & -0.4450247 & 0.1820393 & 0.4230792 &  1.000000000 & 0.5859324 & 0.2721939 & 0.4051497 & 0.1827307 & 0.2277826 & 0.1712282\\\\\n",
       "\tpoids & 0.683231744 & 0.7408851 &  0.3260520 & 0.8192482 & 0.8508965 &  0.585932359 & 1.0000000 & 0.5583686 & 0.9191054 & 0.6947674 & 0.7647483 & 0.8116596\\\\\n",
       "\tcoffre & 0.323038575 & 0.3407800 &  0.3034966 & 0.7062483 & 0.5894856 &  0.272193850 & 0.5583686 & 1.0000000 & 0.5958842 & 0.2573780 & 0.3194459 & 0.4639038\\\\\n",
       "\tr.servoir & 0.696283313 & 0.7282921 &  0.4324576 & 0.8637223 & 0.8683859 &  0.405149705 & 0.9191054 & 0.5958842 & 1.0000000 & 0.6716337 & 0.7388486 & 0.8710063\\\\\n",
       "\tconso & 0.890454909 & 0.7863096 &  0.5808462 & 0.6644046 & 0.6894628 &  0.182730656 & 0.6947674 & 0.2573780 & 0.6716337 & 1.0000000 & 0.9901620 & 0.7749013\\\\\n",
       "\tco2 & 0.902392844 & 0.8099861 &  0.5803031 & 0.7140009 & 0.7259171 &  0.227782604 & 0.7647483 & 0.3194459 & 0.7388486 & 0.9901620 & 1.0000000 & 0.8266224\\\\\n",
       "\tprix & 0.864729983 & 0.8516203 &  0.6457057 & 0.7872898 & 0.7652153 &  0.171228248 & 0.8116596 & 0.4639038 & 0.8710063 & 0.7749013 & 0.8266224 & 1.0000000\\\\\n",
       "\\end{tabular}\n"
      ],
      "text/markdown": [
       "\n",
       "A matrix: 12 × 12 of type dbl\n",
       "\n",
       "| <!--/--> | puissance | cylindr.e | vitesse | longueur | largeur | hauteur | poids | coffre | r.servoir | conso | co2 | prix |\n",
       "|---|---|---|---|---|---|---|---|---|---|---|---|---|\n",
       "| puissance | 1.000000000 | 0.8862046 |  0.8040863 | 0.7105982 | 0.6647452 |  0.002472935 | 0.6832317 | 0.3230386 | 0.6962833 | 0.8904549 | 0.9023928 | 0.8647300 |\n",
       "| cylindr.e | 0.886204641 | 1.0000000 |  0.5582830 | 0.6593631 | 0.7324158 |  0.210898310 | 0.7408851 | 0.3407800 | 0.7282921 | 0.7863096 | 0.8099861 | 0.8516203 |\n",
       "| vitesse | 0.804086280 | 0.5582830 |  1.0000000 | 0.6090058 | 0.3614785 | -0.445024698 | 0.3260520 | 0.3034966 | 0.4324576 | 0.5808462 | 0.5803031 | 0.6457057 |\n",
       "| longueur | 0.710598235 | 0.6593631 |  0.6090058 | 1.0000000 | 0.8153529 |  0.182039320 | 0.8192482 | 0.7062483 | 0.8637223 | 0.6644046 | 0.7140009 | 0.7872898 |\n",
       "| largeur | 0.664745240 | 0.7324158 |  0.3614785 | 0.8153529 | 1.0000000 |  0.423079161 | 0.8508965 | 0.5894856 | 0.8683859 | 0.6894628 | 0.7259171 | 0.7652153 |\n",
       "| hauteur | 0.002472935 | 0.2108983 | -0.4450247 | 0.1820393 | 0.4230792 |  1.000000000 | 0.5859324 | 0.2721939 | 0.4051497 | 0.1827307 | 0.2277826 | 0.1712282 |\n",
       "| poids | 0.683231744 | 0.7408851 |  0.3260520 | 0.8192482 | 0.8508965 |  0.585932359 | 1.0000000 | 0.5583686 | 0.9191054 | 0.6947674 | 0.7647483 | 0.8116596 |\n",
       "| coffre | 0.323038575 | 0.3407800 |  0.3034966 | 0.7062483 | 0.5894856 |  0.272193850 | 0.5583686 | 1.0000000 | 0.5958842 | 0.2573780 | 0.3194459 | 0.4639038 |\n",
       "| r.servoir | 0.696283313 | 0.7282921 |  0.4324576 | 0.8637223 | 0.8683859 |  0.405149705 | 0.9191054 | 0.5958842 | 1.0000000 | 0.6716337 | 0.7388486 | 0.8710063 |\n",
       "| conso | 0.890454909 | 0.7863096 |  0.5808462 | 0.6644046 | 0.6894628 |  0.182730656 | 0.6947674 | 0.2573780 | 0.6716337 | 1.0000000 | 0.9901620 | 0.7749013 |\n",
       "| co2 | 0.902392844 | 0.8099861 |  0.5803031 | 0.7140009 | 0.7259171 |  0.227782604 | 0.7647483 | 0.3194459 | 0.7388486 | 0.9901620 | 1.0000000 | 0.8266224 |\n",
       "| prix | 0.864729983 | 0.8516203 |  0.6457057 | 0.7872898 | 0.7652153 |  0.171228248 | 0.8116596 | 0.4639038 | 0.8710063 | 0.7749013 | 0.8266224 | 1.0000000 |\n",
       "\n"
      ],
      "text/plain": [
       "          puissance   cylindr.e vitesse    longueur  largeur   hauteur     \n",
       "puissance 1.000000000 0.8862046  0.8040863 0.7105982 0.6647452  0.002472935\n",
       "cylindr.e 0.886204641 1.0000000  0.5582830 0.6593631 0.7324158  0.210898310\n",
       "vitesse   0.804086280 0.5582830  1.0000000 0.6090058 0.3614785 -0.445024698\n",
       "longueur  0.710598235 0.6593631  0.6090058 1.0000000 0.8153529  0.182039320\n",
       "largeur   0.664745240 0.7324158  0.3614785 0.8153529 1.0000000  0.423079161\n",
       "hauteur   0.002472935 0.2108983 -0.4450247 0.1820393 0.4230792  1.000000000\n",
       "poids     0.683231744 0.7408851  0.3260520 0.8192482 0.8508965  0.585932359\n",
       "coffre    0.323038575 0.3407800  0.3034966 0.7062483 0.5894856  0.272193850\n",
       "r.servoir 0.696283313 0.7282921  0.4324576 0.8637223 0.8683859  0.405149705\n",
       "conso     0.890454909 0.7863096  0.5808462 0.6644046 0.6894628  0.182730656\n",
       "co2       0.902392844 0.8099861  0.5803031 0.7140009 0.7259171  0.227782604\n",
       "prix      0.864729983 0.8516203  0.6457057 0.7872898 0.7652153  0.171228248\n",
       "          poids     coffre    r.servoir conso     co2       prix     \n",
       "puissance 0.6832317 0.3230386 0.6962833 0.8904549 0.9023928 0.8647300\n",
       "cylindr.e 0.7408851 0.3407800 0.7282921 0.7863096 0.8099861 0.8516203\n",
       "vitesse   0.3260520 0.3034966 0.4324576 0.5808462 0.5803031 0.6457057\n",
       "longueur  0.8192482 0.7062483 0.8637223 0.6644046 0.7140009 0.7872898\n",
       "largeur   0.8508965 0.5894856 0.8683859 0.6894628 0.7259171 0.7652153\n",
       "hauteur   0.5859324 0.2721939 0.4051497 0.1827307 0.2277826 0.1712282\n",
       "poids     1.0000000 0.5583686 0.9191054 0.6947674 0.7647483 0.8116596\n",
       "coffre    0.5583686 1.0000000 0.5958842 0.2573780 0.3194459 0.4639038\n",
       "r.servoir 0.9191054 0.5958842 1.0000000 0.6716337 0.7388486 0.8710063\n",
       "conso     0.6947674 0.2573780 0.6716337 1.0000000 0.9901620 0.7749013\n",
       "co2       0.7647483 0.3194459 0.7388486 0.9901620 1.0000000 0.8266224\n",
       "prix      0.8116596 0.4639038 0.8710063 0.7749013 0.8266224 1.0000000"
      ]
     },
     "metadata": {},
     "output_type": "display_data"
    }
   ],
   "source": [
    "cor(autos)"
   ]
  },
  {
   "cell_type": "code",
   "execution_count": 27,
   "metadata": {
    "vscode": {
     "languageId": "r"
    }
   },
   "outputs": [],
   "source": [
    "price <- autos$prix\n",
    "autos_no_price <- autos[-12]"
   ]
  },
  {
   "cell_type": "code",
   "execution_count": null,
   "metadata": {
    "vscode": {
     "languageId": "r"
    }
   },
   "outputs": [
    {
     "name": "stderr",
     "output_type": "stream",
     "text": [
      "Warning message:\n",
      "\"ggrepel: 2 unlabeled data points (too many overlaps). Consider increasing max.overlaps\"\n"
     ]
    },
    {
     "name": "stdout",
     "output_type": "stream",
     "text": [
      "\n",
      "Call:\n",
      "PCA(X = autos_analyses, scale.unit = TRUE, ncp = 6) \n",
      "\n",
      "\n",
      "Eigenvalues\n",
      "                       Dim.1   Dim.2   Dim.3   Dim.4   Dim.5   Dim.6   Dim.7\n",
      "Variance               7.183   1.811   1.017   0.290   0.262   0.198   0.103\n",
      "% of var.             65.303  16.461   9.245   2.640   2.380   1.799   0.936\n",
      "Cumulative % of var.  65.303  81.764  91.009  93.649  96.029  97.827  98.763\n",
      "                       Dim.8   Dim.9  Dim.10  Dim.11\n",
      "Variance               0.081   0.039   0.014   0.003\n",
      "% of var.              0.732   0.353   0.126   0.027\n",
      "Cumulative % of var.  99.495  99.848  99.973 100.000\n",
      "\n",
      "Individuals (the 10 first)\n",
      "              Dist    Dim.1    ctr   cos2    Dim.2    ctr   cos2    Dim.3\n",
      "ALFA156   |  2.997 |  1.724  1.034  0.331 | -2.125  6.235  0.503 | -0.568\n",
      "AUDIA3    |  1.760 | -1.590  0.880  0.817 | -0.083  0.010  0.002 |  0.342\n",
      "AUDIA8    |  4.569 |  4.322  6.500  0.895 | -0.796  0.876  0.030 |  0.635\n",
      "AVENSIS   |  1.848 | -0.718  0.179  0.151 |  0.494  0.337  0.071 |  1.547\n",
      "BMWX5     |  3.398 |  2.720  2.575  0.641 |  1.584  3.466  0.217 |  0.055\n",
      "BMW530    |  2.546 |  2.047  1.458  0.646 | -0.918  1.163  0.130 |  1.084\n",
      "CHRYS300  |  4.881 |  4.365  6.632  0.800 | -1.584  3.464  0.105 | -0.516\n",
      "CITRONC2  |  3.897 | -3.805  5.039  0.954 |  0.051  0.004  0.000 | -0.672\n",
      "CITRONC4  |  1.658 | -1.225  0.522  0.546 | -0.158  0.034  0.009 |  0.520\n",
      "CITRONC5  |  1.853 |  1.423  0.705  0.590 | -0.690  0.657  0.139 |  0.534\n",
      "             ctr   cos2  \n",
      "ALFA156    0.792  0.036 |\n",
      "AUDIA3     0.287  0.038 |\n",
      "AUDIA8     0.992  0.019 |\n",
      "AVENSIS    5.884  0.701 |\n",
      "BMWX5      0.008  0.000 |\n",
      "BMW530     2.887  0.181 |\n",
      "CHRYS300   0.654  0.011 |\n",
      "CITRONC2   1.109  0.030 |\n",
      "CITRONC4   0.665  0.098 |\n",
      "CITRONC5   0.700  0.083 |\n",
      "\n",
      "Variables (the 10 first)\n",
      "             Dim.1    ctr   cos2    Dim.2    ctr   cos2    Dim.3    ctr   cos2\n",
      "puissance |  0.894 11.136  0.800 | -0.387  8.276  0.150 | -0.139  1.895  0.019\n",
      "cylindr.e |  0.872 10.583  0.760 | -0.130  0.927  0.017 | -0.213  4.462  0.045\n",
      "vitesse   |  0.620  5.351  0.384 | -0.696 26.764  0.485 |  0.262  6.751  0.069\n",
      "longueur  |  0.894 11.123  0.799 |  0.036  0.071  0.001 |  0.345 11.711  0.119\n",
      "largeur   |  0.885 10.911  0.784 |  0.256  3.612  0.065 |  0.058  0.325  0.003\n",
      "hauteur   |  0.302  1.272  0.091 |  0.866 41.436  0.750 | -0.305  9.153  0.093\n",
      "poids     |  0.903 11.346  0.815 |  0.347  6.659  0.121 | -0.047  0.220  0.002\n",
      "coffre    |  0.577  4.643  0.333 |  0.315  5.464  0.099 |  0.675 44.811  0.456\n",
      "r.servoir |  0.909 11.506  0.827 |  0.227  2.858  0.052 |  0.103  1.050  0.011\n",
      "conso     |  0.872 10.578  0.760 | -0.215  2.549  0.046 | -0.337 11.170  0.114\n",
      "           \n",
      "puissance |\n",
      "cylindr.e |\n",
      "vitesse   |\n",
      "longueur  |\n",
      "largeur   |\n",
      "hauteur   |\n",
      "poids     |\n",
      "coffre    |\n",
      "r.servoir |\n",
      "conso     |\n"
     ]
    }
   ],
   "source": [
    "pca_auto <- PCA(autos_no_price, scale.unit = TRUE, ncp = 6)\n",
    "summary(pca_auto)"
   ]
  },
  {
   "cell_type": "code",
   "execution_count": 32,
   "metadata": {
    "vscode": {
     "languageId": "r"
    }
   },
   "outputs": [
    {
     "data": {
      "text/html": [
       "<table class=\"dataframe\">\n",
       "<caption>A data.frame: 40 × 12</caption>\n",
       "<thead>\n",
       "\t<tr><th></th><th scope=col>puissance</th><th scope=col>cylindr.e</th><th scope=col>vitesse</th><th scope=col>longueur</th><th scope=col>largeur</th><th scope=col>hauteur</th><th scope=col>poids</th><th scope=col>coffre</th><th scope=col>r.servoir</th><th scope=col>conso</th><th scope=col>co2</th><th scope=col>clust</th></tr>\n",
       "\t<tr><th></th><th scope=col>&lt;int&gt;</th><th scope=col>&lt;int&gt;</th><th scope=col>&lt;int&gt;</th><th scope=col>&lt;int&gt;</th><th scope=col>&lt;int&gt;</th><th scope=col>&lt;int&gt;</th><th scope=col>&lt;int&gt;</th><th scope=col>&lt;int&gt;</th><th scope=col>&lt;int&gt;</th><th scope=col>&lt;dbl&gt;</th><th scope=col>&lt;int&gt;</th><th scope=col>&lt;fct&gt;</th></tr>\n",
       "</thead>\n",
       "<tbody>\n",
       "\t<tr><th scope=row>ALFA156</th><td>250</td><td>3179</td><td>250</td><td>443</td><td>175</td><td>141</td><td>1410</td><td>378</td><td>63</td><td>12.1</td><td>287</td><td>2</td></tr>\n",
       "\t<tr><th scope=row>AUDIA3</th><td>102</td><td>1595</td><td>185</td><td>421</td><td>177</td><td>143</td><td>1205</td><td>350</td><td>55</td><td> 7.0</td><td>168</td><td>1</td></tr>\n",
       "\t<tr><th scope=row>AUDIA8</th><td>280</td><td>3697</td><td>250</td><td>506</td><td>203</td><td>145</td><td>1770</td><td>500</td><td>90</td><td>11.7</td><td>281</td><td>2</td></tr>\n",
       "\t<tr><th scope=row>AVENSIS</th><td>115</td><td>1995</td><td>195</td><td>463</td><td>176</td><td>148</td><td>1400</td><td>510</td><td>60</td><td> 5.8</td><td>155</td><td>1</td></tr>\n",
       "\t<tr><th scope=row>BMWX5</th><td>218</td><td>2993</td><td>210</td><td>467</td><td>188</td><td>172</td><td>2095</td><td>465</td><td>93</td><td> 8.6</td><td>229</td><td>2</td></tr>\n",
       "\t<tr><th scope=row>BMW530</th><td>231</td><td>2979</td><td>250</td><td>485</td><td>185</td><td>147</td><td>1495</td><td>520</td><td>70</td><td> 9.5</td><td>231</td><td>2</td></tr>\n",
       "\t<tr><th scope=row>CHRYS300</th><td>340</td><td>5654</td><td>250</td><td>502</td><td>188</td><td>148</td><td>1835</td><td>442</td><td>72</td><td>12.2</td><td>291</td><td>3</td></tr>\n",
       "\t<tr><th scope=row>CITRONC2</th><td> 61</td><td>1124</td><td>158</td><td>367</td><td>166</td><td>147</td><td> 932</td><td>224</td><td>41</td><td> 5.9</td><td>141</td><td>1</td></tr>\n",
       "\t<tr><th scope=row>CITRONC4</th><td>138</td><td>1997</td><td>207</td><td>426</td><td>178</td><td>146</td><td>1381</td><td>314</td><td>60</td><td> 5.4</td><td>142</td><td>1</td></tr>\n",
       "\t<tr><th scope=row>CITRONC5</th><td>210</td><td>2496</td><td>230</td><td>475</td><td>178</td><td>148</td><td>1589</td><td>471</td><td>65</td><td>10.0</td><td>238</td><td>2</td></tr>\n",
       "\t<tr><th scope=row>CLIO</th><td>100</td><td>1461</td><td>185</td><td>382</td><td>164</td><td>142</td><td> 980</td><td>255</td><td>50</td><td> 4.3</td><td>113</td><td>1</td></tr>\n",
       "\t<tr><th scope=row>CORSA</th><td> 70</td><td>1248</td><td>165</td><td>384</td><td>165</td><td>144</td><td>1035</td><td>260</td><td>45</td><td> 4.7</td><td>127</td><td>1</td></tr>\n",
       "\t<tr><th scope=row>CORVETTE</th><td>404</td><td>5970</td><td>300</td><td>444</td><td>185</td><td>125</td><td>1517</td><td>295</td><td>69</td><td>13.0</td><td>310</td><td>3</td></tr>\n",
       "\t<tr><th scope=row>FIESTA</th><td> 68</td><td>1399</td><td>164</td><td>392</td><td>168</td><td>144</td><td>1138</td><td>261</td><td>45</td><td> 4.4</td><td>117</td><td>1</td></tr>\n",
       "\t<tr><th scope=row>GOLF</th><td> 75</td><td>1968</td><td>163</td><td>421</td><td>176</td><td>149</td><td>1217</td><td>350</td><td>55</td><td> 5.4</td><td>143</td><td>1</td></tr>\n",
       "\t<tr><th scope=row>LAGUNA</th><td>165</td><td>1998</td><td>218</td><td>458</td><td>178</td><td>143</td><td>1320</td><td>430</td><td>70</td><td> 8.2</td><td>196</td><td>1</td></tr>\n",
       "\t<tr><th scope=row>LANDCRUI</th><td>204</td><td>4164</td><td>170</td><td>489</td><td>194</td><td>185</td><td>2495</td><td>403</td><td>96</td><td>11.1</td><td>292</td><td>2</td></tr>\n",
       "\t<tr><th scope=row>MAZDARX8</th><td>231</td><td>1308</td><td>235</td><td>443</td><td>177</td><td>134</td><td>1390</td><td>287</td><td>61</td><td>11.4</td><td>284</td><td>1</td></tr>\n",
       "\t<tr><th scope=row>MEGANECC</th><td>165</td><td>1998</td><td>225</td><td>436</td><td>178</td><td>141</td><td>1415</td><td>190</td><td>60</td><td> 8.0</td><td>191</td><td>1</td></tr>\n",
       "\t<tr><th scope=row>MERC_A</th><td>140</td><td>1991</td><td>201</td><td>384</td><td>177</td><td>160</td><td>1340</td><td>435</td><td>54</td><td> 5.4</td><td>141</td><td>1</td></tr>\n",
       "\t<tr><th scope=row>MERC_E</th><td>204</td><td>3222</td><td>243</td><td>482</td><td>183</td><td>146</td><td>1735</td><td>520</td><td>80</td><td> 6.9</td><td>183</td><td>2</td></tr>\n",
       "\t<tr><th scope=row>MODUS</th><td>113</td><td>1598</td><td>188</td><td>380</td><td>170</td><td>159</td><td>1170</td><td>198</td><td>49</td><td> 6.8</td><td>163</td><td>1</td></tr>\n",
       "\t<tr><th scope=row>MONDEO</th><td>145</td><td>1999</td><td>215</td><td>474</td><td>194</td><td>143</td><td>1378</td><td>500</td><td>59</td><td> 7.9</td><td>189</td><td>1</td></tr>\n",
       "\t<tr><th scope=row>MURANO</th><td>234</td><td>3498</td><td>200</td><td>477</td><td>188</td><td>171</td><td>1870</td><td>438</td><td>82</td><td>12.3</td><td>295</td><td>2</td></tr>\n",
       "\t<tr><th scope=row>MUSA</th><td>100</td><td>1910</td><td>179</td><td>399</td><td>170</td><td>169</td><td>1275</td><td>320</td><td>47</td><td> 5.5</td><td>146</td><td>1</td></tr>\n",
       "\t<tr><th scope=row>OUTLAND</th><td>202</td><td>1997</td><td>220</td><td>455</td><td>178</td><td>167</td><td>1595</td><td>402</td><td>60</td><td>10.0</td><td>237</td><td>1</td></tr>\n",
       "\t<tr><th scope=row>P1007</th><td> 75</td><td>1360</td><td>165</td><td>374</td><td>169</td><td>161</td><td>1181</td><td>178</td><td>50</td><td> 6.4</td><td>153</td><td>1</td></tr>\n",
       "\t<tr><th scope=row>P307CC</th><td>180</td><td>1997</td><td>225</td><td>435</td><td>176</td><td>143</td><td>1490</td><td>204</td><td>50</td><td> 8.8</td><td>210</td><td>1</td></tr>\n",
       "\t<tr><th scope=row>P407</th><td>136</td><td>1997</td><td>212</td><td>468</td><td>182</td><td>145</td><td>1415</td><td>407</td><td>66</td><td> 8.2</td><td>194</td><td>1</td></tr>\n",
       "\t<tr><th scope=row>P607</th><td>204</td><td>2721</td><td>230</td><td>491</td><td>184</td><td>145</td><td>1723</td><td>468</td><td>80</td><td> 8.4</td><td>223</td><td>2</td></tr>\n",
       "\t<tr><th scope=row>PANDA</th><td> 54</td><td>1108</td><td>150</td><td>354</td><td>159</td><td>154</td><td> 860</td><td>206</td><td>35</td><td> 5.7</td><td>135</td><td>1</td></tr>\n",
       "\t<tr><th scope=row>PASSAT</th><td>150</td><td>1781</td><td>221</td><td>471</td><td>175</td><td>147</td><td>1360</td><td>475</td><td>62</td><td> 8.2</td><td>197</td><td>1</td></tr>\n",
       "\t<tr><th scope=row>PTCRUISER</th><td>223</td><td>2429</td><td>200</td><td>429</td><td>171</td><td>154</td><td>1595</td><td>210</td><td>57</td><td> 9.9</td><td>235</td><td>1</td></tr>\n",
       "\t<tr><th scope=row>SANTA_FE</th><td>125</td><td>1991</td><td>172</td><td>450</td><td>185</td><td>173</td><td>1757</td><td>833</td><td>65</td><td> 7.5</td><td>197</td><td>1</td></tr>\n",
       "\t<tr><th scope=row>TAHOE</th><td>290</td><td>5327</td><td>170</td><td>506</td><td>223</td><td>196</td><td>2463</td><td>460</td><td>98</td><td>14.3</td><td>340</td><td>3</td></tr>\n",
       "\t<tr><th scope=row>TWINGO</th><td> 60</td><td>1149</td><td>151</td><td>344</td><td>163</td><td>143</td><td> 840</td><td>168</td><td>40</td><td> 6.0</td><td>143</td><td>1</td></tr>\n",
       "\t<tr><th scope=row>VECTRA</th><td>150</td><td>1910</td><td>217</td><td>460</td><td>180</td><td>146</td><td>1428</td><td>500</td><td>61</td><td> 5.9</td><td>159</td><td>1</td></tr>\n",
       "\t<tr><th scope=row>VELSATIS</th><td>150</td><td>2188</td><td>200</td><td>486</td><td>186</td><td>158</td><td>1735</td><td>460</td><td>80</td><td> 7.1</td><td>188</td><td>1</td></tr>\n",
       "\t<tr><th scope=row>X-TRAIL</th><td>136</td><td>2184</td><td>180</td><td>446</td><td>177</td><td>168</td><td>1520</td><td>350</td><td>60</td><td> 7.2</td><td>190</td><td>1</td></tr>\n",
       "\t<tr><th scope=row>YARIS</th><td> 65</td><td> 998</td><td>155</td><td>364</td><td>166</td><td>150</td><td> 880</td><td>205</td><td>45</td><td> 5.6</td><td>134</td><td>1</td></tr>\n",
       "</tbody>\n",
       "</table>\n"
      ],
      "text/latex": [
       "A data.frame: 40 × 12\n",
       "\\begin{tabular}{r|llllllllllll}\n",
       "  & puissance & cylindr.e & vitesse & longueur & largeur & hauteur & poids & coffre & r.servoir & conso & co2 & clust\\\\\n",
       "  & <int> & <int> & <int> & <int> & <int> & <int> & <int> & <int> & <int> & <dbl> & <int> & <fct>\\\\\n",
       "\\hline\n",
       "\tALFA156 & 250 & 3179 & 250 & 443 & 175 & 141 & 1410 & 378 & 63 & 12.1 & 287 & 2\\\\\n",
       "\tAUDIA3 & 102 & 1595 & 185 & 421 & 177 & 143 & 1205 & 350 & 55 &  7.0 & 168 & 1\\\\\n",
       "\tAUDIA8 & 280 & 3697 & 250 & 506 & 203 & 145 & 1770 & 500 & 90 & 11.7 & 281 & 2\\\\\n",
       "\tAVENSIS & 115 & 1995 & 195 & 463 & 176 & 148 & 1400 & 510 & 60 &  5.8 & 155 & 1\\\\\n",
       "\tBMWX5 & 218 & 2993 & 210 & 467 & 188 & 172 & 2095 & 465 & 93 &  8.6 & 229 & 2\\\\\n",
       "\tBMW530 & 231 & 2979 & 250 & 485 & 185 & 147 & 1495 & 520 & 70 &  9.5 & 231 & 2\\\\\n",
       "\tCHRYS300 & 340 & 5654 & 250 & 502 & 188 & 148 & 1835 & 442 & 72 & 12.2 & 291 & 3\\\\\n",
       "\tCITRONC2 &  61 & 1124 & 158 & 367 & 166 & 147 &  932 & 224 & 41 &  5.9 & 141 & 1\\\\\n",
       "\tCITRONC4 & 138 & 1997 & 207 & 426 & 178 & 146 & 1381 & 314 & 60 &  5.4 & 142 & 1\\\\\n",
       "\tCITRONC5 & 210 & 2496 & 230 & 475 & 178 & 148 & 1589 & 471 & 65 & 10.0 & 238 & 2\\\\\n",
       "\tCLIO & 100 & 1461 & 185 & 382 & 164 & 142 &  980 & 255 & 50 &  4.3 & 113 & 1\\\\\n",
       "\tCORSA &  70 & 1248 & 165 & 384 & 165 & 144 & 1035 & 260 & 45 &  4.7 & 127 & 1\\\\\n",
       "\tCORVETTE & 404 & 5970 & 300 & 444 & 185 & 125 & 1517 & 295 & 69 & 13.0 & 310 & 3\\\\\n",
       "\tFIESTA &  68 & 1399 & 164 & 392 & 168 & 144 & 1138 & 261 & 45 &  4.4 & 117 & 1\\\\\n",
       "\tGOLF &  75 & 1968 & 163 & 421 & 176 & 149 & 1217 & 350 & 55 &  5.4 & 143 & 1\\\\\n",
       "\tLAGUNA & 165 & 1998 & 218 & 458 & 178 & 143 & 1320 & 430 & 70 &  8.2 & 196 & 1\\\\\n",
       "\tLANDCRUI & 204 & 4164 & 170 & 489 & 194 & 185 & 2495 & 403 & 96 & 11.1 & 292 & 2\\\\\n",
       "\tMAZDARX8 & 231 & 1308 & 235 & 443 & 177 & 134 & 1390 & 287 & 61 & 11.4 & 284 & 1\\\\\n",
       "\tMEGANECC & 165 & 1998 & 225 & 436 & 178 & 141 & 1415 & 190 & 60 &  8.0 & 191 & 1\\\\\n",
       "\tMERC\\_A & 140 & 1991 & 201 & 384 & 177 & 160 & 1340 & 435 & 54 &  5.4 & 141 & 1\\\\\n",
       "\tMERC\\_E & 204 & 3222 & 243 & 482 & 183 & 146 & 1735 & 520 & 80 &  6.9 & 183 & 2\\\\\n",
       "\tMODUS & 113 & 1598 & 188 & 380 & 170 & 159 & 1170 & 198 & 49 &  6.8 & 163 & 1\\\\\n",
       "\tMONDEO & 145 & 1999 & 215 & 474 & 194 & 143 & 1378 & 500 & 59 &  7.9 & 189 & 1\\\\\n",
       "\tMURANO & 234 & 3498 & 200 & 477 & 188 & 171 & 1870 & 438 & 82 & 12.3 & 295 & 2\\\\\n",
       "\tMUSA & 100 & 1910 & 179 & 399 & 170 & 169 & 1275 & 320 & 47 &  5.5 & 146 & 1\\\\\n",
       "\tOUTLAND & 202 & 1997 & 220 & 455 & 178 & 167 & 1595 & 402 & 60 & 10.0 & 237 & 1\\\\\n",
       "\tP1007 &  75 & 1360 & 165 & 374 & 169 & 161 & 1181 & 178 & 50 &  6.4 & 153 & 1\\\\\n",
       "\tP307CC & 180 & 1997 & 225 & 435 & 176 & 143 & 1490 & 204 & 50 &  8.8 & 210 & 1\\\\\n",
       "\tP407 & 136 & 1997 & 212 & 468 & 182 & 145 & 1415 & 407 & 66 &  8.2 & 194 & 1\\\\\n",
       "\tP607 & 204 & 2721 & 230 & 491 & 184 & 145 & 1723 & 468 & 80 &  8.4 & 223 & 2\\\\\n",
       "\tPANDA &  54 & 1108 & 150 & 354 & 159 & 154 &  860 & 206 & 35 &  5.7 & 135 & 1\\\\\n",
       "\tPASSAT & 150 & 1781 & 221 & 471 & 175 & 147 & 1360 & 475 & 62 &  8.2 & 197 & 1\\\\\n",
       "\tPTCRUISER & 223 & 2429 & 200 & 429 & 171 & 154 & 1595 & 210 & 57 &  9.9 & 235 & 1\\\\\n",
       "\tSANTA\\_FE & 125 & 1991 & 172 & 450 & 185 & 173 & 1757 & 833 & 65 &  7.5 & 197 & 1\\\\\n",
       "\tTAHOE & 290 & 5327 & 170 & 506 & 223 & 196 & 2463 & 460 & 98 & 14.3 & 340 & 3\\\\\n",
       "\tTWINGO &  60 & 1149 & 151 & 344 & 163 & 143 &  840 & 168 & 40 &  6.0 & 143 & 1\\\\\n",
       "\tVECTRA & 150 & 1910 & 217 & 460 & 180 & 146 & 1428 & 500 & 61 &  5.9 & 159 & 1\\\\\n",
       "\tVELSATIS & 150 & 2188 & 200 & 486 & 186 & 158 & 1735 & 460 & 80 &  7.1 & 188 & 1\\\\\n",
       "\tX-TRAIL & 136 & 2184 & 180 & 446 & 177 & 168 & 1520 & 350 & 60 &  7.2 & 190 & 1\\\\\n",
       "\tYARIS &  65 &  998 & 155 & 364 & 166 & 150 &  880 & 205 & 45 &  5.6 & 134 & 1\\\\\n",
       "\\end{tabular}\n"
      ],
      "text/markdown": [
       "\n",
       "A data.frame: 40 × 12\n",
       "\n",
       "| <!--/--> | puissance &lt;int&gt; | cylindr.e &lt;int&gt; | vitesse &lt;int&gt; | longueur &lt;int&gt; | largeur &lt;int&gt; | hauteur &lt;int&gt; | poids &lt;int&gt; | coffre &lt;int&gt; | r.servoir &lt;int&gt; | conso &lt;dbl&gt; | co2 &lt;int&gt; | clust &lt;fct&gt; |\n",
       "|---|---|---|---|---|---|---|---|---|---|---|---|---|\n",
       "| ALFA156 | 250 | 3179 | 250 | 443 | 175 | 141 | 1410 | 378 | 63 | 12.1 | 287 | 2 |\n",
       "| AUDIA3 | 102 | 1595 | 185 | 421 | 177 | 143 | 1205 | 350 | 55 |  7.0 | 168 | 1 |\n",
       "| AUDIA8 | 280 | 3697 | 250 | 506 | 203 | 145 | 1770 | 500 | 90 | 11.7 | 281 | 2 |\n",
       "| AVENSIS | 115 | 1995 | 195 | 463 | 176 | 148 | 1400 | 510 | 60 |  5.8 | 155 | 1 |\n",
       "| BMWX5 | 218 | 2993 | 210 | 467 | 188 | 172 | 2095 | 465 | 93 |  8.6 | 229 | 2 |\n",
       "| BMW530 | 231 | 2979 | 250 | 485 | 185 | 147 | 1495 | 520 | 70 |  9.5 | 231 | 2 |\n",
       "| CHRYS300 | 340 | 5654 | 250 | 502 | 188 | 148 | 1835 | 442 | 72 | 12.2 | 291 | 3 |\n",
       "| CITRONC2 |  61 | 1124 | 158 | 367 | 166 | 147 |  932 | 224 | 41 |  5.9 | 141 | 1 |\n",
       "| CITRONC4 | 138 | 1997 | 207 | 426 | 178 | 146 | 1381 | 314 | 60 |  5.4 | 142 | 1 |\n",
       "| CITRONC5 | 210 | 2496 | 230 | 475 | 178 | 148 | 1589 | 471 | 65 | 10.0 | 238 | 2 |\n",
       "| CLIO | 100 | 1461 | 185 | 382 | 164 | 142 |  980 | 255 | 50 |  4.3 | 113 | 1 |\n",
       "| CORSA |  70 | 1248 | 165 | 384 | 165 | 144 | 1035 | 260 | 45 |  4.7 | 127 | 1 |\n",
       "| CORVETTE | 404 | 5970 | 300 | 444 | 185 | 125 | 1517 | 295 | 69 | 13.0 | 310 | 3 |\n",
       "| FIESTA |  68 | 1399 | 164 | 392 | 168 | 144 | 1138 | 261 | 45 |  4.4 | 117 | 1 |\n",
       "| GOLF |  75 | 1968 | 163 | 421 | 176 | 149 | 1217 | 350 | 55 |  5.4 | 143 | 1 |\n",
       "| LAGUNA | 165 | 1998 | 218 | 458 | 178 | 143 | 1320 | 430 | 70 |  8.2 | 196 | 1 |\n",
       "| LANDCRUI | 204 | 4164 | 170 | 489 | 194 | 185 | 2495 | 403 | 96 | 11.1 | 292 | 2 |\n",
       "| MAZDARX8 | 231 | 1308 | 235 | 443 | 177 | 134 | 1390 | 287 | 61 | 11.4 | 284 | 1 |\n",
       "| MEGANECC | 165 | 1998 | 225 | 436 | 178 | 141 | 1415 | 190 | 60 |  8.0 | 191 | 1 |\n",
       "| MERC_A | 140 | 1991 | 201 | 384 | 177 | 160 | 1340 | 435 | 54 |  5.4 | 141 | 1 |\n",
       "| MERC_E | 204 | 3222 | 243 | 482 | 183 | 146 | 1735 | 520 | 80 |  6.9 | 183 | 2 |\n",
       "| MODUS | 113 | 1598 | 188 | 380 | 170 | 159 | 1170 | 198 | 49 |  6.8 | 163 | 1 |\n",
       "| MONDEO | 145 | 1999 | 215 | 474 | 194 | 143 | 1378 | 500 | 59 |  7.9 | 189 | 1 |\n",
       "| MURANO | 234 | 3498 | 200 | 477 | 188 | 171 | 1870 | 438 | 82 | 12.3 | 295 | 2 |\n",
       "| MUSA | 100 | 1910 | 179 | 399 | 170 | 169 | 1275 | 320 | 47 |  5.5 | 146 | 1 |\n",
       "| OUTLAND | 202 | 1997 | 220 | 455 | 178 | 167 | 1595 | 402 | 60 | 10.0 | 237 | 1 |\n",
       "| P1007 |  75 | 1360 | 165 | 374 | 169 | 161 | 1181 | 178 | 50 |  6.4 | 153 | 1 |\n",
       "| P307CC | 180 | 1997 | 225 | 435 | 176 | 143 | 1490 | 204 | 50 |  8.8 | 210 | 1 |\n",
       "| P407 | 136 | 1997 | 212 | 468 | 182 | 145 | 1415 | 407 | 66 |  8.2 | 194 | 1 |\n",
       "| P607 | 204 | 2721 | 230 | 491 | 184 | 145 | 1723 | 468 | 80 |  8.4 | 223 | 2 |\n",
       "| PANDA |  54 | 1108 | 150 | 354 | 159 | 154 |  860 | 206 | 35 |  5.7 | 135 | 1 |\n",
       "| PASSAT | 150 | 1781 | 221 | 471 | 175 | 147 | 1360 | 475 | 62 |  8.2 | 197 | 1 |\n",
       "| PTCRUISER | 223 | 2429 | 200 | 429 | 171 | 154 | 1595 | 210 | 57 |  9.9 | 235 | 1 |\n",
       "| SANTA_FE | 125 | 1991 | 172 | 450 | 185 | 173 | 1757 | 833 | 65 |  7.5 | 197 | 1 |\n",
       "| TAHOE | 290 | 5327 | 170 | 506 | 223 | 196 | 2463 | 460 | 98 | 14.3 | 340 | 3 |\n",
       "| TWINGO |  60 | 1149 | 151 | 344 | 163 | 143 |  840 | 168 | 40 |  6.0 | 143 | 1 |\n",
       "| VECTRA | 150 | 1910 | 217 | 460 | 180 | 146 | 1428 | 500 | 61 |  5.9 | 159 | 1 |\n",
       "| VELSATIS | 150 | 2188 | 200 | 486 | 186 | 158 | 1735 | 460 | 80 |  7.1 | 188 | 1 |\n",
       "| X-TRAIL | 136 | 2184 | 180 | 446 | 177 | 168 | 1520 | 350 | 60 |  7.2 | 190 | 1 |\n",
       "| YARIS |  65 |  998 | 155 | 364 | 166 | 150 |  880 | 205 | 45 |  5.6 | 134 | 1 |\n",
       "\n"
      ],
      "text/plain": [
       "          puissance cylindr.e vitesse longueur largeur hauteur poids coffre\n",
       "ALFA156   250       3179      250     443      175     141     1410  378   \n",
       "AUDIA3    102       1595      185     421      177     143     1205  350   \n",
       "AUDIA8    280       3697      250     506      203     145     1770  500   \n",
       "AVENSIS   115       1995      195     463      176     148     1400  510   \n",
       "BMWX5     218       2993      210     467      188     172     2095  465   \n",
       "BMW530    231       2979      250     485      185     147     1495  520   \n",
       "CHRYS300  340       5654      250     502      188     148     1835  442   \n",
       "CITRONC2   61       1124      158     367      166     147      932  224   \n",
       "CITRONC4  138       1997      207     426      178     146     1381  314   \n",
       "CITRONC5  210       2496      230     475      178     148     1589  471   \n",
       "CLIO      100       1461      185     382      164     142      980  255   \n",
       "CORSA      70       1248      165     384      165     144     1035  260   \n",
       "CORVETTE  404       5970      300     444      185     125     1517  295   \n",
       "FIESTA     68       1399      164     392      168     144     1138  261   \n",
       "GOLF       75       1968      163     421      176     149     1217  350   \n",
       "LAGUNA    165       1998      218     458      178     143     1320  430   \n",
       "LANDCRUI  204       4164      170     489      194     185     2495  403   \n",
       "MAZDARX8  231       1308      235     443      177     134     1390  287   \n",
       "MEGANECC  165       1998      225     436      178     141     1415  190   \n",
       "MERC_A    140       1991      201     384      177     160     1340  435   \n",
       "MERC_E    204       3222      243     482      183     146     1735  520   \n",
       "MODUS     113       1598      188     380      170     159     1170  198   \n",
       "MONDEO    145       1999      215     474      194     143     1378  500   \n",
       "MURANO    234       3498      200     477      188     171     1870  438   \n",
       "MUSA      100       1910      179     399      170     169     1275  320   \n",
       "OUTLAND   202       1997      220     455      178     167     1595  402   \n",
       "P1007      75       1360      165     374      169     161     1181  178   \n",
       "P307CC    180       1997      225     435      176     143     1490  204   \n",
       "P407      136       1997      212     468      182     145     1415  407   \n",
       "P607      204       2721      230     491      184     145     1723  468   \n",
       "PANDA      54       1108      150     354      159     154      860  206   \n",
       "PASSAT    150       1781      221     471      175     147     1360  475   \n",
       "PTCRUISER 223       2429      200     429      171     154     1595  210   \n",
       "SANTA_FE  125       1991      172     450      185     173     1757  833   \n",
       "TAHOE     290       5327      170     506      223     196     2463  460   \n",
       "TWINGO     60       1149      151     344      163     143      840  168   \n",
       "VECTRA    150       1910      217     460      180     146     1428  500   \n",
       "VELSATIS  150       2188      200     486      186     158     1735  460   \n",
       "X-TRAIL   136       2184      180     446      177     168     1520  350   \n",
       "YARIS      65        998      155     364      166     150      880  205   \n",
       "          r.servoir conso co2 clust\n",
       "ALFA156   63        12.1  287 2    \n",
       "AUDIA3    55         7.0  168 1    \n",
       "AUDIA8    90        11.7  281 2    \n",
       "AVENSIS   60         5.8  155 1    \n",
       "BMWX5     93         8.6  229 2    \n",
       "BMW530    70         9.5  231 2    \n",
       "CHRYS300  72        12.2  291 3    \n",
       "CITRONC2  41         5.9  141 1    \n",
       "CITRONC4  60         5.4  142 1    \n",
       "CITRONC5  65        10.0  238 2    \n",
       "CLIO      50         4.3  113 1    \n",
       "CORSA     45         4.7  127 1    \n",
       "CORVETTE  69        13.0  310 3    \n",
       "FIESTA    45         4.4  117 1    \n",
       "GOLF      55         5.4  143 1    \n",
       "LAGUNA    70         8.2  196 1    \n",
       "LANDCRUI  96        11.1  292 2    \n",
       "MAZDARX8  61        11.4  284 1    \n",
       "MEGANECC  60         8.0  191 1    \n",
       "MERC_A    54         5.4  141 1    \n",
       "MERC_E    80         6.9  183 2    \n",
       "MODUS     49         6.8  163 1    \n",
       "MONDEO    59         7.9  189 1    \n",
       "MURANO    82        12.3  295 2    \n",
       "MUSA      47         5.5  146 1    \n",
       "OUTLAND   60        10.0  237 1    \n",
       "P1007     50         6.4  153 1    \n",
       "P307CC    50         8.8  210 1    \n",
       "P407      66         8.2  194 1    \n",
       "P607      80         8.4  223 2    \n",
       "PANDA     35         5.7  135 1    \n",
       "PASSAT    62         8.2  197 1    \n",
       "PTCRUISER 57         9.9  235 1    \n",
       "SANTA_FE  65         7.5  197 1    \n",
       "TAHOE     98        14.3  340 3    \n",
       "TWINGO    40         6.0  143 1    \n",
       "VECTRA    61         5.9  159 1    \n",
       "VELSATIS  80         7.1  188 1    \n",
       "X-TRAIL   60         7.2  190 1    \n",
       "YARIS     45         5.6  134 1    "
      ]
     },
     "metadata": {},
     "output_type": "display_data"
    },
    {
     "data": {
      "image/png": "[encoded data removed]",
      "text/plain": [
       "Plot with title \"Cluster Dendrogram\""
      ]
     },
     "metadata": {
      "image/png": {
       "height": 420,
       "width": 420
      }
     },
     "output_type": "display_data"
    }
   ],
   "source": [
    "hcpc_result <- HCPC(autos_no_price, nb.clust = 3, graph = FALSE)\n",
    "\n",
    "hcpc_result$data.clust\n",
    "\n",
    "plot(hcpc_result$call$t$tree)"
   ]
  },
  {
   "cell_type": "code",
   "execution_count": 35,
   "metadata": {
    "vscode": {
     "languageId": "r"
    }
   },
   "outputs": [],
   "source": [
    "hcpc_data <- cbind(hcpc_result$data.clust, prix = autos$prix)"
   ]
  },
  {
   "cell_type": "code",
   "execution_count": 36,
   "metadata": {
    "vscode": {
     "languageId": "r"
    }
   },
   "outputs": [
    {
     "data": {
      "text/html": [
       "<table class=\"dataframe\">\n",
       "<caption>A data.frame: 3 × 2</caption>\n",
       "<thead>\n",
       "\t<tr><th scope=col>clust</th><th scope=col>prix</th></tr>\n",
       "\t<tr><th scope=col>&lt;fct&gt;</th><th scope=col>&lt;dbl&gt;</th></tr>\n",
       "</thead>\n",
       "<tbody>\n",
       "\t<tr><td>1</td><td>22042.86</td></tr>\n",
       "\t<tr><td>2</td><td>49848.89</td></tr>\n",
       "\t<tr><td>3</td><td>55950.00</td></tr>\n",
       "</tbody>\n",
       "</table>\n"
      ],
      "text/latex": [
       "A data.frame: 3 × 2\n",
       "\\begin{tabular}{ll}\n",
       " clust & prix\\\\\n",
       " <fct> & <dbl>\\\\\n",
       "\\hline\n",
       "\t 1 & 22042.86\\\\\n",
       "\t 2 & 49848.89\\\\\n",
       "\t 3 & 55950.00\\\\\n",
       "\\end{tabular}\n"
      ],
      "text/markdown": [
       "\n",
       "A data.frame: 3 × 2\n",
       "\n",
       "| clust &lt;fct&gt; | prix &lt;dbl&gt; |\n",
       "|---|---|\n",
       "| 1 | 22042.86 |\n",
       "| 2 | 49848.89 |\n",
       "| 3 | 55950.00 |\n",
       "\n"
      ],
      "text/plain": [
       "  clust prix    \n",
       "1 1     22042.86\n",
       "2 2     49848.89\n",
       "3 3     55950.00"
      ]
     },
     "metadata": {},
     "output_type": "display_data"
    }
   ],
   "source": [
    "aggregate(prix ~ clust, data = hcpc_data, mean)"
   ]
  },
  {
   "cell_type": "code",
   "execution_count": 37,
   "metadata": {
    "vscode": {
     "languageId": "r"
    }
   },
   "outputs": [
    {
     "name": "stderr",
     "output_type": "stream",
     "text": [
      "Instalando pacote em 'C:/Users/diogo/AppData/Local/R/win-library/4.4'\n",
      "(como 'lib' não foi especificado)\n",
      "\n",
      "instalando as dependências 'viridis', 'ggsci', 'ggsignif', 'gridExtra', 'polynom', 'rstatix', 'plyr', 'dendextend', 'ggpubr', 'reshape2' também\n",
      "\n",
      "\n"
     ]
    },
    {
     "name": "stdout",
     "output_type": "stream",
     "text": [
      "pacote 'viridis' desempacotado com sucesso e somas MD5 verificadas\n",
      "pacote 'ggsci' desempacotado com sucesso e somas MD5 verificadas\n",
      "pacote 'ggsignif' desempacotado com sucesso e somas MD5 verificadas\n",
      "pacote 'gridExtra' desempacotado com sucesso e somas MD5 verificadas\n",
      "pacote 'polynom' desempacotado com sucesso e somas MD5 verificadas\n",
      "pacote 'rstatix' desempacotado com sucesso e somas MD5 verificadas\n",
      "pacote 'plyr' desempacotado com sucesso e somas MD5 verificadas\n",
      "pacote 'dendextend' desempacotado com sucesso e somas MD5 verificadas\n",
      "pacote 'ggpubr' desempacotado com sucesso e somas MD5 verificadas\n",
      "pacote 'reshape2' desempacotado com sucesso e somas MD5 verificadas\n",
      "pacote 'factoextra' desempacotado com sucesso e somas MD5 verificadas\n",
      "\n",
      "Os pacotes binários baixados estão em\n",
      "\tC:\\Users\\diogo\\AppData\\Local\\Temp\\RtmpEvOAeu\\downloaded_packages\n"
     ]
    },
    {
     "name": "stderr",
     "output_type": "stream",
     "text": [
      "Carregando pacotes exigidos: ggplot2\n",
      "\n",
      "Welcome! Want to learn more? See two factoextra-related books at https://goo.gl/ve3WBa\n",
      "\n"
     ]
    }
   ],
   "source": [
    "# Instalar e carregar a biblioteca, se ainda não estiver instalada\n",
    "install.packages(\"factoextra\")\n",
    "library(factoextra)"
   ]
  },
  {
   "cell_type": "code",
   "execution_count": 38,
   "metadata": {
    "vscode": {
     "languageId": "r"
    }
   },
   "outputs": [
    {
     "data": {
      "image/png": "[encoded data removed]",
      "text/plain": [
       "plot without title"
      ]
     },
     "metadata": {
      "image/png": {
       "height": 420,
       "width": 420
      }
     },
     "output_type": "display_data"
    }
   ],
   "source": [
    "fviz_cluster(hcpc_result, \n",
    "             repel = TRUE,  # Evita sobreposição de etiquetas\n",
    "             geom = \"point\", # Representa os pontos no gráfico\n",
    "             ellipse.type = \"convex\") + \n",
    "  labs(title = \"Projeção dos Clusters no Plano Fatorial (PC1-PC2)\")"
   ]
  }
 ],
 "metadata": {
  "kernelspec": {
   "display_name": "R",
   "language": "R",
   "name": "ir"
  },
  "language_info": {
   "codemirror_mode": "r",
   "file_extension": ".r",
   "mimetype": "text/x-r-source",
   "name": "R",
   "pygments_lexer": "r",
   "version": "4.4.1"
  }
 },
 "nbformat": 4,
 "nbformat_minor": 2
}
