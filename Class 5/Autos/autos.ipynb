{
 "cells": [
  {
   "cell_type": "markdown",
   "metadata": {},
   "source": [
    "Análise de Automóveis"
   ]
  },
  {
   "cell_type": "markdown",
   "metadata": {},
   "source": [
    "Instalação e local de trabalho. \n",
    "\n",
    "1) Retire os comentários para instalar os pacotes, caso ainda não os tenha baixo previamente.\n",
    "2) Mude o setwd para sua pasta local (`pwd` em linux; `echo %cd%` no Windows)"
   ]
  },
  {
   "cell_type": "code",
   "execution_count": null,
   "metadata": {
    "vscode": {
     "languageId": "r"
    }
   },
   "outputs": [
    {
     "name": "stderr",
     "output_type": "stream",
     "text": [
      "Instalando pacote em 'C:/Users/diogo/AppData/Local/R/win-library/4.4'\n",
      "(como 'lib' não foi especificado)\n",
      "\n"
     ]
    },
    {
     "name": "stdout",
     "output_type": "stream",
     "text": [
      "pacote 'factoextra' desempacotado com sucesso e somas MD5 verificadas\n",
      "\n",
      "Os pacotes binários baixados estão em\n",
      "\tC:\\Users\\diogo\\AppData\\Local\\Temp\\RtmpuejfRK\\downloaded_packages\n"
     ]
    },
    {
     "name": "stderr",
     "output_type": "stream",
     "text": [
      "Instalando pacote em 'C:/Users/diogo/AppData/Local/R/win-library/4.4'\n",
      "(como 'lib' não foi especificado)\n",
      "\n"
     ]
    },
    {
     "name": "stdout",
     "output_type": "stream",
     "text": [
      "pacote 'FactoMineR' desempacotado com sucesso e somas MD5 verificadas\n"
     ]
    },
    {
     "name": "stderr",
     "output_type": "stream",
     "text": [
      "Warning message:\n",
      "\"não foi possível remover a instalação prévia do pacote 'FactoMineR'\"\n",
      "Warning message in file.copy(savedcopy, lib, recursive = TRUE):\n",
      "\"problem copying C:\\Users\\diogo\\AppData\\Local\\R\\win-library\\4.4\\00LOCK\\FactoMineR\\libs\\x64\\FactoMineR.dll to C:\\Users\\diogo\\AppData\\Local\\R\\win-library\\4.4\\FactoMineR\\libs\\x64\\FactoMineR.dll: Permission denied\"\n",
      "Warning message:\n",
      "\"'FactoMineR' restaurado\"\n"
     ]
    },
    {
     "name": "stdout",
     "output_type": "stream",
     "text": [
      "\n",
      "Os pacotes binários baixados estão em\n",
      "\tC:\\Users\\diogo\\AppData\\Local\\Temp\\RtmpuejfRK\\downloaded_packages\n"
     ]
    }
   ],
   "source": [
    "#install.packages(\"factoextra\")\n",
    "#install.packages(\"FactoMineR\")"
   ]
  },
  {
   "cell_type": "code",
   "execution_count": 2,
   "metadata": {
    "vscode": {
     "languageId": "r"
    }
   },
   "outputs": [
    {
     "ename": "ERROR",
     "evalue": "Error in setwd(\"C:/Users/diogo/code/Analyse de Donne/Aula 5/Autos\"): não é possível mudar o diretório de trabalho\n",
     "output_type": "error",
     "traceback": [
      "Error in setwd(\"C:/Users/diogo/code/Analyse de Donne/Aula 5/Autos\"): não é possível mudar o diretório de trabalho\nTraceback:\n",
      "1. .handleSimpleError(function (cnd) \n . {\n .     watcher$capture_plot_and_output()\n .     cnd <- sanitize_call(cnd)\n .     watcher$push(cnd)\n .     switch(on_error, continue = invokeRestart(\"eval_continue\"), \n .         stop = invokeRestart(\"eval_stop\"), error = invokeRestart(\"eval_error\", \n .             cnd))\n . }, \"não é possível mudar o diretório de trabalho\", base::quote(setwd(\"C:/Users/diogo/code/Analyse de Donne/Aula 5/Autos\")))"
     ]
    }
   ],
   "source": [
    "setwd(\"C:/Users/diogo/code/Analyse de Donne/Aula 5/Autos\")"
   ]
  },
  {
   "cell_type": "code",
   "execution_count": null,
   "metadata": {
    "vscode": {
     "languageId": "r"
    }
   },
   "outputs": [],
   "source": [
    "library(FactoMineR)"
   ]
  },
  {
   "cell_type": "code",
   "execution_count": null,
   "metadata": {
    "vscode": {
     "languageId": "r"
    }
   },
   "outputs": [],
   "source": [
    "autos <- read.csv(\"autos2005.csv\",\n",
    "  sep = \";\", dec = \",\",\n",
    "  header = TRUE, row.names = 1,\n",
    "  fileEncoding = \"Latin1\"\n",
    ")\n",
    "\n",
    "head(autos)\n",
    "\n",
    "summary(autos)"
   ]
  },
  {
   "cell_type": "markdown",
   "metadata": {},
   "source": [
    "Finding the correlational matrix"
   ]
  },
  {
   "cell_type": "code",
   "execution_count": null,
   "metadata": {
    "vscode": {
     "languageId": "r"
    }
   },
   "outputs": [],
   "source": [
    "cor(autos)"
   ]
  },
  {
   "cell_type": "code",
   "execution_count": null,
   "metadata": {
    "vscode": {
     "languageId": "r"
    }
   },
   "outputs": [],
   "source": [
    "price <- autos$prix\n",
    "autos_no_price <- autos[-12]"
   ]
  },
  {
   "cell_type": "code",
   "execution_count": null,
   "metadata": {
    "vscode": {
     "languageId": "r"
    }
   },
   "outputs": [],
   "source": [
    "pca_auto <- PCA(autos_no_price, scale.unit = TRUE, ncp = 6)\n",
    "summary(pca_auto)"
   ]
  },
  {
   "cell_type": "code",
   "execution_count": null,
   "metadata": {
    "vscode": {
     "languageId": "r"
    }
   },
   "outputs": [],
   "source": [
    "hcpc_result <- HCPC(autos_no_price, nb.clust = 3, graph = FALSE)\n",
    "\n",
    "hcpc_result$data.clust\n",
    "\n",
    "plot(hcpc_result$call$t$tree)"
   ]
  },
  {
   "cell_type": "code",
   "execution_count": null,
   "metadata": {
    "vscode": {
     "languageId": "r"
    }
   },
   "outputs": [],
   "source": [
    "hcpc_data <- cbind(hcpc_result$data.clust, prix = autos$prix)"
   ]
  },
  {
   "cell_type": "code",
   "execution_count": null,
   "metadata": {
    "vscode": {
     "languageId": "r"
    }
   },
   "outputs": [],
   "source": [
    "aggregate(prix ~ clust, data = hcpc_data, mean)"
   ]
  },
  {
   "cell_type": "code",
   "execution_count": null,
   "metadata": {
    "vscode": {
     "languageId": "r"
    }
   },
   "outputs": [],
   "source": [
    "# Instalar e carregar a biblioteca, se ainda não estiver instalada\n",
    "library(factoextra)"
   ]
  },
  {
   "cell_type": "code",
   "execution_count": 3,
   "metadata": {
    "vscode": {
     "languageId": "r"
    }
   },
   "outputs": [
    {
     "ename": "ERROR",
     "evalue": "Error in fviz_cluster(hcpc_result, repel = TRUE, geom = \"point\", ellipse.type = \"convex\"): não foi possível encontrar a função \"fviz_cluster\"\n",
     "output_type": "error",
     "traceback": [
      "Error in fviz_cluster(hcpc_result, repel = TRUE, geom = \"point\", ellipse.type = \"convex\"): não foi possível encontrar a função \"fviz_cluster\"\nTraceback:\n"
     ]
    }
   ],
   "source": [
    "fviz_cluster(hcpc_result, \n",
    "             repel = TRUE,  # Evita sobreposição de etiquetas\n",
    "             geom = \"point\", # Representa os pontos no gráfico\n",
    "             ellipse.type = \"convex\")"
   ]
  }
 ],
 "metadata": {
  "kernelspec": {
   "display_name": "R",
   "language": "R",
   "name": "ir"
  },
  "language_info": {
   "codemirror_mode": "r",
   "file_extension": ".r",
   "mimetype": "text/x-r-source",
   "name": "R",
   "pygments_lexer": "r",
   "version": "4.4.1"
  }
 },
 "nbformat": 4,
 "nbformat_minor": 2
}
