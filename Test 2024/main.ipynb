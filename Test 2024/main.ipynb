{
 "cells": [
  {
   "cell_type": "code",
   "execution_count": null,
   "metadata": {
    "vscode": {
     "languageId": "r"
    }
   },
   "outputs": [
    {
     "data": {
      "text/html": [
       "<table class=\"dataframe\">\n",
       "<caption>A data.frame: 6 × 3</caption>\n",
       "<thead>\n",
       "\t<tr><th></th><th scope=col>juge</th><th scope=col>vin</th><th scope=col>qual</th></tr>\n",
       "\t<tr><th></th><th scope=col>&lt;int&gt;</th><th scope=col>&lt;chr&gt;</th><th scope=col>&lt;chr&gt;</th></tr>\n",
       "</thead>\n",
       "<tbody>\n",
       "\t<tr><th scope=row>1</th><td>1</td><td>Cru_Bourgeois     </td><td>mediocre</td></tr>\n",
       "\t<tr><th scope=row>2</th><td>1</td><td>Grand_Cru_classe  </td><td>mediocre</td></tr>\n",
       "\t<tr><th scope=row>3</th><td>1</td><td>Vin_de_table      </td><td>boring  </td></tr>\n",
       "\t<tr><th scope=row>4</th><td>1</td><td>Bordeaux_d_origine</td><td>boring  </td></tr>\n",
       "\t<tr><th scope=row>5</th><td>1</td><td>Vin_de_marque     </td><td>boring  </td></tr>\n",
       "\t<tr><th scope=row>6</th><td>2</td><td>Cru_Bourgeois     </td><td>good    </td></tr>\n",
       "</tbody>\n",
       "</table>\n"
      ],
      "text/latex": [
       "A data.frame: 6 × 3\n",
       "\\begin{tabular}{r|lll}\n",
       "  & juge & vin & qual\\\\\n",
       "  & <int> & <chr> & <chr>\\\\\n",
       "\\hline\n",
       "\t1 & 1 & Cru\\_Bourgeois      & mediocre\\\\\n",
       "\t2 & 1 & Grand\\_Cru\\_classe   & mediocre\\\\\n",
       "\t3 & 1 & Vin\\_de\\_table       & boring  \\\\\n",
       "\t4 & 1 & Bordeaux\\_d\\_origine & boring  \\\\\n",
       "\t5 & 1 & Vin\\_de\\_marque      & boring  \\\\\n",
       "\t6 & 2 & Cru\\_Bourgeois      & good    \\\\\n",
       "\\end{tabular}\n"
      ],
      "text/markdown": [
       "\n",
       "A data.frame: 6 × 3\n",
       "\n",
       "| <!--/--> | juge &lt;int&gt; | vin &lt;chr&gt; | qual &lt;chr&gt; |\n",
       "|---|---|---|---|\n",
       "| 1 | 1 | Cru_Bourgeois      | mediocre |\n",
       "| 2 | 1 | Grand_Cru_classe   | mediocre |\n",
       "| 3 | 1 | Vin_de_table       | boring   |\n",
       "| 4 | 1 | Bordeaux_d_origine | boring   |\n",
       "| 5 | 1 | Vin_de_marque      | boring   |\n",
       "| 6 | 2 | Cru_Bourgeois      | good     |\n",
       "\n"
      ],
      "text/plain": [
       "  juge vin                qual    \n",
       "1 1    Cru_Bourgeois      mediocre\n",
       "2 1    Grand_Cru_classe   mediocre\n",
       "3 1    Vin_de_table       boring  \n",
       "4 1    Bordeaux_d_origine boring  \n",
       "5 1    Vin_de_marque      boring  \n",
       "6 2    Cru_Bourgeois      good    "
      ]
     },
     "metadata": {},
     "output_type": "display_data"
    },
    {
     "data": {
      "text/plain": [
       "                    \n",
       "                     boring excellent good mediocre\n",
       "  Bordeaux_d_origine     22        36   68       74\n",
       "  Cru_Bourgeois           5        45  126       24\n",
       "  Grand_Cru_classe        1        87   93       19\n",
       "  Vin_de_marque          59         0   30      111\n",
       "  Vin_de_table          148         0    0       52"
      ]
     },
     "metadata": {},
     "output_type": "display_data"
    },
    {
     "name": "stdout",
     "output_type": "stream",
     "text": [
      "'data.frame':\t5 obs. of  4 variables:\n",
      " $ boring   : int  22 5 1 59 148\n",
      " $ excellent: int  36 45 87 0 0\n",
      " $ good     : int  68 126 93 30 0\n",
      " $ mediocre : int  74 24 19 111 52\n"
     ]
    },
    {
     "data": {
      "text/html": [
       "<style>\n",
       ".list-inline {list-style: none; margin:0; padding: 0}\n",
       ".list-inline>li {display: inline-block}\n",
       ".list-inline>li:not(:last-child)::after {content: \"\\00b7\"; padding: 0 .5ex}\n",
       "</style>\n",
       "<ol class=list-inline><li>74</li><li>24</li><li>19</li><li>111</li><li>52</li></ol>\n"
      ],
      "text/latex": [
       "\\begin{enumerate*}\n",
       "\\item 74\n",
       "\\item 24\n",
       "\\item 19\n",
       "\\item 111\n",
       "\\item 52\n",
       "\\end{enumerate*}\n"
      ],
      "text/markdown": [
       "1. 74\n",
       "2. 24\n",
       "3. 19\n",
       "4. 111\n",
       "5. 52\n",
       "\n",
       "\n"
      ],
      "text/plain": [
       "[1]  74  24  19 111  52"
      ]
     },
     "metadata": {},
     "output_type": "display_data"
    }
   ],
   "source": [
    "test <- read.table(\"testBordeaux.txt\", header = TRUE)\n",
    "\n",
    "head(test)\n",
    "test1 <- table(test$vin, test$qual)\n",
    "test1\n",
    "test2 <- as.data.frame.matrix(test1)\n",
    "\n",
    "str(test2)\n"
   ]
  },
  {
   "cell_type": "code",
   "execution_count": 10,
   "metadata": {
    "vscode": {
     "languageId": "r"
    }
   },
   "outputs": [
    {
     "data": {
      "text/html": [
       "<table class=\"dataframe\">\n",
       "<caption>A data.frame: 5 × 4</caption>\n",
       "<thead>\n",
       "\t<tr><th></th><th scope=col>boring</th><th scope=col>excellent</th><th scope=col>good</th><th scope=col>mediocre</th></tr>\n",
       "\t<tr><th></th><th scope=col>&lt;int&gt;</th><th scope=col>&lt;int&gt;</th><th scope=col>&lt;int&gt;</th><th scope=col>&lt;int&gt;</th></tr>\n",
       "</thead>\n",
       "<tbody>\n",
       "\t<tr><th scope=row>Bordeaux_d_origine</th><td> 22</td><td>36</td><td> 68</td><td> 74</td></tr>\n",
       "\t<tr><th scope=row>Cru_Bourgeois</th><td>  5</td><td>45</td><td>126</td><td> 24</td></tr>\n",
       "\t<tr><th scope=row>Grand_Cru_classe</th><td>  1</td><td>87</td><td> 93</td><td> 19</td></tr>\n",
       "\t<tr><th scope=row>Vin_de_marque</th><td> 59</td><td> 0</td><td> 30</td><td>111</td></tr>\n",
       "\t<tr><th scope=row>Vin_de_table</th><td>148</td><td> 0</td><td>  0</td><td> 52</td></tr>\n",
       "</tbody>\n",
       "</table>\n"
      ],
      "text/latex": [
       "A data.frame: 5 × 4\n",
       "\\begin{tabular}{r|llll}\n",
       "  & boring & excellent & good & mediocre\\\\\n",
       "  & <int> & <int> & <int> & <int>\\\\\n",
       "\\hline\n",
       "\tBordeaux\\_d\\_origine &  22 & 36 &  68 &  74\\\\\n",
       "\tCru\\_Bourgeois &   5 & 45 & 126 &  24\\\\\n",
       "\tGrand\\_Cru\\_classe &   1 & 87 &  93 &  19\\\\\n",
       "\tVin\\_de\\_marque &  59 &  0 &  30 & 111\\\\\n",
       "\tVin\\_de\\_table & 148 &  0 &   0 &  52\\\\\n",
       "\\end{tabular}\n"
      ],
      "text/markdown": [
       "\n",
       "A data.frame: 5 × 4\n",
       "\n",
       "| <!--/--> | boring &lt;int&gt; | excellent &lt;int&gt; | good &lt;int&gt; | mediocre &lt;int&gt; |\n",
       "|---|---|---|---|---|\n",
       "| Bordeaux_d_origine |  22 | 36 |  68 |  74 |\n",
       "| Cru_Bourgeois |   5 | 45 | 126 |  24 |\n",
       "| Grand_Cru_classe |   1 | 87 |  93 |  19 |\n",
       "| Vin_de_marque |  59 |  0 |  30 | 111 |\n",
       "| Vin_de_table | 148 |  0 |   0 |  52 |\n",
       "\n"
      ],
      "text/plain": [
       "                   boring excellent good mediocre\n",
       "Bordeaux_d_origine  22    36         68   74     \n",
       "Cru_Bourgeois        5    45        126   24     \n",
       "Grand_Cru_classe     1    87         93   19     \n",
       "Vin_de_marque       59     0         30  111     \n",
       "Vin_de_table       148     0          0   52     "
      ]
     },
     "metadata": {},
     "output_type": "display_data"
    }
   ],
   "source": [
    "test2"
   ]
  },
  {
   "cell_type": "code",
   "execution_count": 8,
   "metadata": {
    "vscode": {
     "languageId": "r"
    }
   },
   "outputs": [
    {
     "data": {
      "text/html": [
       "52"
      ],
      "text/latex": [
       "52"
      ],
      "text/markdown": [
       "52"
      ],
      "text/plain": [
       "[1] 52"
      ]
     },
     "metadata": {},
     "output_type": "display_data"
    }
   ],
   "source": [
    "sum(test$qual[test$vin == \"Vin_de_table\"] == \"mediocre\")"
   ]
  },
  {
   "cell_type": "code",
   "execution_count": 16,
   "metadata": {
    "vscode": {
     "languageId": "r"
    }
   },
   "outputs": [],
   "source": [
    "library(FactoMineR)"
   ]
  },
  {
   "cell_type": "code",
   "execution_count": 18,
   "metadata": {
    "vscode": {
     "languageId": "r"
    }
   },
   "outputs": [
    {
     "name": "stdout",
     "output_type": "stream",
     "text": [
      "\n",
      "Call:\n",
      "PCA(X = test2, scale.unit = TRUE) \n",
      "\n",
      "\n",
      "Eigenvalues\n",
      "                       Dim.1   Dim.2   Dim.3   Dim.4\n",
      "Variance               3.065   0.732   0.203   0.000\n",
      "% of var.             76.632  18.301   5.067   0.000\n",
      "Cumulative % of var.  76.632  94.933 100.000 100.000\n",
      "\n",
      "Individuals\n",
      "                       Dist    Dim.1    ctr   cos2    Dim.2    ctr   cos2  \n",
      "Bordeaux_d_origine |  0.713 |  0.099  0.064  0.019 |  0.690 12.998  0.937 |\n",
      "Cru_Bourgeois      |  1.891 |  1.724 19.395  0.831 | -0.045  0.056  0.001 |\n",
      "Grand_Cru_classe   |  2.249 |  2.117 29.250  0.886 | -0.440  5.279  0.038 |\n",
      "Vin_de_marque      |  2.077 | -1.750 19.990  0.711 |  1.116 34.008  0.289 |\n",
      "Vin_de_table       |  2.558 | -2.190 31.301  0.733 | -1.321 47.660  0.267 |\n",
      "                    Dim.3    ctr   cos2  \n",
      "Bordeaux_d_origine  0.149  2.203  0.044 |\n",
      "Cru_Bourgeois      -0.776 59.344  0.168 |\n",
      "Grand_Cru_classe    0.619 37.845  0.076 |\n",
      "Vin_de_marque       0.059  0.341  0.001 |\n",
      "Vin_de_table       -0.052  0.267  0.000 |\n",
      "\n",
      "Variables\n",
      "                      Dim.1    ctr   cos2    Dim.2    ctr   cos2    Dim.3\n",
      "boring             | -0.869 24.628  0.755 | -0.494 33.319  0.244 | -0.034\n",
      "excellent          |  0.936 28.576  0.876 | -0.111  1.697  0.012 |  0.334\n",
      "good               |  0.943 29.028  0.890 |  0.177  4.288  0.031 | -0.281\n",
      "mediocre           | -0.738 17.768  0.545 |  0.667 60.696  0.444 |  0.105\n",
      "                      ctr   cos2  \n",
      "boring              0.577  0.001 |\n",
      "excellent          55.078  0.112 |\n",
      "good               38.891  0.079 |\n",
      "mediocre            5.454  0.011 |\n"
     ]
    }
   ],
   "source": [
    "vin_acp <- PCA(test2, scale.unit = TRUE)\n",
    "\n",
    "summary(vin_acp)"
   ]
  },
  {
   "cell_type": "code",
   "execution_count": 26,
   "metadata": {
    "vscode": {
     "languageId": "r"
    }
   },
   "outputs": [
    {
     "data": {
      "text/html": [
       "<table class=\"dataframe\">\n",
       "<caption>A matrix: 4 × 4 of type dbl</caption>\n",
       "<thead>\n",
       "\t<tr><th></th><th scope=col>Dim.1</th><th scope=col>Dim.2</th><th scope=col>Dim.3</th><th scope=col>Dim.4</th></tr>\n",
       "</thead>\n",
       "<tbody>\n",
       "\t<tr><th scope=row>boring</th><td>0.7549272</td><td>0.24390251</td><td>0.00117026</td><td>3.486092e-64</td></tr>\n",
       "\t<tr><th scope=row>excellent</th><td>0.8759417</td><td>0.01241928</td><td>0.11163898</td><td>1.231330e-64</td></tr>\n",
       "\t<tr><th scope=row>good</th><td>0.8897814</td><td>0.03138873</td><td>0.07882992</td><td>2.336081e-64</td></tr>\n",
       "\t<tr><th scope=row>mediocre</th><td>0.5446335</td><td>0.44431181</td><td>0.01105471</td><td>1.351712e-64</td></tr>\n",
       "</tbody>\n",
       "</table>\n"
      ],
      "text/latex": [
       "A matrix: 4 × 4 of type dbl\n",
       "\\begin{tabular}{r|llll}\n",
       "  & Dim.1 & Dim.2 & Dim.3 & Dim.4\\\\\n",
       "\\hline\n",
       "\tboring & 0.7549272 & 0.24390251 & 0.00117026 & 3.486092e-64\\\\\n",
       "\texcellent & 0.8759417 & 0.01241928 & 0.11163898 & 1.231330e-64\\\\\n",
       "\tgood & 0.8897814 & 0.03138873 & 0.07882992 & 2.336081e-64\\\\\n",
       "\tmediocre & 0.5446335 & 0.44431181 & 0.01105471 & 1.351712e-64\\\\\n",
       "\\end{tabular}\n"
      ],
      "text/markdown": [
       "\n",
       "A matrix: 4 × 4 of type dbl\n",
       "\n",
       "| <!--/--> | Dim.1 | Dim.2 | Dim.3 | Dim.4 |\n",
       "|---|---|---|---|---|\n",
       "| boring | 0.7549272 | 0.24390251 | 0.00117026 | 3.486092e-64 |\n",
       "| excellent | 0.8759417 | 0.01241928 | 0.11163898 | 1.231330e-64 |\n",
       "| good | 0.8897814 | 0.03138873 | 0.07882992 | 2.336081e-64 |\n",
       "| mediocre | 0.5446335 | 0.44431181 | 0.01105471 | 1.351712e-64 |\n",
       "\n"
      ],
      "text/plain": [
       "          Dim.1     Dim.2      Dim.3      Dim.4       \n",
       "boring    0.7549272 0.24390251 0.00117026 3.486092e-64\n",
       "excellent 0.8759417 0.01241928 0.11163898 1.231330e-64\n",
       "good      0.8897814 0.03138873 0.07882992 2.336081e-64\n",
       "mediocre  0.5446335 0.44431181 0.01105471 1.351712e-64"
      ]
     },
     "metadata": {},
     "output_type": "display_data"
    }
   ],
   "source": [
    "vin_acp$var$cos2"
   ]
  },
  {
   "cell_type": "code",
   "execution_count": 27,
   "metadata": {
    "vscode": {
     "languageId": "r"
    }
   },
   "outputs": [
    {
     "data": {
      "text/html": [
       "<table class=\"dataframe\">\n",
       "<caption>A matrix: 4 × 4 of type dbl</caption>\n",
       "<thead>\n",
       "\t<tr><th></th><th scope=col>Dim.1</th><th scope=col>Dim.2</th><th scope=col>Dim.3</th><th scope=col>Dim.4</th></tr>\n",
       "</thead>\n",
       "<tbody>\n",
       "\t<tr><th scope=row>boring</th><td>24.6283</td><td>33.318999</td><td> 0.5773536</td><td>1.202443e-30</td></tr>\n",
       "\t<tr><th scope=row>excellent</th><td>28.5762</td><td> 1.696571</td><td>55.0776296</td><td>4.247174e-31</td></tr>\n",
       "\t<tr><th scope=row>good</th><td>29.0277</td><td> 4.287947</td><td>38.8911221</td><td>8.057744e-31</td></tr>\n",
       "\t<tr><th scope=row>mediocre</th><td>17.7678</td><td>60.696483</td><td> 5.4538947</td><td>4.662402e-31</td></tr>\n",
       "</tbody>\n",
       "</table>\n"
      ],
      "text/latex": [
       "A matrix: 4 × 4 of type dbl\n",
       "\\begin{tabular}{r|llll}\n",
       "  & Dim.1 & Dim.2 & Dim.3 & Dim.4\\\\\n",
       "\\hline\n",
       "\tboring & 24.6283 & 33.318999 &  0.5773536 & 1.202443e-30\\\\\n",
       "\texcellent & 28.5762 &  1.696571 & 55.0776296 & 4.247174e-31\\\\\n",
       "\tgood & 29.0277 &  4.287947 & 38.8911221 & 8.057744e-31\\\\\n",
       "\tmediocre & 17.7678 & 60.696483 &  5.4538947 & 4.662402e-31\\\\\n",
       "\\end{tabular}\n"
      ],
      "text/markdown": [
       "\n",
       "A matrix: 4 × 4 of type dbl\n",
       "\n",
       "| <!--/--> | Dim.1 | Dim.2 | Dim.3 | Dim.4 |\n",
       "|---|---|---|---|---|\n",
       "| boring | 24.6283 | 33.318999 |  0.5773536 | 1.202443e-30 |\n",
       "| excellent | 28.5762 |  1.696571 | 55.0776296 | 4.247174e-31 |\n",
       "| good | 29.0277 |  4.287947 | 38.8911221 | 8.057744e-31 |\n",
       "| mediocre | 17.7678 | 60.696483 |  5.4538947 | 4.662402e-31 |\n",
       "\n"
      ],
      "text/plain": [
       "          Dim.1   Dim.2     Dim.3      Dim.4       \n",
       "boring    24.6283 33.318999  0.5773536 1.202443e-30\n",
       "excellent 28.5762  1.696571 55.0776296 4.247174e-31\n",
       "good      29.0277  4.287947 38.8911221 8.057744e-31\n",
       "mediocre  17.7678 60.696483  5.4538947 4.662402e-31"
      ]
     },
     "metadata": {},
     "output_type": "display_data"
    }
   ],
   "source": [
    "vin_acp$var$contrib"
   ]
  },
  {
   "cell_type": "code",
   "execution_count": 29,
   "metadata": {
    "vscode": {
     "languageId": "r"
    }
   },
   "outputs": [
    {
     "data": {
      "image/png": "[encoded data removed]",
      "text/plain": [
       "plot without title"
      ]
     },
     "metadata": {
      "image/png": {
       "height": 420,
       "width": 420
      }
     },
     "output_type": "display_data"
    }
   ],
   "source": [
    "plot(vin_acp$var$contrib)"
   ]
  },
  {
   "cell_type": "code",
   "execution_count": 23,
   "metadata": {
    "vscode": {
     "languageId": "r"
    }
   },
   "outputs": [
    {
     "data": {
      "text/html": [
       "<table class=\"dataframe\">\n",
       "<caption>A matrix: 4 × 3 of type dbl</caption>\n",
       "<thead>\n",
       "\t<tr><th></th><th scope=col>eigenvalue</th><th scope=col>percentage of variance</th><th scope=col>cumulative percentage of variance</th></tr>\n",
       "</thead>\n",
       "<tbody>\n",
       "\t<tr><th scope=row>comp 1</th><td>3.065284e+00</td><td>7.663210e+01</td><td> 76.63210</td></tr>\n",
       "\t<tr><th scope=row>comp 2</th><td>7.320223e-01</td><td>1.830056e+01</td><td> 94.93265</td></tr>\n",
       "\t<tr><th scope=row>comp 3</th><td>2.026939e-01</td><td>5.067347e+00</td><td>100.00000</td></tr>\n",
       "\t<tr><th scope=row>comp 4</th><td>2.899175e-32</td><td>7.247937e-31</td><td>100.00000</td></tr>\n",
       "</tbody>\n",
       "</table>\n"
      ],
      "text/latex": [
       "A matrix: 4 × 3 of type dbl\n",
       "\\begin{tabular}{r|lll}\n",
       "  & eigenvalue & percentage of variance & cumulative percentage of variance\\\\\n",
       "\\hline\n",
       "\tcomp 1 & 3.065284e+00 & 7.663210e+01 &  76.63210\\\\\n",
       "\tcomp 2 & 7.320223e-01 & 1.830056e+01 &  94.93265\\\\\n",
       "\tcomp 3 & 2.026939e-01 & 5.067347e+00 & 100.00000\\\\\n",
       "\tcomp 4 & 2.899175e-32 & 7.247937e-31 & 100.00000\\\\\n",
       "\\end{tabular}\n"
      ],
      "text/markdown": [
       "\n",
       "A matrix: 4 × 3 of type dbl\n",
       "\n",
       "| <!--/--> | eigenvalue | percentage of variance | cumulative percentage of variance |\n",
       "|---|---|---|---|\n",
       "| comp 1 | 3.065284e+00 | 7.663210e+01 |  76.63210 |\n",
       "| comp 2 | 7.320223e-01 | 1.830056e+01 |  94.93265 |\n",
       "| comp 3 | 2.026939e-01 | 5.067347e+00 | 100.00000 |\n",
       "| comp 4 | 2.899175e-32 | 7.247937e-31 | 100.00000 |\n",
       "\n"
      ],
      "text/plain": [
       "       eigenvalue   percentage of variance cumulative percentage of variance\n",
       "comp 1 3.065284e+00 7.663210e+01            76.63210                        \n",
       "comp 2 7.320223e-01 1.830056e+01            94.93265                        \n",
       "comp 3 2.026939e-01 5.067347e+00           100.00000                        \n",
       "comp 4 2.899175e-32 7.247937e-31           100.00000                        "
      ]
     },
     "metadata": {},
     "output_type": "display_data"
    }
   ],
   "source": [
    "eig <- vin_acp$eig\n",
    "eig"
   ]
  },
  {
   "cell_type": "code",
   "execution_count": null,
   "metadata": {
    "vscode": {
     "languageId": "r"
    }
   },
   "outputs": [
    {
     "data": {
      "text/plain": [
       "\n",
       "Call:\n",
       "hclust(d = test2.d, method = \"ward.D2\")\n",
       "\n",
       "Cluster method   : ward.D2 \n",
       "Distance         : euclidean \n",
       "Number of objects: 5 \n"
      ]
     },
     "metadata": {},
     "output_type": "display_data"
    },
    {
     "data": {
      "text/html": [
       "<style>\n",
       ".dl-inline {width: auto; margin:0; padding: 0}\n",
       ".dl-inline>dt, .dl-inline>dd {float: none; width: auto; display: inline-block}\n",
       ".dl-inline>dt::after {content: \":\\0020\"; padding-right: .5ex}\n",
       ".dl-inline>dt:not(:first-of-type) {padding-left: .5ex}\n",
       "</style><dl class=dl-inline><dt>Bordeaux_d_origine</dt><dd>1</dd><dt>Cru_Bourgeois</dt><dd>2</dd><dt>Grand_Cru_classe</dt><dd>2</dd><dt>Vin_de_marque</dt><dd>1</dd><dt>Vin_de_table</dt><dd>3</dd></dl>\n"
      ],
      "text/latex": [
       "\\begin{description*}\n",
       "\\item[Bordeaux\\textbackslash{}\\_d\\textbackslash{}\\_origine] 1\n",
       "\\item[Cru\\textbackslash{}\\_Bourgeois] 2\n",
       "\\item[Grand\\textbackslash{}\\_Cru\\textbackslash{}\\_classe] 2\n",
       "\\item[Vin\\textbackslash{}\\_de\\textbackslash{}\\_marque] 1\n",
       "\\item[Vin\\textbackslash{}\\_de\\textbackslash{}\\_table] 3\n",
       "\\end{description*}\n"
      ],
      "text/markdown": [
       "Bordeaux_d_origine\n",
       ":   1Cru_Bourgeois\n",
       ":   2Grand_Cru_classe\n",
       ":   2Vin_de_marque\n",
       ":   1Vin_de_table\n",
       ":   3\n",
       "\n"
      ],
      "text/plain": [
       "Bordeaux_d_origine      Cru_Bourgeois   Grand_Cru_classe      Vin_de_marque \n",
       "                 1                  2                  2                  1 \n",
       "      Vin_de_table \n",
       "                 3 "
      ]
     },
     "metadata": {},
     "output_type": "display_data"
    }
   ],
   "source": [
    "\n",
    "\n",
    "test2.d <- dist(test2)\n",
    "\n",
    "hc_vin <- hclust(test2.d, method = \"ward.D2\")\n",
    "\n",
    "hc_vin\n",
    "\n",
    "classes <- cutree(hc_vin, k = 3) # Dividir os dados em k = 3 classes\n",
    "\n",
    "classes\n"
   ]
  }
 ],
 "metadata": {
  "kernelspec": {
   "display_name": "R",
   "language": "R",
   "name": "ir"
  },
  "language_info": {
   "codemirror_mode": "r",
   "file_extension": ".r",
   "mimetype": "text/x-r-source",
   "name": "R",
   "pygments_lexer": "r",
   "version": "4.4.1"
  }
 },
 "nbformat": 4,
 "nbformat_minor": 2
}
