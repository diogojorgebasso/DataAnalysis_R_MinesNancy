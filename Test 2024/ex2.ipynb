{
 "cells": [
  {
   "cell_type": "code",
   "execution_count": 5,
   "metadata": {
    "vscode": {
     "languageId": "r"
    }
   },
   "outputs": [
    {
     "data": {
      "text/plain": [
       "      PVP             AGR             CMI              TRA        \n",
       " Min.   : 7.60   Min.   :0.300   Min.   : 0.100   Min.   : 4.500  \n",
       " 1st Qu.:10.57   1st Qu.:0.800   1st Qu.: 0.400   1st Qu.: 6.675  \n",
       " Median :12.60   Median :1.400   Median : 1.300   Median : 8.000  \n",
       " Mean   :12.21   Mean   :1.996   Mean   : 3.942   Mean   : 8.321  \n",
       " 3rd Qu.:13.43   3rd Qu.:2.650   3rd Qu.: 7.350   3rd Qu.: 9.150  \n",
       " Max.   :18.00   Max.   :6.000   Max.   :16.500   Max.   :15.300  \n",
       "      LOG              EDU              ACS              ANC        \n",
       " Min.   : 0.500   Min.   : 2.100   Min.   : 0.500   Min.   : 0.000  \n",
       " 1st Qu.: 0.675   1st Qu.: 7.325   1st Qu.: 1.800   1st Qu.: 0.000  \n",
       " Median : 1.850   Median : 8.700   Median : 4.550   Median : 3.800  \n",
       " Mean   : 3.958   Mean   : 9.942   Mean   : 4.817   Mean   : 4.275  \n",
       " 3rd Qu.: 6.200   3rd Qu.:10.600   3rd Qu.: 6.800   3rd Qu.: 5.450  \n",
       " Max.   :15.800   Max.   :23.800   Max.   :11.300   Max.   :13.400  \n",
       "      DEF             DET             DIV       \n",
       " Min.   :18.80   Min.   : 3.50   Min.   :0.000  \n",
       " 1st Qu.:25.93   1st Qu.: 6.35   1st Qu.:0.000  \n",
       " Median :29.15   Median :19.30   Median :1.400  \n",
       " Mean   :30.26   Mean   :19.14   Mean   :1.183  \n",
       " 3rd Qu.:37.02   3rd Qu.:26.45   3rd Qu.:2.025  \n",
       " Max.   :42.40   Max.   :41.60   Max.   :3.000  "
      ]
     },
     "metadata": {},
     "output_type": "display_data"
    }
   ],
   "source": [
    "budget <- read.table(\"Budget.txt\", header = TRUE, sep = \",\", row.names = 1)\n",
    "\n",
    "summary(budget)"
   ]
  },
  {
   "cell_type": "code",
   "execution_count": 7,
   "metadata": {
    "vscode": {
     "languageId": "r"
    }
   },
   "outputs": [],
   "source": [
    "library(FactoMineR)"
   ]
  },
  {
   "cell_type": "code",
   "execution_count": 11,
   "metadata": {
    "vscode": {
     "languageId": "r"
    }
   },
   "outputs": [
    {
     "name": "stdout",
     "output_type": "stream",
     "text": [
      "\n",
      "Call:\n",
      "PCA(X = budget, scale.unit = TRUE) \n",
      "\n",
      "\n",
      "Eigenvalues\n",
      "                       Dim.1   Dim.2   Dim.3   Dim.4   Dim.5   Dim.6   Dim.7\n",
      "Variance               4.972   2.051   1.290   0.993   0.708   0.558   0.204\n",
      "% of var.             45.203  18.642  11.729   9.028   6.440   5.074   1.857\n",
      "Cumulative % of var.  45.203  63.845  75.574  84.602  91.042  96.116  97.973\n",
      "                       Dim.8   Dim.9  Dim.10  Dim.11\n",
      "Variance               0.125   0.063   0.035   0.000\n",
      "% of var.              1.138   0.571   0.318   0.000\n",
      "Cumulative % of var.  99.111  99.682 100.000 100.000\n",
      "\n",
      "Individuals (the 10 first)\n",
      "         Dist    Dim.1    ctr   cos2    Dim.2    ctr   cos2    Dim.3    ctr\n",
      "1872 |  4.253 | -2.900  7.049  0.465 |  1.024  2.132  0.058 |  1.564  7.902\n",
      "1880 |  4.121 | -2.767  6.416  0.451 |  2.012  8.226  0.238 | -0.169  0.092\n",
      "1890 |  2.727 | -2.416  4.893  0.785 |  0.224  0.102  0.007 |  0.765  1.892\n",
      "1900 |  2.645 | -2.057  3.545  0.605 |  0.755  1.158  0.081 |  1.007  3.276\n",
      "1903 |  3.090 | -2.338  4.581  0.573 |  0.167  0.057  0.003 |  0.623  1.252\n",
      "1906 |  2.356 | -1.985  3.302  0.710 |  0.626  0.796  0.071 |  0.693  1.551\n",
      "1909 |  2.460 | -1.907  3.048  0.601 |  0.812  1.339  0.109 |  0.987  3.148\n",
      "1912 |  2.244 | -1.431  1.715  0.407 |  0.768  1.198  0.117 |  0.196  0.124\n",
      "1920 |  3.227 | -2.139  3.833  0.439 |  0.957  1.859  0.088 | -1.746  9.843\n",
      "1923 |  3.494 | -1.144  1.096  0.107 | -2.883 16.887  0.681 | -0.868  2.434\n",
      "       cos2  \n",
      "1872  0.135 |\n",
      "1880  0.002 |\n",
      "1890  0.079 |\n",
      "1900  0.145 |\n",
      "1903  0.041 |\n",
      "1906  0.087 |\n",
      "1909  0.161 |\n",
      "1912  0.008 |\n",
      "1920  0.293 |\n",
      "1923  0.062 |\n",
      "\n",
      "Variables (the 10 first)\n",
      "        Dim.1    ctr   cos2    Dim.2    ctr   cos2    Dim.3    ctr   cos2  \n",
      "PVP  | -0.173  0.604  0.030 |  0.740 26.686  0.547 |  0.342  9.055  0.117 |\n",
      "AGR  |  0.818 13.471  0.670 |  0.005  0.001  0.000 |  0.367 10.422  0.134 |\n",
      "CMI  |  0.833 13.957  0.694 |  0.341  5.679  0.116 | -0.142  1.554  0.020 |\n",
      "TRA  | -0.137  0.377  0.019 |  0.631 19.402  0.398 | -0.376 10.938  0.141 |\n",
      "LOG  |  0.722 10.473  0.521 |  0.398  7.714  0.158 | -0.385 11.484  0.148 |\n",
      "EDU  |  0.787 12.449  0.619 | -0.137  0.915  0.019 |  0.425 13.988  0.180 |\n",
      "ACS  |  0.933 17.515  0.871 | -0.101  0.496  0.010 |  0.166  2.145  0.028 |\n",
      "ANC  |  0.289  1.679  0.083 | -0.807 31.783  0.652 | -0.375 10.903  0.141 |\n",
      "DEF  | -0.612  7.538  0.375 |  0.216  2.282  0.047 | -0.260  5.221  0.067 |\n",
      "DET  | -0.889 15.890  0.790 | -0.301  4.428  0.091 |  0.160  1.993  0.026 |\n"
     ]
    }
   ],
   "source": [
    "budget_acp <- PCA(budget, scale.unit = TRUE)\n",
    "\n",
    "summary(budget_acp)"
   ]
  },
  {
   "cell_type": "code",
   "execution_count": 15,
   "metadata": {
    "vscode": {
     "languageId": "r"
    }
   },
   "outputs": [
    {
     "data": {
      "text/html": [
       "<table class=\"dataframe\">\n",
       "<caption>A matrix: 11 × 3 of type dbl</caption>\n",
       "<thead>\n",
       "\t<tr><th></th><th scope=col>eigenvalue</th><th scope=col>percentage of variance</th><th scope=col>cumulative percentage of variance</th></tr>\n",
       "</thead>\n",
       "<tbody>\n",
       "\t<tr><th scope=row>comp 1</th><td>4.972362e+00</td><td>4.520329e+01</td><td> 45.20329</td></tr>\n",
       "\t<tr><th scope=row>comp 2</th><td>2.050638e+00</td><td>1.864217e+01</td><td> 63.84546</td></tr>\n",
       "\t<tr><th scope=row>comp 3</th><td>1.290168e+00</td><td>1.172880e+01</td><td> 75.57426</td></tr>\n",
       "\t<tr><th scope=row>comp 4</th><td>9.930553e-01</td><td>9.027775e+00</td><td> 84.60203</td></tr>\n",
       "\t<tr><th scope=row>comp 5</th><td>7.083544e-01</td><td>6.439585e+00</td><td> 91.04162</td></tr>\n",
       "\t<tr><th scope=row>comp 6</th><td>5.581499e-01</td><td>5.074090e+00</td><td> 96.11571</td></tr>\n",
       "\t<tr><th scope=row>comp 7</th><td>2.042530e-01</td><td>1.856845e+00</td><td> 97.97255</td></tr>\n",
       "\t<tr><th scope=row>comp 8</th><td>1.252021e-01</td><td>1.138201e+00</td><td> 99.11075</td></tr>\n",
       "\t<tr><th scope=row>comp 9</th><td>6.281176e-02</td><td>5.710160e-01</td><td> 99.68177</td></tr>\n",
       "\t<tr><th scope=row>comp 10</th><td>3.500069e-02</td><td>3.181881e-01</td><td> 99.99996</td></tr>\n",
       "\t<tr><th scope=row>comp 11</th><td>4.502045e-06</td><td>4.092768e-05</td><td>100.00000</td></tr>\n",
       "</tbody>\n",
       "</table>\n"
      ],
      "text/latex": [
       "A matrix: 11 × 3 of type dbl\n",
       "\\begin{tabular}{r|lll}\n",
       "  & eigenvalue & percentage of variance & cumulative percentage of variance\\\\\n",
       "\\hline\n",
       "\tcomp 1 & 4.972362e+00 & 4.520329e+01 &  45.20329\\\\\n",
       "\tcomp 2 & 2.050638e+00 & 1.864217e+01 &  63.84546\\\\\n",
       "\tcomp 3 & 1.290168e+00 & 1.172880e+01 &  75.57426\\\\\n",
       "\tcomp 4 & 9.930553e-01 & 9.027775e+00 &  84.60203\\\\\n",
       "\tcomp 5 & 7.083544e-01 & 6.439585e+00 &  91.04162\\\\\n",
       "\tcomp 6 & 5.581499e-01 & 5.074090e+00 &  96.11571\\\\\n",
       "\tcomp 7 & 2.042530e-01 & 1.856845e+00 &  97.97255\\\\\n",
       "\tcomp 8 & 1.252021e-01 & 1.138201e+00 &  99.11075\\\\\n",
       "\tcomp 9 & 6.281176e-02 & 5.710160e-01 &  99.68177\\\\\n",
       "\tcomp 10 & 3.500069e-02 & 3.181881e-01 &  99.99996\\\\\n",
       "\tcomp 11 & 4.502045e-06 & 4.092768e-05 & 100.00000\\\\\n",
       "\\end{tabular}\n"
      ],
      "text/markdown": [
       "\n",
       "A matrix: 11 × 3 of type dbl\n",
       "\n",
       "| <!--/--> | eigenvalue | percentage of variance | cumulative percentage of variance |\n",
       "|---|---|---|---|\n",
       "| comp 1 | 4.972362e+00 | 4.520329e+01 |  45.20329 |\n",
       "| comp 2 | 2.050638e+00 | 1.864217e+01 |  63.84546 |\n",
       "| comp 3 | 1.290168e+00 | 1.172880e+01 |  75.57426 |\n",
       "| comp 4 | 9.930553e-01 | 9.027775e+00 |  84.60203 |\n",
       "| comp 5 | 7.083544e-01 | 6.439585e+00 |  91.04162 |\n",
       "| comp 6 | 5.581499e-01 | 5.074090e+00 |  96.11571 |\n",
       "| comp 7 | 2.042530e-01 | 1.856845e+00 |  97.97255 |\n",
       "| comp 8 | 1.252021e-01 | 1.138201e+00 |  99.11075 |\n",
       "| comp 9 | 6.281176e-02 | 5.710160e-01 |  99.68177 |\n",
       "| comp 10 | 3.500069e-02 | 3.181881e-01 |  99.99996 |\n",
       "| comp 11 | 4.502045e-06 | 4.092768e-05 | 100.00000 |\n",
       "\n"
      ],
      "text/plain": [
       "        eigenvalue   percentage of variance cumulative percentage of variance\n",
       "comp 1  4.972362e+00 4.520329e+01            45.20329                        \n",
       "comp 2  2.050638e+00 1.864217e+01            63.84546                        \n",
       "comp 3  1.290168e+00 1.172880e+01            75.57426                        \n",
       "comp 4  9.930553e-01 9.027775e+00            84.60203                        \n",
       "comp 5  7.083544e-01 6.439585e+00            91.04162                        \n",
       "comp 6  5.581499e-01 5.074090e+00            96.11571                        \n",
       "comp 7  2.042530e-01 1.856845e+00            97.97255                        \n",
       "comp 8  1.252021e-01 1.138201e+00            99.11075                        \n",
       "comp 9  6.281176e-02 5.710160e-01            99.68177                        \n",
       "comp 10 3.500069e-02 3.181881e-01            99.99996                        \n",
       "comp 11 4.502045e-06 4.092768e-05           100.00000                        "
      ]
     },
     "metadata": {},
     "output_type": "display_data"
    }
   ],
   "source": [
    "eig <- budget_acp$eig\n",
    "\n",
    "eig"
   ]
  },
  {
   "cell_type": "code",
   "execution_count": 16,
   "metadata": {
    "vscode": {
     "languageId": "r"
    }
   },
   "outputs": [
    {
     "data": {
      "text/html": [
       "<dl>\n",
       "\t<dt>$Variancia_Explicada</dt>\n",
       "\t\t<dd><style>\n",
       ".dl-inline {width: auto; margin:0; padding: 0}\n",
       ".dl-inline>dt, .dl-inline>dd {float: none; width: auto; display: inline-block}\n",
       ".dl-inline>dt::after {content: \":\\0020\"; padding-right: .5ex}\n",
       ".dl-inline>dt:not(:first-of-type) {padding-left: .5ex}\n",
       "</style><dl class=dl-inline><dt>comp 1</dt><dd>45.2032898007778</dd><dt>comp 2</dt><dd>18.6421664645548</dd><dt>comp 3</dt><dd>11.7288015680635</dd><dt>comp 4</dt><dd>9.02777543526332</dd><dt>comp 5</dt><dd>6.43958506292823</dd><dt>comp 6</dt><dd>5.07409026506857</dd><dt>comp 7</dt><dd>1.85684540158214</dd><dt>comp 8</dt><dd>1.13820096638363</dd><dt>comp 9</dt><dd>0.571016007053696</dd><dt>comp 10</dt><dd>0.318188100642959</dd><dt>comp 11</dt><dd>4.09276814229974e-05</dd></dl>\n",
       "</dd>\n",
       "\t<dt>$Variancia_Acumulada</dt>\n",
       "\t\t<dd><style>\n",
       ".dl-inline {width: auto; margin:0; padding: 0}\n",
       ".dl-inline>dt, .dl-inline>dd {float: none; width: auto; display: inline-block}\n",
       ".dl-inline>dt::after {content: \":\\0020\"; padding-right: .5ex}\n",
       ".dl-inline>dt:not(:first-of-type) {padding-left: .5ex}\n",
       "</style><dl class=dl-inline><dt>comp 1</dt><dd>45.2032898007778</dd><dt>comp 2</dt><dd>63.8454562653326</dd><dt>comp 3</dt><dd>75.574257833396</dd><dt>comp 4</dt><dd>84.6020332686594</dd><dt>comp 5</dt><dd>91.0416183315876</dd><dt>comp 6</dt><dd>96.1157085966562</dd><dt>comp 7</dt><dd>97.9725539982383</dd><dt>comp 8</dt><dd>99.1107549646219</dd><dt>comp 9</dt><dd>99.6817709716756</dd><dt>comp 10</dt><dd>99.9999590723186</dd><dt>comp 11</dt><dd>100</dd></dl>\n",
       "</dd>\n",
       "\t<dt>$Eixos_Selecionados</dt>\n",
       "\t\t<dd><strong>comp 3:</strong> 3</dd>\n",
       "</dl>\n"
      ],
      "text/latex": [
       "\\begin{description}\n",
       "\\item[\\$Variancia\\_Explicada] \\begin{description*}\n",
       "\\item[comp 1] 45.2032898007778\n",
       "\\item[comp 2] 18.6421664645548\n",
       "\\item[comp 3] 11.7288015680635\n",
       "\\item[comp 4] 9.02777543526332\n",
       "\\item[comp 5] 6.43958506292823\n",
       "\\item[comp 6] 5.07409026506857\n",
       "\\item[comp 7] 1.85684540158214\n",
       "\\item[comp 8] 1.13820096638363\n",
       "\\item[comp 9] 0.571016007053696\n",
       "\\item[comp 10] 0.318188100642959\n",
       "\\item[comp 11] 4.09276814229974e-05\n",
       "\\end{description*}\n",
       "\n",
       "\\item[\\$Variancia\\_Acumulada] \\begin{description*}\n",
       "\\item[comp 1] 45.2032898007778\n",
       "\\item[comp 2] 63.8454562653326\n",
       "\\item[comp 3] 75.574257833396\n",
       "\\item[comp 4] 84.6020332686594\n",
       "\\item[comp 5] 91.0416183315876\n",
       "\\item[comp 6] 96.1157085966562\n",
       "\\item[comp 7] 97.9725539982383\n",
       "\\item[comp 8] 99.1107549646219\n",
       "\\item[comp 9] 99.6817709716756\n",
       "\\item[comp 10] 99.9999590723186\n",
       "\\item[comp 11] 100\n",
       "\\end{description*}\n",
       "\n",
       "\\item[\\$Eixos\\_Selecionados] \\textbf{comp 3:} 3\n",
       "\\end{description}\n"
      ],
      "text/markdown": [
       "$Variancia_Explicada\n",
       ":   comp 1\n",
       ":   45.2032898007778comp 2\n",
       ":   18.6421664645548comp 3\n",
       ":   11.7288015680635comp 4\n",
       ":   9.02777543526332comp 5\n",
       ":   6.43958506292823comp 6\n",
       ":   5.07409026506857comp 7\n",
       ":   1.85684540158214comp 8\n",
       ":   1.13820096638363comp 9\n",
       ":   0.571016007053696comp 10\n",
       ":   0.318188100642959comp 11\n",
       ":   4.09276814229974e-05\n",
       "\n",
       "\n",
       "$Variancia_Acumulada\n",
       ":   comp 1\n",
       ":   45.2032898007778comp 2\n",
       ":   63.8454562653326comp 3\n",
       ":   75.574257833396comp 4\n",
       ":   84.6020332686594comp 5\n",
       ":   91.0416183315876comp 6\n",
       ":   96.1157085966562comp 7\n",
       ":   97.9725539982383comp 8\n",
       ":   99.1107549646219comp 9\n",
       ":   99.6817709716756comp 10\n",
       ":   99.9999590723186comp 11\n",
       ":   100\n",
       "\n",
       "\n",
       "$Eixos_Selecionados\n",
       ":   **comp 3:** 3\n",
       "\n",
       "\n"
      ],
      "text/plain": [
       "$Variancia_Explicada\n",
       "      comp 1       comp 2       comp 3       comp 4       comp 5       comp 6 \n",
       "4.520329e+01 1.864217e+01 1.172880e+01 9.027775e+00 6.439585e+00 5.074090e+00 \n",
       "      comp 7       comp 8       comp 9      comp 10      comp 11 \n",
       "1.856845e+00 1.138201e+00 5.710160e-01 3.181881e-01 4.092768e-05 \n",
       "\n",
       "$Variancia_Acumulada\n",
       "   comp 1    comp 2    comp 3    comp 4    comp 5    comp 6    comp 7    comp 8 \n",
       " 45.20329  63.84546  75.57426  84.60203  91.04162  96.11571  97.97255  99.11075 \n",
       "   comp 9   comp 10   comp 11 \n",
       " 99.68177  99.99996 100.00000 \n",
       "\n",
       "$Eixos_Selecionados\n",
       "comp 3 \n",
       "     3 \n"
      ]
     },
     "metadata": {},
     "output_type": "display_data"
    }
   ],
   "source": [
    "eig_cumsum <- cumsum(eig[, 2])  # Soma acumulada da variância explicada\n",
    "\n",
    "# Identificar o número mínimo de eixos que capturam pelo menos 70% da variância\n",
    "num_axes <- which(eig_cumsum >= 70)[1]\n",
    "\n",
    "# Exibir o resultado\n",
    "list(\n",
    "  Variancia_Explicada = eig[, 2],\n",
    "  Variancia_Acumulada = eig_cumsum,\n",
    "  Eixos_Selecionados = num_axes\n",
    ")"
   ]
  },
  {
   "cell_type": "code",
   "execution_count": 18,
   "metadata": {
    "vscode": {
     "languageId": "r"
    }
   },
   "outputs": [
    {
     "data": {
      "text/html": [
       "<table class=\"dataframe\">\n",
       "<caption>A matrix: 11 × 5 of type dbl</caption>\n",
       "<thead>\n",
       "\t<tr><th></th><th scope=col>Dim.1</th><th scope=col>Dim.2</th><th scope=col>Dim.3</th><th scope=col>Dim.4</th><th scope=col>Dim.5</th></tr>\n",
       "</thead>\n",
       "<tbody>\n",
       "\t<tr><th scope=row>PVP</th><td> 0.6040060</td><td>26.686053774</td><td> 9.055070</td><td> 1.153524</td><td>16.35401050</td></tr>\n",
       "\t<tr><th scope=row>AGR</th><td>13.4708947</td><td> 0.001452146</td><td>10.421958</td><td> 2.373315</td><td> 0.15196544</td></tr>\n",
       "\t<tr><th scope=row>CMI</th><td>13.9570659</td><td> 5.678822239</td><td> 1.553527</td><td> 6.670711</td><td> 3.23073133</td></tr>\n",
       "\t<tr><th scope=row>TRA</th><td> 0.3772386</td><td>19.401707169</td><td>10.937781</td><td> 7.958154</td><td>42.21254775</td></tr>\n",
       "\t<tr><th scope=row>LOG</th><td>10.4731694</td><td> 7.714430711</td><td>11.484003</td><td> 4.338422</td><td> 9.73016415</td></tr>\n",
       "\t<tr><th scope=row>EDU</th><td>12.4490430</td><td> 0.914639027</td><td>13.988056</td><td> 1.341157</td><td>14.23656188</td></tr>\n",
       "\t<tr><th scope=row>ACS</th><td>17.5152669</td><td> 0.495892444</td><td> 2.145479</td><td> 2.277522</td><td> 1.53248450</td></tr>\n",
       "\t<tr><th scope=row>ANC</th><td> 1.6788062</td><td>31.783063684</td><td>10.903019</td><td> 4.123934</td><td> 0.02007111</td></tr>\n",
       "\t<tr><th scope=row>DEF</th><td> 7.5375205</td><td> 2.282338278</td><td> 5.220911</td><td>40.888426</td><td> 3.36493518</td></tr>\n",
       "\t<tr><th scope=row>DET</th><td>15.8901574</td><td> 4.428316253</td><td> 1.993052</td><td> 3.236166</td><td> 4.37339515</td></tr>\n",
       "\t<tr><th scope=row>DIV</th><td> 6.0468314</td><td> 0.613284274</td><td>22.297143</td><td>25.638670</td><td> 4.79313300</td></tr>\n",
       "</tbody>\n",
       "</table>\n"
      ],
      "text/latex": [
       "A matrix: 11 × 5 of type dbl\n",
       "\\begin{tabular}{r|lllll}\n",
       "  & Dim.1 & Dim.2 & Dim.3 & Dim.4 & Dim.5\\\\\n",
       "\\hline\n",
       "\tPVP &  0.6040060 & 26.686053774 &  9.055070 &  1.153524 & 16.35401050\\\\\n",
       "\tAGR & 13.4708947 &  0.001452146 & 10.421958 &  2.373315 &  0.15196544\\\\\n",
       "\tCMI & 13.9570659 &  5.678822239 &  1.553527 &  6.670711 &  3.23073133\\\\\n",
       "\tTRA &  0.3772386 & 19.401707169 & 10.937781 &  7.958154 & 42.21254775\\\\\n",
       "\tLOG & 10.4731694 &  7.714430711 & 11.484003 &  4.338422 &  9.73016415\\\\\n",
       "\tEDU & 12.4490430 &  0.914639027 & 13.988056 &  1.341157 & 14.23656188\\\\\n",
       "\tACS & 17.5152669 &  0.495892444 &  2.145479 &  2.277522 &  1.53248450\\\\\n",
       "\tANC &  1.6788062 & 31.783063684 & 10.903019 &  4.123934 &  0.02007111\\\\\n",
       "\tDEF &  7.5375205 &  2.282338278 &  5.220911 & 40.888426 &  3.36493518\\\\\n",
       "\tDET & 15.8901574 &  4.428316253 &  1.993052 &  3.236166 &  4.37339515\\\\\n",
       "\tDIV &  6.0468314 &  0.613284274 & 22.297143 & 25.638670 &  4.79313300\\\\\n",
       "\\end{tabular}\n"
      ],
      "text/markdown": [
       "\n",
       "A matrix: 11 × 5 of type dbl\n",
       "\n",
       "| <!--/--> | Dim.1 | Dim.2 | Dim.3 | Dim.4 | Dim.5 |\n",
       "|---|---|---|---|---|---|\n",
       "| PVP |  0.6040060 | 26.686053774 |  9.055070 |  1.153524 | 16.35401050 |\n",
       "| AGR | 13.4708947 |  0.001452146 | 10.421958 |  2.373315 |  0.15196544 |\n",
       "| CMI | 13.9570659 |  5.678822239 |  1.553527 |  6.670711 |  3.23073133 |\n",
       "| TRA |  0.3772386 | 19.401707169 | 10.937781 |  7.958154 | 42.21254775 |\n",
       "| LOG | 10.4731694 |  7.714430711 | 11.484003 |  4.338422 |  9.73016415 |\n",
       "| EDU | 12.4490430 |  0.914639027 | 13.988056 |  1.341157 | 14.23656188 |\n",
       "| ACS | 17.5152669 |  0.495892444 |  2.145479 |  2.277522 |  1.53248450 |\n",
       "| ANC |  1.6788062 | 31.783063684 | 10.903019 |  4.123934 |  0.02007111 |\n",
       "| DEF |  7.5375205 |  2.282338278 |  5.220911 | 40.888426 |  3.36493518 |\n",
       "| DET | 15.8901574 |  4.428316253 |  1.993052 |  3.236166 |  4.37339515 |\n",
       "| DIV |  6.0468314 |  0.613284274 | 22.297143 | 25.638670 |  4.79313300 |\n",
       "\n"
      ],
      "text/plain": [
       "    Dim.1      Dim.2        Dim.3     Dim.4     Dim.5      \n",
       "PVP  0.6040060 26.686053774  9.055070  1.153524 16.35401050\n",
       "AGR 13.4708947  0.001452146 10.421958  2.373315  0.15196544\n",
       "CMI 13.9570659  5.678822239  1.553527  6.670711  3.23073133\n",
       "TRA  0.3772386 19.401707169 10.937781  7.958154 42.21254775\n",
       "LOG 10.4731694  7.714430711 11.484003  4.338422  9.73016415\n",
       "EDU 12.4490430  0.914639027 13.988056  1.341157 14.23656188\n",
       "ACS 17.5152669  0.495892444  2.145479  2.277522  1.53248450\n",
       "ANC  1.6788062 31.783063684 10.903019  4.123934  0.02007111\n",
       "DEF  7.5375205  2.282338278  5.220911 40.888426  3.36493518\n",
       "DET 15.8901574  4.428316253  1.993052  3.236166  4.37339515\n",
       "DIV  6.0468314  0.613284274 22.297143 25.638670  4.79313300"
      ]
     },
     "metadata": {},
     "output_type": "display_data"
    }
   ],
   "source": [
    "budget_acp$var$contrib"
   ]
  },
  {
   "cell_type": "code",
   "execution_count": 20,
   "metadata": {
    "vscode": {
     "languageId": "r"
    }
   },
   "outputs": [
    {
     "data": {
      "image/png": "[encoded data removed]",
      "text/plain": [
       "plot without title"
      ]
     },
     "metadata": {
      "image/png": {
       "height": 420,
       "width": 420
      }
     },
     "output_type": "display_data"
    }
   ],
   "source": [
    "plot(budget_acp)"
   ]
  },
  {
   "cell_type": "code",
   "execution_count": 19,
   "metadata": {
    "vscode": {
     "languageId": "r"
    }
   },
   "outputs": [
    {
     "data": {
      "text/html": [
       "<table class=\"dataframe\">\n",
       "<caption>A matrix: 11 × 5 of type dbl</caption>\n",
       "<thead>\n",
       "\t<tr><th></th><th scope=col>Dim.1</th><th scope=col>Dim.2</th><th scope=col>Dim.3</th><th scope=col>Dim.4</th><th scope=col>Dim.5</th></tr>\n",
       "</thead>\n",
       "<tbody>\n",
       "\t<tr><th scope=row>PVP</th><td>0.03003336</td><td>5.472344e-01</td><td>0.11682564</td><td>0.01145513</td><td>0.1158443459</td></tr>\n",
       "\t<tr><th scope=row>AGR</th><td>0.66982163</td><td>2.977826e-05</td><td>0.13446079</td><td>0.02356833</td><td>0.0010764538</td></tr>\n",
       "\t<tr><th scope=row>CMI</th><td>0.69399582</td><td>1.164521e-01</td><td>0.02004312</td><td>0.06624385</td><td>0.0228850261</td></tr>\n",
       "\t<tr><th scope=row>TRA</th><td>0.01875767</td><td>3.978588e-01</td><td>0.14111577</td><td>0.07902887</td><td>0.2990144212</td></tr>\n",
       "\t<tr><th scope=row>LOG</th><td>0.52076388</td><td>1.581951e-01</td><td>0.14816295</td><td>0.04308293</td><td>0.0689240417</td></tr>\n",
       "\t<tr><th scope=row>EDU</th><td>0.61901147</td><td>1.875594e-02</td><td>0.18046945</td><td>0.01331843</td><td>0.1008453064</td></tr>\n",
       "\t<tr><th scope=row>ACS</th><td>0.87092246</td><td>1.016896e-02</td><td>0.02768028</td><td>0.02261705</td><td>0.0108554207</td></tr>\n",
       "\t<tr><th scope=row>ANC</th><td>0.08347632</td><td>6.517557e-01</td><td>0.14066729</td><td>0.04095294</td><td>0.0001421746</td></tr>\n",
       "\t<tr><th scope=row>DEF</th><td>0.37479279</td><td>4.680250e-02</td><td>0.06735854</td><td>0.40604468</td><td>0.0238356650</td></tr>\n",
       "\t<tr><th scope=row>DET</th><td>0.79011613</td><td>9.080875e-02</td><td>0.02571372</td><td>0.03213692</td><td>0.0309791351</td></tr>\n",
       "\t<tr><th scope=row>DIV</th><td>0.30067034</td><td>1.257624e-02</td><td>0.28767064</td><td>0.25460617</td><td>0.0339523665</td></tr>\n",
       "</tbody>\n",
       "</table>\n"
      ],
      "text/latex": [
       "A matrix: 11 × 5 of type dbl\n",
       "\\begin{tabular}{r|lllll}\n",
       "  & Dim.1 & Dim.2 & Dim.3 & Dim.4 & Dim.5\\\\\n",
       "\\hline\n",
       "\tPVP & 0.03003336 & 5.472344e-01 & 0.11682564 & 0.01145513 & 0.1158443459\\\\\n",
       "\tAGR & 0.66982163 & 2.977826e-05 & 0.13446079 & 0.02356833 & 0.0010764538\\\\\n",
       "\tCMI & 0.69399582 & 1.164521e-01 & 0.02004312 & 0.06624385 & 0.0228850261\\\\\n",
       "\tTRA & 0.01875767 & 3.978588e-01 & 0.14111577 & 0.07902887 & 0.2990144212\\\\\n",
       "\tLOG & 0.52076388 & 1.581951e-01 & 0.14816295 & 0.04308293 & 0.0689240417\\\\\n",
       "\tEDU & 0.61901147 & 1.875594e-02 & 0.18046945 & 0.01331843 & 0.1008453064\\\\\n",
       "\tACS & 0.87092246 & 1.016896e-02 & 0.02768028 & 0.02261705 & 0.0108554207\\\\\n",
       "\tANC & 0.08347632 & 6.517557e-01 & 0.14066729 & 0.04095294 & 0.0001421746\\\\\n",
       "\tDEF & 0.37479279 & 4.680250e-02 & 0.06735854 & 0.40604468 & 0.0238356650\\\\\n",
       "\tDET & 0.79011613 & 9.080875e-02 & 0.02571372 & 0.03213692 & 0.0309791351\\\\\n",
       "\tDIV & 0.30067034 & 1.257624e-02 & 0.28767064 & 0.25460617 & 0.0339523665\\\\\n",
       "\\end{tabular}\n"
      ],
      "text/markdown": [
       "\n",
       "A matrix: 11 × 5 of type dbl\n",
       "\n",
       "| <!--/--> | Dim.1 | Dim.2 | Dim.3 | Dim.4 | Dim.5 |\n",
       "|---|---|---|---|---|---|\n",
       "| PVP | 0.03003336 | 5.472344e-01 | 0.11682564 | 0.01145513 | 0.1158443459 |\n",
       "| AGR | 0.66982163 | 2.977826e-05 | 0.13446079 | 0.02356833 | 0.0010764538 |\n",
       "| CMI | 0.69399582 | 1.164521e-01 | 0.02004312 | 0.06624385 | 0.0228850261 |\n",
       "| TRA | 0.01875767 | 3.978588e-01 | 0.14111577 | 0.07902887 | 0.2990144212 |\n",
       "| LOG | 0.52076388 | 1.581951e-01 | 0.14816295 | 0.04308293 | 0.0689240417 |\n",
       "| EDU | 0.61901147 | 1.875594e-02 | 0.18046945 | 0.01331843 | 0.1008453064 |\n",
       "| ACS | 0.87092246 | 1.016896e-02 | 0.02768028 | 0.02261705 | 0.0108554207 |\n",
       "| ANC | 0.08347632 | 6.517557e-01 | 0.14066729 | 0.04095294 | 0.0001421746 |\n",
       "| DEF | 0.37479279 | 4.680250e-02 | 0.06735854 | 0.40604468 | 0.0238356650 |\n",
       "| DET | 0.79011613 | 9.080875e-02 | 0.02571372 | 0.03213692 | 0.0309791351 |\n",
       "| DIV | 0.30067034 | 1.257624e-02 | 0.28767064 | 0.25460617 | 0.0339523665 |\n",
       "\n"
      ],
      "text/plain": [
       "    Dim.1      Dim.2        Dim.3      Dim.4      Dim.5       \n",
       "PVP 0.03003336 5.472344e-01 0.11682564 0.01145513 0.1158443459\n",
       "AGR 0.66982163 2.977826e-05 0.13446079 0.02356833 0.0010764538\n",
       "CMI 0.69399582 1.164521e-01 0.02004312 0.06624385 0.0228850261\n",
       "TRA 0.01875767 3.978588e-01 0.14111577 0.07902887 0.2990144212\n",
       "LOG 0.52076388 1.581951e-01 0.14816295 0.04308293 0.0689240417\n",
       "EDU 0.61901147 1.875594e-02 0.18046945 0.01331843 0.1008453064\n",
       "ACS 0.87092246 1.016896e-02 0.02768028 0.02261705 0.0108554207\n",
       "ANC 0.08347632 6.517557e-01 0.14066729 0.04095294 0.0001421746\n",
       "DEF 0.37479279 4.680250e-02 0.06735854 0.40604468 0.0238356650\n",
       "DET 0.79011613 9.080875e-02 0.02571372 0.03213692 0.0309791351\n",
       "DIV 0.30067034 1.257624e-02 0.28767064 0.25460617 0.0339523665"
      ]
     },
     "metadata": {},
     "output_type": "display_data"
    }
   ],
   "source": [
    "budget_acp$var$cos2"
   ]
  },
  {
   "cell_type": "code",
   "execution_count": 21,
   "metadata": {
    "vscode": {
     "languageId": "r"
    }
   },
   "outputs": [
    {
     "data": {
      "image/png": "[encoded data removed]",
      "text/plain": [
       "plot without title"
      ]
     },
     "metadata": {
      "image/png": {
       "height": 420,
       "width": 420
      }
     },
     "output_type": "display_data"
    }
   ],
   "source": [
    "plot(budget_acp$var$cos2)"
   ]
  },
  {
   "cell_type": "code",
   "execution_count": 26,
   "metadata": {
    "vscode": {
     "languageId": "r"
    }
   },
   "outputs": [
    {
     "data": {
      "text/plain": [
       "\n",
       "Call:\n",
       "hclust(d = distancia, method = \"ward.D2\")\n",
       "\n",
       "Cluster method   : ward.D2 \n",
       "Distance         : euclidean \n",
       "Number of objects: 24 \n"
      ]
     },
     "metadata": {},
     "output_type": "display_data"
    },
    {
     "data": {
      "image/png": "[encoded data removed]",
      "text/plain": [
       "Plot with title \"Dendrograma (Método de Ward)\""
      ]
     },
     "metadata": {
      "image/png": {
       "height": 420,
       "width": 420
      }
     },
     "output_type": "display_data"
    }
   ],
   "source": [
    "distancia <- dist(budget)\n",
    "\n",
    "# Classificação hierárquica usando o método de Ward\n",
    "hclust_res <- hclust(distancia, method = \"ward.D2\")\n",
    "\n",
    "hclust_res\n",
    "plot(hclust_res, main = \"Dendrograma (Método de Ward)\")\n"
   ]
  },
  {
   "cell_type": "code",
   "execution_count": null,
   "metadata": {
    "vscode": {
     "languageId": "r"
    }
   },
   "outputs": [
    {
     "data": {
      "image/png": "[encoded data removed]",
      "text/plain": [
       "plot without title"
      ]
     },
     "metadata": {
      "image/png": {
       "height": 420,
       "width": 420
      }
     },
     "output_type": "display_data"
    }
   ],
   "source": [
    "# Cortar o dendrograma para obter 3 clusters\n",
    "clusters_iniciais <- cutree(hclust_res, k = 4)\n"
   ]
  },
  {
   "cell_type": "code",
   "execution_count": 37,
   "metadata": {
    "vscode": {
     "languageId": "r"
    }
   },
   "outputs": [
    {
     "name": "stdout",
     "output_type": "stream",
     "text": [
      "     Individuo Classe\n",
      "1872      1872      1\n",
      "1880      1880      1\n",
      "1890      1890      1\n",
      "1900      1900      2\n",
      "1903      1903      2\n",
      "1906      1906      2\n",
      "1909      1909      2\n",
      "1912      1912      2\n",
      "1920      1920      2\n",
      "1923      1923      1\n",
      "1926      1926      1\n",
      "1929      1929      3\n",
      "1932      1932      3\n",
      "1935      1935      3\n",
      "1938      1938      2\n",
      "1947      1947      4\n",
      "1950      1950      4\n",
      "1953      1953      4\n",
      "1956      1956      4\n",
      "1959      1959      4\n",
      "1962      1962      4\n",
      "1965      1965      4\n",
      "1968      1968      4\n",
      "1971      1971      4\n"
     ]
    }
   ],
   "source": [
    "print(data.frame(Individuo = rownames(budget), Classe = clusters_iniciais))"
   ]
  },
  {
   "cell_type": "code",
   "execution_count": 41,
   "metadata": {
    "vscode": {
     "languageId": "r"
    }
   },
   "outputs": [
    {
     "data": {
      "text/html": [
       "<table class=\"dataframe\">\n",
       "<caption>A data.frame: 4 × 2</caption>\n",
       "<thead>\n",
       "\t<tr><th scope=col>clusters_iniciais</th><th scope=col>DEF</th></tr>\n",
       "\t<tr><th scope=col>&lt;int&gt;</th><th scope=col>&lt;dbl&gt;</th></tr>\n",
       "</thead>\n",
       "<tbody>\n",
       "\t<tr><td>1</td><td>27.78000</td></tr>\n",
       "\t<tr><td>2</td><td>39.37143</td></tr>\n",
       "\t<tr><td>3</td><td>28.23333</td></tr>\n",
       "\t<tr><td>4</td><td>25.22222</td></tr>\n",
       "</tbody>\n",
       "</table>\n"
      ],
      "text/latex": [
       "A data.frame: 4 × 2\n",
       "\\begin{tabular}{ll}\n",
       " clusters\\_iniciais & DEF\\\\\n",
       " <int> & <dbl>\\\\\n",
       "\\hline\n",
       "\t 1 & 27.78000\\\\\n",
       "\t 2 & 39.37143\\\\\n",
       "\t 3 & 28.23333\\\\\n",
       "\t 4 & 25.22222\\\\\n",
       "\\end{tabular}\n"
      ],
      "text/markdown": [
       "\n",
       "A data.frame: 4 × 2\n",
       "\n",
       "| clusters_iniciais &lt;int&gt; | DEF &lt;dbl&gt; |\n",
       "|---|---|\n",
       "| 1 | 27.78000 |\n",
       "| 2 | 39.37143 |\n",
       "| 3 | 28.23333 |\n",
       "| 4 | 25.22222 |\n",
       "\n"
      ],
      "text/plain": [
       "  clusters_iniciais DEF     \n",
       "1 1                 27.78000\n",
       "2 2                 39.37143\n",
       "3 3                 28.23333\n",
       "4 4                 25.22222"
      ]
     },
     "metadata": {},
     "output_type": "display_data"
    }
   ],
   "source": [
    "aggregate(DEF ~ clusters_iniciais, data = budget, mean)"
   ]
  }
 ],
 "metadata": {
  "kernelspec": {
   "display_name": "R",
   "language": "R",
   "name": "ir"
  },
  "language_info": {
   "codemirror_mode": "r",
   "file_extension": ".r",
   "mimetype": "text/x-r-source",
   "name": "R",
   "pygments_lexer": "r",
   "version": "4.4.1"
  }
 },
 "nbformat": 4,
 "nbformat_minor": 2
}
