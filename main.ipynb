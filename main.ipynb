{
 "cells": [
  {
   "cell_type": "markdown",
   "metadata": {},
   "source": [
    "## Aula 2"
   ]
  },
  {
   "cell_type": "markdown",
   "metadata": {},
   "source": [
    "Objetivo: encontrar uma relação entre Y e X, sendo X as variáveis quantitativas que descrevem Y.\n",
    "\n",
    "1. Modelização\n",
    "2. Previsão\n",
    "\n",
    "Teste estatístico: p-value.\n",
    "\n",
    "É necessário fazer a decomposição de variáveis para encontrar a parte de Y que se explica por meio de X. Para isso, usa-se a **Analysis of Variance** - ANOVA.\n"
   ]
  },
  {
   "cell_type": "code",
   "execution_count": null,
   "metadata": {
    "vscode": {
     "languageId": "r"
    }
   },
   "outputs": [],
   "source": [
    "data(iris)"
   ]
  },
  {
   "cell_type": "code",
   "execution_count": null,
   "metadata": {
    "vscode": {
     "languageId": "r"
    }
   },
   "outputs": [],
   "source": [
    "# modelo <- aov(variável_dependente ~ variável_independente, data = seu_data_frame)\n",
    "\n",
    "modelo <- aov(Sepal.Length ~ Species, data = iris)\n"
   ]
  },
  {
   "cell_type": "markdown",
   "metadata": {},
   "source": [
    "Para obter a tabela de ANOVA, usamos a função summary():"
   ]
  },
  {
   "cell_type": "code",
   "execution_count": null,
   "metadata": {
    "vscode": {
     "languageId": "r"
    }
   },
   "outputs": [],
   "source": [
    "summary(modelo)"
   ]
  },
  {
   "cell_type": "markdown",
   "metadata": {},
   "source": [
    "Antes de interpretar os resultados, é importante verificar se as suposições da ANOVA foram atendidas."
   ]
  },
  {
   "cell_type": "code",
   "execution_count": null,
   "metadata": {
    "vscode": {
     "languageId": "r"
    }
   },
   "outputs": [],
   "source": [
    "shapiro.test(modelo$residuals)"
   ]
  },
  {
   "cell_type": "markdown",
   "metadata": {},
   "source": [
    "## Seleção dos modelos\n",
    "\n",
    "métodos de seleção de modelos estatísticos, em particular em regressão, onde o objetivo é encontrar o modelo mais adequado, \n",
    "\n",
    "### Critério AIC(Critério de Informação de Akaike): −2∗LogLik +2k\n",
    "\n",
    "O modelo com o menor valor de AIC é considerado o melhor.\n",
    "O AIC penaliza modelos mais complexos (com mais variáveis) para evitar o sobreajuste.\n",
    "\n",
    "### BIC (Critério de Informação Bayesiano):\n",
    "\n",
    "Em grandes amostras, o BIC penaliza muito mais modelos com muitas variáveis do que o AIC, tornando-o mais rigoroso.\n"
   ]
  },
  {
   "cell_type": "code",
   "execution_count": null,
   "metadata": {
    "vscode": {
     "languageId": "r"
    }
   },
   "outputs": [],
   "source": [
    "# Ajustando dois modelos\n",
    "modelo1 <- lm(Sepal.Length ~ Sepal.Width + Petal.Length, data = iris)\n",
    "modelo2 <- lm(Sepal.Length ~ Sepal.Width + Petal.Length + Petal.Width, data = iris)\n",
    "\n",
    "# Comparando os modelos com AIC e BIC\n",
    "aic1 <- AIC(modelo1)\n",
    "aic2 <- AIC(modelo2)\n",
    "\n",
    "bic1 <- BIC(modelo1)\n",
    "bic2 <- BIC(modelo2)\n",
    "\n",
    "# Exibindo os resultados\n",
    "cat(\"AIC do Modelo 1:\", aic1, \"\\n\")\n",
    "cat(\"AIC do Modelo 2:\", aic2, \"\\n\")\n",
    "cat(\"BIC do Modelo 1:\", bic1, \"\\n\")\n",
    "cat(\"BIC do Modelo 2:\", bic2, \"\\n\")\n"
   ]
  },
  {
   "cell_type": "markdown",
   "metadata": {},
   "source": [
    "### Algoritmos de seleção de variáveis explicativas\n",
    "\n",
    "O próximo passo é compreender e aplicar os algoritmos de seleção de variáveis explicativas, que ajudam a encontrar o melhor modelo estatístico ao adicionar ou remover variáveis com base em critérios de significância estatística e qualidade do ajuste. A ideia é otimizar o modelo, mantendo apenas as variáveis mais relevantes.\n",
    "\n",
    "Resumo das Três Métodos de Seleção:\n",
    "\n",
    "1. Seleção Ascendente (Forward Selection)\n",
    "- Início: Começa com o modelo mais simples (apenas uma variável ou nenhum regressor).\n",
    "- Processo: Adiciona progressivamente a variável mais relevante ao modelo.\n",
    "A variável escolhida é aquela que melhora mais significativamente a qualidade do modelo. Isso pode ser medido por:\n",
    "- A maior redução do erro residual (Sum of Squares, SS).\n",
    "- O menor valor de AIC ou BIC.\n",
    "- A menor p-value associada ao coeficiente da variável.\n",
    "- Parada: O processo termina quando nenhuma variável restante melhora significativamente o modelo.\n"
   ]
  },
  {
   "cell_type": "code",
   "execution_count": null,
   "metadata": {
    "vscode": {
     "languageId": "r"
    }
   },
   "outputs": [],
   "source": [
    "library(MASS)\n",
    "\n",
    "# Modelo inicial (apenas intercepto)\n",
    "modelo_inicial <- lm(Sepal.Length ~ 1, data = iris)\n",
    "\n",
    "# Modelo completo (todas as variáveis)\n",
    "modelo_completo <- lm(Sepal.Length ~ ., data = iris)\n",
    "\n",
    "# Forward Selection\n",
    "modelo_forward <- stepAIC(modelo_inicial, \n",
    "                          scope = list(lower = modelo_inicial, upper = modelo_completo), \n",
    "                          direction = \"forward\")\n",
    "\n",
    "summary(modelo_forward)"
   ]
  },
  {
   "cell_type": "markdown",
   "metadata": {},
   "source": [
    "2. Seleção Descendente (Backward Selection)\n",
    "Início: Começa com o modelo completo (todas as variáveis disponíveis).\n",
    "Processo:\n",
    "Remove progressivamente a variável menos significativa.\n",
    "A variável escolhida para remoção é:\n",
    "Aquela que contribui menos para a soma dos quadrados (Sum of Squares).\n",
    "Aquela com o maior valor de p-value (menos significativa).\n",
    "Ou aquela cuja remoção reduz menos o AIC ou BIC.\n",
    "Parada: O processo termina quando todas as variáveis restantes são estatisticamente significativas.\n"
   ]
  },
  {
   "cell_type": "code",
   "execution_count": null,
   "metadata": {
    "vscode": {
     "languageId": "r"
    }
   },
   "outputs": [],
   "source": [
    "# Backward Selection\n",
    "modelo_backward <- step(modelo_completo, direction = \"backward\")\n",
    "\n",
    "summary(modelo_backward)"
   ]
  },
  {
   "cell_type": "markdown",
   "metadata": {},
   "source": [
    "3. Seleção Passo a Passo (Stepwise Selection)\n",
    "Combinação de Forward e Backward:\n",
    "Começa com um modelo simples ou intermediário.\n",
    "Em cada etapa, adiciona ou remove variáveis, reavaliando o modelo.\n",
    "Verifica constantemente se a inclusão de novas variáveis torna alguma variável existente irrelevante e permite sua remoção.\n",
    "Mais complexo, mas garante maior flexibilidade e uma seleção mais ajustada.\n",
    "Critérios: Como nos outros métodos, a decisão de incluir ou excluir variáveis pode se basear em AIC, BIC, p-values ou outros critérios."
   ]
  },
  {
   "cell_type": "code",
   "execution_count": null,
   "metadata": {
    "vscode": {
     "languageId": "r"
    }
   },
   "outputs": [],
   "source": [
    "# Stepwise Selection\n",
    "modelo_stepwise <- stepAIC(modelo_completo, direction = \"both\")\n",
    "\n",
    "summary(modelo_stepwise)"
   ]
  },
  {
   "cell_type": "markdown",
   "metadata": {},
   "source": [
    "## Aula 3. ACP \n",
    "\n",
    "A diferença principal entre os métodos de seleção de variáveis explicativas e a Análise em Componentes Principais (ACP) está no objetivo e na abordagem de cada técnica. Enquanto os métodos de seleção de variáveis explicativas escolhem variáveis individuais relevantes para o modelo, a ACP cria novas variáveis (componentes principais) a partir de combinações lineares das variáveis originais. É uma compressão de dados."
   ]
  },
  {
   "cell_type": "markdown",
   "metadata": {},
   "source": [
    "Resumo:\n",
    "\n",
    "- Reduzir a dimensionalidade do conjunto de dados transformando as variáveis originais em novas variáveis não correlacionadas chamadas componentes principais.\n",
    "- O objetivo é capturar a maior variância possível em um número reduzido de componentes.\n",
    "- Utilizada principalmente para simplificação de dados, detecção de padrões, ou visualização.\n",
    "\n",
    "Um componente principal é uma combinação linear das variáveis originais que captura a maior parte da variância dos dados. Ele é criado de forma a ser não correlacionado com os outros componentes principais e, geralmente, serve para reduzir a dimensionalidade do conjunto de dados."
   ]
  },
  {
   "cell_type": "markdown",
   "metadata": {},
   "source": [
    "#### Carregar os dados"
   ]
  },
  {
   "cell_type": "code",
   "execution_count": null,
   "metadata": {
    "vscode": {
     "languageId": "r"
    }
   },
   "outputs": [],
   "source": [
    "data(iris)\n",
    "\n",
    "# Selecionar apenas as variáveis numéricas\n",
    "dados_numericos <- iris[, 1:4]"
   ]
  },
  {
   "cell_type": "markdown",
   "metadata": {},
   "source": [
    "#### Aplicar análise de componentes principais"
   ]
  },
  {
   "cell_type": "code",
   "execution_count": null,
   "metadata": {
    "vscode": {
     "languageId": "r"
    }
   },
   "outputs": [],
   "source": [
    "cor(dados_numericos)"
   ]
  },
  {
   "cell_type": "markdown",
   "metadata": {},
   "source": [
    "Você pode aplicar a normalização caso as unidades sejam distintas:"
   ]
  },
  {
   "cell_type": "code",
   "execution_count": null,
   "metadata": {
    "vscode": {
     "languageId": "r"
    }
   },
   "outputs": [],
   "source": [
    "# Aplicar a Análise em Componentes Principais\n",
    "acp <- prcomp(dados_numericos, scale. = TRUE)\n",
    "\n",
    "# Resumo dos componentes principais\n",
    "summary(acp)"
   ]
  },
  {
   "cell_type": "markdown",
   "metadata": {},
   "source": [
    "A saída mostra:\n",
    "\n",
    "- Proportion of Variance: Quanto da variância total é explicada por cada componente principal.\n",
    "- Cumulative Proportion: A proporção acumulada de variância explicada."
   ]
  },
  {
   "cell_type": "markdown",
   "metadata": {},
   "source": [
    "> Podemos visualizar os componentes principais para entender a importância de cada um!"
   ]
  },
  {
   "cell_type": "markdown",
   "metadata": {},
   "source": [
    "2. Você pode aplicar somente o PCA:"
   ]
  },
  {
   "cell_type": "code",
   "execution_count": null,
   "metadata": {
    "vscode": {
     "languageId": "r"
    }
   },
   "outputs": [],
   "source": [
    "library(FactoMineR)"
   ]
  },
  {
   "cell_type": "code",
   "execution_count": null,
   "metadata": {
    "vscode": {
     "languageId": "r"
    }
   },
   "outputs": [],
   "source": [
    "acp <- PCA(dados_numericos)\n",
    "\n",
    "# Resumo dos componentes principais\n",
    "summary(acp)"
   ]
  },
  {
   "cell_type": "code",
   "execution_count": null,
   "metadata": {
    "vscode": {
     "languageId": "r"
    }
   },
   "outputs": [],
   "source": [
    "# Variância explicada por cada componente\n",
    "variancia_explicada <- acp$sdev^2 / sum(acp$sdev^2)\n",
    "\n",
    "# Gráfico de variância explicada\n",
    "barplot(variancia_explicada,\n",
    "        main = \"Variância Explicada por Componente\",\n",
    "        xlab = \"Componentes Principais\",\n",
    "        ylab = \"Proporção de Variância\",\n",
    "        names.arg = paste0(\"PC\", 1:4))"
   ]
  },
  {
   "cell_type": "markdown",
   "metadata": {},
   "source": [
    "Os componentes principais podem ser usados para projetar os dados em um novo espaço com menor dimensionalidade."
   ]
  },
  {
   "cell_type": "code",
   "execution_count": null,
   "metadata": {
    "vscode": {
     "languageId": "r"
    }
   },
   "outputs": [],
   "source": [
    "# Projeção dos dados no novo espaço\n",
    "dados_transformados <- acp$x\n",
    "\n",
    "# Visualizar as primeiras linhas dos dados transformados\n",
    "head(dados_transformados)"
   ]
  },
  {
   "cell_type": "code",
   "execution_count": null,
   "metadata": {
    "vscode": {
     "languageId": "r"
    }
   },
   "outputs": [],
   "source": [
    "# Plotar os dados no espaço dos dois primeiros componentes principais\n",
    "plot(dados_transformados[, 1], dados_transformados[, 2],\n",
    "     col = iris$Species, pch = 19,\n",
    "     xlab = \"Componente Principal 1\",\n",
    "     ylab = \"Componente Principal 2\",\n",
    "     main = \"Visualização no Espaço dos Componentes Principais\")\n",
    "legend(\"topright\", legend = levels(iris$Species), col = 1:3, pch = 19)"
   ]
  },
  {
   "cell_type": "markdown",
   "metadata": {},
   "source": [
    "## Aula 4. ACF e AFCM\n",
    "\n",
    "Objetivo: Identificar as estruturas latentes (ou fatores) que explicam as correlações entre as variáveis.\n",
    "Assume que as variáveis observadas são influenciadas por fatores latentes subjacentes (não observáveis) e por erros específicos.\n",
    "É mais voltada para entender as relações subjacentes entre variáveis e não necessariamente para reduzir a dimensionalidade."
   ]
  },
  {
   "cell_type": "markdown",
   "metadata": {},
   "source": [
    "Teste do Quidrado:\n",
    "\n",
    "O teste do qui-quadrado é uma técnica estatística usada para verificar associações entre variáveis categóricas ou a adequação de distribuições observadas. Ele é amplamente utilizado em pesquisas para testar hipóteses, especialmente em ciências sociais, biológicas e de mercado. Existem duas principais aplicações do teste do qui-quadrado:"
   ]
  },
  {
   "cell_type": "code",
   "execution_count": null,
   "metadata": {
    "vscode": {
     "languageId": "r"
    }
   },
   "outputs": [],
   "source": [
    "resultado <- chisq.test(tabela)"
   ]
  },
  {
   "cell_type": "markdown",
   "metadata": {},
   "source": [
    "## Classe 5 - Classification Automatique\n",
    "\n",
    "Grupos (ou clusters) identificados pela classificação permitem uma análise específica de cada segmento.\n",
    "Isso é especialmente útil para tomar decisões práticas, como direcionar campanhas de marketing ou personalizar serviços.\n"
   ]
  },
  {
   "cell_type": "markdown",
   "metadata": {},
   "source": [
    "Definições:\n",
    "\n",
    "- Uma classe ou um cluster: conjunto de objetos que compartilham características similares.\n",
    "Em um conjunto de dados sobre flores, um cluster pode agrupar flores com pétalas curtas e sépalas largas, enquanto outro cluster agrupa flores com pétalas longas.\n",
    "- A classificação, ou análise de clusters, é o processo de agrupar um conjunto de objetos em classes ou clusters."
   ]
  },
  {
   "cell_type": "markdown",
   "metadata": {},
   "source": [
    "### Etapas típicas em uma análise de clusters\n",
    "\n",
    "1. Preparação dos dados:\n",
    "\n",
    "Limpeza dos dados (tratamento de valores ausentes ou extremos).\n",
    "Normalização das variáveis, para evitar que algumas dominem o resultado devido à escala.\n",
    "Escolha do algoritmo:\n",
    "\n",
    "2. Algoritmos comuns:\n",
    "- k-means: Agrupa os objetos com base na proximidade em um espaço multidimensional.\n",
    "- Classificação hierárquica (CAH): Cria um dendrograma mostrando relações hierárquicas entre os objetos.\n",
    "\n",
    "3. Avaliação dos resultados:\n",
    "\n",
    "Verificar a consistência dos clusters.\n",
    "Utilizar métricas como o coeficiente de silhueta para avaliar a qualidade dos agrupamentos.\n",
    "\n",
    "4. Interpretação e visualização:\n",
    "\n",
    "Entender as características de cada cluster.\n",
    "Representar os grupos em gráficos, como nuvens de pontos ou dendrogramas."
   ]
  },
  {
   "cell_type": "code",
   "execution_count": null,
   "metadata": {
    "vscode": {
     "languageId": "r"
    }
   },
   "outputs": [],
   "source": [
    "# Dados simulados\n",
    "set.seed(123)\n",
    "dados <- iris[, 1:4]\n",
    "\n",
    "# Aplicar k-means (3 clusters)\n",
    "resultado_kmeans <- kmeans(dados, centers = 3)\n",
    "\n",
    "# Visualizar os clusters\n",
    "library(factoextra)\n",
    "fviz_cluster(resultado_kmeans, data = dados)"
   ]
  },
  {
   "cell_type": "markdown",
   "metadata": {},
   "source": [
    "Dados binários:\n",
    "\n",
    "- O índice de Jaccard é ideal para medir similaridade com base apenas nas presenças (1).\n",
    "- O índice de Sokal e Sneath leva em conta tanto concordâncias positivas (1) quanto negativas (0).\n",
    "\n"
   ]
  },
  {
   "cell_type": "code",
   "execution_count": null,
   "metadata": {
    "vscode": {
     "languageId": "r"
    }
   },
   "outputs": [],
   "source": [
    "# Dados dos indivíduos\n",
    "individuo_i <- c(1, 1, 0, 0, 1, 0)  # Indivíduo 1\n",
    "individuo_j <- c(1, 0, 1, 0, 1, 0)  # Indivíduo 2\n",
    "\n",
    "# Tabela de contingência\n",
    "# Cálculo de a, b, c, d\n",
    "a <- sum(individuo_i == 1 & individuo_j == 1)\n",
    "b <- sum(individuo_i == 1 & individuo_j == 0)\n",
    "c <- sum(individuo_i == 0 & individuo_j == 1)\n",
    "d <- sum(individuo_i == 0 & individuo_j == 0)\n",
    "\n",
    "# Exibindo os resultados\n",
    "cat(\"a =\", a, \"| b =\", b, \"| c =\", c, \"| d =\", d, \"\\n\")\n",
    "\n",
    "# Cálculo dos índices\n",
    "jaccard <- a / (a + b + c)\n",
    "sokal_sneath <- (a + d) / (a + b + c + d)\n",
    "\n",
    "# Exibindo os resultados\n",
    "cat(\"Índice de Jaccard =\", jaccard, \"\\n\")\n",
    "cat(\"Índice de Sokal e Sneath =\", sokal_sneath, \"\\n\")\n",
    "\n"
   ]
  },
  {
   "cell_type": "code",
   "execution_count": null,
   "metadata": {
    "vscode": {
     "languageId": "r"
    }
   },
   "outputs": [],
   "source": [
    "# Matriz com dados de múltiplos indivíduos\n",
    "dados_binarios <- matrix(c(1, 1, 0, 0, 1, 0,\n",
    "                           1, 0, 1, 0, 1, 0,\n",
    "                           0, 1, 1, 1, 0, 1), \n",
    "                         nrow = 3, byrow = TRUE)\n",
    "\n",
    "# Nomes dos indivíduos\n",
    "rownames(dados_binarios) <- c(\"Indivíduo 1\", \"Indivíduo 2\", \"Indivíduo 3\")\n",
    "\n",
    "# Exibir a matriz\n",
    "print(dados_binarios)\n"
   ]
  },
  {
   "cell_type": "code",
   "execution_count": null,
   "metadata": {
    "vscode": {
     "languageId": "r"
    }
   },
   "outputs": [],
   "source": [
    "# Função para calcular os índices de Jaccard e Sokal e Sneath\n",
    "calcular_indices <- function(v1, v2) {\n",
    "  a <- sum(v1 == 1 & v2 == 1)\n",
    "  b <- sum(v1 == 1 & v2 == 0)\n",
    "  c <- sum(v1 == 0 & v2 == 1)\n",
    "  d <- sum(v1 == 0 & v2 == 0)\n",
    "  \n",
    "  jaccard <- a / (a + b + c)\n",
    "  sokal_sneath <- (a + d) / (a + b + c + d)\n",
    "  \n",
    "  return(c(Jaccard = jaccard, Sokal_Sneath = sokal_sneath))\n",
    "}\n",
    "\n",
    "# Aplicar para todos os pares de indivíduos\n",
    "combinacoes <- combn(1:nrow(dados_binarios), 2)\n",
    "resultados <- apply(combinacoes, 2, function(par) {\n",
    "  calcular_indices(dados_binarios[par[1], ], dados_binarios[par[2], ])\n",
    "})\n",
    "\n",
    "# Exibir os resultados\n",
    "rownames(resultados) <- c(\"Jaccard\", \"Sokal_Sneath\")\n",
    "colnames(resultados) <- apply(combinacoes, 2, function(par) paste0(\"Indivíduo \", par[1], \" vs \", par[2]))\n",
    "print(resultados)\n"
   ]
  },
  {
   "cell_type": "markdown",
   "metadata": {},
   "source": [
    "### Classificação Hierárquica\n",
    "\n",
    "Objetivo: Agrupar indivíduos ou objetos em clusters com base em sua similaridade ou distância.\n",
    "\n",
    "A classificação hierárquica fornece uma estrutura inicial baseada em similaridades globais, enquanto a partição (como k-means) refina os grupos ajustando dinâmicamente os centros.\n",
    "\n",
    "Métodos comuns:\n",
    "\n",
    "- Single linkage (distância mínima entre grupos).\n",
    "- Complete linkage (distância máxima entre grupos).\n",
    "- Ward (minimiza a variância intragrupo, o mais comum)."
   ]
  },
  {
   "cell_type": "markdown",
   "metadata": {},
   "source": [
    "Etapa 1: Classificação Hierárquica"
   ]
  },
  {
   "cell_type": "code",
   "execution_count": null,
   "metadata": {
    "vscode": {
     "languageId": "r"
    }
   },
   "outputs": [],
   "source": [
    "# Dados simulados\n",
    "set.seed(123)\n",
    "dados <- matrix(rnorm(100), ncol = 2)\n",
    "\n",
    "# Cálculo da matriz de distância\n",
    "distancia <- dist(dados)\n",
    "\n",
    "# Classificação hierárquica usando o método de Ward\n",
    "hclust_res <- hclust(distancia, method = \"ward.D2\")\n",
    "\n",
    "# Plot do dendrograma\n",
    "plot(hclust_res, main = \"Dendrograma (Método de Ward)\")\n"
   ]
  },
  {
   "cell_type": "markdown",
   "metadata": {},
   "source": [
    "Etapa 2: Corte do Dendrograma para Obter Clusters"
   ]
  },
  {
   "cell_type": "code",
   "execution_count": null,
   "metadata": {
    "vscode": {
     "languageId": "r"
    }
   },
   "outputs": [],
   "source": [
    "# Cortar o dendrograma para obter 3 clusters\n",
    "clusters_iniciais <- cutree(hclust_res, k = 3)\n",
    "\n",
    "# Visualizar os clusters iniciais\n",
    "plot(dados, col = clusters_iniciais, pch = 19, main = \"Clusters Iniciais da Hierarquia\")\n"
   ]
  },
  {
   "cell_type": "markdown",
   "metadata": {},
   "source": [
    "Etapa 3: Refinamento com K-Means"
   ]
  },
  {
   "cell_type": "code",
   "execution_count": null,
   "metadata": {
    "vscode": {
     "languageId": "r"
    }
   },
   "outputs": [],
   "source": [
    "# Usar os clusters iniciais como ponto de partida para k-means\n",
    "kmeans_res <- kmeans(dados, centers = 3)\n",
    "\n",
    "# Visualizar os clusters refinados\n",
    "plot(dados, col = kmeans_res$cluster, pch = 19, main = \"Clusters Refinados (K-Means)\")\n",
    "points(kmeans_res$centers, col = 1:3, pch = 8, cex = 2) # Centros dos clusters"
   ]
  },
  {
   "cell_type": "markdown",
   "metadata": {},
   "source": [
    "Exemplo prático 2:"
   ]
  },
  {
   "cell_type": "markdown",
   "metadata": {},
   "source": [
    "Passo 1: Análise Fatorial (ACP)\n",
    "Use a análise em componentes principais para reduzir a dimensionalidade."
   ]
  },
  {
   "cell_type": "code",
   "execution_count": null,
   "metadata": {
    "vscode": {
     "languageId": "r"
    }
   },
   "outputs": [],
   "source": [
    "# Carregar dados e biblioteca\n",
    "data(iris)\n",
    "library(FactoMineR)\n",
    "\n",
    "# Realizar a ACP nas variáveis numéricas\n",
    "acp_res <- PCA(iris[, 1:4], graph = FALSE)\n",
    "\n",
    "# Ver os componentes principais\n",
    "print(acp_res$eig)  # Variância explicada pelos componentes\n"
   ]
  },
  {
   "cell_type": "markdown",
   "metadata": {},
   "source": [
    "Passo 2: Classificação Hierárquica com Fatores\n",
    "\n",
    "Realize a classificação hierárquica usando os componentes principais."
   ]
  },
  {
   "cell_type": "code",
   "execution_count": null,
   "metadata": {
    "vscode": {
     "languageId": "r"
    }
   },
   "outputs": [],
   "source": [
    "# Usar os dois primeiros componentes principais para a classificação\n",
    "dados_fatores <- acp_res$ind$coord[, 1:2]  # Coordenadas nos dois primeiros fatores\n",
    "\n",
    "# Calcular a matriz de distâncias\n",
    "dist_matrix <- dist(dados_fatores)\n",
    "\n",
    "# Realizar a classificação hierárquica (método de Ward)\n",
    "hc_res <- hclust(dist_matrix, method = \"ward.D2\")\n",
    "\n",
    "# Plotar o dendrograma\n",
    "plot(hc_res, main = \"Dendrograma usando Fatores da ACP\")"
   ]
  },
  {
   "cell_type": "markdown",
   "metadata": {},
   "source": [
    "Passo 3: Interpretar e Visualizar os Clusters\n",
    "\n",
    "Projete os clusters obtidos no espaço dos componentes principais."
   ]
  },
  {
   "cell_type": "code",
   "execution_count": null,
   "metadata": {
    "vscode": {
     "languageId": "r"
    }
   },
   "outputs": [],
   "source": [
    "print(dist_matrix)"
   ]
  },
  {
   "cell_type": "code",
   "execution_count": null,
   "metadata": {
    "vscode": {
     "languageId": "r"
    }
   },
   "outputs": [],
   "source": [
    "# Cortar o dendrograma para obter clusters\n",
    "clusters <- cutree(hc_res, k = 3)\n",
    "\n",
    "# Plotar os clusters no espaço dos dois primeiros fatores\n",
    "plot(dados_fatores, col = clusters, pch = 19, \n",
    "     xlab = \"Componente Principal 1\", ylab = \"Componente Principal 2\",\n",
    "     main = \"Clusters no Espaço dos Fatores\")"
   ]
  },
  {
   "cell_type": "markdown",
   "metadata": {},
   "source": [
    "Se eu quiser classificar um novo indivíduo"
   ]
  },
  {
   "cell_type": "code",
   "execution_count": null,
   "metadata": {
    "vscode": {
     "languageId": "r"
    }
   },
   "outputs": [],
   "source": [
    "# Exemplo: Novo indivíduo\n",
    "novo_individuo <- c(5.1, 3.5, 1.4, 0.2)  # Medidas similares a um Setosa\n",
    "\n",
    "# Calcular distância do novo indivíduo a cada centroide (média dos clusters)\n",
    "centroides <- aggregate(dados, by = list(Cluster = clusters), FUN = mean)\n",
    "distancias <- apply(centroides[, -1], 1, function(centroide) {\n",
    "  sum((novo_individuo - centroide)^2)\n",
    "})\n",
    "\n",
    "# Identificar o cluster mais próximo\n",
    "cluster_novo_individuo <- which.min(distancias)\n",
    "cat(\"O novo indivíduo pertence ao cluster:\", cluster_novo_individuo, \"\\n\")\n"
   ]
  },
  {
   "cell_type": "markdown",
   "metadata": {},
   "source": [
    "Como Saber a Classe de Todos os Indivíduos"
   ]
  },
  {
   "cell_type": "code",
   "execution_count": 39,
   "metadata": {
    "vscode": {
     "languageId": "r"
    }
   },
   "outputs": [
    {
     "data": {
      "text/plain": [
       "       Species\n",
       "Cluster setosa versicolor virginica\n",
       "      1     50          0         0\n",
       "      2      0          9        30\n",
       "      3      0         41        20"
      ]
     },
     "metadata": {},
     "output_type": "display_data"
    }
   ],
   "source": [
    "table(Cluster = clusters, Species = iris$Species)"
   ]
  },
  {
   "cell_type": "markdown",
   "metadata": {},
   "source": [
    "Como saber a classe de um indivíduo único. Por exemplo, o 12ª:"
   ]
  },
  {
   "cell_type": "code",
   "execution_count": 38,
   "metadata": {
    "vscode": {
     "languageId": "r"
    }
   },
   "outputs": [
    {
     "name": "stdout",
     "output_type": "stream",
     "text": [
      "O indivíduo 12 pertence ao cluster: 1 \n"
     ]
    },
    {
     "name": "stdout",
     "output_type": "stream",
     "text": [
      "Dados do indivíduo 12:\n",
      "   Sepal.Length Sepal.Width Petal.Length Petal.Width Species\n",
      "12          4.8         3.4          1.6         0.2  setosa\n"
     ]
    }
   ],
   "source": [
    "# Classe do indivíduo número 12\n",
    "classe_individuo_12 <- clusters[12]\n",
    "cat(\"O indivíduo 12 pertence ao cluster:\", classe_individuo_12, \"\\n\")\n",
    "\n",
    "# Dados do indivíduo número 12\n",
    "dados_individuo_12 <- iris[12, ]\n",
    "cat(\"Dados do indivíduo 12:\\n\")\n",
    "print(dados_individuo_12)\n"
   ]
  },
  {
   "cell_type": "markdown",
   "metadata": {},
   "source": [
    "## Curso 6 - Analyse Discriminante\n",
    "\n",
    "A análise discriminante é uma técnica estatística usada para:\n",
    "\n",
    "1) Entender se as variáveis independentes podem distinguir os grupos (como em uma análise descritiva).\n",
    "2) Construir modelos para classificar novas observações nos grupos existentes (como em uma análise preditiva).\n"
   ]
  },
  {
   "cell_type": "markdown",
   "metadata": {},
   "source": [
    "Como determinar a discriminação?\n",
    "Análise de Variância (ANOVA):\n",
    "\n",
    "Se você tem grupos definidos, use ANOVA para avaliar a variância entre os grupos para cada variável.\n",
    "Variáveis com maior F-statistic são mais discriminantes.\n",
    "Coeficientes de Correlação com Classes (Discriminação):\n",
    "\n",
    "Calcule correlações entre as variáveis quantitativas e as categorias/classes.\n",
    "Variáveis com maior correlação são mais discriminantes.\n",
    "Peso nos Componentes Principais (PCA):\n",
    "\n",
    "Se não houver grupos definidos, use a Análise em Componentes Principais (ACP).\n",
    "Avalie quais variáveis têm maior peso (loading) nos componentes que explicam a maior parte da variância.\n",
    "Método de Importância em Modelos:\n",
    "\n",
    "Use algoritmos de aprendizado supervisionado (ex.: árvores de decisão, regressão logística) para calcular a importância relativa de cada variável.\n"
   ]
  },
  {
   "cell_type": "markdown",
   "metadata": {},
   "source": [
    "LDA: Identificar combinações lineares de variáveis que maximizam a separação entre os grupos (análise multivariada). Ela considera a relação entre várias variáveis simultaneamente e fornece: Coeficientes discriminantes, Classificação de indivíduos em grupos, Proporção da variância explicada pelos discriminantes.\n",
    "\n",
    "\n",
    "ANOVA: Determinar se há diferenças significativas entre as médias de grupos para cada variável (análise univariada).\t"
   ]
  },
  {
   "cell_type": "code",
   "execution_count": null,
   "metadata": {
    "vscode": {
     "languageId": "r"
    }
   },
   "outputs": [],
   "source": [
    "library(MASS)\n",
    "lda_model <- lda(Performance ~ Runtime + Oxygen_Consumption, data = data)  # Exemplo com variáveis selecionadas\n",
    "print(lda_model)"
   ]
  }
 ],
 "metadata": {
  "kernelspec": {
   "display_name": "R",
   "language": "R",
   "name": "ir"
  },
  "language_info": {
   "codemirror_mode": "r",
   "file_extension": ".r",
   "mimetype": "text/x-r-source",
   "name": "R",
   "pygments_lexer": "r",
   "version": "4.4.1"
  }
 },
 "nbformat": 4,
 "nbformat_minor": 2
}
